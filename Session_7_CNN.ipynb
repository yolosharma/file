{
  "nbformat": 4,
  "nbformat_minor": 0,
  "metadata": {
    "colab": {
      "provenance": []
    },
    "kernelspec": {
      "name": "python3",
      "display_name": "Python 3"
    },
    "language_info": {
      "name": "python"
    }
  },
  "cells": [
    {
      "cell_type": "markdown",
      "source": [
        "## CNN"
      ],
      "metadata": {
        "id": "rnpo4NBIwKPU"
      }
    },
    {
      "cell_type": "markdown",
      "source": [
        "1. Image classification \n",
        "2. Two different activities : convolution and pooling\n",
        "\n",
        "3. Filters are used \n",
        "It is a parameter that we can change and its purpose is to recognize certain things that are meant to be recognized \n",
        "\n",
        "Filter size : Magnifying glass example - one letter one filter , 26 letters 26 filters likewise \n",
        "\n",
        "4. 3D any image set is divided - no of rows , no of columns , no of channels ( RGB 3 channels , BW 1 chnanel) -- (dimension ( 64 * 64 * 3) for RGB)\n",
        "https://poloclub.github.io/cnn-explainer/ -- (dimension (64  *64 * 1) for B&W)\n",
        "(height *width * channel)\n",
        "\n",
        "5. A filter is a matrix ( 3 * 3 with 0.5 in every cell) that has some values to find the image is combination of pixel with some data (0.1 to 0.9)\n",
        "SO the filer when put on the pixel matrix \n",
        "0.1 * 0.5--0.2 * 0.5--0.3 * 0.5 such 3 * 3 matrix ---> Pair wise multiplication\n",
        "We total the value and put in in first pixel place \n",
        "\n",
        "6. IF pixel 5*5 and filter is 3 * 3 then output is 3*3 matrix \n",
        "If 64 * 64 and filter is 3 * 3 then output is (64-2) 62 * 62 matrix \n",
        "Always reduced by (Filter-1 )\n",
        "\n",
        "7. In max pooling if filter 2 * 2 then 60 * 60 then output will be 30*30 matrix. In pooling not slide but jumping \n",
        "\n",
        "8. Initial level no max pool because we need to filter specific characteristic and that is done by convolution only.\n",
        "\n",
        "9. At the ouput the error is sent back just like Multi layer perceptron , but in MLP there was weight adjustment here changes will be in filter content \n",
        "\n",
        "10. Layers : I/p -> Conv layer-> Pool layer-> Flatter layer-> Dense Layer->O/p\n",
        "\n",
        "11. Kernel and Filter is same \n",
        "Filter -> numbers\n",
        "Kernal- Filter size\n",
        "\n",
        "12. Types of pooling --> max ,average --- usually max preferred \n",
        "pooling size decides reduction in output matrix \n",
        "\n",
        "13. In 61 * 61 -- conv---59 * 59---pool---29 * 29---data lost \n",
        "\n",
        "14. Middle ones are taken care 2 time but corner once exposed only one time---> we do padding and additional layer is added 5 * 5 can become 7 * 7\n",
        "\n",
        "15. Stride is steps "
      ],
      "metadata": {
        "id": "eQjMgYQSxqSi"
      }
    },
    {
      "cell_type": "code",
      "execution_count": null,
      "metadata": {
        "id": "bGrWY6CMwBhp"
      },
      "outputs": [],
      "source": [
        "import pandas as pd \n",
        "import matplotlib.pyplot as plt\n",
        "import numpy as np\n",
        "import tensorflow as tf\n"
      ]
    },
    {
      "cell_type": "markdown",
      "source": [],
      "metadata": {
        "id": "oziMDZTm_qNr"
      }
    },
    {
      "cell_type": "code",
      "source": [
        "## Accessing Dataset"
      ],
      "metadata": {
        "id": "VAosj0eq_lPy"
      },
      "execution_count": null,
      "outputs": []
    },
    {
      "cell_type": "code",
      "source": [
        "from tensorflow.keras.datasets.fashion_mnist import load_data\n",
        "(X_train,y_train),(X_test,y_test)=load_data()"
      ],
      "metadata": {
        "colab": {
          "base_uri": "https://localhost:8080/"
        },
        "id": "OJwDUnh3_sYj",
        "outputId": "dd2eb070-cc70-4e85-f50f-c219cfe9e688"
      },
      "execution_count": null,
      "outputs": [
        {
          "output_type": "stream",
          "name": "stdout",
          "text": [
            "Downloading data from https://storage.googleapis.com/tensorflow/tf-keras-datasets/train-labels-idx1-ubyte.gz\n",
            "29515/29515 [==============================] - 0s 0us/step\n",
            "Downloading data from https://storage.googleapis.com/tensorflow/tf-keras-datasets/train-images-idx3-ubyte.gz\n",
            "26421880/26421880 [==============================] - 0s 0us/step\n",
            "Downloading data from https://storage.googleapis.com/tensorflow/tf-keras-datasets/t10k-labels-idx1-ubyte.gz\n",
            "5148/5148 [==============================] - 0s 0us/step\n",
            "Downloading data from https://storage.googleapis.com/tensorflow/tf-keras-datasets/t10k-images-idx3-ubyte.gz\n",
            "4422102/4422102 [==============================] - 0s 0us/step\n"
          ]
        }
      ]
    },
    {
      "cell_type": "code",
      "source": [
        "(X_train.shape,y_train.shape),(X_test.shape,y_test.shape)"
      ],
      "metadata": {
        "colab": {
          "base_uri": "https://localhost:8080/"
        },
        "id": "VuEwbp9FAB1V",
        "outputId": "488180eb-c851-4c20-debd-829a3b2cd7be"
      },
      "execution_count": null,
      "outputs": [
        {
          "output_type": "execute_result",
          "data": {
            "text/plain": [
              "(((60000, 28, 28), (60000,)), ((10000, 28, 28), (10000,)))"
            ]
          },
          "metadata": {},
          "execution_count": 4
        }
      ]
    },
    {
      "cell_type": "markdown",
      "source": [
        "## Visualisation"
      ],
      "metadata": {
        "id": "r57T-jrVAKsR"
      }
    },
    {
      "cell_type": "code",
      "source": [
        "plt.imshow(X_train[1000],'gray')\n",
        "plt.title(y_train[1000]);"
      ],
      "metadata": {
        "colab": {
          "base_uri": "https://localhost:8080/",
          "height": 281
        },
        "id": "Sqwew0PiAJGd",
        "outputId": "6d6f5a8a-1abc-45be-c71d-716a23d53372"
      },
      "execution_count": null,
      "outputs": [
        {
          "output_type": "display_data",
          "data": {
            "text/plain": [
              "<Figure size 432x288 with 1 Axes>"
            ],
            "image/png": "[encoded data removed]"
          },
          "metadata": {
            "needs_background": "light"
          }
        }
      ]
    },
    {
      "cell_type": "code",
      "source": [
        "X_train[0]"
      ],
      "metadata": {
        "colab": {
          "base_uri": "https://localhost:8080/"
        },
        "id": "vJwoWroeAlHt",
        "outputId": "f49a45e9-c6cc-4ec3-dd52-ed1994ea9d7a"
      },
      "execution_count": null,
      "outputs": [
        {
          "output_type": "execute_result",
          "data": {
            "text/plain": [
              "array([[  0,   0,   0,   0,   0,   0,   0,   0,   0,   0,   0,   0,   0,\n",
              "          0,   0,   0,   0,   0,   0,   0,   0,   0,   0,   0,   0,   0,\n",
              "          0,   0],\n",
              "       [  0,   0,   0,   0,   0,   0,   0,   0,   0,   0,   0,   0,   0,\n",
              "          0,   0,   0,   0,   0,   0,   0,   0,   0,   0,   0,   0,   0,\n",
              "          0,   0],\n",
              "       [  0,   0,   0,   0,   0,   0,   0,   0,   0,   0,   0,   0,   0,\n",
              "          0,   0,   0,   0,   0,   0,   0,   0,   0,   0,   0,   0,   0,\n",
              "          0,   0],\n",
              "       [  0,   0,   0,   0,   0,   0,   0,   0,   0,   0,   0,   0,   1,\n",
              "          0,   0,  13,  73,   0,   0,   1,   4,   0,   0,   0,   0,   1,\n",
              "          1,   0],\n",
              "       [  0,   0,   0,   0,   0,   0,   0,   0,   0,   0,   0,   0,   3,\n",
              "          0,  36, 136, 127,  62,  54,   0,   0,   0,   1,   3,   4,   0,\n",
              "          0,   3],\n",
              "       [  0,   0,   0,   0,   0,   0,   0,   0,   0,   0,   0,   0,   6,\n",
              "          0, 102, 204, 176, 134, 144, 123,  23,   0,   0,   0,   0,  12,\n",
              "         10,   0],\n",
              "       [  0,   0,   0,   0,   0,   0,   0,   0,   0,   0,   0,   0,   0,\n",
              "          0, 155, 236, 207, 178, 107, 156, 161, 109,  64,  23,  77, 130,\n",
              "         72,  15],\n",
              "       [  0,   0,   0,   0,   0,   0,   0,   0,   0,   0,   0,   1,   0,\n",
              "         69, 207, 223, 218, 216, 216, 163, 127, 121, 122, 146, 141,  88,\n",
              "        172,  66],\n",
              "       [  0,   0,   0,   0,   0,   0,   0,   0,   0,   1,   1,   1,   0,\n",
              "        200, 232, 232, 233, 229, 223, 223, 215, 213, 164, 127, 123, 196,\n",
              "        229,   0],\n",
              "       [  0,   0,   0,   0,   0,   0,   0,   0,   0,   0,   0,   0,   0,\n",
              "        183, 225, 216, 223, 228, 235, 227, 224, 222, 224, 221, 223, 245,\n",
              "        173,   0],\n",
              "       [  0,   0,   0,   0,   0,   0,   0,   0,   0,   0,   0,   0,   0,\n",
              "        193, 228, 218, 213, 198, 180, 212, 210, 211, 213, 223, 220, 243,\n",
              "        202,   0],\n",
              "       [  0,   0,   0,   0,   0,   0,   0,   0,   0,   1,   3,   0,  12,\n",
              "        219, 220, 212, 218, 192, 169, 227, 208, 218, 224, 212, 226, 197,\n",
              "        209,  52],\n",
              "       [  0,   0,   0,   0,   0,   0,   0,   0,   0,   0,   6,   0,  99,\n",
              "        244, 222, 220, 218, 203, 198, 221, 215, 213, 222, 220, 245, 119,\n",
              "        167,  56],\n",
              "       [  0,   0,   0,   0,   0,   0,   0,   0,   0,   4,   0,   0,  55,\n",
              "        236, 228, 230, 228, 240, 232, 213, 218, 223, 234, 217, 217, 209,\n",
              "         92,   0],\n",
              "       [  0,   0,   1,   4,   6,   7,   2,   0,   0,   0,   0,   0, 237,\n",
              "        226, 217, 223, 222, 219, 222, 221, 216, 223, 229, 215, 218, 255,\n",
              "         77,   0],\n",
              "       [  0,   3,   0,   0,   0,   0,   0,   0,   0,  62, 145, 204, 228,\n",
              "        207, 213, 221, 218, 208, 211, 218, 224, 223, 219, 215, 224, 244,\n",
              "        159,   0],\n",
              "       [  0,   0,   0,   0,  18,  44,  82, 107, 189, 228, 220, 222, 217,\n",
              "        226, 200, 205, 211, 230, 224, 234, 176, 188, 250, 248, 233, 238,\n",
              "        215,   0],\n",
              "       [  0,  57, 187, 208, 224, 221, 224, 208, 204, 214, 208, 209, 200,\n",
              "        159, 245, 193, 206, 223, 255, 255, 221, 234, 221, 211, 220, 232,\n",
              "        246,   0],\n",
              "       [  3, 202, 228, 224, 221, 211, 211, 214, 205, 205, 205, 220, 240,\n",
              "         80, 150, 255, 229, 221, 188, 154, 191, 210, 204, 209, 222, 228,\n",
              "        225,   0],\n",
              "       [ 98, 233, 198, 210, 222, 229, 229, 234, 249, 220, 194, 215, 217,\n",
              "        241,  65,  73, 106, 117, 168, 219, 221, 215, 217, 223, 223, 224,\n",
              "        229,  29],\n",
              "       [ 75, 204, 212, 204, 193, 205, 211, 225, 216, 185, 197, 206, 198,\n",
              "        213, 240, 195, 227, 245, 239, 223, 218, 212, 209, 222, 220, 221,\n",
              "        230,  67],\n",
              "       [ 48, 203, 183, 194, 213, 197, 185, 190, 194, 192, 202, 214, 219,\n",
              "        221, 220, 236, 225, 216, 199, 206, 186, 181, 177, 172, 181, 205,\n",
              "        206, 115],\n",
              "       [  0, 122, 219, 193, 179, 171, 183, 196, 204, 210, 213, 207, 211,\n",
              "        210, 200, 196, 194, 191, 195, 191, 198, 192, 176, 156, 167, 177,\n",
              "        210,  92],\n",
              "       [  0,   0,  74, 189, 212, 191, 175, 172, 175, 181, 185, 188, 189,\n",
              "        188, 193, 198, 204, 209, 210, 210, 211, 188, 188, 194, 192, 216,\n",
              "        170,   0],\n",
              "       [  2,   0,   0,   0,  66, 200, 222, 237, 239, 242, 246, 243, 244,\n",
              "        221, 220, 193, 191, 179, 182, 182, 181, 176, 166, 168,  99,  58,\n",
              "          0,   0],\n",
              "       [  0,   0,   0,   0,   0,   0,   0,  40,  61,  44,  72,  41,  35,\n",
              "          0,   0,   0,   0,   0,   0,   0,   0,   0,   0,   0,   0,   0,\n",
              "          0,   0],\n",
              "       [  0,   0,   0,   0,   0,   0,   0,   0,   0,   0,   0,   0,   0,\n",
              "          0,   0,   0,   0,   0,   0,   0,   0,   0,   0,   0,   0,   0,\n",
              "          0,   0],\n",
              "       [  0,   0,   0,   0,   0,   0,   0,   0,   0,   0,   0,   0,   0,\n",
              "          0,   0,   0,   0,   0,   0,   0,   0,   0,   0,   0,   0,   0,\n",
              "          0,   0]], dtype=uint8)"
            ]
          },
          "metadata": {},
          "execution_count": 6
        }
      ]
    },
    {
      "cell_type": "markdown",
      "source": [
        "## Normalisation layer"
      ],
      "metadata": {
        "id": "KSuJRbIWAXLg"
      }
    },
    {
      "cell_type": "code",
      "source": [
        "normaliser=tf.keras.layers.Normalization()\n",
        "normaliser.adapt(X_train)\n",
        "normaliser.adapt(X_test)\n",
        "\n",
        "X_train=normaliser(X_train)\n",
        "X_test=normaliser(X_test)"
      ],
      "metadata": {
        "id": "dsVPmT6UAVs-"
      },
      "execution_count": null,
      "outputs": []
    },
    {
      "cell_type": "code",
      "source": [
        "X_train[0]"
      ],
      "metadata": {
        "colab": {
          "base_uri": "https://localhost:8080/"
        },
        "id": "US6e10TFAw5D",
        "outputId": "2ef618af-e230-4dbb-e13c-775150408772"
      },
      "execution_count": null,
      "outputs": [
        {
          "output_type": "execute_result",
          "data": {
            "text/plain": [
              "<tf.Tensor: shape=(28, 28), dtype=float32, numpy=\n",
              "array([[-1.66705310e-01, -2.37610102e-01, -2.88022250e-01,\n",
              "        -3.77576619e-01, -5.25583744e-01, -6.52512431e-01,\n",
              "        -7.35818923e-01, -8.08604360e-01, -9.32654202e-01,\n",
              "        -1.10508120e+00, -1.26358020e+00, -1.33893907e+00,\n",
              "        -1.35849750e+00, -1.31519282e+00, -1.28405118e+00,\n",
              "        -1.40120041e+00, -1.45473456e+00, -1.42187226e+00,\n",
              "        -1.31178093e+00, -1.12539494e+00, -9.59526122e-01,\n",
              "        -8.73693526e-01, -8.07175994e-01, -7.09105551e-01,\n",
              "        -5.77009022e-01, -4.72885549e-01, -3.83872122e-01,\n",
              "        -2.41619453e-01],\n",
              "       [-1.66705310e-01, -2.37610102e-01, -2.88022250e-01,\n",
              "        -3.77576619e-01, -5.25583744e-01, -6.52512431e-01,\n",
              "        -7.35818923e-01, -8.08604360e-01, -9.32654202e-01,\n",
              "        -1.10508120e+00, -1.26358020e+00, -1.33893907e+00,\n",
              "        -1.35849750e+00, -1.31519282e+00, -1.28405118e+00,\n",
              "        -1.40120041e+00, -1.45473456e+00, -1.42187226e+00,\n",
              "        -1.31178093e+00, -1.12539494e+00, -9.59526122e-01,\n",
              "        -8.73693526e-01, -8.07175994e-01, -7.09105551e-01,\n",
              "        -5.77009022e-01, -4.72885549e-01, -3.83872122e-01,\n",
              "        -2.41619453e-01],\n",
              "       [-1.66705310e-01, -2.37610102e-01, -2.88022250e-01,\n",
              "        -3.77576619e-01, -5.25583744e-01, -6.52512431e-01,\n",
              "        -7.35818923e-01, -8.08604360e-01, -9.32654202e-01,\n",
              "        -1.10508120e+00, -1.26358020e+00, -1.33893907e+00,\n",
              "        -1.35849750e+00, -1.31519282e+00, -1.28405118e+00,\n",
              "        -1.40120041e+00, -1.45473456e+00, -1.42187226e+00,\n",
              "        -1.31178093e+00, -1.12539494e+00, -9.59526122e-01,\n",
              "        -8.73693526e-01, -8.07175994e-01, -7.09105551e-01,\n",
              "        -5.77009022e-01, -4.72885549e-01, -3.83872122e-01,\n",
              "        -2.41619453e-01],\n",
              "       [-1.66705310e-01, -2.37610102e-01, -2.88022250e-01,\n",
              "        -3.77576619e-01, -5.25583744e-01, -6.52512431e-01,\n",
              "        -7.35818923e-01, -8.08604360e-01, -9.32654202e-01,\n",
              "        -1.10508120e+00, -1.26358020e+00, -1.33893907e+00,\n",
              "        -1.34729409e+00, -1.31519282e+00, -1.28405118e+00,\n",
              "        -1.25469744e+00, -6.19098306e-01, -1.42187226e+00,\n",
              "        -1.31178093e+00, -1.11438560e+00, -9.15945172e-01,\n",
              "        -8.73693526e-01, -8.07175994e-01, -7.09105551e-01,\n",
              "        -5.77009022e-01, -4.58434820e-01, -3.67373973e-01,\n",
              "        -2.41619453e-01],\n",
              "       [-1.66705310e-01, -2.37610102e-01, -2.88022250e-01,\n",
              "        -3.77576619e-01, -5.25583744e-01, -6.52512431e-01,\n",
              "        -7.35818923e-01, -8.08604360e-01, -9.32654202e-01,\n",
              "        -1.10508120e+00, -1.26358020e+00, -1.33893907e+00,\n",
              "        -1.32488716e+00, -1.31519282e+00, -8.82875979e-01,\n",
              "         1.31445661e-01, -9.56397154e-04, -7.11846650e-01,\n",
              "        -7.05540955e-01, -1.12539494e+00, -9.59526122e-01,\n",
              "        -8.73693526e-01, -7.96223938e-01, -6.73943579e-01,\n",
              "        -5.24428606e-01, -4.72885549e-01, -3.83872122e-01,\n",
              "        -1.13220267e-01],\n",
              "       [-1.66705310e-01, -2.37610102e-01, -2.88022250e-01,\n",
              "        -3.77576619e-01, -5.25583744e-01, -6.52512431e-01,\n",
              "        -7.35818923e-01, -8.08604360e-01, -9.32654202e-01,\n",
              "        -1.10508120e+00, -1.26358020e+00, -1.33893907e+00,\n",
              "        -1.29127669e+00, -1.31519282e+00, -1.47388205e-01,\n",
              "         8.97768676e-01,  5.59950173e-01,  1.12699158e-01,\n",
              "         3.04858863e-01,  2.28746131e-01, -7.08935559e-01,\n",
              "        -8.73693526e-01, -8.07175994e-01, -7.09105551e-01,\n",
              "        -5.77009022e-01, -2.99476922e-01, -2.18890533e-01,\n",
              "        -2.41619453e-01],\n",
              "       [-1.66705310e-01, -2.37610102e-01, -2.88022250e-01,\n",
              "        -3.77576619e-01, -5.25583744e-01, -6.52512431e-01,\n",
              "        -7.35818923e-01, -8.08604360e-01, -9.32654202e-01,\n",
              "        -1.10508120e+00, -1.26358020e+00, -1.33893907e+00,\n",
              "        -1.35849750e+00, -1.31519282e+00,  4.43230778e-01,\n",
              "         1.25839126e+00,  9.14809406e-01,  6.16588235e-01,\n",
              "        -1.10527731e-01,  5.92052281e-01,  7.94607878e-01,\n",
              "         3.03972334e-01, -1.06242985e-01, -4.39530551e-01,\n",
              "         4.35163379e-01,  1.40570796e+00,  8.03995252e-01,\n",
              "         4.00376499e-01],\n",
              "       [-1.66705310e-01, -2.37610102e-01, -2.88022250e-01,\n",
              "        -3.77576619e-01, -5.25583744e-01, -6.52512431e-01,\n",
              "        -7.35818923e-01, -8.08604360e-01, -9.32654202e-01,\n",
              "        -1.10508120e+00, -1.26358020e+00, -1.32769918e+00,\n",
              "        -1.35849750e+00, -5.43606162e-01,  1.02270603e+00,\n",
              "         1.11188829e+00,  1.04072714e+00,  1.05176520e+00,\n",
              "         1.11317873e+00,  6.69117212e-01,  4.24169660e-01,\n",
              "         4.33623642e-01,  5.28977573e-01,  1.00210965e+00,\n",
              "         1.27644944e+00,  7.98777759e-01,  2.45381093e+00,\n",
              "         2.58316255e+00],\n",
              "       [-1.66705310e-01, -2.37610102e-01, -2.88022250e-01,\n",
              "        -3.77576619e-01, -5.25583744e-01, -6.52512431e-01,\n",
              "        -7.35818923e-01, -8.08604360e-01, -9.32654202e-01,\n",
              "        -1.09410751e+00, -1.25248277e+00, -1.32769918e+00,\n",
              "        -1.35849750e+00,  9.21290100e-01,  1.30129981e+00,\n",
              "         1.21331346e+00,  1.21243322e+00,  1.20064151e+00,\n",
              "         1.19176543e+00,  1.32967377e+00,  1.38295102e+00,\n",
              "         1.42761695e+00,  9.88964856e-01,  7.79417276e-01,\n",
              "         1.03983772e+00,  2.35945559e+00,  3.39420605e+00,\n",
              "        -2.41619453e-01],\n",
              "       [-1.66705310e-01, -2.37610102e-01, -2.88022250e-01,\n",
              "        -3.77576619e-01, -5.25583744e-01, -6.52512431e-01,\n",
              "        -7.35818923e-01, -8.08604360e-01, -9.32654202e-01,\n",
              "        -1.10508120e+00, -1.26358020e+00, -1.33893907e+00,\n",
              "        -1.35849750e+00,  7.31189072e-01,  1.22329354e+00,\n",
              "         1.03300214e+00,  1.09796250e+00,  1.18918955e+00,\n",
              "         1.32648540e+00,  1.37371087e+00,  1.48100817e+00,\n",
              "         1.52485538e+00,  1.64608955e+00,  1.88115847e+00,\n",
              "         2.35434723e+00,  3.06754065e+00,  2.47030926e+00,\n",
              "        -2.41619453e-01],\n",
              "       [-1.66705310e-01, -2.37610102e-01, -2.88022250e-01,\n",
              "        -3.77576619e-01, -5.25583744e-01, -6.52512431e-01,\n",
              "        -7.35818923e-01, -8.08604360e-01, -9.32654202e-01,\n",
              "        -1.10508120e+00, -1.26358020e+00, -1.33893907e+00,\n",
              "        -1.35849750e+00,  8.43013227e-01,  1.25672483e+00,\n",
              "         1.05554104e+00,  9.83491838e-01,  8.45628738e-01,\n",
              "         7.09018826e-01,  1.20857179e+00,  1.32847476e+00,\n",
              "         1.40600836e+00,  1.52561677e+00,  1.90459979e+00,\n",
              "         2.31491208e+00,  3.03863931e+00,  2.94875574e+00,\n",
              "        -2.41619453e-01],\n",
              "       [-1.66705310e-01, -2.37610102e-01, -2.88022250e-01,\n",
              "        -3.77576619e-01, -5.25583744e-01, -6.52512431e-01,\n",
              "        -7.35818923e-01, -8.08604360e-01, -9.32654202e-01,\n",
              "        -1.09410751e+00, -1.23028791e+00, -1.33893907e+00,\n",
              "        -1.22405589e+00,  1.13375604e+00,  1.16757476e+00,\n",
              "         9.87924337e-01,  1.04072714e+00,  7.76916623e-01,\n",
              "         5.85525513e-01,  1.37371087e+00,  1.30668426e+00,\n",
              "         1.48163831e+00,  1.64608955e+00,  1.77567267e+00,\n",
              "         2.39378262e+00,  2.37390614e+00,  3.06424284e+00,\n",
              "         1.98396647e+00],\n",
              "       [-1.66705310e-01, -2.37610102e-01, -2.88022250e-01,\n",
              "        -3.77576619e-01, -5.25583744e-01, -6.52512431e-01,\n",
              "        -7.35818923e-01, -8.08604360e-01, -9.32654202e-01,\n",
              "        -1.10508120e+00, -1.19699550e+00, -1.33893907e+00,\n",
              "        -2.49353975e-01,  1.41331637e+00,  1.18986225e+00,\n",
              "         1.07807994e+00,  1.04072714e+00,  9.02888894e-01,\n",
              "         9.11098778e-01,  1.30765522e+00,  1.38295102e+00,\n",
              "         1.42761695e+00,  1.62418544e+00,  1.86943781e+00,\n",
              "         2.64353943e+00,  1.24675012e+00,  2.37132025e+00,\n",
              "         2.15516543e+00],\n",
              "       [-1.66705310e-01, -2.37610102e-01, -2.88022250e-01,\n",
              "        -3.77576619e-01, -5.25583744e-01, -6.52512431e-01,\n",
              "        -7.35818923e-01, -8.08604360e-01, -9.32654202e-01,\n",
              "        -1.06118655e+00, -1.26358020e+00, -1.33893907e+00,\n",
              "        -7.42306650e-01,  1.32385707e+00,  1.25672483e+00,\n",
              "         1.19077456e+00,  1.15519786e+00,  1.32661378e+00,\n",
              "         1.29280543e+00,  1.21958101e+00,  1.41563678e+00,\n",
              "         1.53565967e+00,  1.75561035e+00,  1.83427584e+00,\n",
              "         2.27547669e+00,  2.54731488e+00,  1.13395834e+00,\n",
              "        -2.41619453e-01],\n",
              "       [-1.66705310e-01, -2.37610102e-01, -2.65099406e-01,\n",
              "        -3.03444147e-01, -4.39706743e-01, -5.68071425e-01,\n",
              "        -7.13166654e-01, -8.08604360e-01, -9.32654202e-01,\n",
              "        -1.10508120e+00, -1.26358020e+00, -1.33893907e+00,\n",
              "         1.29672492e+00,  1.21203291e+00,  1.13414347e+00,\n",
              "         1.11188829e+00,  1.08651543e+00,  1.08612132e+00,\n",
              "         1.18053877e+00,  1.30765522e+00,  1.39384627e+00,\n",
              "         1.53565967e+00,  1.70085001e+00,  1.81083465e+00,\n",
              "         2.28862190e+00,  3.21204782e+00,  8.86486053e-01,\n",
              "        -2.41619453e-01],\n",
              "       [-1.66705310e-01, -1.56516761e-01, -2.88022250e-01,\n",
              "        -3.77576619e-01, -5.25583744e-01, -6.52512431e-01,\n",
              "        -7.35818923e-01, -8.08604360e-01, -9.32654202e-01,\n",
              "        -4.24713105e-01,  3.45549166e-01,  9.54005957e-01,\n",
              "         1.19589376e+00,  9.99567032e-01,  1.08956850e+00,\n",
              "         1.08934939e+00,  1.04072714e+00,  9.60148990e-01,\n",
              "         1.05704546e+00,  1.27462745e+00,  1.48100817e+00,\n",
              "         1.53565967e+00,  1.59132922e+00,  1.81083465e+00,\n",
              "         2.36749244e+00,  3.05309010e+00,  2.23933482e+00,\n",
              "        -2.41619453e-01],\n",
              "       [-1.66705310e-01, -2.37610102e-01, -2.88022250e-01,\n",
              "        -3.77576619e-01, -2.67952770e-01, -1.21740349e-01,\n",
              "         1.92923501e-01,  3.91047806e-01,  1.15093577e+00,\n",
              "         1.39691770e+00,  1.17785752e+00,  1.15632463e+00,\n",
              "         1.07265556e+00,  1.21203291e+00,  9.44699705e-01,\n",
              "         9.09038126e-01,  9.60597694e-01,  1.21209359e+00,\n",
              "         1.20299208e+00,  1.45077586e+00,  9.58036542e-01,\n",
              "         1.15751004e+00,  1.93084359e+00,  2.19761610e+00,\n",
              "         2.48579836e+00,  2.96638560e+00,  3.16323185e+00,\n",
              "        -2.41619453e-01],\n",
              "       [-1.66705310e-01,  1.30316329e+00,  3.99854589e+00,\n",
              "         3.47731161e+00,  2.68049049e+00,  2.01341081e+00,\n",
              "         1.80123353e+00,  1.52342975e+00,  1.31630003e+00,\n",
              "         1.24328625e+00,  1.04468811e+00,  1.01020551e+00,\n",
              "         8.82196546e-01,  4.62811112e-01,  1.44616866e+00,\n",
              "         7.73804665e-01,  9.03362334e-01,  1.13192940e+00,\n",
              "         1.55101871e+00,  1.68197072e+00,  1.44832242e+00,\n",
              "         1.65450668e+00,  1.61323333e+00,  1.76395202e+00,\n",
              "         2.31491208e+00,  2.87968135e+00,  3.67467475e+00,\n",
              "        -2.41619453e-01],\n",
              "       [ 1.34065384e-02,  5.22267437e+00,  4.93838167e+00,\n",
              "         3.77384138e+00,  2.63755202e+00,  1.89278090e+00,\n",
              "         1.65399384e+00,  1.59070003e+00,  1.32732439e+00,\n",
              "         1.14452314e+00,  1.01139581e+00,  1.13384473e+00,\n",
              "         1.33033538e+00, -4.20599639e-01,  3.87511998e-01,\n",
              "         1.47251081e+00,  1.16664493e+00,  1.10902536e+00,\n",
              "         7.98832119e-01,  5.70033729e-01,  1.12146521e+00,\n",
              "         1.39520419e+00,  1.42704797e+00,  1.74051070e+00,\n",
              "         2.34120226e+00,  2.82187843e+00,  3.32821345e+00,\n",
              "        -2.41619453e-01],\n",
              "       [ 5.71694851e+00,  6.06063890e+00,  4.25069714e+00,\n",
              "         3.51437783e+00,  2.65186477e+00,  2.10991502e+00,\n",
              "         1.85786414e+00,  1.81493402e+00,  1.81239283e+00,\n",
              "         1.30912828e+00,  8.89323950e-01,  1.07764518e+00,\n",
              "         1.07265556e+00,  1.37976909e+00, -5.59707105e-01,\n",
              "        -5.78530073e-01, -2.41344914e-01, -8.19852725e-02,\n",
              "         5.74298859e-01,  1.28563666e+00,  1.44832242e+00,\n",
              "         1.44922554e+00,  1.56942499e+00,  1.90459979e+00,\n",
              "         2.35434723e+00,  2.76407552e+00,  3.39420605e+00,\n",
              "         9.99572754e-01],\n",
              "       [ 4.33609104e+00,  5.27673674e+00,  4.57161665e+00,\n",
              "         3.40317917e+00,  2.23679256e+00,  1.82040286e+00,\n",
              "         1.65399384e+00,  1.71402872e+00,  1.44859147e+00,\n",
              "         9.25049484e-01,  9.22616243e-01,  9.76485789e-01,\n",
              "         8.59789610e-01,  1.06666148e+00,  1.39044988e+00,\n",
              "         7.96343565e-01,  1.14375079e+00,  1.38387394e+00,\n",
              "         1.37139201e+00,  1.32967377e+00,  1.41563678e+00,\n",
              "         1.41681266e+00,  1.48180842e+00,  1.89287913e+00,\n",
              "         2.31491208e+00,  2.72072339e+00,  3.41070414e+00,\n",
              "         2.62596226e+00],\n",
              "       [ 2.71508431e+00,  5.24970579e+00,  3.90685463e+00,\n",
              "         3.21784806e+00,  2.52304935e+00,  1.72389889e+00,\n",
              "         1.35951459e+00,  1.32161915e+00,  1.20605719e+00,\n",
              "         1.00186527e+00,  9.78103459e-01,  1.06640518e+00,\n",
              "         1.09506249e+00,  1.15612078e+00,  1.16757476e+00,\n",
              "         1.25839126e+00,  1.12085664e+00,  1.05176520e+00,\n",
              "         9.22325432e-01,  1.14251614e+00,  1.06698895e+00,\n",
              "         1.08188009e+00,  1.13134193e+00,  1.30684662e+00,\n",
              "         1.80225337e+00,  2.48951197e+00,  3.01474833e+00,\n",
              "         4.68034935e+00],\n",
              "       [-1.66705310e-01,  3.06018567e+00,  4.73207617e+00,\n",
              "         3.19931483e+00,  2.03641295e+00,  1.41026092e+00,\n",
              "         1.33686233e+00,  1.38888931e+00,  1.31630003e+00,\n",
              "         1.19939148e+00,  1.10017538e+00,  9.87725735e-01,\n",
              "         1.00543475e+00,  1.03311431e+00,  9.44699705e-01,\n",
              "         8.07613015e-01,  7.65997469e-01,  7.65464604e-01,\n",
              "         8.77418816e-01,  9.77376938e-01,  1.19773185e+00,\n",
              "         1.20072711e+00,  1.12038982e+00,  1.11931610e+00,\n",
              "         1.61822200e+00,  2.08489180e+00,  3.08074093e+00,\n",
              "         3.69595575e+00],\n",
              "       [-1.66705310e-01, -2.37610102e-01,  1.40826678e+00,\n",
              "         3.12518239e+00,  2.50873637e+00,  1.65152085e+00,\n",
              "         1.24625325e+00,  1.11980844e+00,  9.96595800e-01,\n",
              "         8.81154776e-01,  7.89446950e-01,  7.74167120e-01,\n",
              "         7.58958340e-01,  7.87101150e-01,  8.66693437e-01,\n",
              "         8.30151916e-01,  8.80468190e-01,  9.71601009e-01,\n",
              "         1.04581881e+00,  1.18655324e+00,  1.33937001e+00,\n",
              "         1.15751004e+00,  1.25181472e+00,  1.56470096e+00,\n",
              "         1.94684935e+00,  2.64846992e+00,  2.42081475e+00,\n",
              "        -2.41619453e-01],\n",
              "       [-4.66307439e-02, -2.37610102e-01, -2.88022250e-01,\n",
              "        -3.77576619e-01,  4.19063151e-01,  1.76008785e+00,\n",
              "         1.77858126e+00,  1.84856915e+00,  1.70214999e+00,\n",
              "         1.55054927e+00,  1.46639097e+00,  1.39236307e+00,\n",
              "         1.37514925e+00,  1.15612078e+00,  1.16757476e+00,\n",
              "         7.73804665e-01,  7.31656253e-01,  6.28040314e-01,\n",
              "         7.31472135e-01,  8.78293455e-01,  1.01251280e+00,\n",
              "         1.02785873e+00,  1.01086903e+00,  1.25996399e+00,\n",
              "         7.24355519e-01,  3.65256190e-01, -3.83872122e-01,\n",
              "        -2.41619453e-01],\n",
              "       [-1.66705310e-01, -2.37610102e-01, -2.88022250e-01,\n",
              "        -3.77576619e-01, -5.25583744e-01, -6.52512431e-01,\n",
              "        -7.35818923e-01, -3.60136241e-01, -2.60172784e-01,\n",
              "        -6.22239351e-01, -4.64564234e-01, -8.78102124e-01,\n",
              "        -9.66376066e-01, -1.31519282e+00, -1.28405118e+00,\n",
              "        -1.40120041e+00, -1.45473456e+00, -1.42187226e+00,\n",
              "        -1.31178093e+00, -1.12539494e+00, -9.59526122e-01,\n",
              "        -8.73693526e-01, -8.07175994e-01, -7.09105551e-01,\n",
              "        -5.77009022e-01, -4.72885549e-01, -3.83872122e-01,\n",
              "        -2.41619453e-01],\n",
              "       [-1.66705310e-01, -2.37610102e-01, -2.88022250e-01,\n",
              "        -3.77576619e-01, -5.25583744e-01, -6.52512431e-01,\n",
              "        -7.35818923e-01, -8.08604360e-01, -9.32654202e-01,\n",
              "        -1.10508120e+00, -1.26358020e+00, -1.33893907e+00,\n",
              "        -1.35849750e+00, -1.31519282e+00, -1.28405118e+00,\n",
              "        -1.40120041e+00, -1.45473456e+00, -1.42187226e+00,\n",
              "        -1.31178093e+00, -1.12539494e+00, -9.59526122e-01,\n",
              "        -8.73693526e-01, -8.07175994e-01, -7.09105551e-01,\n",
              "        -5.77009022e-01, -4.72885549e-01, -3.83872122e-01,\n",
              "        -2.41619453e-01],\n",
              "       [-1.66705310e-01, -2.37610102e-01, -2.88022250e-01,\n",
              "        -3.77576619e-01, -5.25583744e-01, -6.52512431e-01,\n",
              "        -7.35818923e-01, -8.08604360e-01, -9.32654202e-01,\n",
              "        -1.10508120e+00, -1.26358020e+00, -1.33893907e+00,\n",
              "        -1.35849750e+00, -1.31519282e+00, -1.28405118e+00,\n",
              "        -1.40120041e+00, -1.45473456e+00, -1.42187226e+00,\n",
              "        -1.31178093e+00, -1.12539494e+00, -9.59526122e-01,\n",
              "        -8.73693526e-01, -8.07175994e-01, -7.09105551e-01,\n",
              "        -5.77009022e-01, -4.72885549e-01, -3.83872122e-01,\n",
              "        -2.41619453e-01]], dtype=float32)>"
            ]
          },
          "metadata": {},
          "execution_count": 10
        }
      ]
    },
    {
      "cell_type": "markdown",
      "source": [
        "## Building the model"
      ],
      "metadata": {
        "id": "Za3DGvlOA8G2"
      }
    },
    {
      "cell_type": "code",
      "source": [
        "model=tf.keras.Sequential()\n",
        "model.add(tf.keras.layers.Conv2D(filters=64,kernel_size=(3,3),activation='relu',input_shape=(28,28,1)))\n",
        "model.add(tf.keras.layers.Conv2D(filters=64,kernel_size=(3,3),activation='relu'))\n",
        "model.add(tf.keras.layers.MaxPool2D(pool_size=(2,2)))\n",
        "model.add(tf.keras.layers.Conv2D(filters=128,kernel_size=(3,3),activation='relu'))\n",
        "model.add(tf.keras.layers.Conv2D(filters=128,kernel_size=(3,3),activation='relu'))\n",
        "model.add(tf.keras.layers.MaxPool2D(pool_size=(2,2)))\n",
        "model.add(tf.keras.layers.Conv2D(filters=256,kernel_size=(3,3),activation='relu'))\n",
        "model.add(tf.keras.layers.MaxPool2D(pool_size=(2,2)))\n",
        "\n",
        "# Flatten Model \n",
        "model.add(tf.keras.layers.Flatten())\n",
        "model.add(tf.keras.layers.Dense(50,activation='relu'))\n",
        "model.add(tf.keras.layers.Dense(10,activation='softmax'))\n",
        "\n"
      ],
      "metadata": {
        "id": "QMMoon6tA4qb"
      },
      "execution_count": null,
      "outputs": []
    },
    {
      "cell_type": "code",
      "source": [
        "## Compile\n",
        "\n",
        "model.compile(loss=tf.keras.losses.SparseCategoricalCrossentropy(),\n",
        "              optimizer=tf.keras.optimizers.Adam(),\n",
        "              metrics=['accuracy'])"
      ],
      "metadata": {
        "id": "zwZK3JbKEPjg"
      },
      "execution_count": null,
      "outputs": []
    },
    {
      "cell_type": "code",
      "source": [
        "#tf.random.set_seed[100]\n",
        "#ist=model.fit(X_train,y_train,epochs=2)\n",
        "#pd.DataFrame(hist.history).plot);"
      ],
      "metadata": {
        "id": "WuZnthFUFO51"
      },
      "execution_count": null,
      "outputs": []
    }
  ]
}