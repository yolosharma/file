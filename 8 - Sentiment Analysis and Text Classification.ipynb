{
 "cells": [
  {
   "cell_type": "markdown",
   "id": "b4ff0142",
   "metadata": {},
   "source": [
    "# Sentiment Analysis & Text Classification"
   ]
  },
  {
   "cell_type": "markdown",
   "id": "fdc2ac70",
   "metadata": {},
   "source": [
    "Polarity - Gives the emotion of the text \n",
    "\n",
    "    1. (-1,0) - Negative Sentiment \n",
    "    \n",
    "    2. (0,1) - Positive Sentiment\n",
    "\n",
    "Subjectivity - Level of objectivity or personalisaton & Opinion\n",
    " \n",
    "    1. 1 - Very Much Subjective - Too Personalised and Opinionated\n",
    "    \n",
    "    2. 0 - Very Factual - Not Personalised "
   ]
  },
  {
   "cell_type": "code",
   "execution_count": null,
   "id": "897813e9",
   "metadata": {},
   "outputs": [],
   "source": [
    "# Initialising the Text Blob \n",
    "\n",
    "from textblob import TextBlob"
   ]
  },
  {
   "cell_type": "code",
   "execution_count": null,
   "id": "6c694df5",
   "metadata": {},
   "outputs": [],
   "source": [
    "text_1 = 'Vinod is very happy today'"
   ]
  },
  {
   "cell_type": "code",
   "execution_count": null,
   "id": "ad957ce5",
   "metadata": {},
   "outputs": [],
   "source": [
    "blob_1 = TextBlob(text_1)"
   ]
  },
  {
   "cell_type": "code",
   "execution_count": null,
   "id": "b9f93d88",
   "metadata": {},
   "outputs": [],
   "source": [
    "blob_1.sentiment"
   ]
  },
  {
   "cell_type": "code",
   "execution_count": null,
   "id": "a40c5740",
   "metadata": {},
   "outputs": [],
   "source": [
    "text_2 = 'The Movie was not on expected line. I did not enjoy the film at all. It was a waste of time'"
   ]
  },
  {
   "cell_type": "code",
   "execution_count": null,
   "id": "0f2dc90f",
   "metadata": {},
   "outputs": [],
   "source": [
    "blob_2 = TextBlob(text_2)"
   ]
  },
  {
   "cell_type": "code",
   "execution_count": null,
   "id": "2cf864c3",
   "metadata": {},
   "outputs": [],
   "source": [
    "blob_2.sentiment"
   ]
  },
  {
   "cell_type": "code",
   "execution_count": null,
   "id": "4c42159f",
   "metadata": {},
   "outputs": [],
   "source": [
    "text_3 = 'The Sun is going to set at 6pm'"
   ]
  },
  {
   "cell_type": "code",
   "execution_count": null,
   "id": "a78a815d",
   "metadata": {},
   "outputs": [],
   "source": [
    "blob_3 = TextBlob(text_3)"
   ]
  },
  {
   "cell_type": "code",
   "execution_count": null,
   "id": "a58ecc35",
   "metadata": {},
   "outputs": [],
   "source": [
    "blob_3.sentiment"
   ]
  },
  {
   "cell_type": "code",
   "execution_count": null,
   "id": "187f0396",
   "metadata": {},
   "outputs": [],
   "source": [
    "# So text_3 is a neutral statement and subjectivity wise it is a factual Statement "
   ]
  },
  {
   "cell_type": "code",
   "execution_count": null,
   "id": "84711fb2",
   "metadata": {},
   "outputs": [],
   "source": [
    "text = '''Ever since Finance Minister Nirmala Sitharaman presented her fifth and last full budget of the Modi government’s second term on February 1, 2023, every aspect of the budget has been analysed thread-bare by stakeholders, experts, and members of the commentariat. This author, himself, starting with the analysis of the economic survey, analysed the budget story through his framework of a five-part series.\n",
    "Make no mistake- along with the finance minister’s budget speech and demands for grants, the outcome budget (OB) forms the trinity of the most important budget document and still, only a few have decided to deep dive into it. And the reasons are as follows-\n",
    "The outcome budget, in its current avatar, is of recent origin and has not yet received the proper attention of the commentariat.\n",
    "It is a complex, confusing and lengthy document that is difficult to decode. The FY24 outcome budget is 280 pages long, while FY23 one was 297 pages long.\n",
    "Unlike demands of grants which provides actuals of previous, revised estimate of current year and the budget estimate for next year, the outcome budget is a standalone document that just enumerates the budgeted output and outcome targets for selected schemes under ministries and departments. It throws no light on what was the target of the previous year, nor does it throw light on past years’ achievements against the target.\n",
    "Advertisement. It is natural then that the outcome budget does not get the attention of the analysts it deserves. And this in itself was reason enough for this member of the commentariat to deep dive into the outcome budget of FY24 and to arrive at meaningful insight to also examine the outcome budget of FY23 critically. And here goes my analysis. As two years’ outcome budget documents are so voluminous, this analysis covers only outcome budget of two Ministries with an attempt to grasp whether the budgetary outlay for FY24 is properly aligned with monitorable outputs and outcomes or whether the outcome budget has turned into a standalone document falling short on its basic premise, losing its rigour and seriousness.\n",
    "The key aspect that I seek to address is whether output, outcome and key milestones to be achieved in the financial year are synced seamlessly and explained synchronously because, in its absence, the budget outlays remain what they are— simple annual expenditure targets defeating the very purpose of having an outcome budget.\n",
    "THE OUTCOME BUDGET\n",
    "For the uninitiated, I begin with a primer on- what is the outcome budget.\n",
    "Till recently, before FY2017-18, as part of the Union budget, only the financial outlays of schemes of various ministries were part of the budget document while the expected outputs and outcomes of schemes were prepared and presented separately by each ministry (initiated by P. Chidambaram as Finance Minister in FY2008.)'''"
   ]
  },
  {
   "cell_type": "code",
   "execution_count": null,
   "id": "51bdf487",
   "metadata": {},
   "outputs": [],
   "source": [
    "blob_4 = TextBlob(text)"
   ]
  },
  {
   "cell_type": "code",
   "execution_count": null,
   "id": "4001ce5f",
   "metadata": {},
   "outputs": [],
   "source": [
    "blob_4.sentiment"
   ]
  },
  {
   "cell_type": "markdown",
   "id": "20b31819",
   "metadata": {},
   "source": [
    "# Text Classification"
   ]
  },
  {
   "cell_type": "code",
   "execution_count": null,
   "id": "094690d4",
   "metadata": {},
   "outputs": [],
   "source": [
    "import numpy as np\n",
    "import pandas as pd \n",
    "from sklearn.datasets import fetch_20newsgroups"
   ]
  },
  {
   "cell_type": "code",
   "execution_count": null,
   "id": "a4e8a12d",
   "metadata": {},
   "outputs": [],
   "source": [
    "train = fetch_20newsgroups(subset='train')"
   ]
  },
  {
   "cell_type": "code",
   "execution_count": null,
   "id": "a2fe367a",
   "metadata": {},
   "outputs": [],
   "source": [
    "test = fetch_20newsgroups(subset='test')"
   ]
  },
  {
   "cell_type": "code",
   "execution_count": null,
   "id": "0073d669",
   "metadata": {},
   "outputs": [],
   "source": [
    "train"
   ]
  },
  {
   "cell_type": "code",
   "execution_count": null,
   "id": "0fb3f507",
   "metadata": {},
   "outputs": [],
   "source": [
    "test"
   ]
  },
  {
   "cell_type": "code",
   "execution_count": null,
   "id": "8ea59bfa",
   "metadata": {},
   "outputs": [],
   "source": [
    "train.keys()"
   ]
  },
  {
   "cell_type": "code",
   "execution_count": null,
   "id": "e4b2047e",
   "metadata": {},
   "outputs": [],
   "source": [
    "test.keys()"
   ]
  },
  {
   "cell_type": "code",
   "execution_count": null,
   "id": "97076c3b",
   "metadata": {},
   "outputs": [],
   "source": [
    "train['target_names']"
   ]
  },
  {
   "cell_type": "code",
   "execution_count": null,
   "id": "9b5f7016",
   "metadata": {},
   "outputs": [],
   "source": [
    "np.unique(train['target'])"
   ]
  },
  {
   "cell_type": "code",
   "execution_count": null,
   "id": "b3a1c696",
   "metadata": {},
   "outputs": [],
   "source": [
    "print(train['data'][1])"
   ]
  },
  {
   "cell_type": "code",
   "execution_count": null,
   "id": "695b7ad1",
   "metadata": {},
   "outputs": [],
   "source": [
    "print(train['data'][10])"
   ]
  },
  {
   "cell_type": "code",
   "execution_count": null,
   "id": "ec42d0fd",
   "metadata": {},
   "outputs": [],
   "source": [
    "print(train['data'][1000])"
   ]
  },
  {
   "cell_type": "code",
   "execution_count": null,
   "id": "79b2f6cf",
   "metadata": {},
   "outputs": [],
   "source": [
    "test.keys()"
   ]
  },
  {
   "cell_type": "markdown",
   "id": "d45fd684",
   "metadata": {},
   "source": [
    "# Building a Text Classification Model "
   ]
  },
  {
   "cell_type": "code",
   "execution_count": null,
   "id": "14cc2bde",
   "metadata": {},
   "outputs": [],
   "source": [
    "# Feature Set \n",
    "\n",
    "train['data']"
   ]
  },
  {
   "cell_type": "code",
   "execution_count": null,
   "id": "208d9aa3",
   "metadata": {},
   "outputs": [],
   "source": [
    "# Target \n",
    "\n",
    "train['target']"
   ]
  },
  {
   "cell_type": "code",
   "execution_count": null,
   "id": "72bf8101",
   "metadata": {},
   "outputs": [],
   "source": [
    "from sklearn.feature_extraction.text import TfidfVectorizer\n",
    "\n",
    "from sklearn.naive_bayes import MultinomialNB"
   ]
  },
  {
   "cell_type": "code",
   "execution_count": null,
   "id": "c2547be1",
   "metadata": {},
   "outputs": [],
   "source": [
    "from sklearn.pipeline import make_pipeline"
   ]
  },
  {
   "cell_type": "code",
   "execution_count": null,
   "id": "42dd323a",
   "metadata": {},
   "outputs": [],
   "source": [
    "mnb = make_pipeline(TfidfVectorizer(), MultinomialNB())"
   ]
  },
  {
   "cell_type": "code",
   "execution_count": null,
   "id": "b3b0417e",
   "metadata": {},
   "outputs": [],
   "source": [
    "## Training\n",
    "\n",
    "mnb.fit(train['data'], train['target'])"
   ]
  },
  {
   "cell_type": "code",
   "execution_count": null,
   "id": "db9e41ef",
   "metadata": {},
   "outputs": [],
   "source": [
    "pred = mnb.predict(test['data'])"
   ]
  },
  {
   "cell_type": "code",
   "execution_count": null,
   "id": "652e5644",
   "metadata": {},
   "outputs": [],
   "source": [
    "pred"
   ]
  },
  {
   "cell_type": "markdown",
   "id": "8d43881e",
   "metadata": {},
   "source": [
    "# Evaluating the Performance"
   ]
  },
  {
   "cell_type": "code",
   "execution_count": null,
   "id": "f5a468a8",
   "metadata": {},
   "outputs": [],
   "source": [
    "from sklearn.metrics import classification_report, confusion_matrix"
   ]
  },
  {
   "cell_type": "code",
   "execution_count": null,
   "id": "8694e942",
   "metadata": {},
   "outputs": [],
   "source": [
    "report = classification_report(test['target'], pred)\n",
    "cm = confusion_matrix(test['target'], pred)\n",
    "\n",
    "print('The report:\\n', report)\n",
    "print('\\n\\n')\n",
    "print('The confusion matrix:\\n', cm)"
   ]
  },
  {
   "cell_type": "markdown",
   "id": "7920ec56",
   "metadata": {},
   "source": [
    "# Showing the text topic"
   ]
  },
  {
   "cell_type": "code",
   "execution_count": null,
   "id": "25205379",
   "metadata": {},
   "outputs": [],
   "source": [
    "def predict_news_group(doc):\n",
    "    group_pred = mnb.predict([doc])\n",
    "    return test['target_names'][group_pred[0]]"
   ]
  },
  {
   "cell_type": "code",
   "execution_count": null,
   "id": "35745fb2",
   "metadata": {},
   "outputs": [],
   "source": [
    "text = 'Nowadays, there is a lot of mixing of politics and religion. We need to relook at the impact of this. Will it help the politics in the long run?'"
   ]
  },
  {
   "cell_type": "code",
   "execution_count": null,
   "id": "5d13497c",
   "metadata": {},
   "outputs": [],
   "source": [
    "predict_news_group(text)"
   ]
  },
  {
   "cell_type": "code",
   "execution_count": null,
   "id": "cece19f8",
   "metadata": {},
   "outputs": [],
   "source": [
    "text_2 = 'Sports is more of an entertainment these days'"
   ]
  },
  {
   "cell_type": "code",
   "execution_count": null,
   "id": "7a385486",
   "metadata": {},
   "outputs": [],
   "source": [
    "predict_news_group(text_2)"
   ]
  },
  {
   "cell_type": "code",
   "execution_count": null,
   "id": "cba34b2f",
   "metadata": {},
   "outputs": [],
   "source": [
    "text_3 = 'Windows came early was difficult to understand. As there was release of Windows, it became more user friendly'"
   ]
  },
  {
   "cell_type": "code",
   "execution_count": null,
   "id": "b569ebd2",
   "metadata": {},
   "outputs": [],
   "source": [
    "predict_news_group(text_3)"
   ]
  },
  {
   "cell_type": "code",
   "execution_count": null,
   "id": "818d7eee",
   "metadata": {},
   "outputs": [],
   "source": []
  }
 ],
 "metadata": {
  "kernelspec": {
   "display_name": "Python 3 (ipykernel)",
   "language": "python",
   "name": "python3"
  },
  "language_info": {
   "codemirror_mode": {
    "name": "ipython",
    "version": 3
   },
   "file_extension": ".py",
   "mimetype": "text/x-python",
   "name": "python",
   "nbconvert_exporter": "python",
   "pygments_lexer": "ipython3",
   "version": "3.9.13"
  }
 },
 "nbformat": 4,
 "nbformat_minor": 5
}
