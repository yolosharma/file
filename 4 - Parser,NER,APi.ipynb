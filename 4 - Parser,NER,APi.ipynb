{
 "cells": [
  {
   "cell_type": "markdown",
   "id": "a2e0b748",
   "metadata": {},
   "source": [
    "## Parser and NER"
   ]
  },
  {
   "cell_type": "code",
   "execution_count": null,
   "id": "e3c6e6fd",
   "metadata": {},
   "outputs": [],
   "source": [
    "import spacy\n"
   ]
  },
  {
   "cell_type": "code",
   "execution_count": null,
   "id": "c0cdf88a",
   "metadata": {},
   "outputs": [],
   "source": [
    "nlp=spacy.load('en_core_web_sm')"
   ]
  },
  {
   "cell_type": "code",
   "execution_count": null,
   "id": "73a24046",
   "metadata": {},
   "outputs": [],
   "source": [
    "type(nlp)"
   ]
  },
  {
   "cell_type": "code",
   "execution_count": null,
   "id": "a6cd56af",
   "metadata": {},
   "outputs": [],
   "source": [
    "doc1=nlp('Let’s start by differentiating between data analytics and traditional analytics.The terms are often used interchangeably, but a distinction does exist. Traditional data analytics refers to the process of analyzing massive amounts of collected data to get insights and predictions. Business data analytics (sometimes called business analytics) takes that idea, but puts it in the context of business insight, often with prebuilt business content and tools that expedite the analysis process.Specifically, business analytics refers to:Taking in and processing historical business data.Analyzing that data to identify trends, patterns, and root causes.Making data-driven business decisions based on those insightsIn other words, data analytics is more of a general description of the modern analytics process. Business analytics implies a narrower focus and has functionally become more prevalent and more important for organizations around the globe as the overall volume of data has increased.')"
   ]
  },
  {
   "cell_type": "code",
   "execution_count": null,
   "id": "077672d5",
   "metadata": {},
   "outputs": [],
   "source": [
    "doc1"
   ]
  },
  {
   "cell_type": "markdown",
   "id": "478aa19a",
   "metadata": {},
   "source": [
    "## Tokenization"
   ]
  },
  {
   "cell_type": "code",
   "execution_count": null,
   "id": "56c1a9d6",
   "metadata": {},
   "outputs": [],
   "source": [
    "for token in doc1:\n",
    "    print(token)"
   ]
  },
  {
   "cell_type": "markdown",
   "id": "169b8eeb",
   "metadata": {},
   "source": [
    "## Tagger"
   ]
  },
  {
   "cell_type": "code",
   "execution_count": null,
   "id": "49136dc4",
   "metadata": {},
   "outputs": [],
   "source": [
    "for token in doc1:\n",
    "    print(token.text,'==>',token.tag_)"
   ]
  },
  {
   "cell_type": "markdown",
   "id": "b2fd5998",
   "metadata": {},
   "source": [
    "## Parser\n",
    "\n",
    "tries to find the dependence between token"
   ]
  },
  {
   "cell_type": "code",
   "execution_count": null,
   "id": "17e87b9e",
   "metadata": {},
   "outputs": [],
   "source": [
    "for token in doc1:\n",
    "    print(token.text,'==>',token.dep_)"
   ]
  },
  {
   "cell_type": "code",
   "execution_count": null,
   "id": "c713ec4e",
   "metadata": {},
   "outputs": [],
   "source": [
    "from spacy import displacy \n",
    "displacy.render(doc1,style='dep')"
   ]
  },
  {
   "cell_type": "code",
   "execution_count": null,
   "id": "da5369dc",
   "metadata": {},
   "outputs": [],
   "source": [
    "spacy.explain('nsubj')"
   ]
  },
  {
   "cell_type": "code",
   "execution_count": null,
   "id": "12bac32b",
   "metadata": {},
   "outputs": [],
   "source": [
    "for token in doc1:\n",
    "    print(token.text,'==>',token.head)\n",
    "    \n",
    "    # what next is coming syntaxial relation with previous and upcoming token \n",
    "    # some words in pre trained in small data set hence result we get may not be accurate"
   ]
  },
  {
   "cell_type": "code",
   "execution_count": null,
   "id": "46832657",
   "metadata": {},
   "outputs": [],
   "source": [
    "## NOUN CHUNKS\n",
    "\n",
    "for chunk in doc1.noun_chunks:\n",
    "    print(chunk.text,'==>',chunk.label_)\n",
    "    \n",
    "    # phrases of noun "
   ]
  },
  {
   "cell_type": "code",
   "execution_count": null,
   "id": "b9d8cc6a",
   "metadata": {},
   "outputs": [],
   "source": [
    "spacy.explain('NP')"
   ]
  },
  {
   "cell_type": "code",
   "execution_count": null,
   "id": "49e23ecb",
   "metadata": {},
   "outputs": [],
   "source": [
    "# parser also gives the syntactic dependence beteween different tokens "
   ]
  },
  {
   "cell_type": "markdown",
   "id": "3cb27440",
   "metadata": {},
   "source": [
    "## NER ( Named Entity Recognizer)"
   ]
  },
  {
   "cell_type": "code",
   "execution_count": null,
   "id": "14eefd24",
   "metadata": {},
   "outputs": [],
   "source": [
    "doc1"
   ]
  },
  {
   "cell_type": "code",
   "execution_count": null,
   "id": "db00a6f1",
   "metadata": {},
   "outputs": [],
   "source": [
    "doc2=nlp('Sport is a significant part of life in India. The country has a very long sports history, with sports being a part of tradition, culture, finance and entertainment. People in India closely follow various sports and enthusiastically participate in them. Cricket is the most popular spectator sport in the country, and citizens often play it as a recreational activity; it generates the highest television viewership, and features full-capacity audiences in stadiums during international and Indian Premier League (IPL) matches. It is part of popular culture. However, in more recent decades, football has also become another popular sport in terms of broadcast viewership and stadium audience attendance.[2][b] Kabaddi has grown into the mainstream, as well as badminton, tennis, and athletics. India are the one of the power houses in field hockey. India won World Cup & multiple medals in field hockey in Olympics. During that time, Dhyan Chand was a notable player. Sports such as swimming and badminton are played as recreational activities and for exercise.')"
   ]
  },
  {
   "cell_type": "code",
   "execution_count": null,
   "id": "1d69c97c",
   "metadata": {},
   "outputs": [],
   "source": [
    "doc2"
   ]
  },
  {
   "cell_type": "code",
   "execution_count": null,
   "id": "237b4951",
   "metadata": {},
   "outputs": [],
   "source": [
    "for token in doc2:\n",
    "    print(token.text)"
   ]
  },
  {
   "cell_type": "code",
   "execution_count": null,
   "id": "a165fa60",
   "metadata": {},
   "outputs": [],
   "source": [
    "for ent in doc2.ents:\n",
    "    print(ent.text,'==>',ent.label_)"
   ]
  },
  {
   "cell_type": "code",
   "execution_count": null,
   "id": "17897e19",
   "metadata": {},
   "outputs": [],
   "source": [
    "# GPE -- geopolitical entity"
   ]
  },
  {
   "cell_type": "code",
   "execution_count": null,
   "id": "557333f1",
   "metadata": {},
   "outputs": [],
   "source": [
    "spacy.explain('NORP')"
   ]
  },
  {
   "cell_type": "code",
   "execution_count": null,
   "id": "55fdec2b",
   "metadata": {},
   "outputs": [],
   "source": [
    "## entity is specific names"
   ]
  },
  {
   "cell_type": "markdown",
   "id": "c805b523",
   "metadata": {},
   "source": [
    "### List of entitites"
   ]
  },
  {
   "cell_type": "code",
   "execution_count": null,
   "id": "323b6e05",
   "metadata": {},
   "outputs": [],
   "source": [
    "ent_list=[]\n",
    "for ent in doc2.ents:\n",
    "    ent_list.append(ent.label_)\n",
    "    "
   ]
  },
  {
   "cell_type": "code",
   "execution_count": null,
   "id": "11566dca",
   "metadata": {},
   "outputs": [],
   "source": [
    "print(ent_list)"
   ]
  },
  {
   "cell_type": "code",
   "execution_count": null,
   "id": "15eb4d77",
   "metadata": {},
   "outputs": [],
   "source": [
    "# List of tuples of text and respective enitites\n",
    "\n",
    "\n",
    "for ent in doc2.ents:\n",
    "    print(ent.text,ent.label_)"
   ]
  },
  {
   "cell_type": "code",
   "execution_count": null,
   "id": "1384aa8c",
   "metadata": {},
   "outputs": [],
   "source": [
    "ent_list=[(ent.text,ent.label_) for ent in doc2.ents]"
   ]
  },
  {
   "cell_type": "code",
   "execution_count": null,
   "id": "f4a7ac85",
   "metadata": {},
   "outputs": [],
   "source": [
    "print(ent_list)"
   ]
  },
  {
   "cell_type": "code",
   "execution_count": null,
   "id": "484c4e93",
   "metadata": {},
   "outputs": [],
   "source": [
    "ent_list[0]\n"
   ]
  },
  {
   "cell_type": "code",
   "execution_count": null,
   "id": "1432d372",
   "metadata": {},
   "outputs": [],
   "source": [
    "ent_list[0][1]"
   ]
  },
  {
   "cell_type": "markdown",
   "id": "44ab57ee",
   "metadata": {},
   "source": [
    "## NER for Web DATA"
   ]
  },
  {
   "cell_type": "code",
   "execution_count": null,
   "id": "322b0713",
   "metadata": {},
   "outputs": [],
   "source": [
    "import requests  # provides access to htmls info"
   ]
  },
  {
   "cell_type": "code",
   "execution_count": null,
   "id": "7716eaf5",
   "metadata": {},
   "outputs": [],
   "source": [
    "from bs4 import BeautifulSoup # scrap and extract data"
   ]
  },
  {
   "cell_type": "code",
   "execution_count": null,
   "id": "708442ff",
   "metadata": {},
   "outputs": [],
   "source": [
    "url='https://en.wikipedia.org/wiki/India'"
   ]
  },
  {
   "cell_type": "code",
   "execution_count": null,
   "id": "593421af",
   "metadata": {},
   "outputs": [],
   "source": [
    "print(url)"
   ]
  },
  {
   "cell_type": "code",
   "execution_count": null,
   "id": "fac27e4a",
   "metadata": {},
   "outputs": [],
   "source": [
    "request=requests.get(url)"
   ]
  },
  {
   "cell_type": "code",
   "execution_count": null,
   "id": "91e29ac2",
   "metadata": {},
   "outputs": [],
   "source": [
    "print(request)"
   ]
  },
  {
   "cell_type": "code",
   "execution_count": null,
   "id": "cb295dfe",
   "metadata": {},
   "outputs": [],
   "source": [
    "request=request.text\n",
    "print(request)"
   ]
  },
  {
   "cell_type": "code",
   "execution_count": null,
   "id": "908886a9",
   "metadata": {},
   "outputs": [],
   "source": [
    "soup_request=BeautifulSoup(request) # beautiful soup is scrapper \n",
    "print(soup_request)"
   ]
  },
  {
   "cell_type": "code",
   "execution_count": null,
   "id": "d88474d1",
   "metadata": {},
   "outputs": [],
   "source": [
    "text=soup_request.body.text\n",
    "print(text)"
   ]
  },
  {
   "cell_type": "code",
   "execution_count": null,
   "id": "f972c2d8",
   "metadata": {},
   "outputs": [],
   "source": [
    "type(text)"
   ]
  },
  {
   "cell_type": "markdown",
   "id": "891be619",
   "metadata": {},
   "source": [
    "## Converting str to doc using NLP"
   ]
  },
  {
   "cell_type": "code",
   "execution_count": null,
   "id": "b7a1fd4f",
   "metadata": {},
   "outputs": [],
   "source": [
    "doc3=nlp(text)"
   ]
  },
  {
   "cell_type": "code",
   "execution_count": null,
   "id": "c87c7912",
   "metadata": {},
   "outputs": [],
   "source": [
    "type(doc3)"
   ]
  },
  {
   "cell_type": "code",
   "execution_count": null,
   "id": "0d6bf520",
   "metadata": {},
   "outputs": [],
   "source": [
    "doc3"
   ]
  },
  {
   "cell_type": "markdown",
   "id": "3e50bdbe",
   "metadata": {},
   "source": [
    "## `tokenizer"
   ]
  },
  {
   "cell_type": "code",
   "execution_count": null,
   "id": "f3b02b0a",
   "metadata": {},
   "outputs": [],
   "source": [
    "for token in doc3:\n",
    "    print(token)"
   ]
  },
  {
   "cell_type": "code",
   "execution_count": null,
   "id": "bf88565e",
   "metadata": {},
   "outputs": [],
   "source": [
    "len(doc3)"
   ]
  },
  {
   "cell_type": "markdown",
   "id": "eec3d3c6",
   "metadata": {},
   "source": [
    "## List of entities"
   ]
  },
  {
   "cell_type": "code",
   "execution_count": null,
   "id": "ec85072f",
   "metadata": {},
   "outputs": [],
   "source": [
    "for ent in doc3.ents:\n",
    "    print(ent.text,'==>',ent.label_)"
   ]
  },
  {
   "cell_type": "code",
   "execution_count": null,
   "id": "ec6a0c19",
   "metadata": {},
   "outputs": [],
   "source": [
    "displacy.render(doc3,style='ent')"
   ]
  },
  {
   "cell_type": "code",
   "execution_count": null,
   "id": "76e44892",
   "metadata": {},
   "outputs": [],
   "source": [
    "ent_list1=[]\n",
    "for ent in doc3.ents:\n",
    "    ent_list1.append(ent.label_)\n"
   ]
  },
  {
   "cell_type": "code",
   "execution_count": null,
   "id": "b7737617",
   "metadata": {},
   "outputs": [],
   "source": [
    "print(ent_list1)\n",
    "\n",
    "# we want to count the entities"
   ]
  },
  {
   "cell_type": "code",
   "execution_count": null,
   "id": "f1e907b8",
   "metadata": {},
   "outputs": [],
   "source": [
    "from  collections import Counter\n",
    "Counter(ent_list1)\n",
    "\n",
    "# automatic counts else for loop for everything "
   ]
  },
  {
   "cell_type": "markdown",
   "id": "a71ac01a",
   "metadata": {},
   "source": [
    "### Entity most appeared"
   ]
  },
  {
   "cell_type": "code",
   "execution_count": null,
   "id": "c1702a00",
   "metadata": {},
   "outputs": [],
   "source": [
    "most_ent=[]\n",
    "for ent in doc3.ents:\n",
    "    most_ent.append(ent.text)"
   ]
  },
  {
   "cell_type": "code",
   "execution_count": null,
   "id": "807dd193",
   "metadata": {},
   "outputs": [],
   "source": [
    "print(most_ent)"
   ]
  },
  {
   "cell_type": "code",
   "execution_count": null,
   "id": "b9e52764",
   "metadata": {},
   "outputs": [],
   "source": [
    "# Most Common\n",
    "\n",
    "Counter(most_ent).most_common()"
   ]
  },
  {
   "cell_type": "code",
   "execution_count": null,
   "id": "12293673",
   "metadata": {},
   "outputs": [],
   "source": [
    "Counter(most_ent).most_common(10)"
   ]
  },
  {
   "cell_type": "code",
   "execution_count": null,
   "id": "8e5b2b0e",
   "metadata": {},
   "outputs": [],
   "source": [
    "# most apppeared top 10 entity\n",
    "\n",
    "print(len(doc3.ents))"
   ]
  },
  {
   "cell_type": "markdown",
   "id": "a69ade5a",
   "metadata": {},
   "source": [
    "## Exercise "
   ]
  },
  {
   "cell_type": "code",
   "execution_count": null,
   "id": "7ecb48f6",
   "metadata": {},
   "outputs": [],
   "source": [
    "url1='https://en.wikipedia.org/wiki/History_of_India'"
   ]
  },
  {
   "cell_type": "code",
   "execution_count": null,
   "id": "9283ca8d",
   "metadata": {},
   "outputs": [],
   "source": [
    "print(url1)"
   ]
  },
  {
   "cell_type": "code",
   "execution_count": null,
   "id": "55b3b7c5",
   "metadata": {},
   "outputs": [],
   "source": [
    "req1=requests.get(url1)"
   ]
  },
  {
   "cell_type": "code",
   "execution_count": null,
   "id": "e6129e96",
   "metadata": {},
   "outputs": [],
   "source": [
    "req1=req1.text\n",
    "print(req1)"
   ]
  },
  {
   "cell_type": "code",
   "execution_count": null,
   "id": "c04b9271",
   "metadata": {},
   "outputs": [],
   "source": [
    "soup_req=BeautifulSoup(req1)\n",
    "print(soup_req)"
   ]
  },
  {
   "cell_type": "code",
   "execution_count": null,
   "id": "a7b0704e",
   "metadata": {},
   "outputs": [],
   "source": [
    "text1=soup_req.body.text\n",
    "print(text1)"
   ]
  },
  {
   "cell_type": "code",
   "execution_count": null,
   "id": "b5d0deca",
   "metadata": {},
   "outputs": [],
   "source": [
    "doc4=nlp(text1)"
   ]
  },
  {
   "cell_type": "code",
   "execution_count": null,
   "id": "9fd7a09e",
   "metadata": {},
   "outputs": [],
   "source": [
    "doc4"
   ]
  },
  {
   "cell_type": "code",
   "execution_count": null,
   "id": "a79e7104",
   "metadata": {},
   "outputs": [],
   "source": [
    "most_ent1=[]\n",
    "for ent in doc4.ents:\n",
    "    most_ent1.append(ent.text)"
   ]
  },
  {
   "cell_type": "code",
   "execution_count": null,
   "id": "cb5e9cee",
   "metadata": {},
   "outputs": [],
   "source": [
    "print(most_ent1)"
   ]
  },
  {
   "cell_type": "code",
   "execution_count": null,
   "id": "bf7aa80c",
   "metadata": {},
   "outputs": [],
   "source": [
    "Counter(most_ent1).most_common(10)"
   ]
  },
  {
   "cell_type": "code",
   "execution_count": null,
   "id": "bdb766ca",
   "metadata": {},
   "outputs": [],
   "source": []
  }
 ],
 "metadata": {
  "kernelspec": {
   "display_name": "Python 3 (ipykernel)",
   "language": "python",
   "name": "python3"
  },
  "language_info": {
   "codemirror_mode": {
    "name": "ipython",
    "version": 3
   },
   "file_extension": ".py",
   "mimetype": "text/x-python",
   "name": "python",
   "nbconvert_exporter": "python",
   "pygments_lexer": "ipython3",
   "version": "3.9.13"
  }
 },
 "nbformat": 4,
 "nbformat_minor": 5
}
