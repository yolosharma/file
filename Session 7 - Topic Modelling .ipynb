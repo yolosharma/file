{
 "cells": [
  {
   "cell_type": "markdown",
   "id": "cd55df75",
   "metadata": {},
   "source": [
    "# Topic Modelling "
   ]
  },
  {
   "cell_type": "markdown",
   "id": "8999f795",
   "metadata": {},
   "source": [
    "1. Not a supervised Learning - It is an Unsupervised Learning \n",
    "2. Called an instance of Unsupervised Learning\n",
    "3. Based on the observed words, we want to get an idea about the Topics (observed variables) and the their distribution\n",
    "4. In Gaussian as we try to estabhlish the population mean and all, here we try to estimate the probability distribution of the observed topics \n",
    "5. Like clusters labels, we can have Topic labels like Topic 1, Topic 2, etc \n",
    "6. Top method used to estimate this is called the LDA - Latent Dirichlet Allocation\n",
    "7. Latent - we want to estimate the topic from the observed data \n",
    "8. Dirichlet - It is a distribution, it is assumed that the topics follow a dirichlet distribution \n",
    "9. Allocation - Based on the observed words, it tries to estimate the topics (clusters) to which it belongs to, just like allocating the data points to the respective clusters \n",
    "\n",
    "\n",
    "TOPIC CLASSIFICATION - SUPERVISED LEARNING\n",
    "\n",
    "TOPIC MODELLING - UNSUPERVISED LEARNING "
   ]
  },
  {
   "cell_type": "code",
   "execution_count": 1,
   "id": "cc8f891e",
   "metadata": {},
   "outputs": [
    {
     "name": "stdout",
     "output_type": "stream",
     "text": [
      "Requirement already satisfied: pyLDAvis in c:\\users\\adithya\\anaconda3\\lib\\site-packages (3.3.1)\n",
      "Requirement already satisfied: sklearn in c:\\users\\adithya\\anaconda3\\lib\\site-packages (from pyLDAvis) (0.0.post1)\n",
      "Requirement already satisfied: jinja2 in c:\\users\\adithya\\anaconda3\\lib\\site-packages (from pyLDAvis) (2.11.3)\n",
      "Requirement already satisfied: pandas>=1.2.0 in c:\\users\\adithya\\anaconda3\\lib\\site-packages (from pyLDAvis) (1.4.2)\n",
      "Requirement already satisfied: funcy in c:\\users\\adithya\\anaconda3\\lib\\site-packages (from pyLDAvis) (1.18)\n",
      "Requirement already satisfied: gensim in c:\\users\\adithya\\anaconda3\\lib\\site-packages (from pyLDAvis) (4.1.2)\n",
      "Requirement already satisfied: scikit-learn in c:\\users\\adithya\\anaconda3\\lib\\site-packages (from pyLDAvis) (1.0.2)\n",
      "Requirement already satisfied: setuptools in c:\\users\\adithya\\anaconda3\\lib\\site-packages (from pyLDAvis) (65.6.3)\n",
      "Requirement already satisfied: numpy>=1.20.0 in c:\\users\\adithya\\anaconda3\\lib\\site-packages (from pyLDAvis) (1.21.5)\n",
      "Requirement already satisfied: future in c:\\users\\adithya\\anaconda3\\lib\\site-packages (from pyLDAvis) (0.18.2)\n",
      "Requirement already satisfied: numexpr in c:\\users\\adithya\\anaconda3\\lib\\site-packages (from pyLDAvis) (2.8.1)\n",
      "Requirement already satisfied: scipy in c:\\users\\adithya\\anaconda3\\lib\\site-packages (from pyLDAvis) (1.7.3)\n",
      "Requirement already satisfied: joblib in c:\\users\\adithya\\anaconda3\\lib\\site-packages (from pyLDAvis) (1.1.0)\n",
      "Requirement already satisfied: python-dateutil>=2.8.1 in c:\\users\\adithya\\anaconda3\\lib\\site-packages (from pandas>=1.2.0->pyLDAvis) (2.8.2)\n",
      "Requirement already satisfied: pytz>=2020.1 in c:\\users\\adithya\\anaconda3\\lib\\site-packages (from pandas>=1.2.0->pyLDAvis) (2021.3)\n",
      "Requirement already satisfied: smart-open>=1.8.1 in c:\\users\\adithya\\anaconda3\\lib\\site-packages (from gensim->pyLDAvis) (6.3.0)\n",
      "Requirement already satisfied: MarkupSafe>=0.23 in c:\\users\\adithya\\anaconda3\\lib\\site-packages (from jinja2->pyLDAvis) (2.0.1)\n",
      "Requirement already satisfied: packaging in c:\\users\\adithya\\anaconda3\\lib\\site-packages (from numexpr->pyLDAvis) (21.3)\n",
      "Requirement already satisfied: threadpoolctl>=2.0.0 in c:\\users\\adithya\\anaconda3\\lib\\site-packages (from scikit-learn->pyLDAvis) (2.2.0)\n",
      "Requirement already satisfied: six>=1.5 in c:\\users\\adithya\\anaconda3\\lib\\site-packages (from python-dateutil>=2.8.1->pandas>=1.2.0->pyLDAvis) (1.16.0)\n",
      "Requirement already satisfied: pyparsing!=3.0.5,>=2.0.2 in c:\\users\\adithya\\anaconda3\\lib\\site-packages (from packaging->numexpr->pyLDAvis) (3.0.4)\n"
     ]
    },
    {
     "name": "stderr",
     "output_type": "stream",
     "text": [
      "\n",
      "[notice] A new release of pip available: 22.3.1 -> 23.0\n",
      "[notice] To update, run: python.exe -m pip install --upgrade pip\n"
     ]
    }
   ],
   "source": [
    "! pip install pyLDAvis"
   ]
  },
  {
   "cell_type": "code",
   "execution_count": 2,
   "id": "2e0d2cdd",
   "metadata": {
    "scrolled": true
   },
   "outputs": [],
   "source": [
    "import pyLDAvis"
   ]
  },
  {
   "cell_type": "code",
   "execution_count": 3,
   "id": "6537fd97",
   "metadata": {
    "scrolled": true
   },
   "outputs": [
    {
     "name": "stderr",
     "output_type": "stream",
     "text": [
      "ERROR: Could not find a version that satisfies the requirement pyLDAvis.genism_models (from versions: none)\n",
      "ERROR: No matching distribution found for pyLDAvis.genism_models\n",
      "\n",
      "[notice] A new release of pip available: 22.3.1 -> 23.0\n",
      "[notice] To update, run: python.exe -m pip install --upgrade pip\n"
     ]
    }
   ],
   "source": [
    "! pip install pyLDAvis.genism_models"
   ]
  },
  {
   "cell_type": "code",
   "execution_count": 4,
   "id": "635f3446",
   "metadata": {
    "scrolled": true
   },
   "outputs": [],
   "source": [
    "import pyLDAvis.gensim_models"
   ]
  },
  {
   "cell_type": "code",
   "execution_count": 5,
   "id": "b039cdc0",
   "metadata": {},
   "outputs": [
    {
     "name": "stderr",
     "output_type": "stream",
     "text": [
      "C:\\Users\\Adithya\\Anaconda3\\lib\\site-packages\\scipy\\sparse\\sparsetools.py:21: DeprecationWarning: `scipy.sparse.sparsetools` is deprecated!\n",
      "scipy.sparse.sparsetools is a private module for scipy.sparse, and should not be used.\n",
      "  _deprecated()\n"
     ]
    }
   ],
   "source": [
    "import spacy \n",
    "import gensim "
   ]
  },
  {
   "cell_type": "markdown",
   "id": "ecd1d5fb",
   "metadata": {},
   "source": [
    "## Accessing the texts "
   ]
  },
  {
   "cell_type": "code",
   "execution_count": 6,
   "id": "818af29a",
   "metadata": {},
   "outputs": [],
   "source": [
    "text_1 = '''Amidst continuing global economic uncertainty, India remains a strong performer, and is well positioned to take advantage of the many economic opportunities that the coming years have to offer. GDP growth remains strong at 7 per cent in FY 2023 and is projected to remain above 6 per cent in FY 2024 as well. Tax revenues saw notable growth in the current year, and the Government is confident of reining in the fiscal deficit to below 4.5 per cent by 2025-26.\n",
    "In this backdrop, it comes as no surprise that budget focuses on continuity and stability on many fronts, including taxation.\n",
    "The Government’s ambitious economic agenda focuses on three key aspects- first, to provide opportunities to citizens, second, to provide a strong impetus to growth and job creation and finally, to strengthen macro-economic stability. Among the many priority areas outlined in the budget, agriculture and infrastructure are key. There is a sustained push towards building of digital public infrastructure in agriculture, strengthening credit to farmers and promotion of the cooperative sector.\n",
    "The Government rightly sees infrastructure development as a driver of growth and employment. This is reflected in record capital outlays this year, which saw a 33 per cent increase to reach INR10 lakh crore. There is also a focus on enhancing private investment in this sector. Capital outlays for the railways too has seen a significant increase over the years.\n",
    "Medium, small and micro enterprises (MSMEs) is another important area where the Budget makes strong policy interventions. In addition to enhanced funding for credit guarantees for this sector, the Government also proposes to return 95 per cent of sums forfeited due to non-execution of contracts by MSMEs. A scheme to settle contractual disputes with graded settlement terms is also on the cards.\n",
    "The Budget also reiterated India’s commitment to green growth and to move towards a net-zero carbon emission by 2070. To this end, several measures are envisaged in the Budget including increased funding of energy transition and promotion of energy-efficient coastal shipping.\n",
    "For the financial sector, the Government plans to undertake a comprehensive review of financial sector regulations to simplify and ease compliance. The IFSC framework is sought to be expanded by several policy changes including a single window clearance system, recognition of offshore derivative instruments, enabling of acquisition financing and setting up of data embassies.\n",
    "On the direct tax front, the Budget continued its focus on easing compliance, widening the tax base and rationalisation of various provisions. The new tax regime introduced for individuals in 2020 saw a series of changes designed to make it more attractive for taxpayers, including through a change in the slab rates, rebate and surcharge. Provisions benefitting MSMEs and start-ups were also introduced.\n",
    "Anti-abuse provisions that targeted companies raising capital at high premiums were expanded so as to cover investments by non-residents. This is an important change and could have a bearing on foreign inflows into India.\n",
    "As many countries move to implement the Global Minimum Tax Rules (GLobE), there was an expectation that the Government would provide guidance on India’s adoption of these rules, including through a detailed public consultation process. However, there was no announcement in this regard.\n",
    "As regards indirect taxes, the proposals aim to boost domestic manufacturing, promote exports, and enhance domestic value addition, encouraging green energy and mobility. From a GST perspective, restrictions are placed on Input Tax Credit on activities pertaining to Corporate Social Responsibility obligations as per Companies Act, 2013. Penal provisions are introduced on electronic commerce operators for contravening provisions relating to supply of goods made through them by unregistered persons or composition taxpayers making interstate supplies. The monetary threshold for launching prosecution for offences under the GST law is also increased from INR1 crore to INR2 crore, except for issuance of fake invoices.\n",
    "Decriminalisation of certain provisions in GST law, such as obstructing an officer from discharge of duties, possession of illegally supplied goods, destruction of evidence/documents was also announced in the budget. The Online Information and Database Access or Retrieval services (OIDAR) of IGST Act are also proposed to be amended to remove the condition of rendering of the said supply being essentially automated and involving minimal human intervention.\n",
    "This microsite is your consolidated resource for all Budget related information. Through this platform, KPMG in India’s partners and sector leaders will engage with you and share their views and insights on Union Budget 2023-24.'''"
   ]
  },
  {
   "cell_type": "code",
   "execution_count": 7,
   "id": "4ec239c3",
   "metadata": {},
   "outputs": [
    {
     "data": {
      "text/plain": [
       "'Amidst continuing global economic uncertainty, India remains a strong performer, and is well positioned to take advantage of the many economic opportunities that the coming years have to offer. GDP growth remains strong at 7 per cent in FY 2023 and is projected to remain above 6 per cent in FY 2024 as well. Tax revenues saw notable growth in the current year, and the Government is confident of reining in the fiscal deficit to below 4.5 per cent by 2025-26.\\nIn this backdrop, it comes as no surprise that budget focuses on continuity and stability on many fronts, including taxation.\\nThe Government’s ambitious economic agenda focuses on three key aspects- first, to provide opportunities to citizens, second, to provide a strong impetus to growth and job creation and finally, to strengthen macro-economic stability. Among the many priority areas outlined in the budget, agriculture and infrastructure are key. There is a sustained push towards building of digital public infrastructure in agriculture, strengthening credit to farmers and promotion of the cooperative sector.\\nThe Government rightly sees infrastructure development as a driver of growth and employment. This is reflected in record capital outlays this year, which saw a 33 per cent increase to reach INR10 lakh crore. There is also a focus on enhancing private investment in this sector. Capital outlays for the railways too has seen a significant increase over the years.\\nMedium, small and micro enterprises (MSMEs) is another important area where the Budget makes strong policy interventions. In addition to enhanced funding for credit guarantees for this sector, the Government also proposes to return 95 per cent of sums forfeited due to non-execution of contracts by MSMEs. A scheme to settle contractual disputes with graded settlement terms is also on the cards.\\nThe Budget also reiterated India’s commitment to green growth and to move towards a net-zero carbon emission by 2070. To this end, several measures are envisaged in the Budget including increased funding of energy transition and promotion of energy-efficient coastal shipping.\\nFor the financial sector, the Government plans to undertake a comprehensive review of financial sector regulations to simplify and ease compliance. The IFSC framework is sought to be expanded by several policy changes including a single window clearance system, recognition of offshore derivative instruments, enabling of acquisition financing and setting up of data embassies.\\nOn the direct tax front, the Budget continued its focus on easing compliance, widening the tax base and rationalisation of various provisions. The new tax regime introduced for individuals in 2020 saw a series of changes designed to make it more attractive for taxpayers, including through a change in the slab rates, rebate and surcharge. Provisions benefitting MSMEs and start-ups were also introduced.\\nAnti-abuse provisions that targeted companies raising capital at high premiums were expanded so as to cover investments by non-residents. This is an important change and could have a bearing on foreign inflows into India.\\nAs many countries move to implement the Global Minimum Tax Rules (GLobE), there was an expectation that the Government would provide guidance on India’s adoption of these rules, including through a detailed public consultation process. However, there was no announcement in this regard.\\nAs regards indirect taxes, the proposals aim to boost domestic manufacturing, promote exports, and enhance domestic value addition, encouraging green energy and mobility. From a GST perspective, restrictions are placed on Input Tax Credit on activities pertaining to Corporate Social Responsibility obligations as per Companies Act, 2013. Penal provisions are introduced on electronic commerce operators for contravening provisions relating to supply of goods made through them by unregistered persons or composition taxpayers making interstate supplies. The monetary threshold for launching prosecution for offences under the GST law is also increased from INR1 crore to INR2 crore, except for issuance of fake invoices.\\nDecriminalisation of certain provisions in GST law, such as obstructing an officer from discharge of duties, possession of illegally supplied goods, destruction of evidence/documents was also announced in the budget. The Online Information and Database Access or Retrieval services (OIDAR) of IGST Act are also proposed to be amended to remove the condition of rendering of the said supply being essentially automated and involving minimal human intervention.\\nThis microsite is your consolidated resource for all Budget related information. Through this platform, KPMG in India’s partners and sector leaders will engage with you and share their views and insights on Union Budget 2023-24.'"
      ]
     },
     "execution_count": 7,
     "metadata": {},
     "output_type": "execute_result"
    }
   ],
   "source": [
    "text_1"
   ]
  },
  {
   "cell_type": "code",
   "execution_count": 8,
   "id": "de678dc4",
   "metadata": {},
   "outputs": [],
   "source": [
    "text_2 = '''States and Capitals 2023\n",
    "According to the Jammu and Kashmir Reorganisation Act, 2019, the appointed day for the two Union Territories J&K and Ladakh was October 31. This is for the first time that a state is converted into two Union Territories. The total number of states in the country will now be 28, with effect from 26th January 2020, India has 8 union territories. \n",
    "Countries Capital and Currencies\n",
    "The Union Territories of Daman and Diu, Dadra and Nagar Haveli have become a single union territory since January 26 through a Bill passed by the Parliament in the winter session. With the merger of Daman and Diu, and Dadra and Nagar Haveli, the number of UT’s have come down to eight. The legislatures of three states Himachal Pradesh, Maharashtra and Uttarakhand meet in different capitals for their summer and winter sessions. Ladakh has both Leh and Kargil as its administrative capitals.\n",
    "As students, you should know the complete list of Indian States and capitals so that you can answer general Knowledge questions. Here, we are providing the latest list of Indian States and Capitals in 2023.\n",
    "India is a federal union made up of 28 states and 8 union territories, totalling 36 separate entities. Districts and smaller administrative units are subdivided further inside the states and union territories. Each state in India has its own administrative, legislative, and judicial capital. All three responsibilities, according to some accounts, are carried out in the same capital. Each state is led by a Chief Minister.\n",
    "Union Territories Of India\n",
    "According to The States Reorganization Act 1956, the states of India were organized based on linguistic lines. There are 28 states and 8 Union Territories in India now. India consists of 400 cities altogether. India has eight metropolitan cities and they are Kolkata, Mumbai, New Delhi, Chennai, Hyderabad, Bangalore, Ahmedabad and Pune. The Prime Minister of India planned to develop 100 smart cities in India in the future. Indore bagged continuously 4 times the award of Smart city.... Read more at: https://currentaffairs.adda247.com/states-and-capitals/'''"
   ]
  },
  {
   "cell_type": "code",
   "execution_count": 9,
   "id": "fce76f54",
   "metadata": {},
   "outputs": [
    {
     "data": {
      "text/plain": [
       "'States and Capitals 2023\\nAccording to the Jammu and Kashmir Reorganisation Act, 2019, the appointed day for the two Union Territories J&K and Ladakh was October 31. This is for the first time that a state is converted into two Union Territories. The total number of states in the country will now be 28, with effect from 26th January 2020, India has\\xa08 union territories.\\xa0\\nCountries Capital and Currencies\\nThe Union Territories of Daman and Diu, Dadra and Nagar Haveli have become a single union territory since January 26 through a Bill passed by the Parliament in the winter session. With the merger of\\xa0Daman and Diu, and Dadra and Nagar Haveli, the number of UT’s have come down to eight. The legislatures of three states Himachal Pradesh, Maharashtra and Uttarakhand meet in different capitals for their summer and winter sessions. Ladakh has both Leh and Kargil as its administrative capitals.\\nAs students, you should know the complete list of Indian States and capitals so that you can answer general Knowledge questions. Here, we are providing the latest list of Indian States and Capitals in 2023.\\nIndia is a federal union made up of 28 states and 8 union territories, totalling 36 separate entities. Districts and smaller administrative units are subdivided further inside the states and union territories. Each state in India has its own administrative, legislative, and judicial capital. All three responsibilities, according to some accounts, are carried out in the same capital. Each state is led by a Chief Minister.\\nUnion Territories Of India\\nAccording to The States Reorganization Act 1956, the states of India were organized based on linguistic lines. There are 28 states and 8 Union Territories in India now. India consists of 400 cities altogether. India has eight metropolitan cities and they are Kolkata, Mumbai, New Delhi, Chennai, Hyderabad, Bangalore, Ahmedabad and Pune. The Prime Minister of India planned to develop 100 smart cities in India in the future. Indore bagged continuously 4 times the award of Smart city.... Read more at: https://currentaffairs.adda247.com/states-and-capitals/'"
      ]
     },
     "execution_count": 9,
     "metadata": {},
     "output_type": "execute_result"
    }
   ],
   "source": [
    "text_2"
   ]
  },
  {
   "cell_type": "code",
   "execution_count": 10,
   "id": "46ebea13",
   "metadata": {},
   "outputs": [],
   "source": [
    "text_3 = '''Strong economic growth in the first quarter of FY 2022-23 helped India overcome the UK to become the fifth-largest economy after it recovered from repeated waves of COVID-19 pandemic shock. Real GDP in the first quarter of 2022–23 is currently about 4% higher than its corresponding 2019-20, indicating a strong start for India's recovery from the pandemic. Given the release of pent-up demand and the widespread vaccination coverage, the contact-intensive services sector will probably be the main driver of development in 2022–2023. Rising employment and substantially increasing private consumption, supported by rising consumer sentiment, will support GDP growth in the coming months.\n",
    "Future capital spending of the government in the economy is expected to be supported by factors such as tax buoyancy, the streamlined tax system with low rates, a thorough assessment and rationalisation of the tariff structure, and the digitization of tax filing. In the medium run, increased capital spending on infrastructure and asset-building projects is set to increase growth multipliers, and with the revival in monsoon and the Kharif sowing, agriculture is also picking up momentum. The contact-based services sector has largely demonstrated promise to boost growth by unleashing the pent-up demand over the period of April-September 2022. The sector's success is being captured by a number of HFIs (High-Frequency Indicators) that are performing well, indicating the beginnings of a comeback.\n",
    "India has emerged as the fastest-growing major economy in the world and is expected to be one of the top three economic powers in the world over the next 10-15 years, backed by its robust democracy and strong partnerships.\n",
    "India’s nominal gross domestic product (GDP) at current prices is estimated to be at Rs. 232.15 trillion (US$ 3.12 trillion) in FY22. With more than 100 unicorns valued at US$ 332.7 billion, India has the third-largest unicorn base in the world. The government is also focusing on renewable sources to generate energy and is planning to achieve 40% of its energy from non-fossil sources by 2030.\n",
    "According to the McKinsey Global Institute, India needs to boost its rate of employment growth and create 90 million non-farm jobs between 2023 and 2030 in order to increase productivity and economic growth. The net employment rate needs to grow by 1.5% per annum from 2023 to 2030 to achieve 8-8.5% GDP growth between 2023 and 2030. India's current account deficit (CAD), primarily driven by an increase in the trade deficit, stood at 2.1% of GDP in the first quarter of FY 2022-23.\n",
    "Exports fared remarkably well during the pandemic and aided recovery when all other growth engines were losing steam in terms of their contribution to GDP. Going forward, the contribution of merchandise exports may waver as several of India’s trade partners witness an economic slowdown. According to Mr. Piyush Goyal, Minister of Commerce and Industry, Consumer Affairs, Food and Public Distribution and Textiles, Indian exports are expected to reach US$ 1 trillion by 2030.'''"
   ]
  },
  {
   "cell_type": "code",
   "execution_count": 11,
   "id": "6b464bfe",
   "metadata": {},
   "outputs": [
    {
     "data": {
      "text/plain": [
       "\"Strong economic growth in the first quarter of FY 2022-23 helped India overcome the UK to become the fifth-largest economy after it recovered from repeated waves of COVID-19 pandemic shock. Real GDP in the first quarter of 2022–23 is currently about 4% higher than its corresponding 2019-20, indicating a strong start for India's recovery from the pandemic. Given the release of pent-up demand and the widespread vaccination coverage, the contact-intensive services sector will probably be the main driver of development in 2022–2023. Rising employment and substantially increasing private consumption, supported by rising consumer sentiment, will support GDP growth in the coming months.\\nFuture capital spending of the government in the economy is expected to be supported by factors such as tax buoyancy, the streamlined tax system with low rates, a thorough assessment and rationalisation of the tariff structure, and the digitization of tax filing. In the medium run, increased capital spending on infrastructure and asset-building projects is set to increase growth multipliers, and with the revival in monsoon and the Kharif sowing, agriculture is also picking up momentum. The contact-based services sector has largely demonstrated promise to boost growth by unleashing the pent-up demand over the period of April-September 2022. The sector's success is being captured by a number of HFIs (High-Frequency Indicators) that are performing well, indicating the beginnings of a comeback.\\nIndia has emerged as the fastest-growing major economy in the world and is expected to be one of the top three economic powers in the world over the next 10-15 years, backed by its robust democracy and strong partnerships.\\nIndia’s nominal gross domestic product (GDP) at current prices is estimated to be at Rs. 232.15 trillion (US$ 3.12 trillion) in FY22. With more than 100 unicorns valued at US$ 332.7 billion, India has the third-largest unicorn base in the world. The government is also focusing on renewable sources to generate energy and is planning to achieve 40% of its energy from non-fossil sources by 2030.\\nAccording to the McKinsey Global Institute, India needs to boost its rate of employment growth and create 90 million non-farm jobs between 2023 and 2030 in order to increase productivity and economic growth. The net employment rate needs to grow by 1.5% per annum from 2023 to 2030 to achieve 8-8.5% GDP growth between 2023 and 2030. India's current account deficit (CAD), primarily driven by an increase in the trade deficit, stood at 2.1% of GDP in the first quarter of FY 2022-23.\\nExports fared remarkably well during the pandemic and aided recovery when all other growth engines were losing steam in terms of their contribution to GDP. Going forward, the contribution of merchandise exports may waver as several of India’s trade partners witness an economic slowdown. According to Mr. Piyush Goyal, Minister of Commerce and Industry, Consumer Affairs, Food and Public Distribution and Textiles, Indian exports are expected to reach US$ 1 trillion by 2030.\""
      ]
     },
     "execution_count": 11,
     "metadata": {},
     "output_type": "execute_result"
    }
   ],
   "source": [
    "text_3"
   ]
  },
  {
   "cell_type": "code",
   "execution_count": 12,
   "id": "3b8a272c",
   "metadata": {},
   "outputs": [],
   "source": [
    "texts = [text_1,text_2,text_3]"
   ]
  },
  {
   "cell_type": "code",
   "execution_count": 13,
   "id": "ac252427",
   "metadata": {},
   "outputs": [
    {
     "name": "stdout",
     "output_type": "stream",
     "text": [
      "['Amidst continuing global economic uncertainty, India remains a strong performer, and is well positioned to take advantage of the many economic opportunities that the coming years have to offer. GDP growth remains strong at 7 per cent in FY 2023 and is projected to remain above 6 per cent in FY 2024 as well. Tax revenues saw notable growth in the current year, and the Government is confident of reining in the fiscal deficit to below 4.5 per cent by 2025-26.\\nIn this backdrop, it comes as no surprise that budget focuses on continuity and stability on many fronts, including taxation.\\nThe Government’s ambitious economic agenda focuses on three key aspects- first, to provide opportunities to citizens, second, to provide a strong impetus to growth and job creation and finally, to strengthen macro-economic stability. Among the many priority areas outlined in the budget, agriculture and infrastructure are key. There is a sustained push towards building of digital public infrastructure in agriculture, strengthening credit to farmers and promotion of the cooperative sector.\\nThe Government rightly sees infrastructure development as a driver of growth and employment. This is reflected in record capital outlays this year, which saw a 33 per cent increase to reach INR10 lakh crore. There is also a focus on enhancing private investment in this sector. Capital outlays for the railways too has seen a significant increase over the years.\\nMedium, small and micro enterprises (MSMEs) is another important area where the Budget makes strong policy interventions. In addition to enhanced funding for credit guarantees for this sector, the Government also proposes to return 95 per cent of sums forfeited due to non-execution of contracts by MSMEs. A scheme to settle contractual disputes with graded settlement terms is also on the cards.\\nThe Budget also reiterated India’s commitment to green growth and to move towards a net-zero carbon emission by 2070. To this end, several measures are envisaged in the Budget including increased funding of energy transition and promotion of energy-efficient coastal shipping.\\nFor the financial sector, the Government plans to undertake a comprehensive review of financial sector regulations to simplify and ease compliance. The IFSC framework is sought to be expanded by several policy changes including a single window clearance system, recognition of offshore derivative instruments, enabling of acquisition financing and setting up of data embassies.\\nOn the direct tax front, the Budget continued its focus on easing compliance, widening the tax base and rationalisation of various provisions. The new tax regime introduced for individuals in 2020 saw a series of changes designed to make it more attractive for taxpayers, including through a change in the slab rates, rebate and surcharge. Provisions benefitting MSMEs and start-ups were also introduced.\\nAnti-abuse provisions that targeted companies raising capital at high premiums were expanded so as to cover investments by non-residents. This is an important change and could have a bearing on foreign inflows into India.\\nAs many countries move to implement the Global Minimum Tax Rules (GLobE), there was an expectation that the Government would provide guidance on India’s adoption of these rules, including through a detailed public consultation process. However, there was no announcement in this regard.\\nAs regards indirect taxes, the proposals aim to boost domestic manufacturing, promote exports, and enhance domestic value addition, encouraging green energy and mobility. From a GST perspective, restrictions are placed on Input Tax Credit on activities pertaining to Corporate Social Responsibility obligations as per Companies Act, 2013. Penal provisions are introduced on electronic commerce operators for contravening provisions relating to supply of goods made through them by unregistered persons or composition taxpayers making interstate supplies. The monetary threshold for launching prosecution for offences under the GST law is also increased from INR1 crore to INR2 crore, except for issuance of fake invoices.\\nDecriminalisation of certain provisions in GST law, such as obstructing an officer from discharge of duties, possession of illegally supplied goods, destruction of evidence/documents was also announced in the budget. The Online Information and Database Access or Retrieval services (OIDAR) of IGST Act are also proposed to be amended to remove the condition of rendering of the said supply being essentially automated and involving minimal human intervention.\\nThis microsite is your consolidated resource for all Budget related information. Through this platform, KPMG in India’s partners and sector leaders will engage with you and share their views and insights on Union Budget 2023-24.', 'States and Capitals 2023\\nAccording to the Jammu and Kashmir Reorganisation Act, 2019, the appointed day for the two Union Territories J&K and Ladakh was October 31. This is for the first time that a state is converted into two Union Territories. The total number of states in the country will now be 28, with effect from 26th January 2020, India has\\xa08 union territories.\\xa0\\nCountries Capital and Currencies\\nThe Union Territories of Daman and Diu, Dadra and Nagar Haveli have become a single union territory since January 26 through a Bill passed by the Parliament in the winter session. With the merger of\\xa0Daman and Diu, and Dadra and Nagar Haveli, the number of UT’s have come down to eight. The legislatures of three states Himachal Pradesh, Maharashtra and Uttarakhand meet in different capitals for their summer and winter sessions. Ladakh has both Leh and Kargil as its administrative capitals.\\nAs students, you should know the complete list of Indian States and capitals so that you can answer general Knowledge questions. Here, we are providing the latest list of Indian States and Capitals in 2023.\\nIndia is a federal union made up of 28 states and 8 union territories, totalling 36 separate entities. Districts and smaller administrative units are subdivided further inside the states and union territories. Each state in India has its own administrative, legislative, and judicial capital. All three responsibilities, according to some accounts, are carried out in the same capital. Each state is led by a Chief Minister.\\nUnion Territories Of India\\nAccording to The States Reorganization Act 1956, the states of India were organized based on linguistic lines. There are 28 states and 8 Union Territories in India now. India consists of 400 cities altogether. India has eight metropolitan cities and they are Kolkata, Mumbai, New Delhi, Chennai, Hyderabad, Bangalore, Ahmedabad and Pune. The Prime Minister of India planned to develop 100 smart cities in India in the future. Indore bagged continuously 4 times the award of Smart city.... Read more at: https://currentaffairs.adda247.com/states-and-capitals/', \"Strong economic growth in the first quarter of FY 2022-23 helped India overcome the UK to become the fifth-largest economy after it recovered from repeated waves of COVID-19 pandemic shock. Real GDP in the first quarter of 2022–23 is currently about 4% higher than its corresponding 2019-20, indicating a strong start for India's recovery from the pandemic. Given the release of pent-up demand and the widespread vaccination coverage, the contact-intensive services sector will probably be the main driver of development in 2022–2023. Rising employment and substantially increasing private consumption, supported by rising consumer sentiment, will support GDP growth in the coming months.\\nFuture capital spending of the government in the economy is expected to be supported by factors such as tax buoyancy, the streamlined tax system with low rates, a thorough assessment and rationalisation of the tariff structure, and the digitization of tax filing. In the medium run, increased capital spending on infrastructure and asset-building projects is set to increase growth multipliers, and with the revival in monsoon and the Kharif sowing, agriculture is also picking up momentum. The contact-based services sector has largely demonstrated promise to boost growth by unleashing the pent-up demand over the period of April-September 2022. The sector's success is being captured by a number of HFIs (High-Frequency Indicators) that are performing well, indicating the beginnings of a comeback.\\nIndia has emerged as the fastest-growing major economy in the world and is expected to be one of the top three economic powers in the world over the next 10-15 years, backed by its robust democracy and strong partnerships.\\nIndia’s nominal gross domestic product (GDP) at current prices is estimated to be at Rs. 232.15 trillion (US$ 3.12 trillion) in FY22. With more than 100 unicorns valued at US$ 332.7 billion, India has the third-largest unicorn base in the world. The government is also focusing on renewable sources to generate energy and is planning to achieve 40% of its energy from non-fossil sources by 2030.\\nAccording to the McKinsey Global Institute, India needs to boost its rate of employment growth and create 90 million non-farm jobs between 2023 and 2030 in order to increase productivity and economic growth. The net employment rate needs to grow by 1.5% per annum from 2023 to 2030 to achieve 8-8.5% GDP growth between 2023 and 2030. India's current account deficit (CAD), primarily driven by an increase in the trade deficit, stood at 2.1% of GDP in the first quarter of FY 2022-23.\\nExports fared remarkably well during the pandemic and aided recovery when all other growth engines were losing steam in terms of their contribution to GDP. Going forward, the contribution of merchandise exports may waver as several of India’s trade partners witness an economic slowdown. According to Mr. Piyush Goyal, Minister of Commerce and Industry, Consumer Affairs, Food and Public Distribution and Textiles, Indian exports are expected to reach US$ 1 trillion by 2030.\"]\n"
     ]
    }
   ],
   "source": [
    "print(texts)"
   ]
  },
  {
   "cell_type": "code",
   "execution_count": 14,
   "id": "917f2daf",
   "metadata": {},
   "outputs": [],
   "source": [
    "nlp = spacy.load('en_core_web_sm')"
   ]
  },
  {
   "cell_type": "markdown",
   "id": "aef36ecc",
   "metadata": {},
   "source": [
    "## Create a word list "
   ]
  },
  {
   "cell_type": "code",
   "execution_count": 15,
   "id": "91d61cce",
   "metadata": {},
   "outputs": [],
   "source": [
    "words_list = []\n",
    "for text in texts:\n",
    "    text_words = []\n",
    "    doc = nlp(text)\n",
    "    for token in doc:\n",
    "        if token.is_stop == False and token.is_punct == False and token.text != '\\n' and token.like_num == False:\n",
    "            text_words.append(token.lemma_) # as we want the root word of each word in the text\n",
    "    words_list.append(text_words)"
   ]
  },
  {
   "cell_type": "code",
   "execution_count": 16,
   "id": "9d7c515d",
   "metadata": {},
   "outputs": [
    {
     "name": "stdout",
     "output_type": "stream",
     "text": [
      "[['amidst', 'continue', 'global', 'economic', 'uncertainty', 'India', 'remain', 'strong', 'performer', 'positioned', 'advantage', 'economic', 'opportunity', 'come', 'year', 'offer', 'GDP', 'growth', 'remain', 'strong', 'cent', 'FY', 'project', 'remain', 'cent', 'FY', 'tax', 'revenue', 'see', 'notable', 'growth', 'current', 'year', 'Government', 'confident', 'rein', 'fiscal', 'deficit', 'cent', 'backdrop', 'come', 'surprise', 'budget', 'focus', 'continuity', 'stability', 'front', 'include', 'taxation', 'Government', 'ambitious', 'economic', 'agenda', 'focus', 'key', 'aspects-', 'provide', 'opportunity', 'citizen', 'provide', 'strong', 'impetus', 'growth', 'job', 'creation', 'finally', 'strengthen', 'macro', 'economic', 'stability', 'priority', 'area', 'outline', 'budget', 'agriculture', 'infrastructure', 'key', 'sustained', 'push', 'building', 'digital', 'public', 'infrastructure', 'agriculture', 'strengthen', 'credit', 'farmer', 'promotion', 'cooperative', 'sector', 'Government', 'rightly', 'see', 'infrastructure', 'development', 'driver', 'growth', 'employment', 'reflect', 'record', 'capital', 'outlay', 'year', 'see', 'cent', 'increase', 'reach', 'INR10', 'lakh', 'crore', 'focus', 'enhance', 'private', 'investment', 'sector', 'capital', 'outlay', 'railway', 'see', 'significant', 'increase', 'year', 'Medium', 'small', 'micro', 'enterprise', 'msme', 'important', 'area', 'Budget', 'make', 'strong', 'policy', 'intervention', 'addition', 'enhance', 'funding', 'credit', 'guarantee', 'sector', 'Government', 'propose', 'return', 'cent', 'sum', 'forfeit', 'non', 'execution', 'contract', 'msme', 'scheme', 'settle', 'contractual', 'dispute', 'grade', 'settlement', 'term', 'card', 'Budget', 'reiterate', 'India', 'commitment', 'green', 'growth', 'net', 'carbon', 'emission', 'end', 'measure', 'envisage', 'Budget', 'include', 'increase', 'funding', 'energy', 'transition', 'promotion', 'energy', 'efficient', 'coastal', 'shipping', 'financial', 'sector', 'Government', 'plan', 'undertake', 'comprehensive', 'review', 'financial', 'sector', 'regulation', 'simplify', 'ease', 'compliance', 'IFSC', 'framework', 'seek', 'expand', 'policy', 'change', 'include', 'single', 'window', 'clearance', 'system', 'recognition', 'offshore', 'derivative', 'instrument', 'enable', 'acquisition', 'financing', 'set', 'data', 'embassy', 'direct', 'tax', 'Budget', 'continue', 'focus', 'ease', 'compliance', 'widen', 'tax', 'base', 'rationalisation', 'provision', 'new', 'tax', 'regime', 'introduce', 'individual', 'see', 'series', 'change', 'design', 'attractive', 'taxpayer', 'include', 'change', 'slab', 'rate', 'rebate', 'surcharge', 'provision', 'benefit', 'msme', 'start', 'up', 'introduce', 'anti', 'abuse', 'provision', 'target', 'company', 'raise', 'capital', 'high', 'premium', 'expand', 'cover', 'investment', 'non', 'resident', 'important', 'change', 'bearing', 'foreign', 'inflow', 'India', 'country', 'implement', 'Global', 'Minimum', 'Tax', 'Rules', 'GLobE', 'expectation', 'Government', 'provide', 'guidance', 'India', 'adoption', 'rule', 'include', 'detailed', 'public', 'consultation', 'process', 'announcement', 'regard', 'regard', 'indirect', 'taxis', 'proposal', 'aim', 'boost', 'domestic', 'manufacturing', 'promote', 'export', 'enhance', 'domestic', 'value', 'addition', 'encourage', 'green', 'energy', 'mobility', 'GST', 'perspective', 'restriction', 'place', 'Input', 'Tax', 'Credit', 'activity', 'pertain', 'Corporate', 'Social', 'Responsibility', 'obligation', 'Companies', 'Act', 'penal', 'provision', 'introduce', 'electronic', 'commerce', 'operator', 'contravene', 'provision', 'relate', 'supply', 'good', 'unregistered', 'person', 'composition', 'taxpayer', 'make', 'interstate', 'supply', 'monetary', 'threshold', 'launch', 'prosecution', 'offence', 'GST', 'law', 'increase', 'INR1', 'crore', 'INR2', 'crore', 'issuance', 'fake', 'invoice', 'decriminalisation', 'certain', 'provision', 'GST', 'law', 'obstruct', 'officer', 'discharge', 'duty', 'possession', 'illegally', 'supply', 'good', 'destruction', 'evidence', 'document', 'announce', 'budget', 'Online', 'Information', 'Database', 'Access', 'Retrieval', 'service', 'OIDAR', 'IGST', 'Act', 'propose', 'amend', 'remove', 'condition', 'rendering', 'say', 'supply', 'essentially', 'automate', 'involve', 'minimal', 'human', 'intervention', 'microsite', 'consolidated', 'resource', 'Budget', 'related', 'information', 'platform', 'KPMG', 'India', 'partner', 'sector', 'leader', 'engage', 'share', 'view', 'insight', 'Union', 'Budget'], ['States', 'Capitals', 'accord', 'Jammu', 'Kashmir', 'Reorganisation', 'Act', 'appoint', 'day', 'Union', 'Territories', 'J&K', 'Ladakh', 'October', 'time', 'state', 'convert', 'Union', 'Territories', 'total', 'number', 'state', 'country', 'effect', 'January', 'India', '\\xa0', 'union', 'territory', '\\xa0\\n', 'Countries', 'Capital', 'Currencies', 'Union', 'Territories', 'Daman', 'Diu', 'Dadra', 'Nagar', 'Haveli', 'single', 'union', 'territory', 'January', 'Bill', 'pass', 'Parliament', 'winter', 'session', 'merger', '\\xa0', 'Daman', 'Diu', 'Dadra', 'Nagar', 'Haveli', 'number', 'UT', 'come', 'legislature', 'state', 'Himachal', 'Pradesh', 'Maharashtra', 'Uttarakhand', 'meet', 'different', 'capital', 'summer', 'winter', 'session', 'ladakh', 'Leh', 'Kargil', 'administrative', 'capital', 'student', 'know', 'complete', 'list', 'Indian', 'States', 'capital', 'answer', 'general', 'Knowledge', 'question', 'provide', 'late', 'list', 'Indian', 'States', 'Capitals', 'India', 'federal', 'union', 'state', 'union', 'territory', 'total', 'separate', 'entity', 'district', 'small', 'administrative', 'unit', 'subdivide', 'inside', 'state', 'union', 'territory', 'state', 'India', 'administrative', 'legislative', 'judicial', 'capital', 'responsibility', 'accord', 'account', 'carry', 'capital', 'state', 'lead', 'Chief', 'Minister', 'Union', 'Territories', 'India', 'accord', 'States', 'Reorganization', 'Act', 'state', 'India', 'organize', 'base', 'linguistic', 'line', 'state', 'Union', 'Territories', 'India', 'India', 'consist', 'city', 'altogether', 'India', 'metropolitan', 'city', 'Kolkata', 'Mumbai', 'New', 'Delhi', 'Chennai', 'Hyderabad', 'Bangalore', 'Ahmedabad', 'Pune', 'Prime', 'Minister', 'India', 'plan', 'develop', 'smart', 'city', 'India', 'future', 'indore', 'bag', 'continuously', 'time', 'award', 'Smart', 'city', 'read', 'https://currentaffairs.adda247.com/states-and-capitals/'], ['strong', 'economic', 'growth', 'quarter', 'FY', 'help', 'India', 'overcome', 'UK', 'large', 'economy', 'recover', 'repeat', 'wave', 'covid-19', 'pandemic', 'shock', 'real', 'GDP', 'quarter', '2022–23', 'currently', 'high', 'corresponding', 'indicate', 'strong', 'start', 'India', 'recovery', 'pandemic', 'give', 'release', 'pen', 'demand', 'widespread', 'vaccination', 'coverage', 'contact', 'intensive', 'service', 'sector', 'probably', 'main', 'driver', 'development', '2022–2023', 'rise', 'employment', 'substantially', 'increase', 'private', 'consumption', 'support', 'rise', 'consumer', 'sentiment', 'support', 'GDP', 'growth', 'come', 'month', 'future', 'capital', 'spending', 'government', 'economy', 'expect', 'support', 'factor', 'tax', 'buoyancy', 'streamlined', 'tax', 'system', 'low', 'rate', 'thorough', 'assessment', 'rationalisation', 'tariff', 'structure', 'digitization', 'tax', 'filing', 'medium', 'run', 'increase', 'capital', 'spending', 'infrastructure', 'asset', 'building', 'project', 'set', 'increase', 'growth', 'multiplier', 'revival', 'monsoon', 'Kharif', 'sowing', 'agriculture', 'pick', 'momentum', 'contact', 'base', 'service', 'sector', 'largely', 'demonstrate', 'promise', 'boost', 'growth', 'unleash', 'pen', 'demand', 'period', 'April', 'September', 'sector', 'success', 'capture', 'number', 'hfi', 'high', 'Frequency', 'Indicators', 'perform', 'indicate', 'beginning', 'comeback', 'India', 'emerge', 'fast', 'grow', 'major', 'economy', 'world', 'expect', 'economic', 'power', 'world', 'year', 'back', 'robust', 'democracy', 'strong', 'partnership', 'India', 'nominal', 'gross', 'domestic', 'product', 'GDP', 'current', 'price', 'estimate', 'r', 'us$', 'FY22', 'unicorn', 'value', 'us$', 'India', 'large', 'unicorn', 'base', 'world', 'government', 'focus', 'renewable', 'source', 'generate', 'energy', 'plan', 'achieve', 'energy', 'non', 'fossil', 'source', 'accord', 'McKinsey', 'Global', 'Institute', 'India', 'need', 'boost', 'rate', 'employment', 'growth', 'create', 'non', 'farm', 'job', 'order', 'increase', 'productivity', 'economic', 'growth', 'net', 'employment', 'rate', 'need', 'grow', 'annum', 'achieve', 'GDP', 'growth', 'India', 'current', 'account', 'deficit', 'CAD', 'primarily', 'drive', 'increase', 'trade', 'deficit', 'stand', 'GDP', 'quarter', 'FY', 'export', 'fare', 'remarkably', 'pandemic', 'aid', 'recovery', 'growth', 'engine', 'lose', 'steam', 'term', 'contribution', 'GDP', 'go', 'forward', 'contribution', 'merchandise', 'export', 'waver', 'India', 'trade', 'partner', 'witness', 'economic', 'slowdown', 'accord', 'Mr.', 'Piyush', 'Goyal', 'Minister', 'Commerce', 'Industry', 'Consumer', 'Affairs', 'Food', 'Public', 'Distribution', 'Textiles', 'indian', 'export', 'expect', 'reach', 'us$']]\n"
     ]
    }
   ],
   "source": [
    "print(words_list)"
   ]
  },
  {
   "cell_type": "code",
   "execution_count": 17,
   "id": "8006af8b",
   "metadata": {},
   "outputs": [
    {
     "name": "stdout",
     "output_type": "stream",
     "text": [
      "3\n"
     ]
    }
   ],
   "source": [
    "print(len(words_list))"
   ]
  },
  {
   "cell_type": "code",
   "execution_count": 18,
   "id": "42bcd2c1",
   "metadata": {
    "scrolled": true
   },
   "outputs": [
    {
     "name": "stdout",
     "output_type": "stream",
     "text": [
      "415 177 265\n"
     ]
    }
   ],
   "source": [
    "print(len(words_list[0]), len(words_list[1]), len(words_list[2]))"
   ]
  },
  {
   "cell_type": "markdown",
   "id": "cc98abc7",
   "metadata": {},
   "source": [
    "## Create a corpus "
   ]
  },
  {
   "cell_type": "code",
   "execution_count": 19,
   "id": "51f71728",
   "metadata": {},
   "outputs": [],
   "source": [
    "# for this we use the gensim library and use Dictionary "
   ]
  },
  {
   "cell_type": "code",
   "execution_count": 20,
   "id": "0a5ce29e",
   "metadata": {},
   "outputs": [],
   "source": [
    "from gensim.corpora import Dictionary"
   ]
  },
  {
   "cell_type": "code",
   "execution_count": 21,
   "id": "7dbc2cf7",
   "metadata": {},
   "outputs": [],
   "source": [
    "dict = Dictionary(words_list)"
   ]
  },
  {
   "cell_type": "code",
   "execution_count": 22,
   "id": "cd28cf72",
   "metadata": {},
   "outputs": [
    {
     "data": {
      "text/plain": [
       "gensim.corpora.dictionary.Dictionary"
      ]
     },
     "execution_count": 22,
     "metadata": {},
     "output_type": "execute_result"
    }
   ],
   "source": [
    "type(dict)"
   ]
  },
  {
   "cell_type": "code",
   "execution_count": 23,
   "id": "58a700ac",
   "metadata": {},
   "outputs": [],
   "source": [
    "# Now we have created the dictionary "
   ]
  },
  {
   "cell_type": "code",
   "execution_count": 24,
   "id": "0cbd1b19",
   "metadata": {},
   "outputs": [],
   "source": [
    "# We need to create the corpus (Bag of words representation) for each list"
   ]
  },
  {
   "cell_type": "code",
   "execution_count": 25,
   "id": "a1066321",
   "metadata": {},
   "outputs": [],
   "source": [
    "corpus = []\n",
    "for word in words_list:\n",
    "    corpus.append(dict.doc2bow(word)) # bow - bag of words\n",
    "\n",
    "# We are converting each word to bag of words"
   ]
  },
  {
   "cell_type": "code",
   "execution_count": 26,
   "id": "97697d84",
   "metadata": {},
   "outputs": [
    {
     "name": "stdout",
     "output_type": "stream",
     "text": [
      "[[(0, 1), (1, 2), (2, 6), (3, 1), (4, 1), (5, 1), (6, 1), (7, 2), (8, 1), (9, 1), (10, 3), (11, 1), (12, 6), (13, 1), (14, 1), (15, 1), (16, 1), (17, 1), (18, 5), (19, 1), (20, 1), (21, 1), (22, 1), (23, 1), (24, 1), (25, 1), (26, 1), (27, 1), (28, 1), (29, 1), (30, 2), (31, 1), (32, 1), (33, 1), (34, 1), (35, 2), (36, 1), (37, 1), (38, 1), (39, 2), (40, 1), (41, 1), (42, 1), (43, 1), (44, 1), (45, 1), (46, 1), (47, 2), (48, 1), (49, 1), (50, 1), (51, 1), (52, 1), (53, 1), (54, 1), (55, 1), (56, 3), (57, 1), (58, 3), (59, 1), (60, 1), (61, 5), (62, 1), (63, 4), (64, 1), (65, 1), (66, 1), (67, 2), (68, 1), (69, 1), (70, 1), (71, 2), (72, 1), (73, 1), (74, 1), (75, 1), (76, 1), (77, 1), (78, 2), (79, 1), (80, 1), (81, 1), (82, 1), (83, 1), (84, 1), (85, 1), (86, 1), (87, 2), (88, 3), (89, 1), (90, 1), (91, 1), (92, 1), (93, 1), (94, 1), (95, 1), (96, 1), (97, 1), (98, 1), (99, 1), (100, 1), (101, 1), (102, 1), (103, 2), (104, 1), (105, 1), (106, 2), (107, 4), (108, 1), (109, 1), (110, 1), (111, 1), (112, 1), (113, 1), (114, 1), (115, 1), (116, 3), (117, 1), (118, 3), (119, 1), (120, 1), (121, 1), (122, 1), (123, 1), (124, 2), (125, 1), (126, 1), (127, 1), (128, 1), (129, 1), (130, 2), (131, 1), (132, 1), (133, 4), (134, 1), (135, 1), (136, 1), (137, 1), (138, 2), (139, 1), (140, 2), (141, 1), (142, 2), (143, 5), (144, 1), (145, 1), (146, 1), (147, 1), (148, 1), (149, 1), (150, 1), (151, 2), (152, 5), (153, 4), (154, 1), (155, 1), (156, 1), (157, 1), (158, 3), (159, 1), (160, 1), (161, 1), (162, 2), (163, 3), (164, 2), (165, 1), (166, 1), (167, 1), (168, 1), (169, 2), (170, 1), (171, 1), (172, 2), (173, 1), (174, 1), (175, 2), (176, 1), (177, 1), (178, 1), (179, 1), (180, 1), (181, 1), (182, 1), (183, 3), (184, 1), (185, 1), (186, 2), (187, 1), (188, 1), (189, 1), (190, 1), (191, 1), (192, 1), (193, 1), (194, 1), (195, 2), (196, 2), (197, 1), (198, 1), (199, 1), (200, 1), (201, 1), (202, 1), (203, 1), (204, 1), (205, 1), (206, 1), (207, 2), (208, 1), (209, 1), (210, 1), (211, 1), (212, 1), (213, 1), (214, 1), (215, 1), (216, 2), (217, 1), (218, 2), (219, 1), (220, 3), (221, 6), (222, 2), (223, 1), (224, 1), (225, 1), (226, 1), (227, 1), (228, 1), (229, 1), (230, 1), (231, 1), (232, 1), (233, 2), (234, 1), (235, 1), (236, 1), (237, 1), (238, 1), (239, 1), (240, 3), (241, 1), (242, 1), (243, 1), (244, 1), (245, 1), (246, 1), (247, 1), (248, 1), (249, 1), (250, 1), (251, 1), (252, 1), (253, 6), (254, 5), (255, 1), (256, 1), (257, 1), (258, 1), (259, 1), (260, 1), (261, 1), (262, 1), (263, 1), (264, 1), (265, 1), (266, 1), (267, 1), (268, 2), (269, 1), (270, 2), (271, 4), (272, 1), (273, 4), (274, 1), (275, 1), (276, 1), (277, 1), (278, 1), (279, 4), (280, 1), (281, 1), (282, 2), (283, 1), (284, 1), (285, 1), (286, 1), (287, 1), (288, 1), (289, 1), (290, 1), (291, 1), (292, 1), (293, 1), (294, 4)], [(1, 2), (18, 10), (31, 5), (52, 1), (58, 5), (67, 1), (84, 1), (205, 1), (220, 1), (265, 1), (267, 1), (295, 1), (296, 1), (297, 1), (298, 1), (299, 2), (300, 1), (301, 1), (302, 1), (303, 1), (304, 2), (305, 2), (306, 1), (307, 2), (308, 2), (309, 1), (310, 1), (311, 2), (312, 1), (313, 1), (314, 2), (315, 1), (316, 1), (317, 1), (318, 1), (319, 1), (320, 1), (321, 1), (322, 2), (323, 1), (324, 2), (325, 1), (326, 1), (327, 1), (328, 1), (329, 1), (330, 1), (331, 1), (332, 1), (333, 1), (334, 4), (335, 5), (336, 1), (337, 1), (338, 3), (339, 1), (340, 3), (341, 1), (342, 1), (343, 1), (344, 1), (345, 1), (346, 1), (347, 4), (348, 1), (349, 1), (350, 1), (351, 1), (352, 1), (353, 1), (354, 1), (355, 1), (356, 1), (357, 1), (358, 1), (359, 1), (360, 1), (361, 1), (362, 1), (363, 1), (364, 1), (365, 1), (366, 1), (367, 1), (368, 1), (369, 1), (370, 1), (371, 1), (372, 1), (373, 2), (374, 1), (375, 1), (376, 1), (377, 2), (378, 1), (379, 1), (380, 1), (381, 1), (382, 1), (383, 1), (384, 2), (385, 1), (386, 9), (387, 1), (388, 1), (389, 1), (390, 4), (391, 2), (392, 2), (393, 5), (394, 1), (395, 2), (396, 2), (397, 1)], [(7, 2), (8, 6), (11, 1), (18, 8), (39, 1), (52, 2), (55, 2), (57, 1), (58, 2), (67, 1), (89, 2), (92, 2), (97, 1), (103, 1), (104, 1), (107, 4), (112, 3), (116, 2), (126, 3), (133, 1), (143, 8), (146, 2), (153, 5), (158, 1), (168, 1), (184, 1), (186, 2), (198, 1), (205, 1), (212, 1), (214, 1), (226, 3), (227, 1), (228, 1), (253, 3), (257, 2), (258, 1), (269, 1), (271, 3), (277, 1), (279, 3), (283, 1), (290, 1), (294, 1), (322, 1), (338, 2), (339, 1), (359, 1), (377, 1), (398, 1), (399, 1), (400, 1), (401, 1), (402, 1), (403, 1), (404, 1), (405, 1), (406, 1), (407, 1), (408, 1), (409, 1), (410, 1), (411, 1), (412, 1), (413, 1), (414, 1), (415, 1), (416, 1), (417, 1), (418, 1), (419, 1), (420, 1), (421, 2), (422, 1), (423, 1), (424, 1), (425, 1), (426, 1), (427, 1), (428, 1), (429, 1), (430, 1), (431, 1), (432, 1), (433, 2), (434, 2), (435, 1), (436, 1), (437, 1), (438, 1), (439, 1), (440, 2), (441, 1), (442, 1), (443, 1), (444, 1), (445, 3), (446, 1), (447, 1), (448, 1), (449, 3), (450, 1), (451, 1), (452, 1), (453, 1), (454, 1), (455, 1), (456, 1), (457, 1), (458, 1), (459, 1), (460, 2), (461, 1), (462, 2), (463, 1), (464, 1), (465, 1), (466, 2), (467, 1), (468, 2), (469, 1), (470, 1), (471, 1), (472, 1), (473, 1), (474, 1), (475, 1), (476, 1), (477, 1), (478, 1), (479, 1), (480, 2), (481, 1), (482, 1), (483, 1), (484, 3), (485, 1), (486, 2), (487, 1), (488, 1), (489, 1), (490, 1), (491, 1), (492, 1), (493, 1), (494, 1), (495, 1), (496, 1), (497, 3), (498, 1), (499, 1), (500, 1), (501, 2), (502, 1), (503, 1), (504, 1), (505, 1), (506, 1), (507, 2), (508, 1), (509, 1), (510, 1), (511, 1), (512, 1), (513, 2), (514, 1), (515, 2), (516, 1), (517, 1), (518, 1), (519, 1), (520, 1), (521, 1), (522, 3), (523, 1), (524, 1), (525, 2), (526, 2), (527, 1), (528, 3), (529, 1), (530, 1), (531, 1), (532, 1), (533, 1), (534, 3)]]\n"
     ]
    }
   ],
   "source": [
    "print(corpus)\n",
    "\n",
    "# First number is ID \n",
    "# Second number is frequency/count of that word"
   ]
  },
  {
   "cell_type": "markdown",
   "id": "074367eb",
   "metadata": {},
   "source": [
    "## Create an LDA Model "
   ]
  },
  {
   "cell_type": "code",
   "execution_count": 27,
   "id": "81946e95",
   "metadata": {},
   "outputs": [],
   "source": [
    "lda = gensim.models.ldamodel.LdaModel(corpus = corpus, num_topics = 5, id2word = dict)"
   ]
  },
  {
   "cell_type": "code",
   "execution_count": 28,
   "id": "4ffac3e8",
   "metadata": {},
   "outputs": [
    {
     "data": {
      "text/plain": [
       "gensim.models.ldamodel.LdaModel"
      ]
     },
     "execution_count": 28,
     "metadata": {},
     "output_type": "execute_result"
    }
   ],
   "source": [
    "type(lda)"
   ]
  },
  {
   "cell_type": "markdown",
   "id": "7cfa543c",
   "metadata": {},
   "source": [
    "## Display Topics "
   ]
  },
  {
   "cell_type": "code",
   "execution_count": 29,
   "id": "a6a43f96",
   "metadata": {},
   "outputs": [
    {
     "data": {
      "text/plain": [
       "[(0,\n",
       "  '0.013*\"India\" + 0.009*\"sector\" + 0.008*\"provision\" + 0.008*\"Government\" + 0.007*\"cent\" + 0.007*\"Budget\" + 0.007*\"growth\" + 0.007*\"strong\" + 0.006*\"include\" + 0.006*\"capital\"'),\n",
       " (1,\n",
       "  '0.015*\"India\" + 0.011*\"growth\" + 0.008*\"GDP\" + 0.008*\"increase\" + 0.008*\"sector\" + 0.006*\"strong\" + 0.006*\"economic\" + 0.006*\"capital\" + 0.005*\"tax\" + 0.005*\"export\"'),\n",
       " (2,\n",
       "  '0.014*\"India\" + 0.009*\"growth\" + 0.008*\"economic\" + 0.007*\"tax\" + 0.007*\"increase\" + 0.007*\"sector\" + 0.006*\"strong\" + 0.006*\"GDP\" + 0.005*\"capital\" + 0.005*\"state\"'),\n",
       " (3,\n",
       "  '0.016*\"growth\" + 0.011*\"India\" + 0.011*\"increase\" + 0.009*\"GDP\" + 0.009*\"economic\" + 0.008*\"sector\" + 0.007*\"tax\" + 0.006*\"capital\" + 0.006*\"focus\" + 0.006*\"employment\"'),\n",
       " (4,\n",
       "  '0.028*\"India\" + 0.017*\"state\" + 0.014*\"capital\" + 0.010*\"Union\" + 0.009*\"Territories\" + 0.009*\"union\" + 0.008*\"city\" + 0.007*\"territory\" + 0.007*\"growth\" + 0.007*\"States\"')]"
      ]
     },
     "execution_count": 29,
     "metadata": {},
     "output_type": "execute_result"
    }
   ],
   "source": [
    "lda.print_topics()"
   ]
  },
  {
   "cell_type": "code",
   "execution_count": 30,
   "id": "b4cf9ac2",
   "metadata": {},
   "outputs": [],
   "source": [
    "# 5 lists - so there are 5 Topics (cluster levels)\n",
    "# In ID - 0, the numbers show the probability of the respective word belonging to that particular Topic \n",
    "# Eg: 0.017 in ID - 0, shows that there is 1.7% probability of the word growth being a part of Topic 0 \n",
    "# The numbers*word are in the descending order of the number value along the Topic List "
   ]
  },
  {
   "cell_type": "markdown",
   "id": "41db7d4b",
   "metadata": {},
   "source": [
    "## Get Topics"
   ]
  },
  {
   "cell_type": "code",
   "execution_count": 31,
   "id": "6b043d37",
   "metadata": {},
   "outputs": [
    {
     "data": {
      "text/plain": [
       "[]"
      ]
     },
     "execution_count": 31,
     "metadata": {},
     "output_type": "execute_result"
    }
   ],
   "source": [
    "lda.get_term_topics('economy')"
   ]
  },
  {
   "cell_type": "code",
   "execution_count": 32,
   "id": "217ee2ce",
   "metadata": {},
   "outputs": [],
   "source": [
    "# Here we put in small in nlp training (en_core_sm one) hence we dont get anything\n",
    "# If we use medium or large, then we would get something "
   ]
  },
  {
   "cell_type": "code",
   "execution_count": 33,
   "id": "aeaae5b0",
   "metadata": {},
   "outputs": [
    {
     "data": {
      "text/plain": [
       "[(4, 0.012222006)]"
      ]
     },
     "execution_count": 33,
     "metadata": {},
     "output_type": "execute_result"
    }
   ],
   "source": [
    "lda.get_term_topics('capital')"
   ]
  },
  {
   "cell_type": "code",
   "execution_count": 34,
   "id": "ef533ede",
   "metadata": {},
   "outputs": [
    {
     "data": {
      "text/plain": [
       "[]"
      ]
     },
     "execution_count": 34,
     "metadata": {},
     "output_type": "execute_result"
    }
   ],
   "source": [
    "lda.get_term_topics('GDP')"
   ]
  },
  {
   "cell_type": "code",
   "execution_count": 35,
   "id": "d2a464ba",
   "metadata": {},
   "outputs": [
    {
     "data": {
      "text/plain": [
       "[]"
      ]
     },
     "execution_count": 35,
     "metadata": {},
     "output_type": "execute_result"
    }
   ],
   "source": [
    "lda.get_term_topics('sector')"
   ]
  },
  {
   "cell_type": "code",
   "execution_count": 36,
   "id": "ebda1a1c",
   "metadata": {},
   "outputs": [
    {
     "data": {
      "text/plain": [
       "[(0, 0.011560477), (1, 0.01312795), (2, 0.01184916), (4, 0.026893577)]"
      ]
     },
     "execution_count": 36,
     "metadata": {},
     "output_type": "execute_result"
    }
   ],
   "source": [
    "lda.get_term_topics('India')"
   ]
  },
  {
   "cell_type": "markdown",
   "id": "926957fe",
   "metadata": {},
   "source": [
    "## Visualisation of Topics "
   ]
  },
  {
   "cell_type": "code",
   "execution_count": 37,
   "id": "01372ae6",
   "metadata": {},
   "outputs": [],
   "source": [
    "# import pyLDAvis\n",
    "# import pyLDAvis.gensim_models "
   ]
  },
  {
   "cell_type": "code",
   "execution_count": 38,
   "id": "bbd0bedd",
   "metadata": {},
   "outputs": [],
   "source": [
    "pyLDAvis.enable_notebook() # Enable the jupyter notebook to visualise "
   ]
  },
  {
   "cell_type": "code",
   "execution_count": 39,
   "id": "a4f6559f",
   "metadata": {},
   "outputs": [
    {
     "name": "stderr",
     "output_type": "stream",
     "text": [
      "C:\\Users\\Adithya\\Anaconda3\\lib\\site-packages\\pyLDAvis\\_prepare.py:246: FutureWarning: In a future version of pandas all arguments of DataFrame.drop except for the argument 'labels' will be keyword-only.\n",
      "  default_term_info = default_term_info.sort_values(\n"
     ]
    }
   ],
   "source": [
    "plot = pyLDAvis.gensim_models.prepare(lda, corpus=corpus, dictionary=lda.id2word)"
   ]
  },
  {
   "cell_type": "code",
   "execution_count": 40,
   "id": "a3d5a9fb",
   "metadata": {},
   "outputs": [
    {
     "data": {
      "text/html": [
       "\n",
       "<link rel=\"stylesheet\" type=\"text/css\" href=\"https://cdn.jsdelivr.net/gh/bmabey/pyLDAvis@3.3.1/pyLDAvis/js/ldavis.v1.0.0.css\">\n",
       "\n",
       "\n",
       "<div id=\"ldavis_el1831619823816782569459603122\"></div>\n",
       "<script type=\"text/javascript\">\n",
       "\n",
       "var ldavis_el1831619823816782569459603122_data = {\"mdsDat\": {\"x\": [-0.009397514773975558, 0.03384078599511768, -0.034265614230940114, 0.0070250845348682305, 0.0027972584749297695], \"y\": [0.011271251948745259, -0.00039634490684669905, -0.0044801612181835345, -0.0038538338453156435, -0.0025409119783994013], \"topics\": [1, 2, 3, 4, 5], \"cluster\": [1, 1, 1, 1, 1], \"Freq\": [48.37620364127209, 30.874628589535835, 20.607608645174107, 0.07082896422178192, 0.07073015979618884]}, \"tinfo\": {\"Term\": [\"India\", \"growth\", \"sector\", \"increase\", \"economic\", \"strong\", \"GDP\", \"capital\", \"tax\", \"state\", \"Budget\", \"provision\", \"Government\", \"year\", \"focus\", \"cent\", \"see\", \"energy\", \"Union\", \"export\", \"include\", \"non\", \"FY\", \"rate\", \"accord\", \"base\", \"employment\", \"change\", \"infrastructure\", \"Territories\", \"law\", \"cent\", \"ease\", \"contract\", \"strengthen\", \"surcharge\", \"provision\", \"slab\", \"investment\", \"possession\", \"rein\", \"grade\", \"transition\", \"regime\", \"Access\", \"abuse\", \"INR1\", \"citizen\", \"Government\", \"ambitious\", \"expectation\", \"decriminalisation\", \"emission\", \"opportunity\", \"outlay\", \"offshore\", \"provide\", \"agenda\", \"promote\", \"design\", \"regard\", \"public\", \"include\", \"Budget\", \"see\", \"supply\", \"compliance\", \"strong\", \"sector\", \"taxpayer\", \"remain\", \"important\", \"msme\", \"crore\", \"Union\", \"green\", \"India\", \"focus\", \"budget\", \"economic\", \"enhance\", \"GST\", \"union\", \"capital\", \"Act\", \"state\", \"growth\", \"year\", \"change\", \"tax\", \"States\", \"non\", \"energy\", \"increase\", \"infrastructure\", \"expect\", \"quarter\", \"pandemic\", \"support\", \"economy\", \"need\", \"GDP\", \"recovery\", \"spending\", \"world\", \"contact\", \"government\", \"grow\", \"source\", \"pen\", \"us$\", \"indicate\", \"trade\", \"demand\", \"employment\", \"unicorn\", \"momentum\", \"Piyush\", \"increase\", \"contribution\", \"growth\", \"factor\", \"CAD\", \"Affairs\", \"streamlined\", \"rise\", \"rate\", \"high\", \"service\", \"boost\", \"economic\", \"tax\", \"FY\", \"export\", \"sector\", \"energy\", \"focus\", \"India\", \"capital\", \"strong\", \"Government\", \"Budget\", \"provision\", \"see\", \"year\", \"include\", \"state\", \"Territories\", \"city\", \"territory\", \"union\", \"winter\", \"Diu\", \"time\", \"Haveli\", \"total\", \"list\", \"States\", \"Nagar\", \"January\", \"Indian\", \"Capital\", \"Union\", \"administrative\", \"lead\", \"\\u00a0\", \"summer\", \"accord\", \"session\", \"Capitals\", \"day\", \"appoint\", \"bag\", \"altogether\", \"federal\", \"Kolkata\", \"India\", \"capital\", \"Act\", \"Minister\", \"number\", \"Dadra\", \"Daman\", \"come\", \"increase\", \"growth\", \"tax\", \"sector\", \"strong\", \"economic\", \"Budget\", \"Government\", \"energy\", \"include\", \"GDP\", \"export\", \"trade\", \"nominal\", \"probably\", \"achieve\", \"sentiment\", \"expect\", \"demand\", \"world\", \"current\", \"witness\", \"renewable\", \"shock\", \"contribution\", \"major\", \"go\", \"lose\", \"UK\", \"real\", \"stand\", \"grow\", \"Commerce\", \"drive\", \"Institute\", \"contact\", \"economy\", \"partnership\", \"large\", \"recover\", \"quarter\", \"base\", \"private\", \"employment\", \"increase\", \"growth\", \"pandemic\", \"India\", \"year\", \"strong\", \"sector\", \"support\", \"rate\", \"tax\", \"economic\", \"unicorn\", \"accord\", \"energy\", \"see\", \"capital\", \"Budget\", \"non\", \"FY\", \"Government\", \"deficit\", \"focus\", \"provision\", \"change\", \"Union\", \"us$\", \"rise\", \"large\", \"quarter\", \"pen\", \"demand\", \"gross\", \"indicate\", \"farm\", \"recover\", \"contribution\", \"give\", \"drive\", \"Indicators\", \"achieve\", \"Food\", \"UK\", \"overcome\", \"2022\\u20132023\", \"Industry\", \"FY\", \"tariff\", \"tax\", \"sentiment\", \"democracy\", \"McKinsey\", \"generate\", \"promise\", \"create\", \"power\", \"trade\", \"GDP\", \"year\", \"current\", \"non\", \"base\", \"support\", \"economic\", \"export\", \"accord\", \"economy\", \"strong\", \"growth\", \"India\", \"rate\", \"increase\", \"source\", \"need\", \"enhance\", \"sector\", \"state\", \"change\", \"Budget\", \"focus\", \"capital\", \"energy\", \"provision\", \"include\", \"cent\", \"infrastructure\", \"Territories\", \"Government\", \"provide\"], \"Freq\": [13.0, 8.0, 6.0, 5.0, 5.0, 4.0, 4.0, 6.0, 4.0, 5.0, 4.0, 5.0, 5.0, 3.0, 4.0, 4.0, 4.0, 3.0, 4.0, 2.0, 4.0, 3.0, 2.0, 2.0, 3.0, 2.0, 2.0, 3.0, 3.0, 3.0, 1.4523808276536754, 2.908887835925786, 1.3612322564439405, 0.8530302639830738, 1.3696223629608963, 0.8962419332772495, 3.362529280098183, 0.886204578544002, 1.3012052379687256, 0.8720635341875957, 0.838922907855644, 0.8551376605877078, 0.9041875289218922, 0.9069612574595507, 0.829004571994397, 0.8237502700806905, 0.8280517453232564, 0.8413044436301736, 3.2535188044679697, 0.842077052755471, 0.8026842675841804, 0.8632217737354492, 0.8096760712789154, 1.2359940933461824, 1.36575400830119, 0.7939576166250271, 2.091353671522478, 0.8157171236518592, 0.8705314437282355, 0.8274386967781836, 1.2274081317673537, 1.3304343616800753, 2.639014039846869, 2.8669941582603973, 2.5700813594651164, 2.176795900771809, 1.1675846905841494, 2.750142144036649, 3.544789741924498, 1.239036748548393, 1.6122049289815705, 1.2101817668872248, 1.5471848130270638, 1.4577918908391814, 2.2721225845976565, 1.1849354798973755, 5.589156345838379, 2.07128494678434, 1.4795056436524463, 2.572622552347747, 1.4352704892813681, 1.388482655210329, 1.741629119981333, 2.5915566884228736, 1.5895216501744915, 2.293424549488818, 2.831428655137267, 1.6618156242795203, 1.5856081204684787, 1.878124557118374, 1.5042603141661413, 1.507430965332888, 1.5552394851724043, 1.5589882417928498, 1.4776681389911321, 1.3293329798934228, 1.2650947231092977, 1.3983588820536397, 1.2969848005516176, 1.2635262354330066, 1.0272465658567485, 2.3725358583615415, 0.9917275278857715, 0.961985095725588, 1.18412231689523, 0.9034833392739663, 0.9389394775624023, 0.8992954894994601, 0.9088185383997391, 0.8940427191447352, 1.111703651447161, 0.8597654724577726, 0.8034328001614744, 0.8030379675802746, 1.4865878539939583, 0.8454067255346026, 0.6214937126419011, 0.6094660735421085, 2.9087834363102045, 0.793118853979647, 4.352544184026519, 0.6069771928617406, 0.5954287248988761, 0.5773794114896141, 0.5934063861341623, 0.7819323826226697, 1.3989157999088506, 1.1365919654031804, 1.1369231590303503, 1.1265376267259835, 2.2539463616900957, 1.7517833885994967, 1.252002841094818, 1.1629569741589132, 2.106261849865149, 1.4280451911866, 1.502711365173807, 2.986180972026243, 1.582772988913158, 1.4014746649568646, 1.3184379663210697, 1.2542066094041775, 1.2669802350425488, 1.1936856560916713, 1.1365065795461757, 1.1165561062904743, 3.0817736328473297, 1.6585912574744766, 1.4259725849356897, 1.3099784712922793, 1.5966150187144714, 0.7637674814940063, 0.7335247776845517, 0.7458935444332743, 0.7844099169844524, 0.7669831141312523, 0.6996457880335978, 1.1846350009478814, 0.733186116903493, 0.6999615040944245, 0.7004963052258536, 0.43946158354941567, 1.6847967596319262, 0.9676531963667765, 0.44590259416207073, 0.662175949666335, 0.43126102540370015, 1.1625257481453994, 0.6769623415513312, 0.6821111696670494, 0.4242228352714584, 0.4394707943331647, 0.4380720299099889, 0.4361016212203877, 0.433590490181233, 0.43209797313775433, 4.983144866596888, 2.3931402414162664, 1.0482711568043093, 0.7572293053367128, 0.7517323589387649, 0.6167020224602894, 0.6410240838193398, 0.802710921902406, 1.1276013345389284, 1.2372615540503367, 0.9288323745170359, 1.001412199111571, 0.8390132523099065, 0.8119629074609035, 0.7832074985094984, 0.7420947540499165, 0.719601526699896, 0.7232463654120196, 0.004901949143212813, 0.003203338236905525, 0.0018067258970212972, 0.0012428314862803417, 0.0012321163313156638, 0.0017645748910101085, 0.0011996630514525194, 0.002439393210055099, 0.0017284788513541134, 0.002380612705265024, 0.0024452685470137177, 0.0012072655724044816, 0.0011941253499214515, 0.0011863344371633255, 0.0016983481753488044, 0.0012052765054277762, 0.0011732272857100346, 0.001177543479078557, 0.0011479983298946558, 0.001174300610220095, 0.0011607040357925018, 0.0017391227764085838, 0.0011707439905666716, 0.0011358402039315296, 0.0011698960154451544, 0.0017024564734833682, 0.0022532499512552574, 0.0011499846409522164, 0.001605851897068833, 0.0011133878719869652, 0.002080161552109546, 0.0026504773957873773, 0.0017525767496865752, 0.0027286917944123828, 0.0048697373949301145, 0.006793178446347848, 0.002180565763714413, 0.0091230568000925, 0.00296120798602426, 0.003878674103433015, 0.004717941933744073, 0.002021880222007671, 0.002425563018481528, 0.003298910968926361, 0.003657228509690918, 0.0015966879712597838, 0.002360756661148765, 0.0026249423209531307, 0.0028606206117931456, 0.0035466338983924056, 0.0027905566673777893, 0.002252555459630735, 0.0022152189737011468, 0.0027726638269970297, 0.0020301478381132766, 0.002335348499924372, 0.002427060825204501, 0.0021499354890333437, 0.0021915450629294434, 0.002512871437141037, 0.001708275014670277, 0.00167585021151319, 0.0021925148392168176, 0.0017313008475823453, 0.0016079084022759364, 0.0011190978050243145, 0.0016524385236129108, 0.0010784721720473796, 0.0010725525299019817, 0.0015558092286811938, 0.0010561395091333353, 0.001056120668006442, 0.0010572822552341193, 0.001495972350044882, 0.00109018768354203, 0.0010255219017055975, 0.001074796388152737, 0.001051841262391032, 0.001065696829523479, 0.0027726082970216275, 0.0009957225072603588, 0.004266528163857457, 0.0009632195875209843, 0.0010452978166436255, 0.001043760041972248, 0.0010323022375765272, 0.0010005017319835775, 0.0009824896852396459, 0.0009931322404256374, 0.0013989011707064025, 0.003613116754143148, 0.003069992692207707, 0.0019528599390957388, 0.00266350476476621, 0.0023447521324385587, 0.0019314284748017459, 0.004622501265947683, 0.0023082902473729964, 0.0025980878076646893, 0.0018469019576732566, 0.0037418582447707642, 0.0057267756203321805, 0.008366799965896262, 0.0023800055038742567, 0.004039739142461791, 0.0014976062356332203, 0.0015382779482201227, 0.0020785713248964027, 0.003972146493883218, 0.0032342636085347155, 0.002220937561210519, 0.002886996094993428, 0.0025944976909162954, 0.0033299931867327662, 0.002412752088074914, 0.002803757548831439, 0.002538765214169943, 0.0024924095499388546, 0.0021693683384134107, 0.0021360620245553853, 0.0023729638620374627, 0.002135275495715115], \"Total\": [13.0, 8.0, 6.0, 5.0, 5.0, 4.0, 4.0, 6.0, 4.0, 5.0, 4.0, 5.0, 5.0, 3.0, 4.0, 4.0, 4.0, 3.0, 4.0, 2.0, 4.0, 3.0, 2.0, 2.0, 3.0, 2.0, 2.0, 3.0, 3.0, 3.0, 2.1686682419830365, 4.509930407407383, 2.1122569374607374, 1.339457863395926, 2.159631470880543, 1.4192017216662454, 5.356512233374675, 1.4137375796034324, 2.0983456255076502, 1.4063628577401788, 1.354495033289262, 1.382892867927429, 1.4623690236050961, 1.4729511518907514, 1.3470205563005704, 1.338724245278515, 1.3497515218634706, 1.3741537978800065, 5.319197152527991, 1.37725618807803, 1.3164869895732565, 1.4170888611401131, 1.3326426539271792, 2.0385284999381605, 2.253340658145396, 1.312535004789047, 3.473400013191463, 1.356250262215164, 1.4482660436509869, 1.3775071621151067, 2.0451008914469115, 2.2213100107623216, 4.4830597960778285, 4.9100858189364445, 4.3954068033053515, 3.709500795647857, 1.9629799332189142, 4.998250593651624, 6.661153879328845, 2.099358526207913, 2.832612016503325, 2.061861365584637, 2.726095593445142, 2.5618496380037166, 4.3338648535363475, 2.040543507058151, 13.5759720412275, 4.132669225238476, 2.7007188531315784, 5.646811551274384, 2.629504095656373, 2.5218579151239964, 3.5404959396988485, 6.5743465458374235, 3.1154303159673833, 5.5828266034608065, 8.433754347280802, 3.4447742231072755, 3.1603197860993646, 4.56630575936769, 2.892487619277226, 3.018542770118234, 3.7079238974679285, 5.604282489179375, 3.130102743488469, 2.144204143985278, 2.0447212322019706, 2.2707888958890754, 2.179513289277034, 2.1264581710480854, 1.7303739114312884, 4.048329781728738, 1.7294087340723556, 1.7011778935853483, 2.100053018027716, 1.606003522580919, 1.6808984101674147, 1.622833047706303, 1.6629048805942157, 1.6385467361617274, 2.070274847435029, 1.6097037944733328, 1.524476175916746, 1.5237350362755224, 2.8217085338497863, 1.6125483894393038, 1.1917313220080887, 1.1735522034545827, 5.604282489179375, 1.534018496696586, 8.433754347280802, 1.1780827897656023, 1.1607382395319603, 1.1268938174800185, 1.1602596307550932, 1.5464139188683241, 2.9021232046250707, 2.3618391034660786, 2.4268309466039653, 2.4190978757923953, 5.646811551274384, 4.56630575936769, 2.92287268087341, 2.64974886161004, 6.661153879328845, 3.7079238974679285, 4.132669225238476, 13.5759720412275, 6.5743465458374235, 4.998250593651624, 5.319197152527991, 4.9100858189364445, 5.356512233374675, 4.3954068033053515, 3.4447742231072755, 4.4830597960778285, 5.5828266034608065, 3.098198069483296, 2.805342147448795, 2.722271236124398, 3.5404959396988485, 1.701646289384975, 1.6452054966870795, 1.6738817008405797, 1.782057623657285, 1.745967076741043, 1.5927653604693406, 2.892487619277226, 1.8124524506228141, 1.7567667534991, 1.7662475891818956, 1.1288241229291232, 4.3338648535363475, 2.519732933772797, 1.1653097619637356, 1.7369223501018198, 1.1333000981955528, 3.073807582820688, 1.7922272178315437, 1.8144780640043325, 1.1340243706573636, 1.1809673760005226, 1.177321394163473, 1.1728980426910842, 1.1700527420567213, 1.1714964567929784, 13.5759720412275, 6.5743465458374235, 3.1154303159673833, 2.298631522803569, 2.398595599030865, 1.847530849019803, 1.9585151770626161, 3.0424962199729837, 5.604282489179375, 8.433754347280802, 4.56630575936769, 6.661153879328845, 4.998250593651624, 5.646811551274384, 4.9100858189364445, 5.319197152527991, 3.7079238974679285, 4.4830597960778285, 4.048329781728738, 2.64974886161004, 1.524476175916746, 1.064502905829566, 1.0598944942202078, 1.5202532085514124, 1.0344252423772957, 2.144204143985278, 1.5237350362755224, 2.100053018027716, 2.168796938096111, 1.0749026417439727, 1.0637038178472786, 1.064562379750599, 1.534018496696586, 1.0962460586398428, 1.0762415310694735, 1.0860800844155027, 1.0598231992517455, 1.086507191966178, 1.078548438282291, 1.622833047706303, 1.0982763738600034, 1.0663103782664218, 1.103161101860157, 1.606003522580919, 2.1264581710480854, 1.0889621875612814, 1.5239806272658831, 1.0574320058068976, 2.0447212322019706, 2.673337560848085, 1.7162189362945792, 2.8217085338497863, 5.604282489179375, 8.433754347280802, 2.2707888958890754, 13.5759720412275, 3.4447742231072755, 4.998250593651624, 6.661153879328845, 2.179513289277034, 2.9021232046250707, 4.56630575936769, 5.646811551274384, 1.6125483894393038, 3.073807582820688, 3.7079238974679285, 4.3954068033053515, 6.5743465458374235, 4.9100858189364445, 3.018542770118234, 2.92287268087341, 5.319197152527991, 2.4431592678380802, 4.132669225238476, 5.356512233374675, 3.1603197860993646, 4.3338648535363475, 2.070274847435029, 1.5464139188683241, 1.5239806272658831, 2.0447212322019706, 1.6385467361617274, 1.5237350362755224, 1.079596774795673, 1.6097037944733328, 1.0622633132359305, 1.0574320058068976, 1.534018496696586, 1.0616726863973804, 1.0663103782664218, 1.068712951730291, 1.5202532085514124, 1.10937094097697, 1.0598231992517455, 1.1160197618092036, 1.0973408121361379, 1.1190461864812735, 2.92287268087341, 1.0578955796174476, 4.56630575936769, 1.0344252423772957, 1.1240933249100746, 1.1300026139089432, 1.1179610595094012, 1.0835893909982535, 1.0693044377675274, 1.0812727367744677, 1.524476175916746, 4.048329781728738, 3.4447742231072755, 2.168796938096111, 3.018542770118234, 2.673337560848085, 2.179513289277034, 5.646811551274384, 2.64974886161004, 3.073807582820688, 2.1264581710480854, 4.998250593651624, 8.433754347280802, 13.5759720412275, 2.9021232046250707, 5.604282489179375, 1.6629048805942157, 1.7303739114312884, 2.629504095656373, 6.661153879328845, 5.5828266034608065, 3.1603197860993646, 4.9100858189364445, 4.132669225238476, 6.5743465458374235, 3.7079238974679285, 5.356512233374675, 4.4830597960778285, 4.509930407407383, 3.130102743488469, 3.098198069483296, 5.319197152527991, 3.473400013191463], \"Category\": [\"Default\", \"Default\", \"Default\", \"Default\", \"Default\", \"Default\", \"Default\", \"Default\", \"Default\", \"Default\", \"Default\", \"Default\", \"Default\", \"Default\", \"Default\", \"Default\", \"Default\", \"Default\", \"Default\", \"Default\", \"Default\", \"Default\", \"Default\", \"Default\", \"Default\", \"Default\", \"Default\", \"Default\", \"Default\", \"Default\", \"Topic1\", \"Topic1\", \"Topic1\", \"Topic1\", \"Topic1\", \"Topic1\", \"Topic1\", \"Topic1\", \"Topic1\", \"Topic1\", \"Topic1\", \"Topic1\", \"Topic1\", \"Topic1\", \"Topic1\", \"Topic1\", \"Topic1\", \"Topic1\", \"Topic1\", \"Topic1\", \"Topic1\", \"Topic1\", \"Topic1\", \"Topic1\", \"Topic1\", \"Topic1\", \"Topic1\", \"Topic1\", \"Topic1\", \"Topic1\", \"Topic1\", \"Topic1\", \"Topic1\", \"Topic1\", \"Topic1\", \"Topic1\", \"Topic1\", \"Topic1\", \"Topic1\", \"Topic1\", \"Topic1\", \"Topic1\", \"Topic1\", \"Topic1\", \"Topic1\", \"Topic1\", \"Topic1\", \"Topic1\", \"Topic1\", \"Topic1\", \"Topic1\", \"Topic1\", \"Topic1\", \"Topic1\", \"Topic1\", \"Topic1\", \"Topic1\", \"Topic1\", \"Topic1\", \"Topic1\", \"Topic1\", \"Topic1\", \"Topic1\", \"Topic1\", \"Topic1\", \"Topic2\", \"Topic2\", \"Topic2\", \"Topic2\", \"Topic2\", \"Topic2\", \"Topic2\", \"Topic2\", \"Topic2\", \"Topic2\", \"Topic2\", \"Topic2\", \"Topic2\", \"Topic2\", \"Topic2\", \"Topic2\", \"Topic2\", \"Topic2\", \"Topic2\", \"Topic2\", \"Topic2\", \"Topic2\", \"Topic2\", \"Topic2\", \"Topic2\", \"Topic2\", \"Topic2\", \"Topic2\", \"Topic2\", \"Topic2\", \"Topic2\", \"Topic2\", \"Topic2\", \"Topic2\", \"Topic2\", \"Topic2\", \"Topic2\", \"Topic2\", \"Topic2\", \"Topic2\", \"Topic2\", \"Topic2\", \"Topic2\", \"Topic2\", \"Topic2\", \"Topic2\", \"Topic2\", \"Topic2\", \"Topic2\", \"Topic2\", \"Topic2\", \"Topic3\", \"Topic3\", \"Topic3\", \"Topic3\", \"Topic3\", \"Topic3\", \"Topic3\", \"Topic3\", \"Topic3\", \"Topic3\", \"Topic3\", \"Topic3\", \"Topic3\", \"Topic3\", \"Topic3\", \"Topic3\", \"Topic3\", \"Topic3\", \"Topic3\", \"Topic3\", \"Topic3\", \"Topic3\", \"Topic3\", \"Topic3\", \"Topic3\", \"Topic3\", \"Topic3\", \"Topic3\", \"Topic3\", \"Topic3\", \"Topic3\", \"Topic3\", \"Topic3\", \"Topic3\", \"Topic3\", \"Topic3\", \"Topic3\", \"Topic3\", \"Topic3\", \"Topic3\", \"Topic3\", \"Topic3\", \"Topic3\", \"Topic3\", \"Topic3\", \"Topic3\", \"Topic3\", \"Topic3\", \"Topic4\", \"Topic4\", \"Topic4\", \"Topic4\", \"Topic4\", \"Topic4\", \"Topic4\", \"Topic4\", \"Topic4\", \"Topic4\", \"Topic4\", \"Topic4\", \"Topic4\", \"Topic4\", \"Topic4\", \"Topic4\", \"Topic4\", \"Topic4\", \"Topic4\", \"Topic4\", \"Topic4\", \"Topic4\", \"Topic4\", \"Topic4\", \"Topic4\", \"Topic4\", \"Topic4\", \"Topic4\", \"Topic4\", \"Topic4\", \"Topic4\", \"Topic4\", \"Topic4\", \"Topic4\", \"Topic4\", \"Topic4\", \"Topic4\", \"Topic4\", \"Topic4\", \"Topic4\", \"Topic4\", \"Topic4\", \"Topic4\", \"Topic4\", \"Topic4\", \"Topic4\", \"Topic4\", \"Topic4\", \"Topic4\", \"Topic4\", \"Topic4\", \"Topic4\", \"Topic4\", \"Topic4\", \"Topic4\", \"Topic4\", \"Topic4\", \"Topic4\", \"Topic4\", \"Topic5\", \"Topic5\", \"Topic5\", \"Topic5\", \"Topic5\", \"Topic5\", \"Topic5\", \"Topic5\", \"Topic5\", \"Topic5\", \"Topic5\", \"Topic5\", \"Topic5\", \"Topic5\", \"Topic5\", \"Topic5\", \"Topic5\", \"Topic5\", \"Topic5\", \"Topic5\", \"Topic5\", \"Topic5\", \"Topic5\", \"Topic5\", \"Topic5\", \"Topic5\", \"Topic5\", \"Topic5\", \"Topic5\", \"Topic5\", \"Topic5\", \"Topic5\", \"Topic5\", \"Topic5\", \"Topic5\", \"Topic5\", \"Topic5\", \"Topic5\", \"Topic5\", \"Topic5\", \"Topic5\", \"Topic5\", \"Topic5\", \"Topic5\", \"Topic5\", \"Topic5\", \"Topic5\", \"Topic5\", \"Topic5\", \"Topic5\", \"Topic5\", \"Topic5\", \"Topic5\", \"Topic5\", \"Topic5\", \"Topic5\", \"Topic5\", \"Topic5\", \"Topic5\", \"Topic5\", \"Topic5\", \"Topic5\", \"Topic5\"], \"logprob\": [30.0, 29.0, 28.0, 27.0, 26.0, 25.0, 24.0, 23.0, 22.0, 21.0, 20.0, 19.0, 18.0, 17.0, 16.0, 15.0, 14.0, 13.0, 12.0, 11.0, 10.0, 9.0, 8.0, 7.0, 6.0, 5.0, 4.0, 3.0, 2.0, 1.0, -5.6541, -4.9595, -5.7189, -6.1862, -5.7127, -6.1368, -4.8146, -6.1481, -5.764, -6.1642, -6.2029, -6.1838, -6.128, -6.1249, -6.2148, -6.2212, -6.216, -6.2001, -4.8475, -6.1992, -6.2471, -6.1744, -6.2384, -5.8154, -5.7156, -6.258, -5.2895, -6.231, -6.1659, -6.2167, -5.8224, -5.7418, -5.0569, -4.974, -5.0833, -5.2494, -5.8723, -5.0156, -4.7618, -5.8129, -5.5497, -5.8365, -5.5908, -5.6504, -5.2066, -5.8576, -4.3064, -5.2991, -5.6356, -5.0823, -5.6659, -5.6991, -5.4725, -5.075, -5.5638, -5.1972, -4.9865, -5.5194, -5.5663, -5.397, -5.619, -5.6169, -5.5856, -5.5832, -5.6368, -5.2935, -5.3431, -5.2429, -5.3182, -5.3443, -5.5513, -4.7142, -5.5865, -5.617, -5.4092, -5.6797, -5.6412, -5.6843, -5.6738, -5.6902, -5.4723, -5.7293, -5.7971, -5.7976, -5.1817, -5.7461, -6.0538, -6.0734, -4.5105, -5.81, -4.1074, -6.0775, -6.0967, -6.1275, -6.1001, -5.8242, -5.2425, -5.4502, -5.4499, -5.4591, -4.7655, -5.0176, -5.3535, -5.4272, -4.8333, -5.2219, -5.1709, -4.4842, -5.119, -5.2407, -5.3018, -5.3517, -5.3416, -5.4012, -5.4502, -5.468, -4.0484, -4.668, -4.8191, -4.9039, -4.706, -5.4434, -5.4838, -5.4671, -5.4168, -5.4392, -5.5311, -5.0045, -5.4843, -5.5307, -5.5299, -5.9961, -4.6523, -5.2068, -5.9816, -5.5862, -6.015, -5.0233, -5.5641, -5.5565, -6.0314, -5.9961, -5.9993, -6.0038, -6.0096, -6.013, -3.5679, -4.3013, -5.1268, -5.452, -5.4593, -5.6573, -5.6186, -5.3937, -5.0538, -4.961, -5.2478, -5.1725, -5.3495, -5.3822, -5.4183, -5.4722, -5.503, -5.4979, -4.8189, -5.2443, -5.817, -6.1911, -6.1998, -5.8406, -6.2265, -5.5168, -5.8613, -5.5412, -5.5144, -6.2202, -6.2311, -6.2377, -5.8789, -6.2218, -6.2488, -6.2451, -6.2705, -6.2479, -6.2595, -5.8552, -6.2509, -6.2812, -6.2516, -5.8765, -5.5962, -6.2688, -5.9349, -6.3011, -5.6761, -5.4338, -5.8474, -5.4047, -4.8255, -4.4926, -5.629, -4.1977, -5.3229, -5.053, -4.8572, -5.7045, -5.5225, -5.2149, -5.1118, -5.9406, -5.5496, -5.4435, -5.3575, -5.1425, -5.3823, -5.5965, -5.6132, -5.3887, -5.7004, -5.5604, -5.5219, -5.6431, -5.6239, -5.4857, -5.8717, -5.8908, -5.6221, -5.8583, -5.9322, -6.2946, -5.9049, -6.3316, -6.3371, -5.9651, -6.3525, -6.3525, -6.3514, -6.0044, -6.3208, -6.3819, -6.335, -6.3566, -6.3435, -5.3874, -6.4114, -4.9563, -6.4446, -6.3628, -6.3643, -6.3753, -6.4066, -6.4248, -6.414, -6.0715, -5.1226, -5.2855, -5.7378, -5.4275, -5.555, -5.7489, -4.8762, -5.5706, -5.4524, -5.7936, -5.0876, -4.662, -4.2829, -5.54, -5.011, -6.0033, -5.9765, -5.6755, -5.0278, -5.2333, -5.6092, -5.3469, -5.4537, -5.2042, -5.5264, -5.3762, -5.4755, -5.4939, -5.6327, -5.6482, -5.543, -5.6485], \"loglift\": [30.0, 29.0, 28.0, 27.0, 26.0, 25.0, 24.0, 23.0, 22.0, 21.0, 20.0, 19.0, 18.0, 17.0, 16.0, 15.0, 14.0, 13.0, 12.0, 11.0, 10.0, 9.0, 8.0, 7.0, 6.0, 5.0, 4.0, 3.0, 2.0, 1.0, 0.3253, 0.2877, 0.2868, 0.2749, 0.2708, 0.2665, 0.2605, 0.2591, 0.2483, 0.2483, 0.2471, 0.2455, 0.2454, 0.2412, 0.2407, 0.2406, 0.2376, 0.2355, 0.2346, 0.2342, 0.2314, 0.2305, 0.2279, 0.2258, 0.2255, 0.2235, 0.2188, 0.2178, 0.2171, 0.2165, 0.2156, 0.2136, 0.1963, 0.1881, 0.1895, 0.1931, 0.2066, 0.1287, 0.0953, 0.1989, 0.1626, 0.1933, 0.1597, 0.1624, 0.0804, 0.1826, -0.1613, 0.0354, 0.1244, -0.06, 0.1207, 0.1294, 0.0167, -0.2048, 0.0532, -0.1635, -0.3653, -0.0028, 0.0365, -0.1623, 0.0723, 0.0318, -0.1427, -0.5533, -0.0244, 0.6971, 0.6951, 0.6904, 0.6562, 0.6547, 0.6538, 0.6409, 0.6191, 0.6052, 0.6023, 0.6, 0.5929, 0.5849, 0.5711, 0.5694, 0.5534, 0.5481, 0.5347, 0.5347, 0.5344, 0.5295, 0.5242, 0.52, 0.5194, 0.5156, 0.5138, 0.5121, 0.5077, 0.5065, 0.5047, 0.4933, 0.4455, 0.4438, 0.417, 0.411, 0.2568, 0.2172, 0.3274, 0.3517, 0.0239, 0.2211, 0.1636, -0.3391, -0.2488, -0.0963, -0.2196, -0.1896, -0.2664, -0.1283, 0.0663, -0.2148, 0.9853, 0.9547, 0.9028, 0.8481, 0.7831, 0.7784, 0.7718, 0.7712, 0.7589, 0.7569, 0.7569, 0.6868, 0.6745, 0.6593, 0.6547, 0.6361, 0.6347, 0.6225, 0.6189, 0.6152, 0.6133, 0.6072, 0.6059, 0.6011, 0.5962, 0.591, 0.5909, 0.5902, 0.5868, 0.5821, 0.5773, 0.5689, 0.4903, 0.4691, 0.4193, 0.4823, 0.4626, 0.2471, -0.0239, -0.3398, -0.013, -0.3154, -0.2051, -0.3599, -0.2561, -0.3901, -0.06, -0.2448, 0.5362, 0.5346, 0.5148, 0.4998, 0.4955, 0.4939, 0.4931, 0.4739, 0.471, 0.4703, 0.4649, 0.461, 0.4606, 0.4532, 0.4467, 0.4397, 0.4312, 0.4258, 0.4248, 0.4226, 0.4183, 0.4141, 0.4088, 0.4081, 0.4036, 0.4032, 0.4028, 0.3994, 0.3972, 0.3965, 0.3621, 0.3363, 0.3659, 0.3114, 0.2044, 0.1286, 0.3044, -0.0526, 0.1936, 0.0913, -0.0, 0.2698, 0.1655, 0.0198, -0.0895, 0.335, 0.081, -0.0005, -0.0846, -0.2723, -0.2201, 0.0522, 0.0677, -0.3066, 0.1597, -0.2259, -0.4467, -0.0403, -0.337, 0.54, 0.4458, 0.4413, 0.4161, 0.4014, 0.4001, 0.3822, 0.3725, 0.3614, 0.3605, 0.3604, 0.3411, 0.3367, 0.3355, 0.3302, 0.3289, 0.3134, 0.3087, 0.304, 0.2975, 0.2935, 0.2857, 0.2784, 0.275, 0.2736, 0.2669, 0.2666, 0.2665, 0.2616, 0.2613, 0.2603, 0.2326, 0.2311, 0.2414, 0.2212, 0.2152, 0.2255, 0.1461, 0.2083, 0.1782, 0.2053, 0.0568, -0.0408, -0.1377, 0.148, 0.0189, 0.2416, 0.2286, 0.1112, -0.1707, -0.1996, -0.0064, -0.1848, -0.1192, -0.3339, -0.0834, -0.3011, -0.2223, -0.2467, -0.0203, -0.0256, -0.4609, -0.1402]}, \"token.table\": {\"Topic\": [1, 1, 3, 2, 1, 2, 3, 2, 1, 3, 2, 1, 3, 1, 3, 1, 3, 1, 2, 2, 1, 2, 3, 1, 2, 1, 2, 3, 1, 3, 1, 1, 2, 3, 1, 3, 2, 2, 1, 3, 1, 2, 1, 2, 3, 1, 3, 2, 1, 3, 1, 3, 1, 3, 1, 1, 2, 3, 2, 1, 3, 1, 1, 1, 1, 1, 1, 2, 3, 1, 2, 1, 2, 1, 2, 3, 1, 2, 3, 1, 2, 3, 1, 1, 3, 1, 2, 3, 1, 2, 1, 2, 1, 2, 1, 2, 1, 1, 1, 2, 2, 2, 1, 1, 1, 2, 3, 1, 2, 1, 1, 2, 1, 2, 3, 1, 2, 1, 2, 1, 1, 2, 2, 1, 1, 2, 3, 2, 2, 1, 1, 2, 2, 1, 2, 3, 1, 2, 1, 2, 1, 2, 3, 1, 2, 3, 2, 1, 2, 3, 1, 1, 2, 1, 1, 1, 3, 2, 2, 2, 1, 2, 2, 1, 2, 1, 2, 3, 1, 1, 2, 1, 2, 2, 1, 2, 2, 2, 1, 2, 1, 2, 2, 1, 1, 2, 3, 1, 2, 3, 1, 2, 2, 1, 2, 2, 2, 1, 1, 1, 1, 2, 2, 1, 2, 3, 1, 2, 3, 1, 2, 1, 3, 1, 1, 2, 2, 1, 3, 2, 1, 2, 1, 2, 3, 1, 1, 2, 3, 1, 2, 1, 1, 2, 3, 1, 2, 1, 3, 1, 3, 1, 3, 2, 1, 2, 1, 3, 1, 2, 1, 3, 1, 2, 1, 2, 3, 1, 3], \"Freq\": [0.7423791680999876, 0.6419658914370463, 0.32098294571852315, 0.887395053986736, 0.6109872842609132, 0.20366242808697105, 0.20366242808697105, 0.8615206822196414, 0.551122672595513, 0.551122672595513, 0.9105176290785523, 0.5412629513225959, 0.5412629513225959, 0.5105908862548625, 0.5105908862548625, 0.607826804623302, 0.607826804623302, 0.34212916852101166, 0.34212916852101166, 0.9014117488234799, 0.24701544931277192, 0.49403089862554384, 0.24701544931277192, 0.3965330457369686, 0.3965330457369686, 0.5639948875694946, 0.1879982958564982, 0.1879982958564982, 0.5611490822320986, 0.5611490822320986, 0.7408771050092222, 0.4419573038143571, 0.22097865190717855, 0.36829775317863095, 0.5661720395967746, 0.5661720395967746, 0.8936181652558934, 0.9064859142638313, 0.569227530068073, 0.569227530068073, 0.8536090691537751, 0.8849537051430052, 0.4350414540475505, 0.4350414540475505, 0.4350414540475505, 0.5517386123185574, 0.5517386123185574, 0.8521137764952446, 0.6914463476596521, 0.34572317382982604, 0.32276825999274333, 0.6455365199854867, 0.46148185686225074, 0.46148185686225074, 0.7469798231613821, 0.3253294076014827, 0.3253294076014827, 0.3253294076014827, 0.6577851599819081, 0.3968674563072443, 0.3968674563072443, 0.737327046386483, 0.852589026157475, 0.7260813265217609, 0.8467634418374971, 0.8493857369427438, 0.37406424637327196, 0.37406424637327196, 0.37406424637327196, 0.41337723868342524, 0.41337723868342524, 0.3702717885056658, 0.3702717885056658, 0.45631911538029024, 0.3042127435868602, 0.3042127435868602, 0.6651987345686351, 0.22173291152287836, 0.22173291152287836, 0.6328473494350098, 0.3164236747175049, 0.3164236747175049, 0.7277205808714883, 0.3564627583517431, 0.3564627583517431, 0.32867748312564204, 0.32867748312564204, 0.32867748312564204, 0.5094295581311369, 0.622663640483774, 0.7465707039598104, 0.6518826221153384, 0.3903429714084372, 0.3903429714084372, 0.461085121633312, 0.461085121633312, 0.8818152641819564, 0.7056720488194749, 0.40930610343912904, 0.40930610343912904, 0.6562820806721803, 0.889605851969629, 0.7259490385984929, 0.47342725322145524, 0.5312732632848274, 0.35418217552321823, 0.17709108776160912, 0.47026553995516474, 0.47026553995516474, 0.7503887085206894, 0.3543952141065591, 0.3543952141065591, 0.5393853960610578, 0.2696926980305289, 0.2696926980305289, 0.38029984499810465, 0.38029984499810465, 0.46637350403650085, 0.46637350403650085, 0.7595973282836265, 0.37739425591917425, 0.37739425591917425, 0.8488367784397949, 0.8546623276504595, 0.4839487244190442, 0.4839487244190442, 0.2419743622095221, 0.8944855381982925, 0.5949199511113832, 0.7231218145616163, 0.49006551271317844, 0.49006551271317844, 0.6162063321383494, 0.3557134671544299, 0.4742846228725732, 0.1185711557181433, 0.42339886681208144, 0.42339886681208144, 0.4849986602840544, 0.4849986602840544, 0.669185809795502, 0.22306193659850068, 0.22306193659850068, 0.3568699479124323, 0.5353049218686484, 0.17843497395621616, 0.6212323058648083, 0.31947833088875216, 0.31947833088875216, 0.31947833088875216, 0.47656591356729955, 0.656176320163638, 0.656176320163638, 0.4611124839849165, 0.8581409275374456, 0.6278388674307493, 0.6278388674307493, 0.9207424151766593, 0.9122039638078524, 0.8391153119270055, 0.7336499882135358, 0.3668249941067679, 0.5779097762591927, 0.6625713638378102, 0.3312856819189051, 0.4169106290381099, 0.4169106290381099, 0.4169106290381099, 0.7618844422063409, 0.4905499236485216, 0.4905499236485216, 0.44378553965428663, 0.44378553965428663, 0.8960414808236715, 0.4403755900913338, 0.4403755900913338, 0.9183055311034158, 0.6102969039152865, 0.7110540459002558, 0.924836043663774, 0.5826762418547022, 0.5826762418547022, 0.922858795321679, 0.6904808715110543, 0.575804684863331, 0.2879023424316655, 0.2879023424316655, 0.5600659289654902, 0.18668864298849674, 0.18668864298849674, 0.4501847986795929, 0.4501847986795929, 0.48906422266818983, 0.34457530900353056, 0.34457530900353056, 0.9203804699998057, 0.5782323058154288, 0.4889734311799643, 0.6789091401411048, 0.7382825151980036, 0.706062103933623, 0.3530310519668115, 0.6466573973492211, 0.6004965614760767, 0.30024828073803833, 0.15012414036901917, 0.682530681288475, 0.22751022709615837, 0.22751022709615837, 0.41206001654106567, 0.41206001654106567, 0.5579649667467513, 0.5579649667467513, 0.7073448526992613, 0.6013573065241495, 0.6013573065241495, 0.5878280006874719, 0.35824146835586756, 0.5373622025338013, 0.861876060747889, 0.4630419650220561, 0.4630419650220561, 0.6002100022376546, 0.20007000074588488, 0.20007000074588488, 0.882378817042552, 0.539156104871708, 0.269578052435854, 0.269578052435854, 0.45881803286994866, 0.45881803286994866, 0.7046214676416315, 0.43799081914237514, 0.43799081914237514, 0.21899540957118757, 0.47633597954624146, 0.47633597954624146, 0.367340324773686, 0.367340324773686, 0.5974137834817276, 0.5974137834817276, 0.5727484861092357, 0.5727484861092357, 0.6559630224451678, 0.6838219244652463, 0.6201364291137385, 0.5648926122395492, 0.5648926122395492, 0.4830276526998103, 0.4830276526998103, 0.5876661949302222, 0.5876661949302222, 0.47617845426548283, 0.47617845426548283, 0.5805895743715674, 0.2902947871857837, 0.2902947871857837, 0.5757309760804098, 0.5757309760804098], \"Term\": [\"Access\", \"Act\", \"Act\", \"Affairs\", \"Budget\", \"Budget\", \"Budget\", \"CAD\", \"Capitals\", \"Capitals\", \"Commerce\", \"Dadra\", \"Dadra\", \"Daman\", \"Daman\", \"Diu\", \"Diu\", \"FY\", \"FY\", \"Food\", \"GDP\", \"GDP\", \"GDP\", \"GST\", \"GST\", \"Government\", \"Government\", \"Government\", \"Haveli\", \"Haveli\", \"INR1\", \"India\", \"India\", \"India\", \"Indian\", \"Indian\", \"Industry\", \"Institute\", \"January\", \"January\", \"Kolkata\", \"McKinsey\", \"Minister\", \"Minister\", \"Minister\", \"Nagar\", \"Nagar\", \"Piyush\", \"States\", \"States\", \"Territories\", \"Territories\", \"Union\", \"Union\", \"abuse\", \"accord\", \"accord\", \"accord\", \"achieve\", \"administrative\", \"administrative\", \"agenda\", \"altogether\", \"ambitious\", \"appoint\", \"bag\", \"base\", \"base\", \"base\", \"boost\", \"boost\", \"budget\", \"budget\", \"capital\", \"capital\", \"capital\", \"cent\", \"cent\", \"cent\", \"change\", \"change\", \"change\", \"citizen\", \"city\", \"city\", \"come\", \"come\", \"come\", \"compliance\", \"contact\", \"contract\", \"contribution\", \"crore\", \"crore\", \"current\", \"current\", \"day\", \"decriminalisation\", \"deficit\", \"deficit\", \"demand\", \"democracy\", \"design\", \"ease\", \"economic\", \"economic\", \"economic\", \"economy\", \"economy\", \"emission\", \"employment\", \"employment\", \"energy\", \"energy\", \"energy\", \"enhance\", \"enhance\", \"expect\", \"expect\", \"expectation\", \"export\", \"export\", \"factor\", \"federal\", \"focus\", \"focus\", \"focus\", \"generate\", \"government\", \"grade\", \"green\", \"green\", \"grow\", \"growth\", \"growth\", \"growth\", \"high\", \"high\", \"important\", \"important\", \"include\", \"include\", \"include\", \"increase\", \"increase\", \"increase\", \"indicate\", \"infrastructure\", \"infrastructure\", \"infrastructure\", \"investment\", \"large\", \"large\", \"law\", \"lead\", \"list\", \"list\", \"lose\", \"major\", \"momentum\", \"msme\", \"msme\", \"need\", \"non\", \"non\", \"number\", \"number\", \"number\", \"offshore\", \"opportunity\", \"opportunity\", \"outlay\", \"outlay\", \"overcome\", \"pandemic\", \"pandemic\", \"partnership\", \"pen\", \"possession\", \"power\", \"private\", \"private\", \"promise\", \"promote\", \"provide\", \"provide\", \"provide\", \"provision\", \"provision\", \"provision\", \"public\", \"public\", \"quarter\", \"rate\", \"rate\", \"real\", \"recovery\", \"regard\", \"regime\", \"rein\", \"remain\", \"remain\", \"rise\", \"sector\", \"sector\", \"sector\", \"see\", \"see\", \"see\", \"service\", \"service\", \"session\", \"session\", \"slab\", \"source\", \"source\", \"spending\", \"state\", \"state\", \"streamlined\", \"strengthen\", \"strengthen\", \"strong\", \"strong\", \"strong\", \"summer\", \"supply\", \"supply\", \"supply\", \"support\", \"support\", \"surcharge\", \"tax\", \"tax\", \"tax\", \"taxpayer\", \"taxpayer\", \"territory\", \"territory\", \"time\", \"time\", \"total\", \"total\", \"trade\", \"transition\", \"unicorn\", \"union\", \"union\", \"us$\", \"us$\", \"winter\", \"winter\", \"world\", \"world\", \"year\", \"year\", \"year\", \"\\u00a0\", \"\\u00a0\"]}, \"R\": 30, \"lambda.step\": 0.01, \"plot.opts\": {\"xlab\": \"PC1\", \"ylab\": \"PC2\"}, \"topic.order\": [1, 4, 5, 2, 3]};\n",
       "\n",
       "function LDAvis_load_lib(url, callback){\n",
       "  var s = document.createElement('script');\n",
       "  s.src = url;\n",
       "  s.async = true;\n",
       "  s.onreadystatechange = s.onload = callback;\n",
       "  s.onerror = function(){console.warn(\"failed to load library \" + url);};\n",
       "  document.getElementsByTagName(\"head\")[0].appendChild(s);\n",
       "}\n",
       "\n",
       "if(typeof(LDAvis) !== \"undefined\"){\n",
       "   // already loaded: just create the visualization\n",
       "   !function(LDAvis){\n",
       "       new LDAvis(\"#\" + \"ldavis_el1831619823816782569459603122\", ldavis_el1831619823816782569459603122_data);\n",
       "   }(LDAvis);\n",
       "}else if(typeof define === \"function\" && define.amd){\n",
       "   // require.js is available: use it to load d3/LDAvis\n",
       "   require.config({paths: {d3: \"https://d3js.org/d3.v5\"}});\n",
       "   require([\"d3\"], function(d3){\n",
       "      window.d3 = d3;\n",
       "      LDAvis_load_lib(\"https://cdn.jsdelivr.net/gh/bmabey/pyLDAvis@3.3.1/pyLDAvis/js/ldavis.v3.0.0.js\", function(){\n",
       "        new LDAvis(\"#\" + \"ldavis_el1831619823816782569459603122\", ldavis_el1831619823816782569459603122_data);\n",
       "      });\n",
       "    });\n",
       "}else{\n",
       "    // require.js not available: dynamically load d3 & LDAvis\n",
       "    LDAvis_load_lib(\"https://d3js.org/d3.v5.js\", function(){\n",
       "         LDAvis_load_lib(\"https://cdn.jsdelivr.net/gh/bmabey/pyLDAvis@3.3.1/pyLDAvis/js/ldavis.v3.0.0.js\", function(){\n",
       "                 new LDAvis(\"#\" + \"ldavis_el1831619823816782569459603122\", ldavis_el1831619823816782569459603122_data);\n",
       "            })\n",
       "         });\n",
       "}\n",
       "</script>"
      ],
      "text/plain": [
       "PreparedData(topic_coordinates=              x         y  topics  cluster       Freq\n",
       "topic                                                \n",
       "0     -0.009398  0.011271       1        1  48.376204\n",
       "3      0.033841 -0.000396       2        1  30.874629\n",
       "4     -0.034266 -0.004480       3        1  20.607609\n",
       "1      0.007025 -0.003854       4        1   0.070829\n",
       "2      0.002797 -0.002541       5        1   0.070730, topic_info=               Term       Freq      Total Category  logprob  loglift\n",
       "18            India  13.000000  13.000000  Default  30.0000  30.0000\n",
       "143          growth   8.000000   8.000000  Default  29.0000  29.0000\n",
       "253          sector   6.000000   6.000000  Default  28.0000  28.0000\n",
       "153        increase   5.000000   5.000000  Default  27.0000  27.0000\n",
       "107        economic   5.000000   5.000000  Default  26.0000  26.0000\n",
       "..              ...        ...        ...      ...      ...      ...\n",
       "61             cent   0.002492   4.509930   Topic5  -5.4939  -0.2467\n",
       "158  infrastructure   0.002169   3.130103   Topic5  -5.6327  -0.0203\n",
       "335     Territories   0.002136   3.098198   Topic5  -5.6482  -0.0256\n",
       "12       Government   0.002373   5.319197   Topic5  -5.5430  -0.4609\n",
       "220         provide   0.002135   3.473400   Topic5  -5.6485  -0.1402\n",
       "\n",
       "[316 rows x 6 columns], token_table=      Topic      Freq     Term\n",
       "term                          \n",
       "0         1  0.742379   Access\n",
       "1         1  0.641966      Act\n",
       "1         3  0.320983      Act\n",
       "400       2  0.887395  Affairs\n",
       "2         1  0.610987   Budget\n",
       "...     ...       ...      ...\n",
       "294       1  0.580590     year\n",
       "294       2  0.290295     year\n",
       "294       3  0.290295     year\n",
       "396       1  0.575731         \n",
       "396       3  0.575731         \n",
       "\n",
       "[259 rows x 3 columns], R=30, lambda_step=0.01, plot_opts={'xlab': 'PC1', 'ylab': 'PC2'}, topic_order=[1, 4, 5, 2, 3])"
      ]
     },
     "execution_count": 40,
     "metadata": {},
     "output_type": "execute_result"
    }
   ],
   "source": [
    "plot"
   ]
  },
  {
   "cell_type": "code",
   "execution_count": null,
   "id": "ba828db8",
   "metadata": {},
   "outputs": [],
   "source": []
  }
 ],
 "metadata": {
  "kernelspec": {
   "display_name": "Python 3 (ipykernel)",
   "language": "python",
   "name": "python3"
  },
  "language_info": {
   "codemirror_mode": {
    "name": "ipython",
    "version": 3
   },
   "file_extension": ".py",
   "mimetype": "text/x-python",
   "name": "python",
   "nbconvert_exporter": "python",
   "pygments_lexer": "ipython3",
   "version": "3.9.12"
  }
 },
 "nbformat": 4,
 "nbformat_minor": 5
}
