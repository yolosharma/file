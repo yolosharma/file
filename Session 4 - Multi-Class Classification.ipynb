{
 "cells": [
  {
   "cell_type": "markdown",
   "metadata": {
    "id": "r6UfEjFQTWOS"
   },
   "source": [
    "## **Multi-Class Classification**"
   ]
  },
  {
   "cell_type": "code",
   "execution_count": 1,
   "metadata": {
    "executionInfo": {
     "elapsed": 4667,
     "status": "ok",
     "timestamp": 1674270609992,
     "user": {
      "displayName": "Adithya Vinod",
      "userId": "06561846904279351931"
     },
     "user_tz": -330
    },
    "id": "d3wbL9K7ShH-"
   },
   "outputs": [],
   "source": [
    "import pandas as pd\n",
    "import numpy as np \n",
    "import matplotlib.pyplot as plt \n",
    "import tensorflow as tf"
   ]
  },
  {
   "cell_type": "markdown",
   "metadata": {
    "id": "aeecJBoTTr-w"
   },
   "source": [
    "## **Accessing the Dataset**"
   ]
  },
  {
   "cell_type": "code",
   "execution_count": 2,
   "metadata": {
    "executionInfo": {
     "elapsed": 2,
     "status": "ok",
     "timestamp": 1674270718857,
     "user": {
      "displayName": "Adithya Vinod",
      "userId": "06561846904279351931"
     },
     "user_tz": -330
    },
    "id": "JF_F2467Tdr-"
   },
   "outputs": [],
   "source": [
    "from tensorflow.keras.datasets import fashion_mnist"
   ]
  },
  {
   "cell_type": "code",
   "execution_count": 5,
   "metadata": {
    "colab": {
     "base_uri": "https://localhost:8080/"
    },
    "executionInfo": {
     "elapsed": 1297,
     "status": "ok",
     "timestamp": 1674270805529,
     "user": {
      "displayName": "Adithya Vinod",
      "userId": "06561846904279351931"
     },
     "user_tz": -330
    },
    "id": "lVZg1qTOT7W1",
    "outputId": "07d136dc-88b6-41e2-8447-90c9c2c80a3a"
   },
   "outputs": [
    {
     "name": "stdout",
     "output_type": "stream",
     "text": [
      "Downloading data from https://storage.googleapis.com/tensorflow/tf-keras-datasets/train-labels-idx1-ubyte.gz\n",
      "29515/29515 [==============================] - 0s 0us/step\n",
      "Downloading data from https://storage.googleapis.com/tensorflow/tf-keras-datasets/train-images-idx3-ubyte.gz\n",
      "26421880/26421880 [==============================] - 0s 0us/step\n",
      "Downloading data from https://storage.googleapis.com/tensorflow/tf-keras-datasets/t10k-labels-idx1-ubyte.gz\n",
      "5148/5148 [==============================] - 0s 0us/step\n",
      "Downloading data from https://storage.googleapis.com/tensorflow/tf-keras-datasets/t10k-images-idx3-ubyte.gz\n",
      "4422102/4422102 [==============================] - 0s 0us/step\n"
     ]
    }
   ],
   "source": [
    "(X_train, y_train) , (X_test, y_test) = fashion_mnist.load_data()"
   ]
  },
  {
   "cell_type": "code",
   "execution_count": 6,
   "metadata": {
    "colab": {
     "base_uri": "https://localhost:8080/"
    },
    "executionInfo": {
     "elapsed": 352,
     "status": "ok",
     "timestamp": 1674270847135,
     "user": {
      "displayName": "Adithya Vinod",
      "userId": "06561846904279351931"
     },
     "user_tz": -330
    },
    "id": "BXUbbCP4UDBn",
    "outputId": "e8b32855-89b6-4891-9070-fc8e17dd070a"
   },
   "outputs": [
    {
     "data": {
      "text/plain": [
       "((60000, 28, 28), (60000,), (10000, 28, 28), (10000,))"
      ]
     },
     "execution_count": 6,
     "metadata": {},
     "output_type": "execute_result"
    }
   ],
   "source": [
    "X_train.shape, y_train.shape, X_test.shape, y_test.shape"
   ]
  },
  {
   "cell_type": "code",
   "execution_count": 9,
   "metadata": {
    "executionInfo": {
     "elapsed": 1,
     "status": "ok",
     "timestamp": 1674271013113,
     "user": {
      "displayName": "Adithya Vinod",
      "userId": "06561846904279351931"
     },
     "user_tz": -330
    },
    "id": "reD5DecDUakF"
   },
   "outputs": [],
   "source": [
    "#  Train data consists of 60000 & test data consists of 10000 datapoints \n",
    "# Total 28 features, so the network will be of 28X28 pixels (i.e, 28 rows and 28 columns, so we have it as 3 dimensional - 60000,28,28 and 10000,28,28)"
   ]
  },
  {
   "cell_type": "markdown",
   "metadata": {
    "id": "LTEBuuCkUr5O"
   },
   "source": [
    "## **Visualisation of the data**"
   ]
  },
  {
   "cell_type": "code",
   "execution_count": 11,
   "metadata": {
    "colab": {
     "base_uri": "https://localhost:8080/",
     "height": 298
    },
    "executionInfo": {
     "elapsed": 996,
     "status": "ok",
     "timestamp": 1674271052540,
     "user": {
      "displayName": "Adithya Vinod",
      "userId": "06561846904279351931"
     },
     "user_tz": -330
    },
    "id": "wPFBeXdKUgWZ",
    "outputId": "67a6324e-b7aa-470e-99ed-613d4e1fd4b4"
   },
   "outputs": [
    {
     "data": {
      "text/plain": [
       "Text(0.5, 1.0, '9')"
      ]
     },
     "execution_count": 11,
     "metadata": {},
     "output_type": "execute_result"
    },
    {
     "data": {
      "image/png": "[encoded data removed]",
      "text/plain": [
       "<Figure size 432x288 with 1 Axes>"
      ]
     },
     "metadata": {
      "needs_background": "light"
     },
     "output_type": "display_data"
    }
   ],
   "source": [
    "plt.imshow(X_train[0],'Greys')\n",
    "plt.title(y_train[0])"
   ]
  },
  {
   "cell_type": "code",
   "execution_count": 13,
   "metadata": {
    "executionInfo": {
     "elapsed": 551,
     "status": "ok",
     "timestamp": 1674271340482,
     "user": {
      "displayName": "Adithya Vinod",
      "userId": "06561846904279351931"
     },
     "user_tz": -330
    },
    "id": "IuxXjn9JVIQB"
   },
   "outputs": [],
   "source": [
    "# Creating a Dictionary of numbers and respective fashion items \n",
    "\n",
    "fashion_dict = {0:'T-shirt/top', 1:'Trouser', 2:'Pullover', 3:'Dress', 4:'Coat', 5:'Sandal', 6:'Shirt', 7:'Sneaker', 8:'Bag', 9:'Ankle boot'}"
   ]
  },
  {
   "cell_type": "code",
   "execution_count": 14,
   "metadata": {
    "colab": {
     "base_uri": "https://localhost:8080/"
    },
    "executionInfo": {
     "elapsed": 4,
     "status": "ok",
     "timestamp": 1674271345820,
     "user": {
      "displayName": "Adithya Vinod",
      "userId": "06561846904279351931"
     },
     "user_tz": -330
    },
    "id": "mpw7ffewWKwZ",
    "outputId": "7915c1c0-b7b0-4d49-e8d4-55b65da14159"
   },
   "outputs": [
    {
     "data": {
      "text/plain": [
       "{0: 'T-shirt/top',\n",
       " 1: 'Trouser',\n",
       " 2: 'Pullover',\n",
       " 3: 'Dress',\n",
       " 4: 'Coat',\n",
       " 5: 'Sandal',\n",
       " 6: 'Shirt',\n",
       " 7: 'Sneaker',\n",
       " 8: 'Bag',\n",
       " 9: 'Ankle boot'}"
      ]
     },
     "execution_count": 14,
     "metadata": {},
     "output_type": "execute_result"
    }
   ],
   "source": [
    "fashion_dict"
   ]
  },
  {
   "cell_type": "code",
   "execution_count": 16,
   "metadata": {
    "colab": {
     "base_uri": "https://localhost:8080/",
     "height": 281
    },
    "executionInfo": {
     "elapsed": 404,
     "status": "ok",
     "timestamp": 1674271517285,
     "user": {
      "displayName": "Adithya Vinod",
      "userId": "06561846904279351931"
     },
     "user_tz": -330
    },
    "id": "yNtPdZkXWUeE",
    "outputId": "69e16212-511b-442a-d0d5-d9c8d53a9551"
   },
   "outputs": [
    {
     "data": {
      "image/png": "[encoded data removed]",
      "text/plain": [
       "<Figure size 432x288 with 1 Axes>"
      ]
     },
     "metadata": {
      "needs_background": "light"
     },
     "output_type": "display_data"
    }
   ],
   "source": [
    "plt.imshow(X_train[0], 'Greys')\n",
    "plt.title(fashion_dict[y_train[0]]);\n",
    "\n",
    "# Now we are getting the title as Ankle Boot as the name "
   ]
  },
  {
   "cell_type": "code",
   "execution_count": 17,
   "metadata": {
    "colab": {
     "base_uri": "https://localhost:8080/",
     "height": 281
    },
    "executionInfo": {
     "elapsed": 908,
     "status": "ok",
     "timestamp": 1674271528486,
     "user": {
      "displayName": "Adithya Vinod",
      "userId": "06561846904279351931"
     },
     "user_tz": -330
    },
    "id": "iBnsbBI7W10F",
    "outputId": "d156f442-d2b3-441c-9fd4-23b01a1fafc4"
   },
   "outputs": [
    {
     "data": {
      "image/png": "[encoded data removed]",
      "text/plain": [
       "<Figure size 432x288 with 1 Axes>"
      ]
     },
     "metadata": {
      "needs_background": "light"
     },
     "output_type": "display_data"
    }
   ],
   "source": [
    "plt.imshow(X_train[10], 'Greys')\n",
    "plt.title(fashion_dict[y_train[10]]);"
   ]
  },
  {
   "cell_type": "code",
   "execution_count": 18,
   "metadata": {
    "colab": {
     "base_uri": "https://localhost:8080/",
     "height": 281
    },
    "executionInfo": {
     "elapsed": 13,
     "status": "ok",
     "timestamp": 1674271555585,
     "user": {
      "displayName": "Adithya Vinod",
      "userId": "06561846904279351931"
     },
     "user_tz": -330
    },
    "id": "MDktbEFCXA-l",
    "outputId": "19565295-68e9-46ca-fcfd-53facbb298c6"
   },
   "outputs": [
    {
     "data": {
      "image/png": "[encoded data removed]",
      "text/plain": [
       "<Figure size 432x288 with 1 Axes>"
      ]
     },
     "metadata": {
      "needs_background": "light"
     },
     "output_type": "display_data"
    }
   ],
   "source": [
    "plt.imshow(X_train[100], 'Greys')\n",
    "plt.title(fashion_dict[y_train[100]]);"
   ]
  },
  {
   "cell_type": "code",
   "execution_count": 19,
   "metadata": {
    "colab": {
     "base_uri": "https://localhost:8080/",
     "height": 281
    },
    "executionInfo": {
     "elapsed": 703,
     "status": "ok",
     "timestamp": 1674271571630,
     "user": {
      "displayName": "Adithya Vinod",
      "userId": "06561846904279351931"
     },
     "user_tz": -330
    },
    "id": "yLELLei6XHr8",
    "outputId": "4803eb9e-861b-4dd0-c495-f23aefc15ee3"
   },
   "outputs": [
    {
     "data": {
      "image/png": "[encoded data removed]",
      "text/plain": [
       "<Figure size 432x288 with 1 Axes>"
      ]
     },
     "metadata": {
      "needs_background": "light"
     },
     "output_type": "display_data"
    }
   ],
   "source": [
    "plt.imshow(X_train[500], 'Greys')\n",
    "plt.title(fashion_dict[y_train[500]]);"
   ]
  },
  {
   "cell_type": "code",
   "execution_count": 20,
   "metadata": {
    "colab": {
     "base_uri": "https://localhost:8080/",
     "height": 281
    },
    "executionInfo": {
     "elapsed": 7,
     "status": "ok",
     "timestamp": 1674271599055,
     "user": {
      "displayName": "Adithya Vinod",
      "userId": "06561846904279351931"
     },
     "user_tz": -330
    },
    "id": "1osXy-VgXLjN",
    "outputId": "981bdcb7-5af3-4921-dad7-2415fe995c54"
   },
   "outputs": [
    {
     "data": {
      "image/png": "[encoded data removed]",
      "text/plain": [
       "<Figure size 432x288 with 1 Axes>"
      ]
     },
     "metadata": {
      "needs_background": "light"
     },
     "output_type": "display_data"
    }
   ],
   "source": [
    "plt.imshow(X_train[3000], 'Greys')\n",
    "plt.title(fashion_dict[y_train[3000]]);"
   ]
  },
  {
   "cell_type": "code",
   "execution_count": 21,
   "metadata": {
    "colab": {
     "base_uri": "https://localhost:8080/",
     "height": 281
    },
    "executionInfo": {
     "elapsed": 407,
     "status": "ok",
     "timestamp": 1674271608368,
     "user": {
      "displayName": "Adithya Vinod",
      "userId": "06561846904279351931"
     },
     "user_tz": -330
    },
    "id": "Hu9nn6U4XSZY",
    "outputId": "4f97dca8-2b40-4609-bda8-debeb1fe4198"
   },
   "outputs": [
    {
     "data": {
      "image/png": "[encoded data removed]",
      "text/plain": [
       "<Figure size 432x288 with 1 Axes>"
      ]
     },
     "metadata": {
      "needs_background": "light"
     },
     "output_type": "display_data"
    }
   ],
   "source": [
    "plt.imshow(X_train[5000], 'Greys')\n",
    "plt.title(fashion_dict[y_train[5000]]);"
   ]
  },
  {
   "cell_type": "code",
   "execution_count": 22,
   "metadata": {
    "colab": {
     "base_uri": "https://localhost:8080/",
     "height": 281
    },
    "executionInfo": {
     "elapsed": 7,
     "status": "ok",
     "timestamp": 1674271617207,
     "user": {
      "displayName": "Adithya Vinod",
      "userId": "06561846904279351931"
     },
     "user_tz": -330
    },
    "id": "9ls1AaP_XUle",
    "outputId": "39bff101-7df8-4906-e5ae-3c70673fc033"
   },
   "outputs": [
    {
     "data": {
      "image/png": "[encoded data removed]",
      "text/plain": [
       "<Figure size 432x288 with 1 Axes>"
      ]
     },
     "metadata": {
      "needs_background": "light"
     },
     "output_type": "display_data"
    }
   ],
   "source": [
    "plt.imshow(X_train[15000], 'Greys')\n",
    "plt.title(fashion_dict[y_train[15000]]);"
   ]
  },
  {
   "cell_type": "code",
   "execution_count": 23,
   "metadata": {
    "colab": {
     "base_uri": "https://localhost:8080/",
     "height": 281
    },
    "executionInfo": {
     "elapsed": 12,
     "status": "ok",
     "timestamp": 1674271658485,
     "user": {
      "displayName": "Adithya Vinod",
      "userId": "06561846904279351931"
     },
     "user_tz": -330
    },
    "id": "S326pl92XWyV",
    "outputId": "707a4f8f-02de-44de-f2b4-9f7aef843d96"
   },
   "outputs": [
    {
     "data": {
      "image/png": "[encoded data removed]",
      "text/plain": [
       "<Figure size 432x288 with 1 Axes>"
      ]
     },
     "metadata": {
      "needs_background": "light"
     },
     "output_type": "display_data"
    }
   ],
   "source": [
    "plt.imshow(X_train[45000], 'Greys')\n",
    "plt.title(fashion_dict[y_train[45000]]);"
   ]
  },
  {
   "cell_type": "markdown",
   "metadata": {
    "id": "8vpaQPusXv7W"
   },
   "source": [
    "## **Building a Model**"
   ]
  },
  {
   "cell_type": "code",
   "execution_count": 24,
   "metadata": {
    "executionInfo": {
     "elapsed": 370,
     "status": "ok",
     "timestamp": 1674272714254,
     "user": {
      "displayName": "Adithya Vinod",
      "userId": "06561846904279351931"
     },
     "user_tz": -330
    },
    "id": "n4LwyE8zXg1v"
   },
   "outputs": [],
   "source": [
    "fashion_1 = tf.keras.Sequential()\n",
    "fashion_1.add(tf.keras.layers.Flatten())\n",
    "fashion_1.add(tf.keras.layers.Dense(300,activation='relu'))\n",
    "fashion_1.add(tf.keras.layers.Dense(10,activation='softmax'))\n",
    "\n",
    "# Input layer consists of 28X28 units = 784 units \n",
    "# We have 28X28 array (image size) total 784 pixels. We need to convert it into a single layer. So we convert this 28X28 into 1 X 784 (all 784 pixels in 1 layer) - We use 'Flatten' for that \n",
    "# Output layer has 10 units, as in the Fashion Dictionary there are 10 fashion items, so image has to be classified into 1 of these 10, hence output layer has 10 units \n",
    "# For Hidden Layer, we assume any value and proceed. Here we have considered randomly as 300 units in the Hidden Layer \n",
    "# We will use 'Softmax' activatino function for the Output layer "
   ]
  },
  {
   "cell_type": "markdown",
   "metadata": {
    "id": "pJa3RreubjT7"
   },
   "source": [
    "## **Compiling the Model**"
   ]
  },
  {
   "cell_type": "code",
   "execution_count": 26,
   "metadata": {
    "executionInfo": {
     "elapsed": 433,
     "status": "ok",
     "timestamp": 1674272948299,
     "user": {
      "displayName": "Adithya Vinod",
      "userId": "06561846904279351931"
     },
     "user_tz": -330
    },
    "id": "gGquWHVvbioS"
   },
   "outputs": [],
   "source": [
    "fashion_1.compile(loss=tf.keras.losses.SparseCategoricalCrossentropy(),\n",
    "                  optimizer=tf.keras.optimizers.Adam(),\n",
    "                  metrics=['accuracy'])"
   ]
  },
  {
   "cell_type": "markdown",
   "metadata": {
    "id": "bcJ2RjUWcdKL"
   },
   "source": [
    "## **Training the Model**"
   ]
  },
  {
   "cell_type": "code",
   "execution_count": 27,
   "metadata": {
    "colab": {
     "base_uri": "https://localhost:8080/",
     "height": 1000
    },
    "executionInfo": {
     "elapsed": 203631,
     "status": "ok",
     "timestamp": 1674273218005,
     "user": {
      "displayName": "Adithya Vinod",
      "userId": "06561846904279351931"
     },
     "user_tz": -330
    },
    "id": "-hXSA5IJcR-H",
    "outputId": "fa3a937c-1872-4254-8a3d-46de297cb060"
   },
   "outputs": [
    {
     "name": "stdout",
     "output_type": "stream",
     "text": [
      "Epoch 1/25\n",
      "1875/1875 [==============================] - 9s 4ms/step - loss: 3.3806 - accuracy: 0.7374\n",
      "Epoch 2/25\n",
      "1875/1875 [==============================] - 7s 4ms/step - loss: 0.5569 - accuracy: 0.8053\n",
      "Epoch 3/25\n",
      "1875/1875 [==============================] - 7s 4ms/step - loss: 0.5163 - accuracy: 0.8201\n",
      "Epoch 4/25\n",
      "1875/1875 [==============================] - 7s 4ms/step - loss: 0.4908 - accuracy: 0.8261\n",
      "Epoch 5/25\n",
      "1875/1875 [==============================] - 7s 4ms/step - loss: 0.4946 - accuracy: 0.8292\n",
      "Epoch 6/25\n",
      "1875/1875 [==============================] - 7s 4ms/step - loss: 0.4694 - accuracy: 0.8349\n",
      "Epoch 7/25\n",
      "1875/1875 [==============================] - 7s 4ms/step - loss: 0.4609 - accuracy: 0.8392\n",
      "Epoch 8/25\n",
      "1875/1875 [==============================] - 7s 4ms/step - loss: 0.4647 - accuracy: 0.8369\n",
      "Epoch 9/25\n",
      "1875/1875 [==============================] - 7s 4ms/step - loss: 0.4507 - accuracy: 0.8417\n",
      "Epoch 10/25\n",
      "1875/1875 [==============================] - 7s 4ms/step - loss: 0.4410 - accuracy: 0.8450\n",
      "Epoch 11/25\n",
      "1875/1875 [==============================] - 7s 4ms/step - loss: 0.4399 - accuracy: 0.8438\n",
      "Epoch 12/25\n",
      "1875/1875 [==============================] - 8s 4ms/step - loss: 0.4492 - accuracy: 0.8436\n",
      "Epoch 13/25\n",
      "1875/1875 [==============================] - 7s 4ms/step - loss: 0.4431 - accuracy: 0.8427\n",
      "Epoch 14/25\n",
      "1875/1875 [==============================] - 9s 5ms/step - loss: 0.4356 - accuracy: 0.8466\n",
      "Epoch 15/25\n",
      "1875/1875 [==============================] - 9s 5ms/step - loss: 0.4331 - accuracy: 0.8485\n",
      "Epoch 16/25\n",
      "1875/1875 [==============================] - 7s 4ms/step - loss: 0.4394 - accuracy: 0.8479\n",
      "Epoch 17/25\n",
      "1875/1875 [==============================] - 7s 4ms/step - loss: 0.4240 - accuracy: 0.8512\n",
      "Epoch 18/25\n",
      "1875/1875 [==============================] - 7s 4ms/step - loss: 0.4286 - accuracy: 0.8503\n",
      "Epoch 19/25\n",
      "1875/1875 [==============================] - 7s 4ms/step - loss: 0.4318 - accuracy: 0.8503\n",
      "Epoch 20/25\n",
      "1875/1875 [==============================] - 7s 4ms/step - loss: 0.4176 - accuracy: 0.8519\n",
      "Epoch 21/25\n",
      "1875/1875 [==============================] - 7s 4ms/step - loss: 0.4207 - accuracy: 0.8535\n",
      "Epoch 22/25\n",
      "1875/1875 [==============================] - 7s 4ms/step - loss: 0.4205 - accuracy: 0.8534\n",
      "Epoch 23/25\n",
      "1875/1875 [==============================] - 7s 4ms/step - loss: 0.4086 - accuracy: 0.8561\n",
      "Epoch 24/25\n",
      "1875/1875 [==============================] - 7s 4ms/step - loss: 0.4292 - accuracy: 0.8532\n",
      "Epoch 25/25\n",
      "1875/1875 [==============================] - 7s 4ms/step - loss: 0.4271 - accuracy: 0.8525\n"
     ]
    },
    {
     "data": {
      "text/plain": [
       "<matplotlib.axes._subplots.AxesSubplot at 0x7f50176be370>"
      ]
     },
     "execution_count": 27,
     "metadata": {},
     "output_type": "execute_result"
    },
    {
     "data": {
      "image/png": "[encoded data removed]",
      "text/plain": [
       "<Figure size 432x288 with 1 Axes>"
      ]
     },
     "metadata": {
      "needs_background": "light"
     },
     "output_type": "display_data"
    }
   ],
   "source": [
    "tf.random.set_seed(100)\n",
    "history_1 = fashion_1.fit(X_train, y_train, epochs=25)\n",
    "pd.DataFrame(history_1.history).plot()"
   ]
  },
  {
   "cell_type": "markdown",
   "metadata": {
    "id": "3oGgkFQ0d0Wc"
   },
   "source": [
    "## **Evaluation of the Model**"
   ]
  },
  {
   "cell_type": "code",
   "execution_count": 28,
   "metadata": {
    "colab": {
     "base_uri": "https://localhost:8080/"
    },
    "executionInfo": {
     "elapsed": 1643,
     "status": "ok",
     "timestamp": 1674273364728,
     "user": {
      "displayName": "Adithya Vinod",
      "userId": "06561846904279351931"
     },
     "user_tz": -330
    },
    "id": "lME4AbzGcrxC",
    "outputId": "f6b3e33b-e051-4c47-f84a-6deaffdc28bd"
   },
   "outputs": [
    {
     "name": "stdout",
     "output_type": "stream",
     "text": [
      "313/313 [==============================] - 1s 3ms/step - loss: 0.5468 - accuracy: 0.8229\n"
     ]
    }
   ],
   "source": [
    "test_loss, test_accuracy = fashion_1.evaluate(X_test, y_test)"
   ]
  },
  {
   "cell_type": "code",
   "execution_count": 30,
   "metadata": {
    "colab": {
     "base_uri": "https://localhost:8080/"
    },
    "executionInfo": {
     "elapsed": 630,
     "status": "ok",
     "timestamp": 1674273472400,
     "user": {
      "displayName": "Adithya Vinod",
      "userId": "06561846904279351931"
     },
     "user_tz": -330
    },
    "id": "EFrJxXmPeA65",
    "outputId": "b14a4f6c-f3ee-48e2-c210-5bf2a5f4981b"
   },
   "outputs": [
    {
     "name": "stdout",
     "output_type": "stream",
     "text": [
      "The Test Loss: 0.5468084216117859\n",
      "The Test Accuracy: 0.8228999972343445\n",
      "\n",
      " The Train Loss: 0.4271\n",
      "The Train Accuracy: 0.8525\n"
     ]
    }
   ],
   "source": [
    "print('The Test Loss:', test_loss)\n",
    "print('The Test Accuracy:', test_accuracy)\n",
    "print('\\n The Train Loss:','0.4271')\n",
    "print('The Train Accuracy:','0.8525')"
   ]
  },
  {
   "cell_type": "markdown",
   "metadata": {
    "id": "tGaCGHfMexFR"
   },
   "source": [
    "## **Improving the Model by adding one more Hidden Layer**"
   ]
  },
  {
   "cell_type": "code",
   "execution_count": 31,
   "metadata": {
    "executionInfo": {
     "elapsed": 480,
     "status": "ok",
     "timestamp": 1674273699903,
     "user": {
      "displayName": "Adithya Vinod",
      "userId": "06561846904279351931"
     },
     "user_tz": -330
    },
    "id": "x0oEOyfTeQAq"
   },
   "outputs": [],
   "source": [
    "# Generally we first increase the number of Hidden Layers to see if there is any improvement, if not then we try to increase the number of units in the existing Hidden Layers "
   ]
  },
  {
   "cell_type": "code",
   "execution_count": 32,
   "metadata": {
    "executionInfo": {
     "elapsed": 347,
     "status": "ok",
     "timestamp": 1674273767019,
     "user": {
      "displayName": "Adithya Vinod",
      "userId": "06561846904279351931"
     },
     "user_tz": -330
    },
    "id": "Nhwg2-c0fTPM"
   },
   "outputs": [],
   "source": [
    "fashion_2 = tf.keras.Sequential()\n",
    "fashion_2.add(tf.keras.layers.Flatten())\n",
    "fashion_2.add(tf.keras.layers.Dense(300,activation='relu'))\n",
    "fashion_2.add(tf.keras.layers.Dense(100,activation='relu')) # Adding another Hidden Layer \n",
    "fashion_2.add(tf.keras.layers.Dense(10,activation='softmax'))"
   ]
  },
  {
   "cell_type": "code",
   "execution_count": 33,
   "metadata": {
    "colab": {
     "base_uri": "https://localhost:8080/",
     "height": 1000
    },
    "executionInfo": {
     "elapsed": 263533,
     "status": "ok",
     "timestamp": 1674274076377,
     "user": {
      "displayName": "Adithya Vinod",
      "userId": "06561846904279351931"
     },
     "user_tz": -330
    },
    "id": "b3ToLMK-fjqV",
    "outputId": "0d103afc-0055-4de0-d32b-f5bda423085f"
   },
   "outputs": [
    {
     "name": "stdout",
     "output_type": "stream",
     "text": [
      "Epoch 1/25\n",
      "1875/1875 [==============================] - 9s 4ms/step - loss: 2.2530 - accuracy: 0.7698\n",
      "Epoch 2/25\n",
      "1875/1875 [==============================] - 8s 4ms/step - loss: 0.4925 - accuracy: 0.8300\n",
      "Epoch 3/25\n",
      "1875/1875 [==============================] - 8s 4ms/step - loss: 0.4449 - accuracy: 0.8418\n",
      "Epoch 4/25\n",
      "1875/1875 [==============================] - 8s 4ms/step - loss: 0.4187 - accuracy: 0.8517\n",
      "Epoch 5/25\n",
      "1875/1875 [==============================] - 8s 4ms/step - loss: 0.3995 - accuracy: 0.8584\n",
      "Epoch 6/25\n",
      "1875/1875 [==============================] - 8s 4ms/step - loss: 0.3867 - accuracy: 0.8638\n",
      "Epoch 7/25\n",
      "1875/1875 [==============================] - 8s 4ms/step - loss: 0.3741 - accuracy: 0.8682\n",
      "Epoch 8/25\n",
      "1875/1875 [==============================] - 9s 5ms/step - loss: 0.3659 - accuracy: 0.8710\n",
      "Epoch 9/25\n",
      "1875/1875 [==============================] - 8s 4ms/step - loss: 0.3561 - accuracy: 0.8743\n",
      "Epoch 10/25\n",
      "1875/1875 [==============================] - 8s 4ms/step - loss: 0.3425 - accuracy: 0.8786\n",
      "Epoch 11/25\n",
      "1875/1875 [==============================] - 8s 4ms/step - loss: 0.3445 - accuracy: 0.8779\n",
      "Epoch 12/25\n",
      "1875/1875 [==============================] - 8s 4ms/step - loss: 0.3370 - accuracy: 0.8812\n",
      "Epoch 13/25\n",
      "1875/1875 [==============================] - 8s 4ms/step - loss: 0.3331 - accuracy: 0.8808\n",
      "Epoch 14/25\n",
      "1875/1875 [==============================] - 8s 4ms/step - loss: 0.3305 - accuracy: 0.8824\n",
      "Epoch 15/25\n",
      "1875/1875 [==============================] - 8s 4ms/step - loss: 0.3232 - accuracy: 0.8845\n",
      "Epoch 16/25\n",
      "1875/1875 [==============================] - 8s 4ms/step - loss: 0.3179 - accuracy: 0.8864\n",
      "Epoch 17/25\n",
      "1875/1875 [==============================] - 8s 4ms/step - loss: 0.3204 - accuracy: 0.8873\n",
      "Epoch 18/25\n",
      "1875/1875 [==============================] - 8s 4ms/step - loss: 0.3109 - accuracy: 0.8888\n",
      "Epoch 19/25\n",
      "1875/1875 [==============================] - 8s 4ms/step - loss: 0.3158 - accuracy: 0.8885\n",
      "Epoch 20/25\n",
      "1875/1875 [==============================] - 8s 4ms/step - loss: 0.3027 - accuracy: 0.8923\n",
      "Epoch 21/25\n",
      "1875/1875 [==============================] - 8s 4ms/step - loss: 0.3017 - accuracy: 0.8925\n",
      "Epoch 22/25\n",
      "1875/1875 [==============================] - 9s 5ms/step - loss: 0.3028 - accuracy: 0.8933\n",
      "Epoch 23/25\n",
      "1875/1875 [==============================] - 8s 4ms/step - loss: 0.2983 - accuracy: 0.8944\n",
      "Epoch 24/25\n",
      "1875/1875 [==============================] - 10s 5ms/step - loss: 0.2963 - accuracy: 0.8937\n",
      "Epoch 25/25\n",
      "1875/1875 [==============================] - 15s 8ms/step - loss: 0.2932 - accuracy: 0.8971\n"
     ]
    },
    {
     "data": {
      "text/plain": [
       "<matplotlib.axes._subplots.AxesSubplot at 0x7f5017544970>"
      ]
     },
     "execution_count": 33,
     "metadata": {},
     "output_type": "execute_result"
    },
    {
     "data": {
      "image/png": "[encoded data removed]",
      "text/plain": [
       "<Figure size 432x288 with 1 Axes>"
      ]
     },
     "metadata": {
      "needs_background": "light"
     },
     "output_type": "display_data"
    }
   ],
   "source": [
    "fashion_2.compile(loss=tf.keras.losses.SparseCategoricalCrossentropy(),\n",
    "                  optimizer=tf.keras.optimizers.Adam(),\n",
    "                  metrics=['accuracy'])\n",
    "\n",
    "tf.random.set_seed(100)\n",
    "history_2 = fashion_2.fit(X_train, y_train, epochs=25)\n",
    "pd.DataFrame(history_2.history).plot()"
   ]
  },
  {
   "cell_type": "code",
   "execution_count": 35,
   "metadata": {
    "colab": {
     "base_uri": "https://localhost:8080/"
    },
    "executionInfo": {
     "elapsed": 1458,
     "status": "ok",
     "timestamp": 1674274092299,
     "user": {
      "displayName": "Adithya Vinod",
      "userId": "06561846904279351931"
     },
     "user_tz": -330
    },
    "id": "rvWBIy1Pfu7p",
    "outputId": "f3390fc7-56b5-4f7b-c9ba-72642f1f0c82"
   },
   "outputs": [
    {
     "name": "stdout",
     "output_type": "stream",
     "text": [
      "313/313 [==============================] - 1s 3ms/step - loss: 0.4506 - accuracy: 0.8618\n",
      "\n",
      "The Test Loss: 0.4505595266819\n",
      "The Test Accuracy: 0.8618000149726868\n",
      "\n",
      " The Train Loss: 0.2932\n",
      "The Train Accuracy: 0.8971\n"
     ]
    }
   ],
   "source": [
    "test_loss,test_accuracy = fashion_2.evaluate(X_test, y_test)\n",
    "\n",
    "print('\\nThe Test Loss:', test_loss)\n",
    "print('The Test Accuracy:', test_accuracy)\n",
    "print('\\n The Train Loss:','0.2932')\n",
    "print('The Train Accuracy:','0.8971')"
   ]
  },
  {
   "cell_type": "code",
   "execution_count": 36,
   "metadata": {
    "executionInfo": {
     "elapsed": 351,
     "status": "ok",
     "timestamp": 1674274284354,
     "user": {
      "displayName": "Adithya Vinod",
      "userId": "06561846904279351931"
     },
     "user_tz": -330
    },
    "id": "2vd4Rn3_gwtl"
   },
   "outputs": [],
   "source": [
    "# Focus is on Test Value - so from model 1 the loss has reduced in model 2, and accuracy has improved. So we can add more hidden layers and check \n",
    "# A point will come when the increase in hidden layers will not show any improvement or will decrease the accuracy and increase the loss, thats when you stop and try the next method \n",
    "# Next method is increasing the number of units in hidden layer "
   ]
  },
  {
   "cell_type": "markdown",
   "metadata": {
    "id": "LZOGCiLShqkA"
   },
   "source": [
    "## **Improving the Model by adding another Hidden Layer**"
   ]
  },
  {
   "cell_type": "code",
   "execution_count": 38,
   "metadata": {
    "executionInfo": {
     "elapsed": 552,
     "status": "ok",
     "timestamp": 1674274405054,
     "user": {
      "displayName": "Adithya Vinod",
      "userId": "06561846904279351931"
     },
     "user_tz": -330
    },
    "id": "-l01HANfhoXj"
   },
   "outputs": [],
   "source": [
    "fashion_3 = tf.keras.Sequential()\n",
    "fashion_3.add(tf.keras.layers.Flatten())\n",
    "fashion_3.add(tf.keras.layers.Dense(300,activation='relu'))\n",
    "fashion_3.add(tf.keras.layers.Dense(100,activation='relu')) \n",
    "fashion_3.add(tf.keras.layers.Dense(25,activation='relu'))  # Adding another Hidden Layer with 25 units \n",
    "fashion_3.add(tf.keras.layers.Dense(10,activation='softmax'))"
   ]
  },
  {
   "cell_type": "code",
   "execution_count": 42,
   "metadata": {
    "colab": {
     "base_uri": "https://localhost:8080/",
     "height": 1000
    },
    "executionInfo": {
     "elapsed": 232467,
     "status": "ok",
     "timestamp": 1674274735830,
     "user": {
      "displayName": "Adithya Vinod",
      "userId": "06561846904279351931"
     },
     "user_tz": -330
    },
    "id": "3dQF5FBIh_YE",
    "outputId": "c79446fe-85c5-43a4-83f1-b75969ae9de8"
   },
   "outputs": [
    {
     "name": "stdout",
     "output_type": "stream",
     "text": [
      "Epoch 1/25\n",
      "1875/1875 [==============================] - 8s 4ms/step - loss: 2.4589 - accuracy: 0.1195\n",
      "Epoch 2/25\n",
      "1875/1875 [==============================] - 8s 4ms/step - loss: 2.3029 - accuracy: 0.0992\n",
      "Epoch 3/25\n",
      "1875/1875 [==============================] - 8s 4ms/step - loss: 2.3028 - accuracy: 0.0985\n",
      "Epoch 4/25\n",
      "1875/1875 [==============================] - 9s 5ms/step - loss: 2.3028 - accuracy: 0.1007\n",
      "Epoch 5/25\n",
      "1875/1875 [==============================] - 9s 5ms/step - loss: 2.3028 - accuracy: 0.0976\n",
      "Epoch 6/25\n",
      "1875/1875 [==============================] - 8s 4ms/step - loss: 2.3028 - accuracy: 0.0990\n",
      "Epoch 7/25\n",
      "1875/1875 [==============================] - 8s 4ms/step - loss: 2.3028 - accuracy: 0.0996\n",
      "Epoch 8/25\n",
      "1875/1875 [==============================] - 8s 4ms/step - loss: 2.3027 - accuracy: 0.0996\n",
      "Epoch 9/25\n",
      "1875/1875 [==============================] - 11s 6ms/step - loss: 2.3028 - accuracy: 0.0964\n",
      "Epoch 10/25\n",
      "1875/1875 [==============================] - 10s 5ms/step - loss: 2.3028 - accuracy: 0.0979\n",
      "Epoch 11/25\n",
      "1875/1875 [==============================] - 11s 6ms/step - loss: 2.3028 - accuracy: 0.0986\n",
      "Epoch 12/25\n",
      "1875/1875 [==============================] - 11s 6ms/step - loss: 2.3027 - accuracy: 0.1004\n",
      "Epoch 13/25\n",
      "1875/1875 [==============================] - 11s 6ms/step - loss: 2.3028 - accuracy: 0.0982\n",
      "Epoch 14/25\n",
      "1875/1875 [==============================] - 9s 5ms/step - loss: 2.3027 - accuracy: 0.1009\n",
      "Epoch 15/25\n",
      "1875/1875 [==============================] - 9s 5ms/step - loss: 2.3028 - accuracy: 0.0966\n",
      "Epoch 16/25\n",
      "1875/1875 [==============================] - 12s 7ms/step - loss: 2.3028 - accuracy: 0.0983\n",
      "Epoch 17/25\n",
      "1875/1875 [==============================] - 9s 5ms/step - loss: 2.3028 - accuracy: 0.0985\n",
      "Epoch 18/25\n",
      "1875/1875 [==============================] - 8s 4ms/step - loss: 2.3028 - accuracy: 0.0989\n",
      "Epoch 19/25\n",
      "1875/1875 [==============================] - 8s 4ms/step - loss: 2.3028 - accuracy: 0.0965\n",
      "Epoch 20/25\n",
      "1875/1875 [==============================] - 9s 5ms/step - loss: 2.3027 - accuracy: 0.0993\n",
      "Epoch 21/25\n",
      "1875/1875 [==============================] - 11s 6ms/step - loss: 2.3028 - accuracy: 0.0995\n",
      "Epoch 22/25\n",
      "1875/1875 [==============================] - 8s 4ms/step - loss: 2.3028 - accuracy: 0.0992\n",
      "Epoch 23/25\n",
      "1875/1875 [==============================] - 9s 5ms/step - loss: 2.3028 - accuracy: 0.0972\n",
      "Epoch 24/25\n",
      "1875/1875 [==============================] - 10s 5ms/step - loss: 2.3028 - accuracy: 0.0962\n",
      "Epoch 25/25\n",
      "1875/1875 [==============================] - 10s 5ms/step - loss: 2.3028 - accuracy: 0.0981\n"
     ]
    },
    {
     "data": {
      "text/plain": [
       "<matplotlib.axes._subplots.AxesSubplot at 0x7f501d006310>"
      ]
     },
     "execution_count": 42,
     "metadata": {},
     "output_type": "execute_result"
    },
    {
     "data": {
      "image/png": "[encoded data removed]",
      "text/plain": [
       "<Figure size 432x288 with 1 Axes>"
      ]
     },
     "metadata": {
      "needs_background": "light"
     },
     "output_type": "display_data"
    }
   ],
   "source": [
    "fashion_3.compile(loss=tf.keras.losses.SparseCategoricalCrossentropy(),\n",
    "                  optimizer=tf.keras.optimizers.Adam(),\n",
    "                  metrics=['accuracy'])\n",
    "\n",
    "tf.random.set_seed(100)\n",
    "history_3 = fashion_3.fit(X_train, y_train, epochs=25)\n",
    "pd.DataFrame(history_3.history).plot()"
   ]
  },
  {
   "cell_type": "markdown",
   "metadata": {
    "id": "la-T40jYioEE"
   },
   "source": [
    "#### **Note:**\n",
    "#### **The Model fashion_3 is not good**\n",
    "#### **Go ahead with model fashion_2**\n"
   ]
  },
  {
   "cell_type": "markdown",
   "metadata": {
    "id": "ChUD1pWci4Xl"
   },
   "source": [
    "## **Improving the Model by Changing the Number of units**"
   ]
  },
  {
   "cell_type": "code",
   "execution_count": 43,
   "metadata": {
    "colab": {
     "base_uri": "https://localhost:8080/",
     "height": 1000
    },
    "executionInfo": {
     "elapsed": 203298,
     "status": "ok",
     "timestamp": 1674274985601,
     "user": {
      "displayName": "Adithya Vinod",
      "userId": "06561846904279351931"
     },
     "user_tz": -330
    },
    "id": "QbZxJMm8iCcg",
    "outputId": "90e9b43d-1353-4ce7-f9be-48a58391b3ee"
   },
   "outputs": [
    {
     "name": "stdout",
     "output_type": "stream",
     "text": [
      "Epoch 1/25\n",
      "1875/1875 [==============================] - 8s 4ms/step - loss: 2.2224 - accuracy: 0.7443\n",
      "Epoch 2/25\n",
      "1875/1875 [==============================] - 7s 4ms/step - loss: 0.6171 - accuracy: 0.7987\n",
      "Epoch 3/25\n",
      "1875/1875 [==============================] - 7s 4ms/step - loss: 0.5472 - accuracy: 0.8134\n",
      "Epoch 4/25\n",
      "1875/1875 [==============================] - 7s 4ms/step - loss: 0.4973 - accuracy: 0.8286\n",
      "Epoch 5/25\n",
      "1875/1875 [==============================] - 7s 4ms/step - loss: 0.4562 - accuracy: 0.8406\n",
      "Epoch 6/25\n",
      "1875/1875 [==============================] - 7s 4ms/step - loss: 0.4293 - accuracy: 0.8474\n",
      "Epoch 7/25\n",
      "1875/1875 [==============================] - 7s 4ms/step - loss: 0.4119 - accuracy: 0.8539\n",
      "Epoch 8/25\n",
      "1875/1875 [==============================] - 7s 4ms/step - loss: 0.4019 - accuracy: 0.8556\n",
      "Epoch 9/25\n",
      "1875/1875 [==============================] - 7s 4ms/step - loss: 0.3856 - accuracy: 0.8611\n",
      "Epoch 10/25\n",
      "1875/1875 [==============================] - 7s 4ms/step - loss: 0.3853 - accuracy: 0.8620\n",
      "Epoch 11/25\n",
      "1875/1875 [==============================] - 7s 4ms/step - loss: 0.3773 - accuracy: 0.8632\n",
      "Epoch 12/25\n",
      "1875/1875 [==============================] - 7s 4ms/step - loss: 0.3687 - accuracy: 0.8649\n",
      "Epoch 13/25\n",
      "1875/1875 [==============================] - 7s 4ms/step - loss: 0.3652 - accuracy: 0.8687\n",
      "Epoch 14/25\n",
      "1875/1875 [==============================] - 8s 4ms/step - loss: 0.3568 - accuracy: 0.8712\n",
      "Epoch 15/25\n",
      "1875/1875 [==============================] - 7s 4ms/step - loss: 0.3583 - accuracy: 0.8718\n",
      "Epoch 16/25\n",
      "1875/1875 [==============================] - 7s 4ms/step - loss: 0.3499 - accuracy: 0.8722\n",
      "Epoch 17/25\n",
      "1875/1875 [==============================] - 8s 4ms/step - loss: 0.3486 - accuracy: 0.8745\n",
      "Epoch 18/25\n",
      "1875/1875 [==============================] - 9s 5ms/step - loss: 0.3465 - accuracy: 0.8743\n",
      "Epoch 19/25\n",
      "1875/1875 [==============================] - 8s 4ms/step - loss: 0.3464 - accuracy: 0.8745\n",
      "Epoch 20/25\n",
      "1875/1875 [==============================] - 7s 4ms/step - loss: 0.3377 - accuracy: 0.8778\n",
      "Epoch 21/25\n",
      "1875/1875 [==============================] - 7s 4ms/step - loss: 0.3483 - accuracy: 0.8751\n",
      "Epoch 22/25\n",
      "1875/1875 [==============================] - 8s 4ms/step - loss: 0.3367 - accuracy: 0.8778\n",
      "Epoch 23/25\n",
      "1875/1875 [==============================] - 8s 4ms/step - loss: 0.3301 - accuracy: 0.8804\n",
      "Epoch 24/25\n",
      "1875/1875 [==============================] - 9s 5ms/step - loss: 0.3334 - accuracy: 0.8789\n",
      "Epoch 25/25\n",
      "1875/1875 [==============================] - 9s 5ms/step - loss: 0.3344 - accuracy: 0.8790\n"
     ]
    },
    {
     "data": {
      "text/plain": [
       "<matplotlib.axes._subplots.AxesSubplot at 0x7f501d1728e0>"
      ]
     },
     "execution_count": 43,
     "metadata": {},
     "output_type": "execute_result"
    },
    {
     "data": {
      "image/png": "[encoded data removed]",
      "text/plain": [
       "<Figure size 432x288 with 1 Axes>"
      ]
     },
     "metadata": {
      "needs_background": "light"
     },
     "output_type": "display_data"
    }
   ],
   "source": [
    "fashion_4 = tf.keras.Sequential()\n",
    "fashion_4.add(tf.keras.layers.Flatten())\n",
    "fashion_4.add(tf.keras.layers.Dense(200,activation='relu')) # Reduced the Number of units from 300 to 200 from model fashion_2, but named as fashion_4 for comparison\n",
    "fashion_4.add(tf.keras.layers.Dense(100,activation='relu'))\n",
    "fashion_4.add(tf.keras.layers.Dense(10,activation='softmax'))\n",
    "\n",
    "fashion_4.compile(loss=tf.keras.losses.SparseCategoricalCrossentropy(),\n",
    "                  optimizer=tf.keras.optimizers.Adam(),\n",
    "                  metrics=['accuracy'])\n",
    "\n",
    "tf.random.set_seed(100)\n",
    "history_4 = fashion_4.fit(X_train, y_train, epochs=25)\n",
    "pd.DataFrame(history_4.history).plot()"
   ]
  },
  {
   "cell_type": "code",
   "execution_count": 44,
   "metadata": {
    "colab": {
     "base_uri": "https://localhost:8080/"
    },
    "executionInfo": {
     "elapsed": 2922,
     "status": "ok",
     "timestamp": 1674274990189,
     "user": {
      "displayName": "Adithya Vinod",
      "userId": "06561846904279351931"
     },
     "user_tz": -330
    },
    "id": "McYnZqUHjbnT",
    "outputId": "a9436679-03ce-4a26-a2f6-1737aae57d43"
   },
   "outputs": [
    {
     "name": "stdout",
     "output_type": "stream",
     "text": [
      "313/313 [==============================] - 2s 5ms/step - loss: 0.4424 - accuracy: 0.8579\n",
      "\n",
      "The Test Loss: 0.4424266219139099\n",
      "The Test Accuracy: 0.8579000234603882\n"
     ]
    }
   ],
   "source": [
    "test_loss,test_accuracy = fashion_4.evaluate(X_test, y_test)\n",
    "\n",
    "print('\\nThe Test Loss:', test_loss)\n",
    "print('The Test Accuracy:', test_accuracy)"
   ]
  },
  {
   "cell_type": "markdown",
   "metadata": {
    "id": "FLV_CK6AkB91"
   },
   "source": [
    "#### **Note:**\n",
    "#### **fashion_2 is the best model** "
   ]
  },
  {
   "cell_type": "markdown",
   "metadata": {
    "id": "_putbl30kLCh"
   },
   "source": [
    "## **Model Summary**"
   ]
  },
  {
   "cell_type": "code",
   "execution_count": 45,
   "metadata": {
    "colab": {
     "base_uri": "https://localhost:8080/"
    },
    "executionInfo": {
     "elapsed": 9,
     "status": "ok",
     "timestamp": 1674274991834,
     "user": {
      "displayName": "Adithya Vinod",
      "userId": "06561846904279351931"
     },
     "user_tz": -330
    },
    "id": "Xzbmy-P9kBWM",
    "outputId": "7de3d5c0-3b50-4335-db63-3c357c32ea78"
   },
   "outputs": [
    {
     "name": "stdout",
     "output_type": "stream",
     "text": [
      "Model: \"sequential_1\"\n",
      "_________________________________________________________________\n",
      " Layer (type)                Output Shape              Param #   \n",
      "=================================================================\n",
      " flatten_1 (Flatten)         (None, 784)               0         \n",
      "                                                                 \n",
      " dense_2 (Dense)             (None, 300)               235500    \n",
      "                                                                 \n",
      " dense_3 (Dense)             (None, 100)               30100     \n",
      "                                                                 \n",
      " dense_4 (Dense)             (None, 10)                1010      \n",
      "                                                                 \n",
      "=================================================================\n",
      "Total params: 266,610\n",
      "Trainable params: 266,610\n",
      "Non-trainable params: 0\n",
      "_________________________________________________________________\n"
     ]
    }
   ],
   "source": [
    "fashion_2.summary()"
   ]
  },
  {
   "cell_type": "markdown",
   "metadata": {
    "id": "pQxX5Xl0k8cE"
   },
   "source": [
    "## **Plotting the Model**"
   ]
  },
  {
   "cell_type": "code",
   "execution_count": 46,
   "metadata": {
    "colab": {
     "base_uri": "https://localhost:8080/",
     "height": 533
    },
    "executionInfo": {
     "elapsed": 1297,
     "status": "ok",
     "timestamp": 1674275214475,
     "user": {
      "displayName": "Adithya Vinod",
      "userId": "06561846904279351931"
     },
     "user_tz": -330
    },
    "id": "IlRH830ekOUw",
    "outputId": "60be937f-626d-473b-eeb1-584e693cb35e"
   },
   "outputs": [
    {
     "data": {
      "image/png": "[encoded data removed]",
      "text/plain": [
       "<IPython.core.display.Image object>"
      ]
     },
     "execution_count": 46,
     "metadata": {},
     "output_type": "execute_result"
    }
   ],
   "source": [
    "from tensorflow.keras.utils import plot_model \n",
    "\n",
    "plot_model(fashion_2,show_shapes=True)"
   ]
  },
  {
   "cell_type": "markdown",
   "metadata": {
    "id": "Vay_45dnlLts"
   },
   "source": [
    "## **Prediction using Model**"
   ]
  },
  {
   "cell_type": "code",
   "execution_count": 48,
   "metadata": {
    "colab": {
     "base_uri": "https://localhost:8080/"
    },
    "executionInfo": {
     "elapsed": 2050,
     "status": "ok",
     "timestamp": 1674275287126,
     "user": {
      "displayName": "Adithya Vinod",
      "userId": "06561846904279351931"
     },
     "user_tz": -330
    },
    "id": "QNelyrb5lErX",
    "outputId": "4065cc29-90a3-48b9-f151-9a0520a2c75f"
   },
   "outputs": [
    {
     "name": "stdout",
     "output_type": "stream",
     "text": [
      "313/313 [==============================] - 1s 3ms/step\n"
     ]
    },
    {
     "data": {
      "text/plain": [
       "array([[0.0000000e+00, 0.0000000e+00, 0.0000000e+00, ..., 1.1259941e-03,\n",
       "        1.1747452e-22, 9.9886978e-01],\n",
       "       [7.5433873e-06, 7.4184631e-11, 9.9485266e-01, ..., 0.0000000e+00,\n",
       "        7.4269368e-09, 0.0000000e+00],\n",
       "       [0.0000000e+00, 9.9999994e-01, 0.0000000e+00, ..., 0.0000000e+00,\n",
       "        0.0000000e+00, 0.0000000e+00],\n",
       "       ...,\n",
       "       [1.1626636e-10, 7.6033913e-16, 9.9855189e-15, ..., 0.0000000e+00,\n",
       "        9.9999994e-01, 0.0000000e+00],\n",
       "       [0.0000000e+00, 9.9999994e-01, 0.0000000e+00, ..., 0.0000000e+00,\n",
       "        0.0000000e+00, 0.0000000e+00],\n",
       "       [4.6856268e-03, 6.1485356e-05, 4.7583124e-03, ..., 2.3114441e-01,\n",
       "        3.8113631e-02, 4.4722252e-02]], dtype=float32)"
      ]
     },
     "execution_count": 48,
     "metadata": {},
     "output_type": "execute_result"
    }
   ],
   "source": [
    "y_pred = fashion_2.predict(X_test)\n",
    "y_pred"
   ]
  },
  {
   "cell_type": "code",
   "execution_count": 49,
   "metadata": {
    "colab": {
     "base_uri": "https://localhost:8080/"
    },
    "executionInfo": {
     "elapsed": 396,
     "status": "ok",
     "timestamp": 1674275298148,
     "user": {
      "displayName": "Adithya Vinod",
      "userId": "06561846904279351931"
     },
     "user_tz": -330
    },
    "id": "GpiPPdCLlPlL",
    "outputId": "bb02d3d3-c20c-4926-d611-f9d80ce330be"
   },
   "outputs": [
    {
     "data": {
      "text/plain": [
       "array([0.0000000e+00, 0.0000000e+00, 0.0000000e+00, 0.0000000e+00,\n",
       "       0.0000000e+00, 4.2623492e-06, 1.3596771e-34, 1.1259941e-03,\n",
       "       1.1747452e-22, 9.9886978e-01], dtype=float32)"
      ]
     },
     "execution_count": 49,
     "metadata": {},
     "output_type": "execute_result"
    }
   ],
   "source": [
    "y_pred[0]"
   ]
  },
  {
   "cell_type": "code",
   "execution_count": 50,
   "metadata": {
    "colab": {
     "base_uri": "https://localhost:8080/"
    },
    "executionInfo": {
     "elapsed": 359,
     "status": "ok",
     "timestamp": 1674275309286,
     "user": {
      "displayName": "Adithya Vinod",
      "userId": "06561846904279351931"
     },
     "user_tz": -330
    },
    "id": "G8-BmdI5lZS_",
    "outputId": "95c75fdb-2bf8-44e1-cc6f-0aca61509662"
   },
   "outputs": [
    {
     "data": {
      "text/plain": [
       "9"
      ]
     },
     "execution_count": 50,
     "metadata": {},
     "output_type": "execute_result"
    }
   ],
   "source": [
    "np.argmax(y_pred[0])"
   ]
  },
  {
   "cell_type": "code",
   "execution_count": 51,
   "metadata": {
    "colab": {
     "base_uri": "https://localhost:8080/",
     "height": 281
    },
    "executionInfo": {
     "elapsed": 389,
     "status": "ok",
     "timestamp": 1674275342055,
     "user": {
      "displayName": "Adithya Vinod",
      "userId": "06561846904279351931"
     },
     "user_tz": -330
    },
    "id": "KG2I8pHdlb0Y",
    "outputId": "6537461f-33ff-4465-c138-279edf58113f"
   },
   "outputs": [
    {
     "data": {
      "image/png": "[encoded data removed]",
      "text/plain": [
       "<Figure size 432x288 with 1 Axes>"
      ]
     },
     "metadata": {
      "needs_background": "light"
     },
     "output_type": "display_data"
    }
   ],
   "source": [
    "plt.imshow(X_test[0],'Greys')\n",
    "plt.title(fashion_dict[np.argmax(y_pred[0])]);"
   ]
  },
  {
   "cell_type": "code",
   "execution_count": 52,
   "metadata": {
    "colab": {
     "base_uri": "https://localhost:8080/",
     "height": 281
    },
    "executionInfo": {
     "elapsed": 711,
     "status": "ok",
     "timestamp": 1674275393037,
     "user": {
      "displayName": "Adithya Vinod",
      "userId": "06561846904279351931"
     },
     "user_tz": -330
    },
    "id": "XZZkjGQ0lkLj",
    "outputId": "d0ba42f5-bedf-4b7a-b01e-50b36cc2e793"
   },
   "outputs": [
    {
     "data": {
      "image/png": "[encoded data removed]",
      "text/plain": [
       "<Figure size 432x288 with 1 Axes>"
      ]
     },
     "metadata": {
      "needs_background": "light"
     },
     "output_type": "display_data"
    }
   ],
   "source": [
    "plt.imshow(X_test[20],'Greys')\n",
    "plt.title(fashion_dict[np.argmax(y_pred[20])]);"
   ]
  },
  {
   "cell_type": "code",
   "execution_count": null,
   "metadata": {
    "id": "ABlVFE-vlweD"
   },
   "outputs": [],
   "source": []
  }
 ],
 "metadata": {
  "colab": {
   "authorship_tag": "ABX9TyPVmhiFIw6C16aXDE83T089",
   "provenance": []
  },
  "kernelspec": {
   "display_name": "Python 3 (ipykernel)",
   "language": "python",
   "name": "python3"
  },
  "language_info": {
   "codemirror_mode": {
    "name": "ipython",
    "version": 3
   },
   "file_extension": ".py",
   "mimetype": "text/x-python",
   "name": "python",
   "nbconvert_exporter": "python",
   "pygments_lexer": "ipython3",
   "version": "3.9.13"
  }
 },
 "nbformat": 4,
 "nbformat_minor": 1
}
