{
 "cells": [
  {
   "cell_type": "markdown",
   "metadata": {
    "id": "5pS-1Qj8h2ui"
   },
   "source": [
    "## **Binary Classification using Multi-Layer Perception**"
   ]
  },
  {
   "cell_type": "code",
   "execution_count": 1,
   "metadata": {
    "executionInfo": {
     "elapsed": 2701,
     "status": "ok",
     "timestamp": 1673418822868,
     "user": {
      "displayName": "Adithya Vinod",
      "userId": "06561846904279351931"
     },
     "user_tz": -330
    },
    "id": "imBpk6Qrh-fV"
   },
   "outputs": [],
   "source": [
    "import numpy as np \n",
    "import pandas as pd \n",
    "import matplotlib.pyplot as plt \n",
    "import tensorflow as tf"
   ]
  },
  {
   "cell_type": "markdown",
   "metadata": {
    "id": "rC5yJjkeiVPh"
   },
   "source": [
    "## **Accessing the Dataset** "
   ]
  },
  {
   "cell_type": "code",
   "execution_count": 2,
   "metadata": {
    "executionInfo": {
     "elapsed": 2,
     "status": "ok",
     "timestamp": 1673419005734,
     "user": {
      "displayName": "Adithya Vinod",
      "userId": "06561846904279351931"
     },
     "user_tz": -330
    },
    "id": "pBJyM7uAiJuE"
   },
   "outputs": [],
   "source": [
    "from sklearn.datasets import make_blobs\n",
    "X, y = make_blobs(n_samples=400, n_features=2, centers=2, random_state=100)"
   ]
  },
  {
   "cell_type": "code",
   "execution_count": 3,
   "metadata": {
    "colab": {
     "base_uri": "https://localhost:8080/"
    },
    "executionInfo": {
     "elapsed": 10,
     "status": "ok",
     "timestamp": 1673419010529,
     "user": {
      "displayName": "Adithya Vinod",
      "userId": "06561846904279351931"
     },
     "user_tz": -330
    },
    "id": "oXXzYfWZiUZ1",
    "outputId": "d39b423b-5e74-434c-c7f8-27c1d8149344"
   },
   "outputs": [
    {
     "data": {
      "text/plain": [
       "array([[ 1.55822031e+00, -3.74572223e+00],\n",
       "       [ 7.88487590e-01, -5.32234378e+00],\n",
       "       [-6.98588694e-01, -3.52763818e+00],\n",
       "       [ 4.04148936e+00, -1.09840878e+00],\n",
       "       [-1.18262203e+00,  7.46285607e+00],\n",
       "       [-1.18820391e+00,  7.12904202e+00],\n",
       "       [-2.23716944e+00,  8.96100878e+00],\n",
       "       [-1.15321729e+00,  7.92680484e+00],\n",
       "       [-4.02959150e-01, -3.50351218e+00],\n",
       "       [ 2.90270640e+00, -4.98332671e+00],\n",
       "       [ 4.24690850e-01, -3.69365840e+00],\n",
       "       [ 2.35863193e+00, -4.83200368e+00],\n",
       "       [-6.29621545e-01, -5.62649827e+00],\n",
       "       [ 4.29963213e-01, -5.55093054e+00],\n",
       "       [ 5.56751775e-01, -5.85726789e+00],\n",
       "       [-2.95136986e-01, -4.45378807e+00],\n",
       "       [ 9.56328770e-01, -5.03537167e+00],\n",
       "       [ 2.95834937e-01, -1.68749433e+00],\n",
       "       [ 1.63680636e-01, -5.02398742e+00],\n",
       "       [ 1.23770999e+00, -4.91324446e+00],\n",
       "       [-1.59850585e+00,  6.20057352e+00],\n",
       "       [-2.78727727e+00,  5.95120262e+00],\n",
       "       [ 6.91201971e-01, -3.92556480e+00],\n",
       "       [ 1.39546797e+00, -4.80691518e+00],\n",
       "       [-4.76730139e-01,  4.90570041e+00],\n",
       "       [-8.56472333e-01,  7.45386955e+00],\n",
       "       [ 2.39040660e+00, -4.61257562e+00],\n",
       "       [ 1.62116102e+00, -6.04205119e+00],\n",
       "       [ 1.75577062e+00, -4.34396251e+00],\n",
       "       [ 1.27580536e+00, -5.26089269e+00],\n",
       "       [ 1.16914830e+00, -6.11751226e+00],\n",
       "       [-3.19918761e-01, -4.98235849e+00],\n",
       "       [-1.36995537e-02, -4.41397335e+00],\n",
       "       [ 1.27169725e+00, -6.31744669e+00],\n",
       "       [-6.48331660e-01, -4.10332979e+00],\n",
       "       [-6.84089004e-01,  6.63683306e+00],\n",
       "       [-2.24198600e+00,  6.24753053e+00],\n",
       "       [-1.82845561e+00,  4.81125176e+00],\n",
       "       [ 2.45426977e+00, -3.73922164e+00],\n",
       "       [ 5.48267789e-01, -5.58035390e+00],\n",
       "       [-8.20726823e-01,  6.93679722e+00],\n",
       "       [-1.53825371e+00,  5.64324513e+00],\n",
       "       [-1.26321582e+00, -4.16953561e+00],\n",
       "       [-3.78155368e+00,  7.65312763e+00],\n",
       "       [-9.73089464e-01, -4.06651907e+00],\n",
       "       [ 2.64409242e+00, -3.91953792e+00],\n",
       "       [-1.52320610e+00,  7.27141947e+00],\n",
       "       [-4.87809020e-01, -6.14419535e+00],\n",
       "       [ 4.10071850e-01, -3.99744881e+00],\n",
       "       [-5.90104539e-01,  6.33434530e+00],\n",
       "       [ 6.29385967e-01, -5.86167920e+00],\n",
       "       [-1.26481154e+00, -3.67340797e+00],\n",
       "       [ 6.01320672e-01, -5.28867432e+00],\n",
       "       [-6.99550318e-01,  4.82906892e+00],\n",
       "       [-2.52068331e+00,  7.83802953e+00],\n",
       "       [ 6.47968272e-01, -4.68488234e+00],\n",
       "       [ 1.91043158e+00, -3.33373631e+00],\n",
       "       [ 9.69874609e-01, -3.12426547e+00],\n",
       "       [-1.58901450e+00,  6.57723733e+00],\n",
       "       [-1.29605808e+00,  5.63046495e+00],\n",
       "       [ 8.48976085e-01, -3.43967065e+00],\n",
       "       [-2.44386402e+00,  5.83308151e+00],\n",
       "       [-1.44039722e+00,  5.73392070e+00],\n",
       "       [-1.45277602e+00,  6.07202377e+00],\n",
       "       [-2.63647647e+00,  8.01025654e+00],\n",
       "       [ 1.28949078e-02,  5.87904153e+00],\n",
       "       [ 4.91951468e-01, -3.97226309e+00],\n",
       "       [ 1.89502028e+00, -5.86480291e+00],\n",
       "       [-1.27075220e+00,  6.38706976e+00],\n",
       "       [-5.96919926e-01,  6.01012745e+00],\n",
       "       [-1.20301233e+00,  5.06164891e+00],\n",
       "       [ 1.44867217e+00, -5.53713539e+00],\n",
       "       [-1.49678130e+00,  5.54701076e+00],\n",
       "       [-2.45662424e+00,  4.62690268e+00],\n",
       "       [-1.97867599e+00,  7.68250411e+00],\n",
       "       [ 1.48113772e+00, -3.69640708e+00],\n",
       "       [ 8.75413399e-01, -5.04555103e+00],\n",
       "       [-2.21288514e+00,  7.13972972e+00],\n",
       "       [-4.15899987e-01,  5.51190049e+00],\n",
       "       [ 9.98347291e-01, -3.48325143e+00],\n",
       "       [-7.45479667e-01, -2.96189843e+00],\n",
       "       [ 2.03862582e+00, -2.35490007e+00],\n",
       "       [-1.08998240e+00, -4.56741361e+00],\n",
       "       [ 2.10918092e+00, -2.76907599e+00],\n",
       "       [-4.99514302e-01,  7.76818577e+00],\n",
       "       [ 1.56256518e-01,  5.51540835e+00],\n",
       "       [ 3.46013766e-02,  4.71036884e+00],\n",
       "       [ 3.31458409e-01, -3.60948790e+00],\n",
       "       [-3.81490634e+00,  7.05767825e+00],\n",
       "       [-1.61872215e+00,  6.83735653e+00],\n",
       "       [ 1.19330513e+00, -5.08689315e+00],\n",
       "       [-1.61855445e+00,  8.03072431e+00],\n",
       "       [ 1.82105826e+00, -5.41597494e+00],\n",
       "       [-1.06331402e+00, -4.40839696e+00],\n",
       "       [-1.67900120e+00,  6.00982475e+00],\n",
       "       [ 1.61855217e+00, -5.73960464e+00],\n",
       "       [ 1.18546681e+00, -5.18502648e+00],\n",
       "       [ 1.62614133e+00, -5.63205227e+00],\n",
       "       [-8.46754970e-01,  5.34744524e+00],\n",
       "       [-1.37668590e+00,  6.81262412e+00],\n",
       "       [-4.38461706e+00,  6.36701701e+00],\n",
       "       [ 3.16675278e+00, -4.59782185e+00],\n",
       "       [-8.37853170e-01, -4.06344834e+00],\n",
       "       [-2.98329678e-01,  5.05328847e+00],\n",
       "       [ 2.53989002e+00, -4.74562003e+00],\n",
       "       [ 4.52282500e-01, -5.79111523e+00],\n",
       "       [ 1.18559451e-01,  6.81962288e+00],\n",
       "       [-6.72517189e-01, -2.38589833e+00],\n",
       "       [-1.28582407e+00,  6.52332366e+00],\n",
       "       [ 3.42453641e-01, -5.01750163e+00],\n",
       "       [ 2.06476030e+00, -4.89745487e+00],\n",
       "       [ 3.19606556e-01, -4.48524727e+00],\n",
       "       [-1.80143463e+00,  6.23538338e+00],\n",
       "       [ 1.46012211e+00, -4.86967671e+00],\n",
       "       [ 7.60209659e-01, -3.42921474e+00],\n",
       "       [-1.55790989e+00,  6.86049560e+00],\n",
       "       [-1.01301581e+00, -4.25026957e+00],\n",
       "       [ 2.51469464e-01, -3.66942865e+00],\n",
       "       [ 6.35114274e-01, -5.61702373e+00],\n",
       "       [ 1.83184337e+00, -3.17888616e+00],\n",
       "       [-2.37730768e+00,  7.31393789e+00],\n",
       "       [-1.85410163e-01,  6.62793072e+00],\n",
       "       [ 1.39109664e+00, -4.44895770e+00],\n",
       "       [-2.41490183e+00,  7.10858857e+00],\n",
       "       [ 2.84503785e-01, -3.61576523e+00],\n",
       "       [-9.19622059e-01,  8.02670384e+00],\n",
       "       [-3.49155295e-01, -4.58987747e+00],\n",
       "       [ 9.76970826e-01, -4.40432866e+00],\n",
       "       [ 1.08927851e+00, -5.50265563e+00],\n",
       "       [-2.70241957e+00,  8.27038206e+00],\n",
       "       [ 1.47252237e+00, -5.33964272e+00],\n",
       "       [-2.77714418e+00,  6.98709389e+00],\n",
       "       [-8.11017415e-01,  7.36843611e+00],\n",
       "       [-2.23630718e-01,  6.62829734e+00],\n",
       "       [-4.77302274e-01,  8.51246255e+00],\n",
       "       [ 1.34519113e+00, -5.86237496e+00],\n",
       "       [-2.71385772e-01,  5.60994879e+00],\n",
       "       [ 2.34829149e+00,  9.97109654e+00],\n",
       "       [-1.40305056e+00,  7.43777998e+00],\n",
       "       [-3.73115901e+00,  4.30975506e+00],\n",
       "       [ 5.87148931e-03, -3.18314256e+00],\n",
       "       [-1.56447842e+00,  6.64751130e+00],\n",
       "       [ 3.26659975e-01,  7.03519022e+00],\n",
       "       [-1.18094573e+00,  8.34352407e+00],\n",
       "       [-1.99221350e+00,  7.42007049e+00],\n",
       "       [ 1.02669743e+00, -2.30012557e+00],\n",
       "       [-1.64552494e+00,  7.52990174e+00],\n",
       "       [-4.68930690e-01,  6.13999756e+00],\n",
       "       [ 5.41860777e-01, -4.37693628e+00],\n",
       "       [ 1.84941962e+00, -3.91839346e+00],\n",
       "       [-2.39336640e-01,  6.92640040e+00],\n",
       "       [ 1.57028334e+00, -5.71651711e+00],\n",
       "       [-4.70009290e-01,  5.96455299e+00],\n",
       "       [-1.69166902e+00,  5.89214193e+00],\n",
       "       [-2.44223164e+00,  6.22195809e+00],\n",
       "       [-1.40105816e+00, -4.78078294e+00],\n",
       "       [-1.78209999e+00,  7.08031540e+00],\n",
       "       [-1.47234053e+00,  5.44288197e+00],\n",
       "       [-4.40188859e+00,  6.73693133e+00],\n",
       "       [-2.42912741e+00,  7.18315377e+00],\n",
       "       [-5.18429334e-01,  7.18273563e+00],\n",
       "       [-1.70171727e+00,  6.66145376e+00],\n",
       "       [-2.58189046e+00,  7.44097668e+00],\n",
       "       [-8.36552370e-01, -5.56887330e+00],\n",
       "       [-1.11552211e+00, -4.26547551e+00],\n",
       "       [-2.02051138e+00,  4.14348498e+00],\n",
       "       [ 1.44503290e+00, -4.34608745e+00],\n",
       "       [-2.17537529e-02,  6.53770579e+00],\n",
       "       [-1.23425471e+00,  9.29644096e+00],\n",
       "       [ 4.65601860e-02,  6.69283982e+00],\n",
       "       [ 1.05261753e+00, -3.49553010e+00],\n",
       "       [-1.37325065e+00,  6.55818424e+00],\n",
       "       [ 8.93290739e-01, -2.91507617e+00],\n",
       "       [-2.33724992e+00,  9.18771629e+00],\n",
       "       [-1.44057986e-01,  6.33682731e+00],\n",
       "       [-5.28900509e-01, -5.52978428e+00],\n",
       "       [ 1.99365429e+00, -3.50555900e+00],\n",
       "       [-1.08522994e+00,  6.96196695e+00],\n",
       "       [ 2.71262204e+00, -4.76875593e+00],\n",
       "       [ 2.68115791e-01, -2.85644557e+00],\n",
       "       [ 1.96178549e+00, -4.66213005e+00],\n",
       "       [-3.11106213e+00,  7.68654880e+00],\n",
       "       [ 2.91054745e-02,  9.29259571e+00],\n",
       "       [-1.84863172e+00,  6.75321034e+00],\n",
       "       [-2.00737487e+00,  6.88567536e+00],\n",
       "       [ 9.93052815e-01, -5.49785845e+00],\n",
       "       [ 1.72857424e+00, -4.67920960e+00],\n",
       "       [ 1.00052664e+00, -4.41039837e+00],\n",
       "       [-3.81233433e-01,  5.96827405e+00],\n",
       "       [-4.28292971e-01, -4.33747285e+00],\n",
       "       [-2.35216418e+00,  6.14257704e+00],\n",
       "       [-2.42263751e+00,  6.44515432e+00],\n",
       "       [-2.84681324e+00,  6.48403169e+00],\n",
       "       [-2.24190889e+00,  6.18378106e+00],\n",
       "       [ 2.42741369e+00, -5.52530116e+00],\n",
       "       [ 9.76962304e-01, -3.92480271e+00],\n",
       "       [-1.61742438e+00,  7.41844001e+00],\n",
       "       [ 1.29047906e+00, -5.52665523e+00],\n",
       "       [-1.49332532e+00,  6.68593469e+00],\n",
       "       [-1.74623054e+00,  7.87466398e+00],\n",
       "       [-1.95580204e+00,  5.65560232e+00],\n",
       "       [ 9.60875261e-01, -4.24289351e+00],\n",
       "       [-1.83805626e+00,  7.18097164e+00],\n",
       "       [ 6.89204836e-01, -3.25437314e+00],\n",
       "       [-1.14708988e+00, -4.51215289e+00],\n",
       "       [-1.15211263e-01, -4.07510454e+00],\n",
       "       [ 3.58943245e+00, -6.40547635e+00],\n",
       "       [ 1.60509400e+00, -3.99674505e+00],\n",
       "       [-1.18057309e+00, -3.64882622e+00],\n",
       "       [ 7.41897652e-01, -2.44233865e+00],\n",
       "       [-8.21888489e-01,  7.28868084e+00],\n",
       "       [ 7.13250381e-01, -4.51866794e+00],\n",
       "       [-7.19473257e-02, -5.26054466e+00],\n",
       "       [ 6.70301546e-01, -5.28728509e+00],\n",
       "       [-1.42239020e+00,  5.56607703e+00],\n",
       "       [ 5.69663165e-01, -4.83490222e+00],\n",
       "       [-2.52412023e+00,  7.76673866e+00],\n",
       "       [-3.04125001e+00,  6.31757638e+00],\n",
       "       [-2.51366399e+00,  5.58342411e+00],\n",
       "       [-2.52185941e+00,  7.80057551e+00],\n",
       "       [-2.65142688e+00,  7.64192480e+00],\n",
       "       [ 6.78603005e-01, -4.17761085e+00],\n",
       "       [-2.26458354e-01, -4.67396105e+00],\n",
       "       [ 3.16746830e+00, -5.37221474e+00],\n",
       "       [-9.70475740e-01,  8.09434658e+00],\n",
       "       [-1.15684160e+00,  6.94456011e+00],\n",
       "       [ 1.21879165e+00, -4.56468901e+00],\n",
       "       [ 2.41244931e-01, -4.70755211e+00],\n",
       "       [ 2.88718495e+00, -3.68520888e+00],\n",
       "       [ 2.45525981e-01,  6.49995701e+00],\n",
       "       [-6.39486324e-01, -4.32472817e+00],\n",
       "       [ 9.91651465e-01, -2.88488320e+00],\n",
       "       [-2.23981447e+00,  7.02990546e+00],\n",
       "       [ 2.06161121e-01, -9.67385150e-01],\n",
       "       [-2.38893281e-01,  5.89204811e+00],\n",
       "       [ 5.82917966e-01, -3.95220089e+00],\n",
       "       [ 1.33439820e+00, -4.16262506e+00],\n",
       "       [ 2.32352030e+00, -4.19110541e+00],\n",
       "       [-9.69215430e-01,  7.03621770e+00],\n",
       "       [ 1.15647626e+00, -4.77169773e+00],\n",
       "       [-1.28534533e+00,  3.68556726e+00],\n",
       "       [-7.36207187e-01,  7.88373149e+00],\n",
       "       [-1.59764359e+00,  8.84995274e+00],\n",
       "       [ 8.59200173e-01, -4.97581031e+00],\n",
       "       [ 1.33609952e+00, -1.72361035e+00],\n",
       "       [-1.77423187e+00,  7.24852783e+00],\n",
       "       [ 1.76269654e+00, -3.67291918e+00],\n",
       "       [ 7.92075370e-01, -4.42865470e+00],\n",
       "       [-3.41555372e+00,  4.88658003e+00],\n",
       "       [-6.33597000e-01,  9.05174264e+00],\n",
       "       [-9.41704803e-01,  6.79388467e+00],\n",
       "       [-2.48587971e+00,  6.82037008e+00],\n",
       "       [-6.08055927e-01,  8.77266552e+00],\n",
       "       [-1.07903491e+00,  5.70473839e+00],\n",
       "       [-1.78768190e+00,  7.66121807e+00],\n",
       "       [-2.47536385e+00,  7.90501242e+00],\n",
       "       [-5.53498206e-01,  8.09884324e+00],\n",
       "       [ 2.89273011e-01, -5.63206350e+00],\n",
       "       [ 1.13777080e+00,  7.02881289e+00],\n",
       "       [ 8.30432165e-01, -3.60107927e+00],\n",
       "       [ 2.10500672e+00, -4.66289698e+00],\n",
       "       [-4.72035850e-01,  7.19807035e+00],\n",
       "       [ 1.81710361e+00, -4.45200988e+00],\n",
       "       [-2.10521664e+00, -4.39929502e+00],\n",
       "       [ 2.74467226e+00, -4.80951565e+00],\n",
       "       [ 2.16436142e+00, -3.48033667e+00],\n",
       "       [ 1.64692124e+00, -4.00437943e+00],\n",
       "       [ 1.36684932e+00, -5.51043838e+00],\n",
       "       [-2.01320867e+00,  4.84461688e+00],\n",
       "       [-2.13909405e+00,  6.59323822e+00],\n",
       "       [-2.08848931e+00,  6.49623801e+00],\n",
       "       [ 6.16219697e-01, -5.27504804e+00],\n",
       "       [-1.91976019e+00,  6.96364835e+00],\n",
       "       [ 4.44383736e-01, -5.61859586e+00],\n",
       "       [-5.38094622e-01,  5.83714320e+00],\n",
       "       [ 2.48708050e+00, -2.89100712e+00],\n",
       "       [ 1.54081964e+00, -4.53702344e+00],\n",
       "       [-2.23695509e+00,  8.41388472e+00],\n",
       "       [-1.77016081e+00,  5.56803166e+00],\n",
       "       [-1.89586809e+00,  8.24047292e+00],\n",
       "       [-1.83073718e+00,  9.07779856e+00],\n",
       "       [-5.45951320e-01,  7.41386616e+00],\n",
       "       [ 2.43226650e-01, -4.54260769e+00],\n",
       "       [-7.67430564e-01, -5.47682218e+00],\n",
       "       [ 1.10594346e+00, -4.41906375e+00],\n",
       "       [ 1.11746530e-01, -3.61615829e+00],\n",
       "       [ 4.63015572e-01, -3.89616836e+00],\n",
       "       [ 2.16784691e+00, -6.16570792e+00],\n",
       "       [-4.40862504e-01,  6.40034869e+00],\n",
       "       [-1.37358689e+00,  7.09733651e+00],\n",
       "       [-1.60856731e+00,  7.13478251e+00],\n",
       "       [-4.02219203e-01, -3.79711113e+00],\n",
       "       [-1.15002444e+00,  7.60827065e+00],\n",
       "       [-7.53271297e-01,  7.71981185e+00],\n",
       "       [ 2.94289200e+00, -4.77590998e+00],\n",
       "       [ 2.25570065e+00, -6.16800345e+00],\n",
       "       [-4.99854643e-01,  5.98210195e+00],\n",
       "       [ 2.81136110e+00, -5.88004841e+00],\n",
       "       [-2.57931445e+00,  7.12136139e+00],\n",
       "       [ 1.25188768e+00, -3.09788154e+00],\n",
       "       [ 8.78135975e-01, -3.95232392e+00],\n",
       "       [-2.22055061e+00,  6.28933854e+00],\n",
       "       [ 1.65852693e+00, -3.34079639e+00],\n",
       "       [-2.33927592e+00,  8.05598902e+00],\n",
       "       [-7.65498617e-01,  5.17232932e+00],\n",
       "       [-7.95116137e-01,  5.10551873e+00],\n",
       "       [-6.43589012e-01,  7.68681763e+00],\n",
       "       [ 6.83084725e-01, -6.91976383e+00],\n",
       "       [-2.59090676e+00,  6.83244385e+00],\n",
       "       [ 2.47147083e+00, -3.41971607e+00],\n",
       "       [ 2.78390249e-01, -5.24603712e+00],\n",
       "       [ 1.61854360e+00, -4.88855923e+00],\n",
       "       [-1.90637313e+00,  6.86197562e+00],\n",
       "       [ 1.09049844e+00, -5.87582929e+00],\n",
       "       [-1.87789375e+00,  5.34753008e+00],\n",
       "       [-1.82117329e+00,  6.35613162e+00],\n",
       "       [ 2.72984997e-01, -5.41542419e+00],\n",
       "       [ 5.36321701e-01, -5.12183028e+00],\n",
       "       [ 1.40791175e+00, -3.88943912e+00],\n",
       "       [-7.04156079e-01,  8.25029179e+00],\n",
       "       [-1.06282194e+00,  7.04405463e+00],\n",
       "       [-8.81760507e-01,  7.84822789e+00],\n",
       "       [-9.71402088e-01,  6.05266209e+00],\n",
       "       [-4.88300213e-01, -5.66504681e+00],\n",
       "       [-3.45592704e-01, -4.24447534e+00],\n",
       "       [ 1.29155612e+00, -4.59212966e+00],\n",
       "       [-2.20945629e-01,  6.75298745e+00],\n",
       "       [-1.97905441e+00,  5.46976636e+00],\n",
       "       [-1.41270784e+00,  6.43729225e+00],\n",
       "       [-2.29008236e+00,  6.42935052e+00],\n",
       "       [-5.46944085e-01, -5.07337222e+00],\n",
       "       [ 6.93317281e-01, -3.41534795e+00],\n",
       "       [-3.15525615e+00,  7.06532017e+00],\n",
       "       [ 1.06101603e+00, -4.78107123e+00],\n",
       "       [ 5.32341997e-01, -4.56924168e+00],\n",
       "       [-1.49297581e+00,  6.26409039e+00],\n",
       "       [ 7.38502277e-01, -4.60344271e+00],\n",
       "       [ 1.04446931e+00, -5.30834314e+00],\n",
       "       [-2.80776567e+00,  7.74338636e+00],\n",
       "       [ 2.01555627e+00, -3.27264332e+00],\n",
       "       [ 4.12176817e-01, -3.78343937e+00],\n",
       "       [ 7.76730575e-02,  7.58320026e+00],\n",
       "       [-1.52786053e+00,  6.30594058e+00],\n",
       "       [-4.56479260e-01, -4.19422765e+00],\n",
       "       [-2.04244056e+00,  7.06116443e+00],\n",
       "       [-2.06552261e+00,  6.68612387e+00],\n",
       "       [-2.14561800e+00,  6.51701984e+00],\n",
       "       [-3.73890712e+00,  6.43279233e+00],\n",
       "       [-1.29542914e+00,  7.58821870e+00],\n",
       "       [ 5.02636843e-01, -5.70363534e+00],\n",
       "       [-3.45418847e+00,  7.15945387e+00],\n",
       "       [ 8.91696332e-01, -4.60306877e+00],\n",
       "       [-3.32695671e-01,  5.73009091e+00],\n",
       "       [ 2.57172282e+00, -5.15476307e+00],\n",
       "       [ 7.04073433e-01, -3.21603171e+00],\n",
       "       [ 1.59909918e+00, -3.07105617e+00],\n",
       "       [-2.90418090e+00,  6.11552434e+00],\n",
       "       [ 1.25953746e+00, -4.10536695e+00],\n",
       "       [ 2.70003492e+00, -4.42959486e+00],\n",
       "       [-3.27484204e+00,  8.34312670e+00],\n",
       "       [-3.41783297e+00,  7.01205596e+00],\n",
       "       [ 1.09048965e+00, -5.11753403e+00],\n",
       "       [ 3.53668944e-01, -4.64867242e+00],\n",
       "       [-1.77852458e+00,  7.19750564e+00],\n",
       "       [-2.73621562e+00,  8.25079521e+00],\n",
       "       [ 1.39366466e-02,  6.82590699e+00],\n",
       "       [-6.78828621e-01,  6.01725448e+00],\n",
       "       [-1.94693543e+00,  7.80699713e+00],\n",
       "       [-1.12997496e+00,  7.41974630e+00],\n",
       "       [ 1.19917052e+00, -4.79910855e+00],\n",
       "       [ 2.14555087e+00, -4.87820056e+00],\n",
       "       [-2.29516962e+00,  8.63025383e+00],\n",
       "       [-1.23311713e+00,  5.94030676e+00],\n",
       "       [ 3.23659674e-01, -5.10078403e+00],\n",
       "       [ 9.79921414e-01, -1.89318027e+00],\n",
       "       [ 6.19210169e-01, -4.88278873e+00],\n",
       "       [-2.68573875e-01, -4.18411767e+00],\n",
       "       [-1.08886872e+00, -4.99709696e+00],\n",
       "       [-1.96132046e+00,  5.75798025e+00],\n",
       "       [-7.52148661e-01,  6.19106694e+00],\n",
       "       [-1.36978598e+00,  7.60806159e+00],\n",
       "       [ 1.61515449e+00, -4.00293586e+00],\n",
       "       [ 3.30222750e-01,  6.88348688e+00],\n",
       "       [-6.11483621e-02, -4.03419588e+00],\n",
       "       [ 1.47115253e+00, -5.49407994e+00],\n",
       "       [ 2.05772110e+00, -6.12322912e+00],\n",
       "       [-1.58648852e+00,  6.20213480e+00],\n",
       "       [-2.02730851e+00,  7.19769947e+00],\n",
       "       [-2.95869411e+00,  5.57280615e+00],\n",
       "       [-2.60144585e+00,  7.46037956e+00],\n",
       "       [-1.28343605e+00,  6.32620608e+00],\n",
       "       [ 9.85707292e-01, -5.39078063e+00],\n",
       "       [-4.94695896e-01,  5.53017940e+00],\n",
       "       [-1.14862277e+00,  9.47250033e+00],\n",
       "       [ 1.64772514e+00, -4.87073321e+00],\n",
       "       [-4.79255759e-01,  6.95523742e+00],\n",
       "       [-1.49204798e+00,  7.71532880e+00],\n",
       "       [ 3.36818459e-01, -3.40287961e+00],\n",
       "       [-2.44657030e+00,  5.95125205e+00],\n",
       "       [-1.64750688e+00,  6.82402853e+00]])"
      ]
     },
     "execution_count": 3,
     "metadata": {},
     "output_type": "execute_result"
    }
   ],
   "source": [
    "X"
   ]
  },
  {
   "cell_type": "code",
   "execution_count": 4,
   "metadata": {
    "colab": {
     "base_uri": "https://localhost:8080/"
    },
    "executionInfo": {
     "elapsed": 377,
     "status": "ok",
     "timestamp": 1673419074766,
     "user": {
      "displayName": "Adithya Vinod",
      "userId": "06561846904279351931"
     },
     "user_tz": -330
    },
    "id": "fjUNOKXWjJpB",
    "outputId": "2afbe73c-77ff-43a3-bffc-9122846b93cd"
   },
   "outputs": [
    {
     "data": {
      "text/plain": [
       "array([0, 0, 0, 0, 1, 1, 1, 1, 0, 0, 0, 0, 0, 0, 0, 0, 0, 0, 0, 0, 1, 1,\n",
       "       0, 0, 1, 1, 0, 0, 0, 0, 0, 0, 0, 0, 0, 1, 1, 1, 0, 0, 1, 1, 0, 1,\n",
       "       0, 0, 1, 0, 0, 1, 0, 0, 0, 1, 1, 0, 0, 0, 1, 1, 0, 1, 1, 1, 1, 1,\n",
       "       0, 0, 1, 1, 1, 0, 1, 1, 1, 0, 0, 1, 1, 0, 0, 0, 0, 0, 1, 1, 1, 0,\n",
       "       1, 1, 0, 1, 0, 0, 1, 0, 0, 0, 1, 1, 1, 0, 0, 1, 0, 0, 1, 0, 1, 0,\n",
       "       0, 0, 1, 0, 0, 1, 0, 0, 0, 0, 1, 1, 0, 1, 0, 1, 0, 0, 0, 1, 0, 1,\n",
       "       1, 1, 1, 0, 1, 1, 1, 1, 0, 1, 1, 1, 1, 0, 1, 1, 0, 0, 1, 0, 1, 1,\n",
       "       1, 0, 1, 1, 1, 1, 1, 1, 1, 0, 0, 1, 0, 1, 1, 1, 0, 1, 0, 1, 1, 0,\n",
       "       0, 1, 0, 0, 0, 1, 1, 1, 1, 0, 0, 0, 1, 0, 1, 1, 1, 1, 0, 0, 1, 0,\n",
       "       1, 1, 1, 0, 1, 0, 0, 0, 0, 0, 0, 0, 1, 0, 0, 0, 1, 0, 1, 1, 1, 1,\n",
       "       1, 0, 0, 0, 1, 1, 0, 0, 0, 1, 0, 0, 1, 0, 1, 0, 0, 0, 1, 0, 1, 1,\n",
       "       1, 0, 0, 1, 0, 0, 1, 1, 1, 1, 1, 1, 1, 1, 1, 0, 1, 0, 0, 1, 0, 0,\n",
       "       0, 0, 0, 0, 1, 1, 1, 0, 1, 0, 1, 0, 0, 1, 1, 1, 1, 1, 0, 0, 0, 0,\n",
       "       0, 0, 1, 1, 1, 0, 1, 1, 0, 0, 1, 0, 1, 0, 0, 1, 0, 1, 1, 1, 1, 0,\n",
       "       1, 0, 0, 0, 1, 0, 1, 1, 0, 0, 0, 1, 1, 1, 1, 0, 0, 0, 1, 1, 1, 1,\n",
       "       0, 0, 1, 0, 0, 1, 0, 0, 1, 0, 0, 1, 1, 0, 1, 1, 1, 1, 1, 0, 1, 0,\n",
       "       1, 0, 0, 0, 1, 0, 0, 1, 1, 0, 0, 1, 1, 1, 1, 1, 1, 0, 0, 1, 1, 0,\n",
       "       0, 0, 0, 0, 1, 1, 1, 0, 1, 0, 0, 0, 1, 1, 1, 1, 1, 0, 1, 1, 0, 1,\n",
       "       1, 0, 1, 1])"
      ]
     },
     "execution_count": 4,
     "metadata": {},
     "output_type": "execute_result"
    }
   ],
   "source": [
    "y"
   ]
  },
  {
   "cell_type": "markdown",
   "metadata": {
    "id": "8JJUKP1mjOVK"
   },
   "source": [
    "## **Visualisation of the Data** "
   ]
  },
  {
   "cell_type": "code",
   "execution_count": 5,
   "metadata": {
    "colab": {
     "base_uri": "https://localhost:8080/",
     "height": 282
    },
    "executionInfo": {
     "elapsed": 681,
     "status": "ok",
     "timestamp": 1673419153155,
     "user": {
      "displayName": "Adithya Vinod",
      "userId": "06561846904279351931"
     },
     "user_tz": -330
    },
    "id": "feLWpTz5jL3h",
    "outputId": "f1275899-be7c-4464-cc3c-233762412838"
   },
   "outputs": [
    {
     "data": {
      "text/plain": [
       "<matplotlib.collections.PathCollection at 0x7f65b76467c0>"
      ]
     },
     "execution_count": 5,
     "metadata": {},
     "output_type": "execute_result"
    },
    {
     "data": {
      "image/png": "[encoded data removed]",
      "text/plain": [
       "<Figure size 432x288 with 1 Axes>"
      ]
     },
     "metadata": {
      "needs_background": "light"
     },
     "output_type": "display_data"
    }
   ],
   "source": [
    "plt.scatter(X[:,0], X[:,1], c = y)"
   ]
  },
  {
   "cell_type": "markdown",
   "metadata": {
    "id": "gHTWVvo3jvBt"
   },
   "source": [
    "## **Spilliting the Data into Train and Test** "
   ]
  },
  {
   "cell_type": "code",
   "execution_count": 6,
   "metadata": {
    "colab": {
     "base_uri": "https://localhost:8080/"
    },
    "executionInfo": {
     "elapsed": 7,
     "status": "ok",
     "timestamp": 1673419350772,
     "user": {
      "displayName": "Adithya Vinod",
      "userId": "06561846904279351931"
     },
     "user_tz": -330
    },
    "id": "-P7LVcY3jLqk",
    "outputId": "ec348496-069f-4402-a072-5b3b7573f802"
   },
   "outputs": [
    {
     "data": {
      "text/plain": [
       "((320, 2), (80, 2), (320,), (80,))"
      ]
     },
     "execution_count": 6,
     "metadata": {},
     "output_type": "execute_result"
    }
   ],
   "source": [
    "from sklearn.model_selection import train_test_split \n",
    "\n",
    "X_train, X_test, y_train, y_test = train_test_split(X, y, test_size=0.2, random_state=100)\n",
    "\n",
    "X_train.shape, X_test.shape, y_train.shape, y_test.shape"
   ]
  },
  {
   "cell_type": "markdown",
   "metadata": {
    "id": "LcCgJrjxkuaP"
   },
   "source": [
    "## **Building the Model** "
   ]
  },
  {
   "cell_type": "code",
   "execution_count": 7,
   "metadata": {
    "executionInfo": {
     "elapsed": 399,
     "status": "ok",
     "timestamp": 1673420818426,
     "user": {
      "displayName": "Adithya Vinod",
      "userId": "06561846904279351931"
     },
     "user_tz": -330
    },
    "id": "ODOLz_OskRkE"
   },
   "outputs": [],
   "source": [
    "model_1 = tf.keras.Sequential()\n",
    "model_1.add(tf.keras.layers.Dense(8,activation='relu'))   # Hidden layer with 8 units and activation function as RELU ( 8 units as in 8 neurons as seen in Playground)\n",
    "model_1.add(tf.keras.layers.Dense(1,activation='sigmoid')) # Only 1 component is needed which will classify the output to 0 or 1, so we need only 1 unit \n",
    "\n",
    "# Dense means fully connected form where all features are connected to all the neurons in the hidden layers and further (as seen in playground). Each unit is connected to every other unit in the consecutive layers \n",
    "# In case of multiclass classification (eg: 7,8,10 etc) we will need 7,8 or 10 units respectively as shown in the 3Brown1Blue video "
   ]
  },
  {
   "cell_type": "markdown",
   "metadata": {
    "id": "JCl-r9N9qfrC"
   },
   "source": [
    "## **Compiling the Model** "
   ]
  },
  {
   "cell_type": "code",
   "execution_count": 8,
   "metadata": {
    "executionInfo": {
     "elapsed": 2,
     "status": "ok",
     "timestamp": 1673421572141,
     "user": {
      "displayName": "Adithya Vinod",
      "userId": "06561846904279351931"
     },
     "user_tz": -330
    },
    "id": "rgEiPi7ykRgd"
   },
   "outputs": [],
   "source": [
    "# Loss function \n",
    "# Optimizer - Giving a vitamin / energy to the Gradient Descent "
   ]
  },
  {
   "cell_type": "code",
   "execution_count": 9,
   "metadata": {
    "executionInfo": {
     "elapsed": 383,
     "status": "ok",
     "timestamp": 1673421737099,
     "user": {
      "displayName": "Adithya Vinod",
      "userId": "06561846904279351931"
     },
     "user_tz": -330
    },
    "id": "v3xmiuqhkRd-"
   },
   "outputs": [],
   "source": [
    "model_1.compile(optimizer=tf.keras.optimizers.Adam(),\n",
    "                loss=tf.keras.losses.BinaryCrossentropy(),\n",
    "                metrics=['accuracy'])"
   ]
  },
  {
   "cell_type": "markdown",
   "metadata": {
    "id": "P_vya6cOti3z"
   },
   "source": [
    "## **Training the Model**"
   ]
  },
  {
   "cell_type": "code",
   "execution_count": 11,
   "metadata": {
    "colab": {
     "base_uri": "https://localhost:8080/",
     "height": 1000
    },
    "executionInfo": {
     "elapsed": 3921,
     "status": "ok",
     "timestamp": 1673422108778,
     "user": {
      "displayName": "Adithya Vinod",
      "userId": "06561846904279351931"
     },
     "user_tz": -330
    },
    "id": "WY895XbpkRbc",
    "outputId": "fa514317-00b6-4741-fc9f-41c910b7a319"
   },
   "outputs": [
    {
     "name": "stdout",
     "output_type": "stream",
     "text": [
      "Epoch 1/50\n",
      "10/10 [==============================] - 1s 2ms/step - loss: 1.6604 - accuracy: 0.0000e+00\n",
      "Epoch 2/50\n",
      "10/10 [==============================] - 0s 2ms/step - loss: 1.5358 - accuracy: 0.0000e+00\n",
      "Epoch 3/50\n",
      "10/10 [==============================] - 0s 2ms/step - loss: 1.4192 - accuracy: 0.0000e+00\n",
      "Epoch 4/50\n",
      "10/10 [==============================] - 0s 2ms/step - loss: 1.3132 - accuracy: 0.0000e+00\n",
      "Epoch 5/50\n",
      "10/10 [==============================] - 0s 2ms/step - loss: 1.2171 - accuracy: 0.0000e+00\n",
      "Epoch 6/50\n",
      "10/10 [==============================] - 0s 2ms/step - loss: 1.1293 - accuracy: 0.0031\n",
      "Epoch 7/50\n",
      "10/10 [==============================] - 0s 2ms/step - loss: 1.0539 - accuracy: 0.1875\n",
      "Epoch 8/50\n",
      "10/10 [==============================] - 0s 2ms/step - loss: 0.9850 - accuracy: 0.4688\n",
      "Epoch 9/50\n",
      "10/10 [==============================] - 0s 2ms/step - loss: 0.9243 - accuracy: 0.4875\n",
      "Epoch 10/50\n",
      "10/10 [==============================] - 0s 2ms/step - loss: 0.8693 - accuracy: 0.4875\n",
      "Epoch 11/50\n",
      "10/10 [==============================] - 0s 2ms/step - loss: 0.8209 - accuracy: 0.4875\n",
      "Epoch 12/50\n",
      "10/10 [==============================] - 0s 2ms/step - loss: 0.7773 - accuracy: 0.4875\n",
      "Epoch 13/50\n",
      "10/10 [==============================] - 0s 2ms/step - loss: 0.7379 - accuracy: 0.4938\n",
      "Epoch 14/50\n",
      "10/10 [==============================] - 0s 2ms/step - loss: 0.7024 - accuracy: 0.4938\n",
      "Epoch 15/50\n",
      "10/10 [==============================] - 0s 2ms/step - loss: 0.6698 - accuracy: 0.4938\n",
      "Epoch 16/50\n",
      "10/10 [==============================] - 0s 2ms/step - loss: 0.6403 - accuracy: 0.4969\n",
      "Epoch 17/50\n",
      "10/10 [==============================] - 0s 2ms/step - loss: 0.6131 - accuracy: 0.4969\n",
      "Epoch 18/50\n",
      "10/10 [==============================] - 0s 2ms/step - loss: 0.5879 - accuracy: 0.4969\n",
      "Epoch 19/50\n",
      "10/10 [==============================] - 0s 2ms/step - loss: 0.5647 - accuracy: 0.4969\n",
      "Epoch 20/50\n",
      "10/10 [==============================] - 0s 2ms/step - loss: 0.5434 - accuracy: 0.5094\n",
      "Epoch 21/50\n",
      "10/10 [==============================] - 0s 2ms/step - loss: 0.5232 - accuracy: 0.5094\n",
      "Epoch 22/50\n",
      "10/10 [==============================] - 0s 3ms/step - loss: 0.5044 - accuracy: 0.5219\n",
      "Epoch 23/50\n",
      "10/10 [==============================] - 0s 2ms/step - loss: 0.4865 - accuracy: 0.5344\n",
      "Epoch 24/50\n",
      "10/10 [==============================] - 0s 2ms/step - loss: 0.4690 - accuracy: 0.5437\n",
      "Epoch 25/50\n",
      "10/10 [==============================] - 0s 2ms/step - loss: 0.4521 - accuracy: 0.5688\n",
      "Epoch 26/50\n",
      "10/10 [==============================] - 0s 2ms/step - loss: 0.4354 - accuracy: 0.6094\n",
      "Epoch 27/50\n",
      "10/10 [==============================] - 0s 2ms/step - loss: 0.4194 - accuracy: 0.6562\n",
      "Epoch 28/50\n",
      "10/10 [==============================] - 0s 2ms/step - loss: 0.4035 - accuracy: 0.7063\n",
      "Epoch 29/50\n",
      "10/10 [==============================] - 0s 2ms/step - loss: 0.3860 - accuracy: 0.7531\n",
      "Epoch 30/50\n",
      "10/10 [==============================] - 0s 2ms/step - loss: 0.3683 - accuracy: 0.8313\n",
      "Epoch 31/50\n",
      "10/10 [==============================] - 0s 2ms/step - loss: 0.3500 - accuracy: 0.8938\n",
      "Epoch 32/50\n",
      "10/10 [==============================] - 0s 2ms/step - loss: 0.3308 - accuracy: 0.9438\n",
      "Epoch 33/50\n",
      "10/10 [==============================] - 0s 2ms/step - loss: 0.3111 - accuracy: 0.9937\n",
      "Epoch 34/50\n",
      "10/10 [==============================] - 0s 2ms/step - loss: 0.2910 - accuracy: 1.0000\n",
      "Epoch 35/50\n",
      "10/10 [==============================] - 0s 2ms/step - loss: 0.2715 - accuracy: 1.0000\n",
      "Epoch 36/50\n",
      "10/10 [==============================] - 0s 2ms/step - loss: 0.2518 - accuracy: 1.0000\n",
      "Epoch 37/50\n",
      "10/10 [==============================] - 0s 2ms/step - loss: 0.2331 - accuracy: 1.0000\n",
      "Epoch 38/50\n",
      "10/10 [==============================] - 0s 2ms/step - loss: 0.2139 - accuracy: 1.0000\n",
      "Epoch 39/50\n",
      "10/10 [==============================] - 0s 2ms/step - loss: 0.1961 - accuracy: 1.0000\n",
      "Epoch 40/50\n",
      "10/10 [==============================] - 0s 2ms/step - loss: 0.1788 - accuracy: 1.0000\n",
      "Epoch 41/50\n",
      "10/10 [==============================] - 0s 2ms/step - loss: 0.1631 - accuracy: 1.0000\n",
      "Epoch 42/50\n",
      "10/10 [==============================] - 0s 2ms/step - loss: 0.1487 - accuracy: 1.0000\n",
      "Epoch 43/50\n",
      "10/10 [==============================] - 0s 2ms/step - loss: 0.1357 - accuracy: 1.0000\n",
      "Epoch 44/50\n",
      "10/10 [==============================] - 0s 2ms/step - loss: 0.1237 - accuracy: 1.0000\n",
      "Epoch 45/50\n",
      "10/10 [==============================] - 0s 2ms/step - loss: 0.1133 - accuracy: 1.0000\n",
      "Epoch 46/50\n",
      "10/10 [==============================] - 0s 2ms/step - loss: 0.1039 - accuracy: 1.0000\n",
      "Epoch 47/50\n",
      "10/10 [==============================] - 0s 2ms/step - loss: 0.0953 - accuracy: 1.0000\n",
      "Epoch 48/50\n",
      "10/10 [==============================] - 0s 2ms/step - loss: 0.0883 - accuracy: 1.0000\n",
      "Epoch 49/50\n",
      "10/10 [==============================] - 0s 2ms/step - loss: 0.0814 - accuracy: 1.0000\n",
      "Epoch 50/50\n",
      "10/10 [==============================] - 0s 2ms/step - loss: 0.0755 - accuracy: 1.0000\n"
     ]
    },
    {
     "data": {
      "image/png": "[encoded data removed]",
      "text/plain": [
       "<Figure size 432x288 with 1 Axes>"
      ]
     },
     "metadata": {
      "needs_background": "light"
     },
     "output_type": "display_data"
    }
   ],
   "source": [
    "tf.random.set_seed(100)\n",
    "history = model_1.fit(X_train, y_train, epochs=50)\n",
    "hist = pd.DataFrame(history.history) # Accessing the history class (second history after the dot(.). The first history can be any name like uncle, a , apple etc)\n",
    "hist.plot();"
   ]
  },
  {
   "cell_type": "code",
   "execution_count": 12,
   "metadata": {
    "executionInfo": {
     "elapsed": 2,
     "status": "ok",
     "timestamp": 1673422173636,
     "user": {
      "displayName": "Adithya Vinod",
      "userId": "06561846904279351931"
     },
     "user_tz": -330
    },
    "id": "SinST9z-kRU4"
   },
   "outputs": [],
   "source": [
    "# Graph we are getting only bcoz we stored in history and plotted history (can be any other name). If we hadn't stored, then graph would not be obtained "
   ]
  },
  {
   "cell_type": "code",
   "execution_count": 13,
   "metadata": {
    "executionInfo": {
     "elapsed": 370,
     "status": "ok",
     "timestamp": 1673423202264,
     "user": {
      "displayName": "Adithya Vinod",
      "userId": "06561846904279351931"
     },
     "user_tz": -330
    },
    "id": "hr-ReMgFkRBY"
   },
   "outputs": [],
   "source": [
    "# 10/10 means there are 10 batches total of 32 datapoints in 1 batch, so 320 points(training data) / 10 batches = 32 points in each batch \n",
    "# By deafult, 32 is the maximum number of datapoints in each batch, but you should not go above 32 datapoints per batch \n",
    "# 1/50, 2/50, ...... , 50/50 is the epoch number, total 50 epoch as set above \n",
    "# So 10/10 for 1/50 means 10 updations taking place totally in first epoch, i.e, after 32 points, 1 updation in weights, after next 32, another updation, etc\n",
    "# 10/10 is same for each epoch till 50/50, so 10 updations in each epoch"
   ]
  },
  {
   "cell_type": "markdown",
   "metadata": {
    "id": "diVII_lIy71t"
   },
   "source": [
    "## **Model Summary**"
   ]
  },
  {
   "cell_type": "code",
   "execution_count": 14,
   "metadata": {
    "colab": {
     "base_uri": "https://localhost:8080/"
    },
    "executionInfo": {
     "elapsed": 991,
     "status": "ok",
     "timestamp": 1673423238117,
     "user": {
      "displayName": "Adithya Vinod",
      "userId": "06561846904279351931"
     },
     "user_tz": -330
    },
    "id": "1sbpqIWmy7k_",
    "outputId": "16db5e21-da04-4340-ddc7-fdcce4a5c593"
   },
   "outputs": [
    {
     "name": "stdout",
     "output_type": "stream",
     "text": [
      "Model: \"sequential\"\n",
      "_________________________________________________________________\n",
      " Layer (type)                Output Shape              Param #   \n",
      "=================================================================\n",
      " dense (Dense)               (32, 8)                   24        \n",
      "                                                                 \n",
      " dense_1 (Dense)             (32, 1)                   9         \n",
      "                                                                 \n",
      "=================================================================\n",
      "Total params: 33\n",
      "Trainable params: 33\n",
      "Non-trainable params: 0\n",
      "_________________________________________________________________\n"
     ]
    }
   ],
   "source": [
    "model_1.summary()"
   ]
  },
  {
   "cell_type": "code",
   "execution_count": null,
   "metadata": {
    "id": "lIHLe0jrzFgv"
   },
   "outputs": [],
   "source": [
    "# (32,8) - 32 points at once (1 batch) interacting with 8 units in the hidden layer \n",
    "# (32,1) - 32 points at once (1 batch) interacting with the final target component \n",
    "# Total Param for (32,8) is 24 - 8 (first feature interaction with all neurons in hidden layer) + 8 (second feature interaction with all neurons in hidden layer) + 8 ( bias interaction with the 8 neurons)\n",
    "# Total Param for (32,1) is 9 - 8 (interaction of all 8 neurons with the output target) + 1 (bias interaction with output target)"
   ]
  },
  {
   "cell_type": "markdown",
   "metadata": {
    "id": "O0rmT9_90Dl-"
   },
   "source": [
    "# **Plotting the model**"
   ]
  },
  {
   "cell_type": "code",
   "execution_count": 15,
   "metadata": {
    "colab": {
     "base_uri": "https://localhost:8080/",
     "height": 312
    },
    "executionInfo": {
     "elapsed": 593,
     "status": "ok",
     "timestamp": 1673423553616,
     "user": {
      "displayName": "Adithya Vinod",
      "userId": "06561846904279351931"
     },
     "user_tz": -330
    },
    "id": "Bdlh1XGL0DTB",
    "outputId": "425425e4-6917-4b17-9ec7-9c563b799687"
   },
   "outputs": [
    {
     "data": {
      "image/png": "[encoded data removed]",
      "text/plain": [
       "<IPython.core.display.Image object>"
      ]
     },
     "execution_count": 15,
     "metadata": {},
     "output_type": "execute_result"
    }
   ],
   "source": [
    "from tensorflow.keras.utils import plot_model \n",
    "plot_model(model_1, show_shapes=True)"
   ]
  },
  {
   "cell_type": "code",
   "execution_count": 16,
   "metadata": {
    "executionInfo": {
     "elapsed": 393,
     "status": "ok",
     "timestamp": 1673423698806,
     "user": {
      "displayName": "Adithya Vinod",
      "userId": "06561846904279351931"
     },
     "user_tz": -330
    },
    "id": "5aFJzLoK0S_X"
   },
   "outputs": [],
   "source": [
    "# First Layer is (32,2) as 1 batch = 32 points and there are 2 features. Input and Output is same - 2 features \n",
    "# Second Layer is (32,2) input and (32,8) output, as 2 input from previous output and 8 input into the 8 neurons of hidden layer \n",
    "# Third Layer is (32,8) input and (32,1) output as 8 input from previous output and 1 input into the target output "
   ]
  },
  {
   "cell_type": "markdown",
   "metadata": {
    "id": "ULZu4k1o00Vd"
   },
   "source": [
    "## **Prediction using Model** "
   ]
  },
  {
   "cell_type": "code",
   "execution_count": 17,
   "metadata": {
    "colab": {
     "base_uri": "https://localhost:8080/"
    },
    "executionInfo": {
     "elapsed": 841,
     "status": "ok",
     "timestamp": 1673423765216,
     "user": {
      "displayName": "Adithya Vinod",
      "userId": "06561846904279351931"
     },
     "user_tz": -330
    },
    "id": "C-6iWDS81BMD",
    "outputId": "e7d81c81-80bf-4d69-d6f2-a3fda4f7741a"
   },
   "outputs": [
    {
     "name": "stdout",
     "output_type": "stream",
     "text": [
      "3/3 [==============================] - 0s 3ms/step\n"
     ]
    },
    {
     "data": {
      "text/plain": [
       "array([[0.95728004],\n",
       "       [0.03607585],\n",
       "       [0.96082115],\n",
       "       [0.0581784 ],\n",
       "       [0.9362384 ],\n",
       "       [0.04149133],\n",
       "       [0.05603508],\n",
       "       [0.02949298],\n",
       "       [0.0093605 ],\n",
       "       [0.8054612 ],\n",
       "       [0.8989639 ],\n",
       "       [0.83938724],\n",
       "       [0.9103793 ],\n",
       "       [0.8030427 ],\n",
       "       [0.01505162],\n",
       "       [0.91403395],\n",
       "       [0.0302219 ],\n",
       "       [0.924292  ],\n",
       "       [0.0150222 ],\n",
       "       [0.97799146],\n",
       "       [0.9156281 ],\n",
       "       [0.00982525],\n",
       "       [0.8233052 ],\n",
       "       [0.07999323],\n",
       "       [0.9336693 ],\n",
       "       [0.91378313],\n",
       "       [0.02758133],\n",
       "       [0.05738372],\n",
       "       [0.04765961],\n",
       "       [0.01880269],\n",
       "       [0.8552671 ],\n",
       "       [0.9374511 ],\n",
       "       [0.0212914 ],\n",
       "       [0.03104979],\n",
       "       [0.9061731 ],\n",
       "       [0.01603323],\n",
       "       [0.9099588 ],\n",
       "       [0.118682  ],\n",
       "       [0.96425647],\n",
       "       [0.01246984],\n",
       "       [0.8123036 ],\n",
       "       [0.95796704],\n",
       "       [0.04066228],\n",
       "       [0.01977251],\n",
       "       [0.73776007],\n",
       "       [0.02414643],\n",
       "       [0.10443232],\n",
       "       [0.8792161 ],\n",
       "       [0.8985677 ],\n",
       "       [0.0035568 ],\n",
       "       [0.0064778 ],\n",
       "       [0.07924177],\n",
       "       [0.95960116],\n",
       "       [0.01489726],\n",
       "       [0.03177902],\n",
       "       [0.01695511],\n",
       "       [0.9721974 ],\n",
       "       [0.9511623 ],\n",
       "       [0.8422534 ],\n",
       "       [0.92560667],\n",
       "       [0.0177418 ],\n",
       "       [0.04445037],\n",
       "       [0.9394195 ],\n",
       "       [0.815672  ],\n",
       "       [0.9812305 ],\n",
       "       [0.02066951],\n",
       "       [0.00478439],\n",
       "       [0.15686676],\n",
       "       [0.01430797],\n",
       "       [0.05013769],\n",
       "       [0.02731665],\n",
       "       [0.04303475],\n",
       "       [0.96156985],\n",
       "       [0.0320129 ],\n",
       "       [0.90251523],\n",
       "       [0.01832331],\n",
       "       [0.02586624],\n",
       "       [0.9128734 ],\n",
       "       [0.01138924],\n",
       "       [0.8476232 ]], dtype=float32)"
      ]
     },
     "execution_count": 17,
     "metadata": {},
     "output_type": "execute_result"
    }
   ],
   "source": [
    "model_1.predict(X_test) \n",
    "\n",
    "# 3/3 bcoz test data has 3 batches (32+32+16=80, total 80 data points for the test data)"
   ]
  },
  {
   "cell_type": "markdown",
   "metadata": {
    "id": "kpDafBD2iTH7"
   },
   "source": []
  }
 ],
 "metadata": {
  "colab": {
   "authorship_tag": "ABX9TyOL5YXhcqUpi2lfUHI8dkKs",
   "provenance": []
  },
  "kernelspec": {
   "display_name": "Python 3 (ipykernel)",
   "language": "python",
   "name": "python3"
  },
  "language_info": {
   "codemirror_mode": {
    "name": "ipython",
    "version": 3
   },
   "file_extension": ".py",
   "mimetype": "text/x-python",
   "name": "python",
   "nbconvert_exporter": "python",
   "pygments_lexer": "ipython3",
   "version": "3.9.13"
  }
 },
 "nbformat": 4,
 "nbformat_minor": 1
}
