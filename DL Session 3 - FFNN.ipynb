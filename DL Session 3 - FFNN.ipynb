{
 "cells": [
  {
   "cell_type": "markdown",
   "metadata": {
    "id": "NBafgTC3kSDf"
   },
   "source": [
    "## **Regression Using Feed Forward Neural Network (FFNN)**"
   ]
  },
  {
   "cell_type": "code",
   "execution_count": null,
   "metadata": {
    "id": "PEYJaAmikY_H"
   },
   "outputs": [],
   "source": [
    "import pandas as pd \n",
    "import matplotlib.pyplot as plt \n",
    "import numpy as np\n",
    "import tensorflow as tf\n",
    "from sklearn.datasets import fetch_california_housing"
   ]
  },
  {
   "cell_type": "markdown",
   "metadata": {
    "id": "ejwutulZkqh4"
   },
   "source": [
    "# **Accessing the Dataset**"
   ]
  },
  {
   "cell_type": "code",
   "execution_count": null,
   "metadata": {
    "colab": {
     "base_uri": "https://localhost:8080/"
    },
    "executionInfo": {
     "elapsed": 1973,
     "status": "ok",
     "timestamp": 1674023507928,
     "user": {
      "displayName": "Adithya Vinod",
      "userId": "06561846904279351931"
     },
     "user_tz": -330
    },
    "id": "3P4QeEFdki0n",
    "outputId": "fed7efbb-eea5-4e85-d548-91ad6dda843b"
   },
   "outputs": [
    {
     "data": {
      "text/plain": [
       "{'data': array([[   8.3252    ,   41.        ,    6.98412698, ...,    2.55555556,\n",
       "           37.88      , -122.23      ],\n",
       "        [   8.3014    ,   21.        ,    6.23813708, ...,    2.10984183,\n",
       "           37.86      , -122.22      ],\n",
       "        [   7.2574    ,   52.        ,    8.28813559, ...,    2.80225989,\n",
       "           37.85      , -122.24      ],\n",
       "        ...,\n",
       "        [   1.7       ,   17.        ,    5.20554273, ...,    2.3256351 ,\n",
       "           39.43      , -121.22      ],\n",
       "        [   1.8672    ,   18.        ,    5.32951289, ...,    2.12320917,\n",
       "           39.43      , -121.32      ],\n",
       "        [   2.3886    ,   16.        ,    5.25471698, ...,    2.61698113,\n",
       "           39.37      , -121.24      ]]),\n",
       " 'target': array([4.526, 3.585, 3.521, ..., 0.923, 0.847, 0.894]),\n",
       " 'frame': None,\n",
       " 'target_names': ['MedHouseVal'],\n",
       " 'feature_names': ['MedInc',\n",
       "  'HouseAge',\n",
       "  'AveRooms',\n",
       "  'AveBedrms',\n",
       "  'Population',\n",
       "  'AveOccup',\n",
       "  'Latitude',\n",
       "  'Longitude'],\n",
       " 'DESCR': '.. _california_housing_dataset:\\n\\nCalifornia Housing dataset\\n--------------------------\\n\\n**Data Set Characteristics:**\\n\\n    :Number of Instances: 20640\\n\\n    :Number of Attributes: 8 numeric, predictive attributes and the target\\n\\n    :Attribute Information:\\n        - MedInc        median income in block group\\n        - HouseAge      median house age in block group\\n        - AveRooms      average number of rooms per household\\n        - AveBedrms     average number of bedrooms per household\\n        - Population    block group population\\n        - AveOccup      average number of household members\\n        - Latitude      block group latitude\\n        - Longitude     block group longitude\\n\\n    :Missing Attribute Values: None\\n\\nThis dataset was obtained from the StatLib repository.\\nhttps://www.dcc.fc.up.pt/~ltorgo/Regression/cal_housing.html\\n\\nThe target variable is the median house value for California districts,\\nexpressed in hundreds of thousands of dollars ($100,000).\\n\\nThis dataset was derived from the 1990 U.S. census, using one row per census\\nblock group. A block group is the smallest geographical unit for which the U.S.\\nCensus Bureau publishes sample data (a block group typically has a population\\nof 600 to 3,000 people).\\n\\nAn household is a group of people residing within a home. Since the average\\nnumber of rooms and bedrooms in this dataset are provided per household, these\\ncolumns may take surpinsingly large values for block groups with few households\\nand many empty houses, such as vacation resorts.\\n\\nIt can be downloaded/loaded using the\\n:func:`sklearn.datasets.fetch_california_housing` function.\\n\\n.. topic:: References\\n\\n    - Pace, R. Kelley and Ronald Barry, Sparse Spatial Autoregressions,\\n      Statistics and Probability Letters, 33 (1997) 291-297\\n'}"
      ]
     },
     "execution_count": 3,
     "metadata": {},
     "output_type": "execute_result"
    }
   ],
   "source": [
    "house = fetch_california_housing()\n",
    "house"
   ]
  },
  {
   "cell_type": "code",
   "execution_count": null,
   "metadata": {
    "colab": {
     "base_uri": "https://localhost:8080/"
    },
    "executionInfo": {
     "elapsed": 13,
     "status": "ok",
     "timestamp": 1674023576811,
     "user": {
      "displayName": "Adithya Vinod",
      "userId": "06561846904279351931"
     },
     "user_tz": -330
    },
    "id": "yzZ00vfnkzvI",
    "outputId": "e91a09b4-08d6-4b42-e01d-f228264ff11a"
   },
   "outputs": [
    {
     "data": {
      "text/plain": [
       "array([[   8.3252    ,   41.        ,    6.98412698, ...,    2.55555556,\n",
       "          37.88      , -122.23      ],\n",
       "       [   8.3014    ,   21.        ,    6.23813708, ...,    2.10984183,\n",
       "          37.86      , -122.22      ],\n",
       "       [   7.2574    ,   52.        ,    8.28813559, ...,    2.80225989,\n",
       "          37.85      , -122.24      ],\n",
       "       ...,\n",
       "       [   1.7       ,   17.        ,    5.20554273, ...,    2.3256351 ,\n",
       "          39.43      , -121.22      ],\n",
       "       [   1.8672    ,   18.        ,    5.32951289, ...,    2.12320917,\n",
       "          39.43      , -121.32      ],\n",
       "       [   2.3886    ,   16.        ,    5.25471698, ...,    2.61698113,\n",
       "          39.37      , -121.24      ]])"
      ]
     },
     "execution_count": 4,
     "metadata": {},
     "output_type": "execute_result"
    }
   ],
   "source": [
    "house['data']"
   ]
  },
  {
   "cell_type": "code",
   "execution_count": null,
   "metadata": {
    "colab": {
     "base_uri": "https://localhost:8080/"
    },
    "executionInfo": {
     "elapsed": 7,
     "status": "ok",
     "timestamp": 1674023588419,
     "user": {
      "displayName": "Adithya Vinod",
      "userId": "06561846904279351931"
     },
     "user_tz": -330
    },
    "id": "T7sC_j-LlJ6P",
    "outputId": "ad4e92a2-1901-4707-f27b-5549908f3a44"
   },
   "outputs": [
    {
     "data": {
      "text/plain": [
       "(20640, 8)"
      ]
     },
     "execution_count": 5,
     "metadata": {},
     "output_type": "execute_result"
    }
   ],
   "source": [
    "house['data'].shape"
   ]
  },
  {
   "cell_type": "code",
   "execution_count": null,
   "metadata": {
    "colab": {
     "base_uri": "https://localhost:8080/"
    },
    "executionInfo": {
     "elapsed": 6,
     "status": "ok",
     "timestamp": 1674023608423,
     "user": {
      "displayName": "Adithya Vinod",
      "userId": "06561846904279351931"
     },
     "user_tz": -330
    },
    "id": "zUFP0ehvlM3G",
    "outputId": "b53ef25c-635d-4749-f6fa-f5870197e8bf"
   },
   "outputs": [
    {
     "data": {
      "text/plain": [
       "['MedInc',\n",
       " 'HouseAge',\n",
       " 'AveRooms',\n",
       " 'AveBedrms',\n",
       " 'Population',\n",
       " 'AveOccup',\n",
       " 'Latitude',\n",
       " 'Longitude']"
      ]
     },
     "execution_count": 6,
     "metadata": {},
     "output_type": "execute_result"
    }
   ],
   "source": [
    "house['feature_names']"
   ]
  },
  {
   "cell_type": "code",
   "execution_count": null,
   "metadata": {
    "colab": {
     "base_uri": "https://localhost:8080/",
     "height": 424
    },
    "executionInfo": {
     "elapsed": 13,
     "status": "ok",
     "timestamp": 1674023706998,
     "user": {
      "displayName": "Adithya Vinod",
      "userId": "06561846904279351931"
     },
     "user_tz": -330
    },
    "id": "21Nf4xGXlRsY",
    "outputId": "77457bd1-e9a8-4f89-f2e1-172a0e1c006a"
   },
   "outputs": [
    {
     "data": {
      "text/html": [
       "\n",
       "  <div id=\"df-5fed2891-1502-4626-9cc4-12ad7cf5f606\">\n",
       "    <div class=\"colab-df-container\">\n",
       "      <div>\n",
       "<style scoped>\n",
       "    .dataframe tbody tr th:only-of-type {\n",
       "        vertical-align: middle;\n",
       "    }\n",
       "\n",
       "    .dataframe tbody tr th {\n",
       "        vertical-align: top;\n",
       "    }\n",
       "\n",
       "    .dataframe thead th {\n",
       "        text-align: right;\n",
       "    }\n",
       "</style>\n",
       "<table border=\"1\" class=\"dataframe\">\n",
       "  <thead>\n",
       "    <tr style=\"text-align: right;\">\n",
       "      <th></th>\n",
       "      <th>MedInc</th>\n",
       "      <th>HouseAge</th>\n",
       "      <th>AveRooms</th>\n",
       "      <th>AveBedrms</th>\n",
       "      <th>Population</th>\n",
       "      <th>AveOccup</th>\n",
       "      <th>Latitude</th>\n",
       "      <th>Longitude</th>\n",
       "    </tr>\n",
       "  </thead>\n",
       "  <tbody>\n",
       "    <tr>\n",
       "      <th>0</th>\n",
       "      <td>8.3252</td>\n",
       "      <td>41.0</td>\n",
       "      <td>6.984127</td>\n",
       "      <td>1.023810</td>\n",
       "      <td>322.0</td>\n",
       "      <td>2.555556</td>\n",
       "      <td>37.88</td>\n",
       "      <td>-122.23</td>\n",
       "    </tr>\n",
       "    <tr>\n",
       "      <th>1</th>\n",
       "      <td>8.3014</td>\n",
       "      <td>21.0</td>\n",
       "      <td>6.238137</td>\n",
       "      <td>0.971880</td>\n",
       "      <td>2401.0</td>\n",
       "      <td>2.109842</td>\n",
       "      <td>37.86</td>\n",
       "      <td>-122.22</td>\n",
       "    </tr>\n",
       "    <tr>\n",
       "      <th>2</th>\n",
       "      <td>7.2574</td>\n",
       "      <td>52.0</td>\n",
       "      <td>8.288136</td>\n",
       "      <td>1.073446</td>\n",
       "      <td>496.0</td>\n",
       "      <td>2.802260</td>\n",
       "      <td>37.85</td>\n",
       "      <td>-122.24</td>\n",
       "    </tr>\n",
       "    <tr>\n",
       "      <th>3</th>\n",
       "      <td>5.6431</td>\n",
       "      <td>52.0</td>\n",
       "      <td>5.817352</td>\n",
       "      <td>1.073059</td>\n",
       "      <td>558.0</td>\n",
       "      <td>2.547945</td>\n",
       "      <td>37.85</td>\n",
       "      <td>-122.25</td>\n",
       "    </tr>\n",
       "    <tr>\n",
       "      <th>4</th>\n",
       "      <td>3.8462</td>\n",
       "      <td>52.0</td>\n",
       "      <td>6.281853</td>\n",
       "      <td>1.081081</td>\n",
       "      <td>565.0</td>\n",
       "      <td>2.181467</td>\n",
       "      <td>37.85</td>\n",
       "      <td>-122.25</td>\n",
       "    </tr>\n",
       "    <tr>\n",
       "      <th>...</th>\n",
       "      <td>...</td>\n",
       "      <td>...</td>\n",
       "      <td>...</td>\n",
       "      <td>...</td>\n",
       "      <td>...</td>\n",
       "      <td>...</td>\n",
       "      <td>...</td>\n",
       "      <td>...</td>\n",
       "    </tr>\n",
       "    <tr>\n",
       "      <th>20635</th>\n",
       "      <td>1.5603</td>\n",
       "      <td>25.0</td>\n",
       "      <td>5.045455</td>\n",
       "      <td>1.133333</td>\n",
       "      <td>845.0</td>\n",
       "      <td>2.560606</td>\n",
       "      <td>39.48</td>\n",
       "      <td>-121.09</td>\n",
       "    </tr>\n",
       "    <tr>\n",
       "      <th>20636</th>\n",
       "      <td>2.5568</td>\n",
       "      <td>18.0</td>\n",
       "      <td>6.114035</td>\n",
       "      <td>1.315789</td>\n",
       "      <td>356.0</td>\n",
       "      <td>3.122807</td>\n",
       "      <td>39.49</td>\n",
       "      <td>-121.21</td>\n",
       "    </tr>\n",
       "    <tr>\n",
       "      <th>20637</th>\n",
       "      <td>1.7000</td>\n",
       "      <td>17.0</td>\n",
       "      <td>5.205543</td>\n",
       "      <td>1.120092</td>\n",
       "      <td>1007.0</td>\n",
       "      <td>2.325635</td>\n",
       "      <td>39.43</td>\n",
       "      <td>-121.22</td>\n",
       "    </tr>\n",
       "    <tr>\n",
       "      <th>20638</th>\n",
       "      <td>1.8672</td>\n",
       "      <td>18.0</td>\n",
       "      <td>5.329513</td>\n",
       "      <td>1.171920</td>\n",
       "      <td>741.0</td>\n",
       "      <td>2.123209</td>\n",
       "      <td>39.43</td>\n",
       "      <td>-121.32</td>\n",
       "    </tr>\n",
       "    <tr>\n",
       "      <th>20639</th>\n",
       "      <td>2.3886</td>\n",
       "      <td>16.0</td>\n",
       "      <td>5.254717</td>\n",
       "      <td>1.162264</td>\n",
       "      <td>1387.0</td>\n",
       "      <td>2.616981</td>\n",
       "      <td>39.37</td>\n",
       "      <td>-121.24</td>\n",
       "    </tr>\n",
       "  </tbody>\n",
       "</table>\n",
       "<p>20640 rows × 8 columns</p>\n",
       "</div>\n",
       "      <button class=\"colab-df-convert\" onclick=\"convertToInteractive('df-5fed2891-1502-4626-9cc4-12ad7cf5f606')\"\n",
       "              title=\"Convert this dataframe to an interactive table.\"\n",
       "              style=\"display:none;\">\n",
       "        \n",
       "  <svg xmlns=\"http://www.w3.org/2000/svg\" height=\"24px\"viewBox=\"0 0 24 24\"\n",
       "       width=\"24px\">\n",
       "    <path d=\"M0 0h24v24H0V0z\" fill=\"none\"/>\n",
       "    <path d=\"M18.56 5.44l.94 2.06.94-2.06 2.06-.94-2.06-.94-.94-2.06-.94 2.06-2.06.94zm-11 1L8.5 8.5l.94-2.06 2.06-.94-2.06-.94L8.5 2.5l-.94 2.06-2.06.94zm10 10l.94 2.06.94-2.06 2.06-.94-2.06-.94-.94-2.06-.94 2.06-2.06.94z\"/><path d=\"M17.41 7.96l-1.37-1.37c-.4-.4-.92-.59-1.43-.59-.52 0-1.04.2-1.43.59L10.3 9.45l-7.72 7.72c-.78.78-.78 2.05 0 2.83L4 21.41c.39.39.9.59 1.41.59.51 0 1.02-.2 1.41-.59l7.78-7.78 2.81-2.81c.8-.78.8-2.07 0-2.86zM5.41 20L4 18.59l7.72-7.72 1.47 1.35L5.41 20z\"/>\n",
       "  </svg>\n",
       "      </button>\n",
       "      \n",
       "  <style>\n",
       "    .colab-df-container {\n",
       "      display:flex;\n",
       "      flex-wrap:wrap;\n",
       "      gap: 12px;\n",
       "    }\n",
       "\n",
       "    .colab-df-convert {\n",
       "      background-color: #E8F0FE;\n",
       "      border: none;\n",
       "      border-radius: 50%;\n",
       "      cursor: pointer;\n",
       "      display: none;\n",
       "      fill: #1967D2;\n",
       "      height: 32px;\n",
       "      padding: 0 0 0 0;\n",
       "      width: 32px;\n",
       "    }\n",
       "\n",
       "    .colab-df-convert:hover {\n",
       "      background-color: #E2EBFA;\n",
       "      box-shadow: 0px 1px 2px rgba(60, 64, 67, 0.3), 0px 1px 3px 1px rgba(60, 64, 67, 0.15);\n",
       "      fill: #174EA6;\n",
       "    }\n",
       "\n",
       "    [theme=dark] .colab-df-convert {\n",
       "      background-color: #3B4455;\n",
       "      fill: #D2E3FC;\n",
       "    }\n",
       "\n",
       "    [theme=dark] .colab-df-convert:hover {\n",
       "      background-color: #434B5C;\n",
       "      box-shadow: 0px 1px 3px 1px rgba(0, 0, 0, 0.15);\n",
       "      filter: drop-shadow(0px 1px 2px rgba(0, 0, 0, 0.3));\n",
       "      fill: #FFFFFF;\n",
       "    }\n",
       "  </style>\n",
       "\n",
       "      <script>\n",
       "        const buttonEl =\n",
       "          document.querySelector('#df-5fed2891-1502-4626-9cc4-12ad7cf5f606 button.colab-df-convert');\n",
       "        buttonEl.style.display =\n",
       "          google.colab.kernel.accessAllowed ? 'block' : 'none';\n",
       "\n",
       "        async function convertToInteractive(key) {\n",
       "          const element = document.querySelector('#df-5fed2891-1502-4626-9cc4-12ad7cf5f606');\n",
       "          const dataTable =\n",
       "            await google.colab.kernel.invokeFunction('convertToInteractive',\n",
       "                                                     [key], {});\n",
       "          if (!dataTable) return;\n",
       "\n",
       "          const docLinkHtml = 'Like what you see? Visit the ' +\n",
       "            '<a target=\"_blank\" href=https://colab.research.google.com/notebooks/data_table.ipynb>data table notebook</a>'\n",
       "            + ' to learn more about interactive tables.';\n",
       "          element.innerHTML = '';\n",
       "          dataTable['output_type'] = 'display_data';\n",
       "          await google.colab.output.renderOutput(dataTable, element);\n",
       "          const docLink = document.createElement('div');\n",
       "          docLink.innerHTML = docLinkHtml;\n",
       "          element.appendChild(docLink);\n",
       "        }\n",
       "      </script>\n",
       "    </div>\n",
       "  </div>\n",
       "  "
      ],
      "text/plain": [
       "       MedInc  HouseAge  AveRooms  AveBedrms  Population  AveOccup  Latitude  \\\n",
       "0      8.3252      41.0  6.984127   1.023810       322.0  2.555556     37.88   \n",
       "1      8.3014      21.0  6.238137   0.971880      2401.0  2.109842     37.86   \n",
       "2      7.2574      52.0  8.288136   1.073446       496.0  2.802260     37.85   \n",
       "3      5.6431      52.0  5.817352   1.073059       558.0  2.547945     37.85   \n",
       "4      3.8462      52.0  6.281853   1.081081       565.0  2.181467     37.85   \n",
       "...       ...       ...       ...        ...         ...       ...       ...   \n",
       "20635  1.5603      25.0  5.045455   1.133333       845.0  2.560606     39.48   \n",
       "20636  2.5568      18.0  6.114035   1.315789       356.0  3.122807     39.49   \n",
       "20637  1.7000      17.0  5.205543   1.120092      1007.0  2.325635     39.43   \n",
       "20638  1.8672      18.0  5.329513   1.171920       741.0  2.123209     39.43   \n",
       "20639  2.3886      16.0  5.254717   1.162264      1387.0  2.616981     39.37   \n",
       "\n",
       "       Longitude  \n",
       "0        -122.23  \n",
       "1        -122.22  \n",
       "2        -122.24  \n",
       "3        -122.25  \n",
       "4        -122.25  \n",
       "...          ...  \n",
       "20635    -121.09  \n",
       "20636    -121.21  \n",
       "20637    -121.22  \n",
       "20638    -121.32  \n",
       "20639    -121.24  \n",
       "\n",
       "[20640 rows x 8 columns]"
      ]
     },
     "execution_count": 7,
     "metadata": {},
     "output_type": "execute_result"
    }
   ],
   "source": [
    "# Feature set creation - for creating a DataFrame \n",
    "\n",
    "X = pd.DataFrame(house['data'], columns=house['feature_names'])\n",
    "X"
   ]
  },
  {
   "cell_type": "code",
   "execution_count": null,
   "metadata": {
    "colab": {
     "base_uri": "https://localhost:8080/"
    },
    "executionInfo": {
     "elapsed": 12,
     "status": "ok",
     "timestamp": 1674023763165,
     "user": {
      "displayName": "Adithya Vinod",
      "userId": "06561846904279351931"
     },
     "user_tz": -330
    },
    "id": "45RrGsqslpqv",
    "outputId": "81f04d74-4dbe-498c-8691-5fe40dd7b176"
   },
   "outputs": [
    {
     "data": {
      "text/plain": [
       "array([4.526, 3.585, 3.521, ..., 0.923, 0.847, 0.894])"
      ]
     },
     "execution_count": 9,
     "metadata": {},
     "output_type": "execute_result"
    }
   ],
   "source": [
    "# Target Variable \n",
    "\n",
    "house['target']"
   ]
  },
  {
   "cell_type": "code",
   "execution_count": null,
   "metadata": {
    "colab": {
     "base_uri": "https://localhost:8080/"
    },
    "executionInfo": {
     "elapsed": 11,
     "status": "ok",
     "timestamp": 1674023774789,
     "user": {
      "displayName": "Adithya Vinod",
      "userId": "06561846904279351931"
     },
     "user_tz": -330
    },
    "id": "F_ApUsyNl15U",
    "outputId": "2f97fe98-18b6-46a3-c6f0-2e3d760acd59"
   },
   "outputs": [
    {
     "data": {
      "text/plain": [
       "['MedHouseVal']"
      ]
     },
     "execution_count": 10,
     "metadata": {},
     "output_type": "execute_result"
    }
   ],
   "source": [
    "house['target_names']"
   ]
  },
  {
   "cell_type": "code",
   "execution_count": null,
   "metadata": {
    "colab": {
     "base_uri": "https://localhost:8080/",
     "height": 424
    },
    "executionInfo": {
     "elapsed": 9,
     "status": "ok",
     "timestamp": 1674023955486,
     "user": {
      "displayName": "Adithya Vinod",
      "userId": "06561846904279351931"
     },
     "user_tz": -330
    },
    "id": "W0Vm0R5Sl6Xf",
    "outputId": "3e1e4298-0131-4649-9706-7e7b37d1d73b"
   },
   "outputs": [
    {
     "data": {
      "text/html": [
       "\n",
       "  <div id=\"df-1dbd5960-7f6c-424d-b2ae-3ab70fbbe9c0\">\n",
       "    <div class=\"colab-df-container\">\n",
       "      <div>\n",
       "<style scoped>\n",
       "    .dataframe tbody tr th:only-of-type {\n",
       "        vertical-align: middle;\n",
       "    }\n",
       "\n",
       "    .dataframe tbody tr th {\n",
       "        vertical-align: top;\n",
       "    }\n",
       "\n",
       "    .dataframe thead th {\n",
       "        text-align: right;\n",
       "    }\n",
       "</style>\n",
       "<table border=\"1\" class=\"dataframe\">\n",
       "  <thead>\n",
       "    <tr style=\"text-align: right;\">\n",
       "      <th></th>\n",
       "      <th>MedHouseVal</th>\n",
       "    </tr>\n",
       "  </thead>\n",
       "  <tbody>\n",
       "    <tr>\n",
       "      <th>0</th>\n",
       "      <td>4.526</td>\n",
       "    </tr>\n",
       "    <tr>\n",
       "      <th>1</th>\n",
       "      <td>3.585</td>\n",
       "    </tr>\n",
       "    <tr>\n",
       "      <th>2</th>\n",
       "      <td>3.521</td>\n",
       "    </tr>\n",
       "    <tr>\n",
       "      <th>3</th>\n",
       "      <td>3.413</td>\n",
       "    </tr>\n",
       "    <tr>\n",
       "      <th>4</th>\n",
       "      <td>3.422</td>\n",
       "    </tr>\n",
       "    <tr>\n",
       "      <th>...</th>\n",
       "      <td>...</td>\n",
       "    </tr>\n",
       "    <tr>\n",
       "      <th>20635</th>\n",
       "      <td>0.781</td>\n",
       "    </tr>\n",
       "    <tr>\n",
       "      <th>20636</th>\n",
       "      <td>0.771</td>\n",
       "    </tr>\n",
       "    <tr>\n",
       "      <th>20637</th>\n",
       "      <td>0.923</td>\n",
       "    </tr>\n",
       "    <tr>\n",
       "      <th>20638</th>\n",
       "      <td>0.847</td>\n",
       "    </tr>\n",
       "    <tr>\n",
       "      <th>20639</th>\n",
       "      <td>0.894</td>\n",
       "    </tr>\n",
       "  </tbody>\n",
       "</table>\n",
       "<p>20640 rows × 1 columns</p>\n",
       "</div>\n",
       "      <button class=\"colab-df-convert\" onclick=\"convertToInteractive('df-1dbd5960-7f6c-424d-b2ae-3ab70fbbe9c0')\"\n",
       "              title=\"Convert this dataframe to an interactive table.\"\n",
       "              style=\"display:none;\">\n",
       "        \n",
       "  <svg xmlns=\"http://www.w3.org/2000/svg\" height=\"24px\"viewBox=\"0 0 24 24\"\n",
       "       width=\"24px\">\n",
       "    <path d=\"M0 0h24v24H0V0z\" fill=\"none\"/>\n",
       "    <path d=\"M18.56 5.44l.94 2.06.94-2.06 2.06-.94-2.06-.94-.94-2.06-.94 2.06-2.06.94zm-11 1L8.5 8.5l.94-2.06 2.06-.94-2.06-.94L8.5 2.5l-.94 2.06-2.06.94zm10 10l.94 2.06.94-2.06 2.06-.94-2.06-.94-.94-2.06-.94 2.06-2.06.94z\"/><path d=\"M17.41 7.96l-1.37-1.37c-.4-.4-.92-.59-1.43-.59-.52 0-1.04.2-1.43.59L10.3 9.45l-7.72 7.72c-.78.78-.78 2.05 0 2.83L4 21.41c.39.39.9.59 1.41.59.51 0 1.02-.2 1.41-.59l7.78-7.78 2.81-2.81c.8-.78.8-2.07 0-2.86zM5.41 20L4 18.59l7.72-7.72 1.47 1.35L5.41 20z\"/>\n",
       "  </svg>\n",
       "      </button>\n",
       "      \n",
       "  <style>\n",
       "    .colab-df-container {\n",
       "      display:flex;\n",
       "      flex-wrap:wrap;\n",
       "      gap: 12px;\n",
       "    }\n",
       "\n",
       "    .colab-df-convert {\n",
       "      background-color: #E8F0FE;\n",
       "      border: none;\n",
       "      border-radius: 50%;\n",
       "      cursor: pointer;\n",
       "      display: none;\n",
       "      fill: #1967D2;\n",
       "      height: 32px;\n",
       "      padding: 0 0 0 0;\n",
       "      width: 32px;\n",
       "    }\n",
       "\n",
       "    .colab-df-convert:hover {\n",
       "      background-color: #E2EBFA;\n",
       "      box-shadow: 0px 1px 2px rgba(60, 64, 67, 0.3), 0px 1px 3px 1px rgba(60, 64, 67, 0.15);\n",
       "      fill: #174EA6;\n",
       "    }\n",
       "\n",
       "    [theme=dark] .colab-df-convert {\n",
       "      background-color: #3B4455;\n",
       "      fill: #D2E3FC;\n",
       "    }\n",
       "\n",
       "    [theme=dark] .colab-df-convert:hover {\n",
       "      background-color: #434B5C;\n",
       "      box-shadow: 0px 1px 3px 1px rgba(0, 0, 0, 0.15);\n",
       "      filter: drop-shadow(0px 1px 2px rgba(0, 0, 0, 0.3));\n",
       "      fill: #FFFFFF;\n",
       "    }\n",
       "  </style>\n",
       "\n",
       "      <script>\n",
       "        const buttonEl =\n",
       "          document.querySelector('#df-1dbd5960-7f6c-424d-b2ae-3ab70fbbe9c0 button.colab-df-convert');\n",
       "        buttonEl.style.display =\n",
       "          google.colab.kernel.accessAllowed ? 'block' : 'none';\n",
       "\n",
       "        async function convertToInteractive(key) {\n",
       "          const element = document.querySelector('#df-1dbd5960-7f6c-424d-b2ae-3ab70fbbe9c0');\n",
       "          const dataTable =\n",
       "            await google.colab.kernel.invokeFunction('convertToInteractive',\n",
       "                                                     [key], {});\n",
       "          if (!dataTable) return;\n",
       "\n",
       "          const docLinkHtml = 'Like what you see? Visit the ' +\n",
       "            '<a target=\"_blank\" href=https://colab.research.google.com/notebooks/data_table.ipynb>data table notebook</a>'\n",
       "            + ' to learn more about interactive tables.';\n",
       "          element.innerHTML = '';\n",
       "          dataTable['output_type'] = 'display_data';\n",
       "          await google.colab.output.renderOutput(dataTable, element);\n",
       "          const docLink = document.createElement('div');\n",
       "          docLink.innerHTML = docLinkHtml;\n",
       "          element.appendChild(docLink);\n",
       "        }\n",
       "      </script>\n",
       "    </div>\n",
       "  </div>\n",
       "  "
      ],
      "text/plain": [
       "       MedHouseVal\n",
       "0            4.526\n",
       "1            3.585\n",
       "2            3.521\n",
       "3            3.413\n",
       "4            3.422\n",
       "...            ...\n",
       "20635        0.781\n",
       "20636        0.771\n",
       "20637        0.923\n",
       "20638        0.847\n",
       "20639        0.894\n",
       "\n",
       "[20640 rows x 1 columns]"
      ]
     },
     "execution_count": 12,
     "metadata": {},
     "output_type": "execute_result"
    }
   ],
   "source": [
    "# Target \n",
    "\n",
    "y = pd.DataFrame(house['target'], columns=house['target_names'])\n",
    "y"
   ]
  },
  {
   "cell_type": "markdown",
   "metadata": {
    "id": "voEy_0Tmm3xc"
   },
   "source": [
    "## **Standardisation**"
   ]
  },
  {
   "cell_type": "code",
   "execution_count": null,
   "metadata": {
    "colab": {
     "base_uri": "https://localhost:8080/"
    },
    "executionInfo": {
     "elapsed": 12,
     "status": "ok",
     "timestamp": 1674024080558,
     "user": {
      "displayName": "Adithya Vinod",
      "userId": "06561846904279351931"
     },
     "user_tz": -330
    },
    "id": "jjnpiNA0mjLf",
    "outputId": "4dbcf61b-986e-4196-85ba-47fd7aea66d9"
   },
   "outputs": [
    {
     "data": {
      "text/plain": [
       "array([[ 2.34476576,  0.98214266,  0.62855945, ..., -0.04959654,\n",
       "         1.05254828, -1.32783522],\n",
       "       [ 2.33223796, -0.60701891,  0.32704136, ..., -0.09251223,\n",
       "         1.04318455, -1.32284391],\n",
       "       [ 1.7826994 ,  1.85618152,  1.15562047, ..., -0.02584253,\n",
       "         1.03850269, -1.33282653],\n",
       "       ...,\n",
       "       [-1.14259331, -0.92485123, -0.09031802, ..., -0.0717345 ,\n",
       "         1.77823747, -0.8237132 ],\n",
       "       [-1.05458292, -0.84539315, -0.04021111, ..., -0.09122515,\n",
       "         1.77823747, -0.87362627],\n",
       "       [-0.78012947, -1.00430931, -0.07044252, ..., -0.04368215,\n",
       "         1.75014627, -0.83369581]])"
      ]
     },
     "execution_count": 13,
     "metadata": {},
     "output_type": "execute_result"
    }
   ],
   "source": [
    "from sklearn.preprocessing import StandardScaler\n",
    "\n",
    "sc = StandardScaler()\n",
    "\n",
    "X_scaled = sc.fit_transform(X)\n",
    "\n",
    "X_scaled"
   ]
  },
  {
   "cell_type": "markdown",
   "metadata": {
    "id": "y_6TaXpKnGLR"
   },
   "source": [
    "## **Splitting Data into Train and Test**"
   ]
  },
  {
   "cell_type": "code",
   "execution_count": null,
   "metadata": {
    "colab": {
     "base_uri": "https://localhost:8080/"
    },
    "executionInfo": {
     "elapsed": 8,
     "status": "ok",
     "timestamp": 1674024194155,
     "user": {
      "displayName": "Adithya Vinod",
      "userId": "06561846904279351931"
     },
     "user_tz": -330
    },
    "id": "WUlpxjL_nE7f",
    "outputId": "b059eedd-e198-4cc7-de10-9059efc55bfb"
   },
   "outputs": [
    {
     "data": {
      "text/plain": [
       "((16512, 8), (4128, 8), (16512, 1), (4128, 1))"
      ]
     },
     "execution_count": 14,
     "metadata": {},
     "output_type": "execute_result"
    }
   ],
   "source": [
    "from sklearn.model_selection import train_test_split\n",
    "\n",
    "X_train, X_test, y_train, y_test = train_test_split(X_scaled, y, test_size=0.2, random_state=100)\n",
    "\n",
    "X_train.shape, X_test.shape, y_train.shape, y_test.shape"
   ]
  },
  {
   "cell_type": "markdown",
   "metadata": {
    "id": "q8PG4YaQnxQy"
   },
   "source": [
    "## **Building the Model**"
   ]
  },
  {
   "cell_type": "code",
   "execution_count": null,
   "metadata": {
    "id": "092L1zQongqz"
   },
   "outputs": [],
   "source": [
    "model_1 = tf.keras.Sequential() \n",
    "\n",
    "# No need to specify the input layer, as by default it is equal to the number of features/columns\n",
    "# But for Image, Video, etc data, where features are explicitly not available, there we need to specify \n",
    "\n",
    "model_1.add(tf.keras.layers.Dense(20,activation='relu'))\n",
    "model_1.add(tf.keras.layers.Dense(1,activation=None))  \n",
    "\n",
    "# activation = None, means Linear by default. We need linear as its a Regression problem, we need 1 output and we DO NOT NEED ANY MANIPULATION IN THE OUTPUT VALUE, so NO activation\n",
    "# If we put activation as 'relu', it will involve some output manipulation\n",
    "# Puropse of the activation funtion is to hold the Non-Linear realtionship between the Input and the Output \n",
    "# Purpose is also to use Continuous functions (slope calculated everystep, continuous differentiable functions)\n",
    "# Input layer should consist of 8 units / holding places\n",
    "# Model should be able to predict 1 value for 1 input which consists of 8 units \n",
    "# Hidden Layers can generally have 10 - 100 units \n",
    "# No rule for number of Hidden Layers - If we do not have any idea then you can start with 1 Hidden Layer  "
   ]
  },
  {
   "cell_type": "markdown",
   "metadata": {
    "id": "8rprhEf_u3zK"
   },
   "source": [
    "## **Compiling the Model**"
   ]
  },
  {
   "cell_type": "code",
   "execution_count": null,
   "metadata": {
    "id": "k2VslsOotEb-"
   },
   "outputs": [],
   "source": [
    "model_1.compile(optimizer=tf.keras.optimizers.Adam(),\n",
    "                loss=tf.keras.losses.MeanSquaredError(),\n",
    "                metrics=['mae'])"
   ]
  },
  {
   "cell_type": "markdown",
   "metadata": {
    "id": "h8E3s3AmyaRh"
   },
   "source": [
    "## **Training the Model**"
   ]
  },
  {
   "cell_type": "code",
   "execution_count": null,
   "metadata": {
    "colab": {
     "base_uri": "https://localhost:8080/",
     "height": 1000
    },
    "executionInfo": {
     "elapsed": 83195,
     "status": "ok",
     "timestamp": 1674027295780,
     "user": {
      "displayName": "Adithya Vinod",
      "userId": "06561846904279351931"
     },
     "user_tz": -330
    },
    "id": "yLgibvg9yY3q",
    "outputId": "ff785f33-a566-40c6-eb55-761f0461345d"
   },
   "outputs": [
    {
     "name": "stdout",
     "output_type": "stream",
     "text": [
      "Epoch 1/100\n",
      "516/516 [==============================] - 1s 1ms/step - loss: 1.8401 - mae: 0.9575\n",
      "Epoch 2/100\n",
      "516/516 [==============================] - 1s 1ms/step - loss: 0.6212 - mae: 0.5630\n",
      "Epoch 3/100\n",
      "516/516 [==============================] - 0s 947us/step - loss: 0.4905 - mae: 0.5037\n",
      "Epoch 4/100\n",
      "516/516 [==============================] - 1s 1ms/step - loss: 0.4388 - mae: 0.4758\n",
      "Epoch 5/100\n",
      "516/516 [==============================] - 1s 1ms/step - loss: 0.4185 - mae: 0.4627\n",
      "Epoch 6/100\n",
      "516/516 [==============================] - 1s 1ms/step - loss: 0.4092 - mae: 0.4572\n",
      "Epoch 7/100\n",
      "516/516 [==============================] - 1s 1ms/step - loss: 0.3995 - mae: 0.4505\n",
      "Epoch 8/100\n",
      "516/516 [==============================] - 1s 1ms/step - loss: 0.3933 - mae: 0.4469\n",
      "Epoch 9/100\n",
      "516/516 [==============================] - 1s 973us/step - loss: 0.3877 - mae: 0.4432\n",
      "Epoch 10/100\n",
      "516/516 [==============================] - 1s 993us/step - loss: 0.3829 - mae: 0.4404\n",
      "Epoch 11/100\n",
      "516/516 [==============================] - 1s 1ms/step - loss: 0.3814 - mae: 0.4380\n",
      "Epoch 12/100\n",
      "516/516 [==============================] - 1s 1ms/step - loss: 0.3763 - mae: 0.4345\n",
      "Epoch 13/100\n",
      "516/516 [==============================] - 0s 957us/step - loss: 0.3707 - mae: 0.4316\n",
      "Epoch 14/100\n",
      "516/516 [==============================] - 1s 995us/step - loss: 0.3669 - mae: 0.4287\n",
      "Epoch 15/100\n",
      "516/516 [==============================] - 1s 1ms/step - loss: 0.3671 - mae: 0.4274\n",
      "Epoch 16/100\n",
      "516/516 [==============================] - 1s 969us/step - loss: 0.3608 - mae: 0.4246\n",
      "Epoch 17/100\n",
      "516/516 [==============================] - 1s 1ms/step - loss: 0.3569 - mae: 0.4218\n",
      "Epoch 18/100\n",
      "516/516 [==============================] - 1s 992us/step - loss: 0.3541 - mae: 0.4200\n",
      "Epoch 19/100\n",
      "516/516 [==============================] - 1s 1ms/step - loss: 0.3526 - mae: 0.4190\n",
      "Epoch 20/100\n",
      "516/516 [==============================] - 1s 1ms/step - loss: 0.3617 - mae: 0.4181\n",
      "Epoch 21/100\n",
      "516/516 [==============================] - 1s 998us/step - loss: 0.3477 - mae: 0.4141\n",
      "Epoch 22/100\n",
      "516/516 [==============================] - 0s 924us/step - loss: 0.3441 - mae: 0.4130\n",
      "Epoch 23/100\n",
      "516/516 [==============================] - 1s 1ms/step - loss: 0.3426 - mae: 0.4119\n",
      "Epoch 24/100\n",
      "516/516 [==============================] - 0s 958us/step - loss: 0.3412 - mae: 0.4108\n",
      "Epoch 25/100\n",
      "516/516 [==============================] - 1s 1ms/step - loss: 0.3412 - mae: 0.4098\n",
      "Epoch 26/100\n",
      "516/516 [==============================] - 1s 1ms/step - loss: 0.3371 - mae: 0.4076\n",
      "Epoch 27/100\n",
      "516/516 [==============================] - 1s 1ms/step - loss: 0.3399 - mae: 0.4075\n",
      "Epoch 28/100\n",
      "516/516 [==============================] - 1s 993us/step - loss: 0.3348 - mae: 0.4055\n",
      "Epoch 29/100\n",
      "516/516 [==============================] - 1s 1ms/step - loss: 0.3339 - mae: 0.4048\n",
      "Epoch 30/100\n",
      "516/516 [==============================] - 1s 1ms/step - loss: 0.3332 - mae: 0.4046\n",
      "Epoch 31/100\n",
      "516/516 [==============================] - 1s 1ms/step - loss: 0.3365 - mae: 0.4039\n",
      "Epoch 32/100\n",
      "516/516 [==============================] - 1s 1ms/step - loss: 0.3288 - mae: 0.4014\n",
      "Epoch 33/100\n",
      "516/516 [==============================] - 1s 1ms/step - loss: 0.3276 - mae: 0.4008\n",
      "Epoch 34/100\n",
      "516/516 [==============================] - 1s 1ms/step - loss: 0.3285 - mae: 0.3997\n",
      "Epoch 35/100\n",
      "516/516 [==============================] - 1s 1ms/step - loss: 0.3268 - mae: 0.3988\n",
      "Epoch 36/100\n",
      "516/516 [==============================] - 1s 1ms/step - loss: 0.3273 - mae: 0.3986\n",
      "Epoch 37/100\n",
      "516/516 [==============================] - 1s 972us/step - loss: 0.3252 - mae: 0.3973\n",
      "Epoch 38/100\n",
      "516/516 [==============================] - 1s 1ms/step - loss: 0.3255 - mae: 0.3965\n",
      "Epoch 39/100\n",
      "516/516 [==============================] - 1s 1ms/step - loss: 0.3235 - mae: 0.3961\n",
      "Epoch 40/100\n",
      "516/516 [==============================] - 1s 1ms/step - loss: 0.3226 - mae: 0.3952\n",
      "Epoch 41/100\n",
      "516/516 [==============================] - 1s 1ms/step - loss: 0.3218 - mae: 0.3943\n",
      "Epoch 42/100\n",
      "516/516 [==============================] - 0s 944us/step - loss: 0.3181 - mae: 0.3929\n",
      "Epoch 43/100\n",
      "516/516 [==============================] - 1s 1ms/step - loss: 0.3202 - mae: 0.3940\n",
      "Epoch 44/100\n",
      "516/516 [==============================] - 1s 1ms/step - loss: 0.3217 - mae: 0.3922\n",
      "Epoch 45/100\n",
      "516/516 [==============================] - 1s 1ms/step - loss: 0.3154 - mae: 0.3907\n",
      "Epoch 46/100\n",
      "516/516 [==============================] - 1s 1ms/step - loss: 0.3185 - mae: 0.3923\n",
      "Epoch 47/100\n",
      "516/516 [==============================] - 1s 1ms/step - loss: 0.3159 - mae: 0.3906\n",
      "Epoch 48/100\n",
      "516/516 [==============================] - 0s 959us/step - loss: 0.3172 - mae: 0.3908\n",
      "Epoch 49/100\n",
      "516/516 [==============================] - 1s 1ms/step - loss: 0.3385 - mae: 0.3919\n",
      "Epoch 50/100\n",
      "516/516 [==============================] - 1s 1ms/step - loss: 0.3138 - mae: 0.3891\n",
      "Epoch 51/100\n",
      "516/516 [==============================] - 1s 1ms/step - loss: 0.3133 - mae: 0.3885\n",
      "Epoch 52/100\n",
      "516/516 [==============================] - 1s 1ms/step - loss: 0.3161 - mae: 0.3896\n",
      "Epoch 53/100\n",
      "516/516 [==============================] - 1s 1ms/step - loss: 0.3123 - mae: 0.3884\n",
      "Epoch 54/100\n",
      "516/516 [==============================] - 1s 1ms/step - loss: 0.3150 - mae: 0.3884\n",
      "Epoch 55/100\n",
      "516/516 [==============================] - 1s 1ms/step - loss: 0.3145 - mae: 0.3882\n",
      "Epoch 56/100\n",
      "516/516 [==============================] - 1s 1ms/step - loss: 0.3138 - mae: 0.3896\n",
      "Epoch 57/100\n",
      "516/516 [==============================] - 1s 1ms/step - loss: 0.3158 - mae: 0.3880\n",
      "Epoch 58/100\n",
      "516/516 [==============================] - 1s 1ms/step - loss: 0.3132 - mae: 0.3884\n",
      "Epoch 59/100\n",
      "516/516 [==============================] - 1s 1ms/step - loss: 0.3149 - mae: 0.3887\n",
      "Epoch 60/100\n",
      "516/516 [==============================] - 0s 948us/step - loss: 0.3171 - mae: 0.3886\n",
      "Epoch 61/100\n",
      "516/516 [==============================] - 1s 1ms/step - loss: 0.3159 - mae: 0.3883\n",
      "Epoch 62/100\n",
      "516/516 [==============================] - 1s 1ms/step - loss: 0.3121 - mae: 0.3879\n",
      "Epoch 63/100\n",
      "516/516 [==============================] - 1s 1ms/step - loss: 0.3167 - mae: 0.3872\n",
      "Epoch 64/100\n",
      "516/516 [==============================] - 1s 1ms/step - loss: 0.3108 - mae: 0.3865\n",
      "Epoch 65/100\n",
      "516/516 [==============================] - 0s 956us/step - loss: 0.3099 - mae: 0.3861\n",
      "Epoch 66/100\n",
      "516/516 [==============================] - 1s 1ms/step - loss: 0.3192 - mae: 0.3878\n",
      "Epoch 67/100\n",
      "516/516 [==============================] - 1s 1ms/step - loss: 0.3117 - mae: 0.3872\n",
      "Epoch 68/100\n",
      "516/516 [==============================] - 1s 1ms/step - loss: 0.3107 - mae: 0.3859\n",
      "Epoch 69/100\n",
      "516/516 [==============================] - 1s 1ms/step - loss: 0.3141 - mae: 0.3878\n",
      "Epoch 70/100\n",
      "516/516 [==============================] - 1s 1ms/step - loss: 0.3151 - mae: 0.3879\n",
      "Epoch 71/100\n",
      "516/516 [==============================] - 1s 1ms/step - loss: 0.3120 - mae: 0.3866\n",
      "Epoch 72/100\n",
      "516/516 [==============================] - 1s 1ms/step - loss: 0.3130 - mae: 0.3858\n",
      "Epoch 73/100\n",
      "516/516 [==============================] - 1s 1ms/step - loss: 0.3179 - mae: 0.3871\n",
      "Epoch 74/100\n",
      "516/516 [==============================] - 1s 1ms/step - loss: 0.3083 - mae: 0.3846\n",
      "Epoch 75/100\n",
      "516/516 [==============================] - 1s 1ms/step - loss: 0.3195 - mae: 0.3867\n",
      "Epoch 76/100\n",
      "516/516 [==============================] - 1s 1ms/step - loss: 0.3073 - mae: 0.3840\n",
      "Epoch 77/100\n",
      "516/516 [==============================] - 1s 1ms/step - loss: 0.3068 - mae: 0.3844\n",
      "Epoch 78/100\n",
      "516/516 [==============================] - 1s 1ms/step - loss: 0.3086 - mae: 0.3846\n",
      "Epoch 79/100\n",
      "516/516 [==============================] - 1s 1ms/step - loss: 0.3087 - mae: 0.3845\n",
      "Epoch 80/100\n",
      "516/516 [==============================] - 1s 1ms/step - loss: 0.3138 - mae: 0.3856\n",
      "Epoch 81/100\n",
      "516/516 [==============================] - 1s 1ms/step - loss: 0.3176 - mae: 0.3864\n",
      "Epoch 82/100\n",
      "516/516 [==============================] - 1s 1ms/step - loss: 0.3076 - mae: 0.3844\n",
      "Epoch 83/100\n",
      "516/516 [==============================] - 1s 1ms/step - loss: 0.3142 - mae: 0.3845\n",
      "Epoch 84/100\n",
      "516/516 [==============================] - 1s 1ms/step - loss: 0.3067 - mae: 0.3838\n",
      "Epoch 85/100\n",
      "516/516 [==============================] - 1s 1ms/step - loss: 0.3067 - mae: 0.3835\n",
      "Epoch 86/100\n",
      "516/516 [==============================] - 1s 1ms/step - loss: 0.3157 - mae: 0.3857\n",
      "Epoch 87/100\n",
      "516/516 [==============================] - 1s 1ms/step - loss: 0.3080 - mae: 0.3842\n",
      "Epoch 88/100\n",
      "516/516 [==============================] - 1s 1ms/step - loss: 0.3071 - mae: 0.3833\n",
      "Epoch 89/100\n",
      "516/516 [==============================] - 1s 1ms/step - loss: 0.3282 - mae: 0.3854\n",
      "Epoch 90/100\n",
      "516/516 [==============================] - 1s 1ms/step - loss: 0.3110 - mae: 0.3836\n",
      "Epoch 91/100\n",
      "516/516 [==============================] - 1s 1ms/step - loss: 0.3138 - mae: 0.3835\n",
      "Epoch 92/100\n",
      "516/516 [==============================] - 0s 955us/step - loss: 0.3063 - mae: 0.3829\n",
      "Epoch 93/100\n",
      "516/516 [==============================] - 1s 1ms/step - loss: 0.3097 - mae: 0.3832\n",
      "Epoch 94/100\n",
      "516/516 [==============================] - 1s 2ms/step - loss: 0.3073 - mae: 0.3827\n",
      "Epoch 95/100\n",
      "516/516 [==============================] - 1s 1ms/step - loss: 0.3078 - mae: 0.3828\n",
      "Epoch 96/100\n",
      "516/516 [==============================] - 1s 1ms/step - loss: 0.3189 - mae: 0.3845\n",
      "Epoch 97/100\n",
      "516/516 [==============================] - 1s 1ms/step - loss: 0.3081 - mae: 0.3827\n",
      "Epoch 98/100\n",
      "516/516 [==============================] - 1s 1ms/step - loss: 0.3059 - mae: 0.3820\n",
      "Epoch 99/100\n",
      "516/516 [==============================] - 1s 1ms/step - loss: 0.3057 - mae: 0.3817\n",
      "Epoch 100/100\n",
      "516/516 [==============================] - 0s 954us/step - loss: 0.3076 - mae: 0.3835\n"
     ]
    },
    {
     "data": {
      "text/plain": [
       "<matplotlib.axes._subplots.AxesSubplot at 0x7f3b19e2a070>"
      ]
     },
     "execution_count": 17,
     "metadata": {},
     "output_type": "execute_result"
    },
    {
     "data": {
      "image/png": "[encoded data removed]",
      "text/plain": [
       "<Figure size 432x288 with 1 Axes>"
      ]
     },
     "metadata": {
      "needs_background": "light"
     },
     "output_type": "display_data"
    }
   ],
   "source": [
    "tf.random.set_seed(100)\n",
    "history = model_1.fit(X_train,y_train,epochs=100)\n",
    "hist = pd.DataFrame(history.history)\n",
    "hist.plot();"
   ]
  },
  {
   "cell_type": "code",
   "execution_count": null,
   "metadata": {
    "id": "yOvJcACCzBsQ"
   },
   "outputs": [],
   "source": [
    "# 516/516 means a total of 516 batches with 32 datapoints each - Total 16512 (516*32) datapoints in the Dataset "
   ]
  },
  {
   "cell_type": "code",
   "execution_count": null,
   "metadata": {
    "colab": {
     "base_uri": "https://localhost:8080/"
    },
    "executionInfo": {
     "elapsed": 436,
     "status": "ok",
     "timestamp": 1674027672125,
     "user": {
      "displayName": "Adithya Vinod",
      "userId": "06561846904279351931"
     },
     "user_tz": -330
    },
    "id": "bUHj4wbD0vrm",
    "outputId": "6ca61e0c-6e71-4fd2-c353-21158a9aef2d"
   },
   "outputs": [
    {
     "name": "stdout",
     "output_type": "stream",
     "text": [
      "Model: \"sequential\"\n",
      "_________________________________________________________________\n",
      " Layer (type)                Output Shape              Param #   \n",
      "=================================================================\n",
      " dense (Dense)               (32, 20)                  180       \n",
      "                                                                 \n",
      " dense_1 (Dense)             (32, 1)                   21        \n",
      "                                                                 \n",
      "=================================================================\n",
      "Total params: 201\n",
      "Trainable params: 201\n",
      "Non-trainable params: 0\n",
      "_________________________________________________________________\n"
     ]
    }
   ],
   "source": [
    "model_1.summary()"
   ]
  },
  {
   "cell_type": "markdown",
   "metadata": {
    "id": "TIlCjlju1no1"
   },
   "source": [
    "## **Plotting**"
   ]
  },
  {
   "cell_type": "code",
   "execution_count": null,
   "metadata": {
    "colab": {
     "base_uri": "https://localhost:8080/",
     "height": 312
    },
    "executionInfo": {
     "elapsed": 988,
     "status": "ok",
     "timestamp": 1674027933493,
     "user": {
      "displayName": "Adithya Vinod",
      "userId": "06561846904279351931"
     },
     "user_tz": -330
    },
    "id": "arRz4-if0xsi",
    "outputId": "75fa6d1b-8aa3-4faa-f0d9-c296a8358e0a"
   },
   "outputs": [
    {
     "data": {
      "image/png": "[encoded data removed]",
      "text/plain": [
       "<IPython.core.display.Image object>"
      ]
     },
     "execution_count": 20,
     "metadata": {},
     "output_type": "execute_result"
    }
   ],
   "source": [
    "from tensorflow.keras.utils import plot_model \n",
    "\n",
    "plot_model(model_1,show_shapes=True)"
   ]
  },
  {
   "cell_type": "markdown",
   "metadata": {
    "id": "ib2ydTah196X"
   },
   "source": [
    "## **Evalutation of Model**"
   ]
  },
  {
   "cell_type": "code",
   "execution_count": null,
   "metadata": {
    "colab": {
     "base_uri": "https://localhost:8080/"
    },
    "executionInfo": {
     "elapsed": 1145,
     "status": "ok",
     "timestamp": 1674028017858,
     "user": {
      "displayName": "Adithya Vinod",
      "userId": "06561846904279351931"
     },
     "user_tz": -330
    },
    "id": "jOUfd3Zs1xi0",
    "outputId": "588c11c5-4e06-4f7f-eec7-0e7d3e07eb28"
   },
   "outputs": [
    {
     "name": "stdout",
     "output_type": "stream",
     "text": [
      "129/129 [==============================] - 0s 1ms/step - loss: 0.2937 - mae: 0.3780\n"
     ]
    }
   ],
   "source": [
    "test_mse, test_mae = model_1.evaluate(X_test, y_test)"
   ]
  },
  {
   "cell_type": "code",
   "execution_count": null,
   "metadata": {
    "id": "ngOmB9pT2F6S"
   },
   "outputs": [],
   "source": [
    "# Total points in Test data = 129 batches of 32 datapoints each "
   ]
  },
  {
   "cell_type": "code",
   "execution_count": null,
   "metadata": {
    "colab": {
     "base_uri": "https://localhost:8080/"
    },
    "executionInfo": {
     "elapsed": 386,
     "status": "ok",
     "timestamp": 1674028178925,
     "user": {
      "displayName": "Adithya Vinod",
      "userId": "06561846904279351931"
     },
     "user_tz": -330
    },
    "id": "Q0d2TVKS2Knc",
    "outputId": "8ab230d6-1577-4880-c7b0-fc2a4c715bb8"
   },
   "outputs": [
    {
     "name": "stdout",
     "output_type": "stream",
     "text": [
      "Test MSE: 0.29374971985816956\n",
      "Train MSE: 0.3076\n",
      "\n",
      "\n",
      "Test MAE: 0.3780365288257599\n",
      "Train MAE: 0.3835\n"
     ]
    }
   ],
   "source": [
    "print('Test MSE:',test_mse)\n",
    "print('Train MSE: 0.3076')  # From earlier - last loss value of epoch 100/100\n",
    "print('\\n\\nTest MAE:',test_mae)\n",
    "print('Train MAE: 0.3835') # From earlier - last mae value of epoch 100/100"
   ]
  },
  {
   "cell_type": "code",
   "execution_count": null,
   "metadata": {
    "id": "tBo3X76O2tnS"
   },
   "outputs": [],
   "source": [
    "# Both values show that its a good model as the train and test values are almost same "
   ]
  },
  {
   "cell_type": "markdown",
   "metadata": {
    "id": "YKkiVRz528Eb"
   },
   "source": [
    "## **Prediction using Model**"
   ]
  },
  {
   "cell_type": "code",
   "execution_count": null,
   "metadata": {
    "colab": {
     "base_uri": "https://localhost:8080/"
    },
    "executionInfo": {
     "elapsed": 384,
     "status": "ok",
     "timestamp": 1674028289417,
     "user": {
      "displayName": "Adithya Vinod",
      "userId": "06561846904279351931"
     },
     "user_tz": -330
    },
    "id": "JYvbYgcq27LP",
    "outputId": "203d0283-34b9-4fca-fe69-a12f669c8eeb"
   },
   "outputs": [
    {
     "name": "stdout",
     "output_type": "stream",
     "text": [
      "129/129 [==============================] - 0s 923us/step\n",
      "The predicted house prices:\n",
      " [[2.440057 ]\n",
      " [1.400035 ]\n",
      " [1.3969451]\n",
      " ...\n",
      " [1.6530576]\n",
      " [0.8416471]\n",
      " [1.1105689]]\n"
     ]
    }
   ],
   "source": [
    "y_pred = model_1.predict(X_test)\n",
    "print('The predicted house prices:\\n', y_pred)"
   ]
  },
  {
   "cell_type": "code",
   "execution_count": null,
   "metadata": {
    "colab": {
     "base_uri": "https://localhost:8080/",
     "height": 424
    },
    "executionInfo": {
     "elapsed": 376,
     "status": "ok",
     "timestamp": 1674028372853,
     "user": {
      "displayName": "Adithya Vinod",
      "userId": "06561846904279351931"
     },
     "user_tz": -330
    },
    "id": "DFAUHSTY3GPp",
    "outputId": "a8554a03-5ac7-4794-b0de-ae14b7873843"
   },
   "outputs": [
    {
     "data": {
      "text/html": [
       "\n",
       "  <div id=\"df-67df8770-617f-4853-87a0-2f211a3ee762\">\n",
       "    <div class=\"colab-df-container\">\n",
       "      <div>\n",
       "<style scoped>\n",
       "    .dataframe tbody tr th:only-of-type {\n",
       "        vertical-align: middle;\n",
       "    }\n",
       "\n",
       "    .dataframe tbody tr th {\n",
       "        vertical-align: top;\n",
       "    }\n",
       "\n",
       "    .dataframe thead th {\n",
       "        text-align: right;\n",
       "    }\n",
       "</style>\n",
       "<table border=\"1\" class=\"dataframe\">\n",
       "  <thead>\n",
       "    <tr style=\"text-align: right;\">\n",
       "      <th></th>\n",
       "      <th>MedHouseVal</th>\n",
       "    </tr>\n",
       "  </thead>\n",
       "  <tbody>\n",
       "    <tr>\n",
       "      <th>8151</th>\n",
       "      <td>2.45300</td>\n",
       "    </tr>\n",
       "    <tr>\n",
       "      <th>53</th>\n",
       "      <td>1.04200</td>\n",
       "    </tr>\n",
       "    <tr>\n",
       "      <th>3039</th>\n",
       "      <td>1.46200</td>\n",
       "    </tr>\n",
       "    <tr>\n",
       "      <th>9484</th>\n",
       "      <td>1.54200</td>\n",
       "    </tr>\n",
       "    <tr>\n",
       "      <th>9307</th>\n",
       "      <td>3.24200</td>\n",
       "    </tr>\n",
       "    <tr>\n",
       "      <th>...</th>\n",
       "      <td>...</td>\n",
       "    </tr>\n",
       "    <tr>\n",
       "      <th>16733</th>\n",
       "      <td>1.17200</td>\n",
       "    </tr>\n",
       "    <tr>\n",
       "      <th>5264</th>\n",
       "      <td>5.00001</td>\n",
       "    </tr>\n",
       "    <tr>\n",
       "      <th>12374</th>\n",
       "      <td>2.39300</td>\n",
       "    </tr>\n",
       "    <tr>\n",
       "      <th>19662</th>\n",
       "      <td>0.85700</td>\n",
       "    </tr>\n",
       "    <tr>\n",
       "      <th>11942</th>\n",
       "      <td>1.13900</td>\n",
       "    </tr>\n",
       "  </tbody>\n",
       "</table>\n",
       "<p>4128 rows × 1 columns</p>\n",
       "</div>\n",
       "      <button class=\"colab-df-convert\" onclick=\"convertToInteractive('df-67df8770-617f-4853-87a0-2f211a3ee762')\"\n",
       "              title=\"Convert this dataframe to an interactive table.\"\n",
       "              style=\"display:none;\">\n",
       "        \n",
       "  <svg xmlns=\"http://www.w3.org/2000/svg\" height=\"24px\"viewBox=\"0 0 24 24\"\n",
       "       width=\"24px\">\n",
       "    <path d=\"M0 0h24v24H0V0z\" fill=\"none\"/>\n",
       "    <path d=\"M18.56 5.44l.94 2.06.94-2.06 2.06-.94-2.06-.94-.94-2.06-.94 2.06-2.06.94zm-11 1L8.5 8.5l.94-2.06 2.06-.94-2.06-.94L8.5 2.5l-.94 2.06-2.06.94zm10 10l.94 2.06.94-2.06 2.06-.94-2.06-.94-.94-2.06-.94 2.06-2.06.94z\"/><path d=\"M17.41 7.96l-1.37-1.37c-.4-.4-.92-.59-1.43-.59-.52 0-1.04.2-1.43.59L10.3 9.45l-7.72 7.72c-.78.78-.78 2.05 0 2.83L4 21.41c.39.39.9.59 1.41.59.51 0 1.02-.2 1.41-.59l7.78-7.78 2.81-2.81c.8-.78.8-2.07 0-2.86zM5.41 20L4 18.59l7.72-7.72 1.47 1.35L5.41 20z\"/>\n",
       "  </svg>\n",
       "      </button>\n",
       "      \n",
       "  <style>\n",
       "    .colab-df-container {\n",
       "      display:flex;\n",
       "      flex-wrap:wrap;\n",
       "      gap: 12px;\n",
       "    }\n",
       "\n",
       "    .colab-df-convert {\n",
       "      background-color: #E8F0FE;\n",
       "      border: none;\n",
       "      border-radius: 50%;\n",
       "      cursor: pointer;\n",
       "      display: none;\n",
       "      fill: #1967D2;\n",
       "      height: 32px;\n",
       "      padding: 0 0 0 0;\n",
       "      width: 32px;\n",
       "    }\n",
       "\n",
       "    .colab-df-convert:hover {\n",
       "      background-color: #E2EBFA;\n",
       "      box-shadow: 0px 1px 2px rgba(60, 64, 67, 0.3), 0px 1px 3px 1px rgba(60, 64, 67, 0.15);\n",
       "      fill: #174EA6;\n",
       "    }\n",
       "\n",
       "    [theme=dark] .colab-df-convert {\n",
       "      background-color: #3B4455;\n",
       "      fill: #D2E3FC;\n",
       "    }\n",
       "\n",
       "    [theme=dark] .colab-df-convert:hover {\n",
       "      background-color: #434B5C;\n",
       "      box-shadow: 0px 1px 3px 1px rgba(0, 0, 0, 0.15);\n",
       "      filter: drop-shadow(0px 1px 2px rgba(0, 0, 0, 0.3));\n",
       "      fill: #FFFFFF;\n",
       "    }\n",
       "  </style>\n",
       "\n",
       "      <script>\n",
       "        const buttonEl =\n",
       "          document.querySelector('#df-67df8770-617f-4853-87a0-2f211a3ee762 button.colab-df-convert');\n",
       "        buttonEl.style.display =\n",
       "          google.colab.kernel.accessAllowed ? 'block' : 'none';\n",
       "\n",
       "        async function convertToInteractive(key) {\n",
       "          const element = document.querySelector('#df-67df8770-617f-4853-87a0-2f211a3ee762');\n",
       "          const dataTable =\n",
       "            await google.colab.kernel.invokeFunction('convertToInteractive',\n",
       "                                                     [key], {});\n",
       "          if (!dataTable) return;\n",
       "\n",
       "          const docLinkHtml = 'Like what you see? Visit the ' +\n",
       "            '<a target=\"_blank\" href=https://colab.research.google.com/notebooks/data_table.ipynb>data table notebook</a>'\n",
       "            + ' to learn more about interactive tables.';\n",
       "          element.innerHTML = '';\n",
       "          dataTable['output_type'] = 'display_data';\n",
       "          await google.colab.output.renderOutput(dataTable, element);\n",
       "          const docLink = document.createElement('div');\n",
       "          docLink.innerHTML = docLinkHtml;\n",
       "          element.appendChild(docLink);\n",
       "        }\n",
       "      </script>\n",
       "    </div>\n",
       "  </div>\n",
       "  "
      ],
      "text/plain": [
       "       MedHouseVal\n",
       "8151       2.45300\n",
       "53         1.04200\n",
       "3039       1.46200\n",
       "9484       1.54200\n",
       "9307       3.24200\n",
       "...            ...\n",
       "16733      1.17200\n",
       "5264       5.00001\n",
       "12374      2.39300\n",
       "19662      0.85700\n",
       "11942      1.13900\n",
       "\n",
       "[4128 rows x 1 columns]"
      ]
     },
     "execution_count": 27,
     "metadata": {},
     "output_type": "execute_result"
    }
   ],
   "source": [
    "y_test"
   ]
  },
  {
   "cell_type": "code",
   "execution_count": null,
   "metadata": {
    "id": "IQxU-kYU3cqx"
   },
   "outputs": [],
   "source": []
  }
 ],
 "metadata": {
  "colab": {
   "authorship_tag": "ABX9TyMwtZwiMtXWa0BR5E2AnAwe",
   "provenance": []
  },
  "kernelspec": {
   "display_name": "Python 3 (ipykernel)",
   "language": "python",
   "name": "python3"
  },
  "language_info": {
   "codemirror_mode": {
    "name": "ipython",
    "version": 3
   },
   "file_extension": ".py",
   "mimetype": "text/x-python",
   "name": "python",
   "nbconvert_exporter": "python",
   "pygments_lexer": "ipython3",
   "version": "3.9.13"
  }
 },
 "nbformat": 4,
 "nbformat_minor": 1
}
