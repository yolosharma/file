{
 "cells": [
  {
   "cell_type": "markdown",
   "metadata": {
    "id": "_rr4Iv6bpt41"
   },
   "source": [
    "# **Regularisation**"
   ]
  },
  {
   "cell_type": "code",
   "execution_count": 1,
   "metadata": {
    "executionInfo": {
     "elapsed": 5027,
     "status": "ok",
     "timestamp": 1675232893158,
     "user": {
      "displayName": "Adithya Vinod",
      "userId": "06561846904279351931"
     },
     "user_tz": -330
    },
    "id": "ZoxHplMtpaYQ"
   },
   "outputs": [],
   "source": [
    "import numpy as np\n",
    "import pandas as pd \n",
    "import matplotlib.pyplot as plt \n",
    "import tensorflow as tf "
   ]
  },
  {
   "cell_type": "markdown",
   "metadata": {
    "id": "_UnSTsg4qg-P"
   },
   "source": [
    "## **Acessing the Dataset**"
   ]
  },
  {
   "cell_type": "code",
   "execution_count": 2,
   "metadata": {
    "colab": {
     "base_uri": "https://localhost:8080/"
    },
    "executionInfo": {
     "elapsed": 1235,
     "status": "ok",
     "timestamp": 1675233011093,
     "user": {
      "displayName": "Adithya Vinod",
      "userId": "06561846904279351931"
     },
     "user_tz": -330
    },
    "id": "hZw4wuGxqRAP",
    "outputId": "46be800f-869b-46cd-c9de-235ca2727ba0"
   },
   "outputs": [
    {
     "name": "stdout",
     "output_type": "stream",
     "text": [
      "Downloading data from https://storage.googleapis.com/tensorflow/tf-keras-datasets/mnist.npz\n",
      "11490434/11490434 [==============================] - 0s 0us/step\n"
     ]
    }
   ],
   "source": [
    "from tensorflow.keras.datasets.mnist import load_data \n",
    "(X_train, y_train),(X_test, y_test) = load_data()"
   ]
  },
  {
   "cell_type": "code",
   "execution_count": 3,
   "metadata": {
    "colab": {
     "base_uri": "https://localhost:8080/"
    },
    "executionInfo": {
     "elapsed": 7,
     "status": "ok",
     "timestamp": 1675233047743,
     "user": {
      "displayName": "Adithya Vinod",
      "userId": "06561846904279351931"
     },
     "user_tz": -330
    },
    "id": "jQkMYsjkqxvO",
    "outputId": "ff24a976-31bf-478f-fba8-f37fa4c44125"
   },
   "outputs": [
    {
     "data": {
      "text/plain": [
       "((60000, 28, 28), (60000,), (10000, 28, 28), (10000,))"
      ]
     },
     "execution_count": 3,
     "metadata": {},
     "output_type": "execute_result"
    }
   ],
   "source": [
    "X_train.shape, y_train.shape,X_test.shape, y_test.shape"
   ]
  },
  {
   "cell_type": "markdown",
   "metadata": {
    "id": "tVgR5fL7q-gd"
   },
   "source": [
    "## **Visualisation**"
   ]
  },
  {
   "cell_type": "code",
   "execution_count": 6,
   "metadata": {
    "colab": {
     "base_uri": "https://localhost:8080/",
     "height": 281
    },
    "executionInfo": {
     "elapsed": 719,
     "status": "ok",
     "timestamp": 1675233141554,
     "user": {
      "displayName": "Adithya Vinod",
      "userId": "06561846904279351931"
     },
     "user_tz": -330
    },
    "id": "R2Yg3ACQq6u1",
    "outputId": "62a265aa-8815-437b-d739-0cf21cfeb7dd"
   },
   "outputs": [
    {
     "data": {
      "image/png": "[encoded data removed]",
      "text/plain": [
       "<Figure size 432x288 with 1 Axes>"
      ]
     },
     "metadata": {
      "needs_background": "light"
     },
     "output_type": "display_data"
    }
   ],
   "source": [
    "plt.imshow(X_train[0],'gray')\n",
    "plt.title(y_train[0]);"
   ]
  },
  {
   "cell_type": "code",
   "execution_count": 7,
   "metadata": {
    "colab": {
     "base_uri": "https://localhost:8080/",
     "height": 281
    },
    "executionInfo": {
     "elapsed": 16,
     "status": "ok",
     "timestamp": 1675233178620,
     "user": {
      "displayName": "Adithya Vinod",
      "userId": "06561846904279351931"
     },
     "user_tz": -330
    },
    "id": "gfqGqi2WrC6V",
    "outputId": "43ea84d2-4f88-4599-cd37-3e98dd6d5268"
   },
   "outputs": [
    {
     "data": {
      "image/png": "[encoded data removed]",
      "text/plain": [
       "<Figure size 432x288 with 1 Axes>"
      ]
     },
     "metadata": {
      "needs_background": "light"
     },
     "output_type": "display_data"
    }
   ],
   "source": [
    "plt.imshow(X_train[50],'gray')\n",
    "plt.title(y_train[50]);"
   ]
  },
  {
   "cell_type": "markdown",
   "metadata": {
    "id": "_bCfFU_orcmi"
   },
   "source": [
    "## **1. Building a Basic Model**"
   ]
  },
  {
   "cell_type": "code",
   "execution_count": 15,
   "metadata": {
    "colab": {
     "base_uri": "https://localhost:8080/",
     "height": 612
    },
    "executionInfo": {
     "elapsed": 82830,
     "status": "ok",
     "timestamp": 1675233887863,
     "user": {
      "displayName": "Adithya Vinod",
      "userId": "06561846904279351931"
     },
     "user_tz": -330
    },
    "id": "q0mJvDI6ra6N",
    "outputId": "a8f3a062-ba79-45f1-f0e2-a2ac921eeb6f"
   },
   "outputs": [
    {
     "name": "stdout",
     "output_type": "stream",
     "text": [
      "Epoch 1/10\n",
      "1875/1875 [==============================] - 9s 4ms/step - loss: 2.3320 - accuracy: 0.8881\n",
      "Epoch 2/10\n",
      "1875/1875 [==============================] - 6s 3ms/step - loss: 0.3456 - accuracy: 0.9251\n",
      "Epoch 3/10\n",
      "1875/1875 [==============================] - 7s 4ms/step - loss: 0.2736 - accuracy: 0.9369\n",
      "Epoch 4/10\n",
      "1875/1875 [==============================] - 6s 3ms/step - loss: 0.2498 - accuracy: 0.9413\n",
      "Epoch 5/10\n",
      "1875/1875 [==============================] - 6s 3ms/step - loss: 0.2345 - accuracy: 0.9471\n",
      "Epoch 6/10\n",
      "1875/1875 [==============================] - 6s 3ms/step - loss: 0.2162 - accuracy: 0.9504\n",
      "Epoch 7/10\n",
      "1875/1875 [==============================] - 6s 3ms/step - loss: 0.2054 - accuracy: 0.9548\n",
      "Epoch 8/10\n",
      "1875/1875 [==============================] - 7s 3ms/step - loss: 0.2001 - accuracy: 0.9559\n",
      "Epoch 9/10\n",
      "1875/1875 [==============================] - 6s 3ms/step - loss: 0.1936 - accuracy: 0.9590\n",
      "Epoch 10/10\n",
      "1875/1875 [==============================] - 6s 3ms/step - loss: 0.1852 - accuracy: 0.9605\n"
     ]
    },
    {
     "data": {
      "image/png": "[encoded data removed]",
      "text/plain": [
       "<Figure size 432x288 with 1 Axes>"
      ]
     },
     "metadata": {
      "needs_background": "light"
     },
     "output_type": "display_data"
    }
   ],
   "source": [
    "# Model Building \n",
    "\n",
    "model_1 = tf.keras.Sequential()\n",
    "model_1.add(tf.keras.layers.Flatten()) # Flatten - Making a single dimension from 28X28 into 784X1\n",
    "model_1.add(tf.keras.layers.Dense(300, activation='relu'))\n",
    "model_1.add(tf.keras.layers.Dense(10, activation='softmax'))\n",
    "\n",
    "# Compiling the Model\n",
    "\n",
    "model_1.compile(loss=tf.keras.losses.SparseCategoricalCrossentropy(),\n",
    "                optimizer=tf.keras.optimizers.Adam(),\n",
    "                metrics=['accuracy'])\n",
    "\n",
    "# Training \n",
    "\n",
    "tf.random.set_seed(100)\n",
    "hist_1 = model_1.fit(X_train,y_train,epochs=10)\n",
    "pd.DataFrame(hist_1.history).plot();"
   ]
  },
  {
   "cell_type": "code",
   "execution_count": 16,
   "metadata": {
    "colab": {
     "base_uri": "https://localhost:8080/"
    },
    "executionInfo": {
     "elapsed": 1599,
     "status": "ok",
     "timestamp": 1675234009247,
     "user": {
      "displayName": "Adithya Vinod",
      "userId": "06561846904279351931"
     },
     "user_tz": -330
    },
    "id": "4DiJlO4hso2B",
    "outputId": "ffcc806b-086b-4df6-b1f1-d4eb8bf14d0d"
   },
   "outputs": [
    {
     "name": "stdout",
     "output_type": "stream",
     "text": [
      "Evaluation Result\n",
      "313/313 [==============================] - 1s 3ms/step - loss: 0.3103 - accuracy: 0.9537\n"
     ]
    },
    {
     "data": {
      "text/plain": [
       "[0.31031742691993713, 0.9537000060081482]"
      ]
     },
     "execution_count": 16,
     "metadata": {},
     "output_type": "execute_result"
    }
   ],
   "source": [
    "print('Evaluation Result')\n",
    "\n",
    "model_1.evaluate(X_test, y_test)"
   ]
  },
  {
   "cell_type": "markdown",
   "metadata": {
    "id": "SHj9LnY9uqvn"
   },
   "source": [
    "## **Remark 1:**\n",
    "\n",
    "Basic Model: Training Loss = 0.1852, Test Loss = 0.3103 \n",
    "\n",
    "Hence there is Overfitting "
   ]
  },
  {
   "cell_type": "markdown",
   "metadata": {
    "id": "TFt9KTgJu5P0"
   },
   "source": [
    "## **2. Model with Normalised Data**"
   ]
  },
  {
   "cell_type": "code",
   "execution_count": 19,
   "metadata": {
    "executionInfo": {
     "elapsed": 3814,
     "status": "ok",
     "timestamp": 1675234361355,
     "user": {
      "displayName": "Adithya Vinod",
      "userId": "06561846904279351931"
     },
     "user_tz": -330
    },
    "id": "P7n23NfOulCf"
   },
   "outputs": [],
   "source": [
    "normaliser = tf.keras.layers.Normalization()\n",
    "normaliser.adapt(X_train) # adapt - We use this asking the normaliser to adapt to the dataset which is 3-Dimensional. In case of 2-D, we use StandardScaler, but here we use normaliser.adapt asking it to adapt to the 3-D Data \n",
    "normaliser.adapt(X_test)\n",
    "X_train = normaliser(X_train)\n",
    "X_test = normaliser(X_test)"
   ]
  },
  {
   "cell_type": "code",
   "execution_count": 20,
   "metadata": {
    "colab": {
     "base_uri": "https://localhost:8080/"
    },
    "executionInfo": {
     "elapsed": 13,
     "status": "ok",
     "timestamp": 1675234365960,
     "user": {
      "displayName": "Adithya Vinod",
      "userId": "06561846904279351931"
     },
     "user_tz": -330
    },
    "id": "5pMI9Qutvw3p",
    "outputId": "d0b2ecea-0d43-4038-f23e-25b4b06c2103"
   },
   "outputs": [
    {
     "data": {
      "text/plain": [
       "<tf.Tensor: shape=(28, 28), dtype=float32, numpy=\n",
       "array([[-3.29633080e-03, -1.03209605e-02, -2.63224952e-02,\n",
       "        -5.94727769e-02, -1.16537198e-01, -1.97390229e-01,\n",
       "        -2.83805698e-01, -3.79412591e-01, -4.77584034e-01,\n",
       "        -5.62326729e-01, -6.23078227e-01, -6.59251928e-01,\n",
       "        -6.87425375e-01, -7.26367414e-01, -7.58370578e-01,\n",
       "        -7.74074256e-01, -7.61724949e-01, -7.22140551e-01,\n",
       "        -6.51364148e-01, -5.54406047e-01, -4.51524764e-01,\n",
       "        -3.54017019e-01, -2.68543184e-01, -1.91750199e-01,\n",
       "        -1.24660455e-01, -6.43352345e-02, -2.87100654e-02,\n",
       "        -8.99783615e-03],\n",
       "       [-3.29633080e-03, -1.03209605e-02, -2.63224952e-02,\n",
       "        -5.94727769e-02, -1.16537198e-01, -1.97390229e-01,\n",
       "        -2.83805698e-01, -3.79412591e-01, -4.77584034e-01,\n",
       "        -5.62326729e-01, -6.23078227e-01, -6.59251928e-01,\n",
       "        -6.87425375e-01, -7.26367414e-01, -7.58370578e-01,\n",
       "        -7.74074256e-01, -7.61724949e-01, -7.22140551e-01,\n",
       "        -6.51364148e-01, -5.54406047e-01, -4.51524764e-01,\n",
       "        -3.54017019e-01, -2.68543184e-01, -1.91750199e-01,\n",
       "        -1.24660455e-01, -6.43352345e-02, -2.87100654e-02,\n",
       "        -8.99783615e-03],\n",
       "       [-3.29633080e-03, -1.03209605e-02, -2.63224952e-02,\n",
       "        -5.94727769e-02, -1.16537198e-01, -1.97390229e-01,\n",
       "        -2.83805698e-01, -3.79412591e-01, -4.77584034e-01,\n",
       "        -5.62326729e-01, -6.23078227e-01, -6.59251928e-01,\n",
       "        -6.87425375e-01, -7.26367414e-01, -7.58370578e-01,\n",
       "        -7.74074256e-01, -7.61724949e-01, -7.22140551e-01,\n",
       "        -6.51364148e-01, -5.54406047e-01, -4.51524764e-01,\n",
       "        -3.54017019e-01, -2.68543184e-01, -1.91750199e-01,\n",
       "        -1.24660455e-01, -6.43352345e-02, -2.87100654e-02,\n",
       "        -8.99783615e-03],\n",
       "       [-3.29633080e-03, -1.03209605e-02, -2.63224952e-02,\n",
       "        -5.94727769e-02, -1.16537198e-01, -1.97390229e-01,\n",
       "        -2.83805698e-01, -3.79412591e-01, -4.77584034e-01,\n",
       "        -5.62326729e-01, -6.23078227e-01, -6.59251928e-01,\n",
       "        -6.87425375e-01, -7.26367414e-01, -7.58370578e-01,\n",
       "        -7.74074256e-01, -7.61724949e-01, -7.22140551e-01,\n",
       "        -6.51364148e-01, -5.54406047e-01, -4.51524764e-01,\n",
       "        -3.54017019e-01, -2.68543184e-01, -1.91750199e-01,\n",
       "        -1.24660455e-01, -6.43352345e-02, -2.87100654e-02,\n",
       "        -8.99783615e-03],\n",
       "       [-3.29633080e-03, -1.03209605e-02, -2.63224952e-02,\n",
       "        -5.94727769e-02, -1.16537198e-01, -1.97390229e-01,\n",
       "        -2.83805698e-01, -3.79412591e-01, -4.77584034e-01,\n",
       "        -5.62326729e-01, -6.23078227e-01, -6.59251928e-01,\n",
       "        -6.87425375e-01, -7.26367414e-01, -7.58370578e-01,\n",
       "        -7.74074256e-01, -7.61724949e-01, -7.22140551e-01,\n",
       "        -6.51364148e-01, -5.54406047e-01, -4.51524764e-01,\n",
       "        -3.54017019e-01, -2.68543184e-01, -1.91750199e-01,\n",
       "        -1.24660455e-01, -6.43352345e-02, -2.87100654e-02,\n",
       "        -8.99783615e-03],\n",
       "       [-3.29633080e-03, -1.03209605e-02, -2.63224952e-02,\n",
       "        -5.94727769e-02, -1.16537198e-01, -1.97390229e-01,\n",
       "        -2.83805698e-01, -3.79412591e-01, -4.77584034e-01,\n",
       "        -5.62326729e-01, -6.23078227e-01, -6.59251928e-01,\n",
       "        -6.58221424e-01, -5.55382252e-01, -5.91231704e-01,\n",
       "        -6.07143462e-01,  4.16704774e-01,  5.67344427e-01,\n",
       "         1.08593071e+00, -2.72850573e-01,  1.60844707e+00,\n",
       "         3.47916603e+00,  4.47211742e+00,  3.19816446e+00,\n",
       "        -1.24660455e-01, -6.43352345e-02, -2.87100654e-02,\n",
       "        -8.99783615e-03],\n",
       "       [-3.29633080e-03, -1.03209605e-02, -2.63224952e-02,\n",
       "        -5.94727769e-02, -1.16537198e-01, -1.97390229e-01,\n",
       "        -2.83805698e-01, -3.79412591e-01, -1.21771954e-01,\n",
       "        -1.78291753e-01,  3.27180088e-01,  8.63192856e-01,\n",
       "         9.67465341e-01,  1.67692387e+00,  1.59085870e+00,\n",
       "         1.57223129e+00,  1.60448718e+00,  1.67668068e+00,\n",
       "         1.58230078e+00,  1.30819166e+00,  2.68807101e+00,\n",
       "         3.28374887e+00,  3.47408342e+00,  1.51655328e+00,\n",
       "        -1.24660455e-01, -6.43352345e-02, -2.87100654e-02,\n",
       "        -8.99783615e-03],\n",
       "       [-3.29633080e-03, -1.03209605e-02, -2.63224952e-02,\n",
       "        -5.94727769e-02, -1.16537198e-01, -1.97390229e-01,\n",
       "        -2.83805698e-01,  3.13044101e-01,  2.34519172e+00,\n",
       "         2.13658571e+00,  1.93453193e+00,  1.84190750e+00,\n",
       "         1.77544141e+00,  1.67692387e+00,  1.59085870e+00,\n",
       "         1.57223129e+00,  1.60448718e+00,  1.65771770e+00,\n",
       "         2.71883965e-01,  3.33576560e-01,  5.66051722e-01,\n",
       "         4.87780064e-01,  4.79982167e-01, -1.91750199e-01,\n",
       "        -1.24660455e-01, -6.43352345e-02, -2.87100654e-02,\n",
       "        -8.99783615e-03],\n",
       "       [-3.29633080e-03, -1.03209605e-02, -2.63224952e-02,\n",
       "        -5.94727769e-02, -1.16537198e-01, -1.97390229e-01,\n",
       "        -2.83805698e-01, -1.25040740e-01,  2.11984396e+00,\n",
       "         2.13658571e+00,  1.93453193e+00,  1.84190750e+00,\n",
       "         1.77544141e+00,  1.67692387e+00,  1.08015668e+00,\n",
       "         9.13781881e-01,  1.54837143e+00,  1.56290257e+00,\n",
       "        -6.51364148e-01, -5.54406047e-01, -4.51524764e-01,\n",
       "        -3.54017019e-01, -2.68543184e-01, -1.91750199e-01,\n",
       "        -1.24660455e-01, -6.43352345e-02, -2.87100654e-02,\n",
       "        -8.99783615e-03],\n",
       "       [-3.29633080e-03, -1.03209605e-02, -2.63224952e-02,\n",
       "        -5.94727769e-02, -1.16537198e-01, -1.97390229e-01,\n",
       "        -2.83805698e-01, -3.79412591e-01,  4.71248180e-01,\n",
       "         1.10182476e+00,  4.58598763e-01,  1.84190750e+00,\n",
       "         1.77544141e+00,  1.22096348e+00, -6.56230152e-01,\n",
       "        -7.74074256e-01, -3.59562427e-01,  7.38011539e-01,\n",
       "        -6.51364148e-01, -5.54406047e-01, -4.51524764e-01,\n",
       "        -3.54017019e-01, -2.68543184e-01, -1.91750199e-01,\n",
       "        -1.24660455e-01, -6.43352345e-02, -2.87100654e-02,\n",
       "        -8.99783615e-03],\n",
       "       [-3.29633080e-03, -1.03209605e-02, -2.63224952e-02,\n",
       "        -5.94727769e-02, -1.16537198e-01, -1.97390229e-01,\n",
       "        -2.83805698e-01, -3.79412591e-01, -4.77584034e-01,\n",
       "        -4.12979782e-01, -6.12969100e-01,  8.63192856e-01,\n",
       "         1.77544141e+00,  1.28558323e-01, -7.58370578e-01,\n",
       "        -7.74074256e-01, -7.61724949e-01, -7.22140551e-01,\n",
       "        -6.51364148e-01, -5.54406047e-01, -4.51524764e-01,\n",
       "        -3.54017019e-01, -2.68543184e-01, -1.91750199e-01,\n",
       "        -1.24660455e-01, -6.43352345e-02, -2.87100654e-02,\n",
       "        -8.99783615e-03],\n",
       "       [-3.29633080e-03, -1.03209605e-02, -2.63224952e-02,\n",
       "        -5.94727769e-02, -1.16537198e-01, -1.97390229e-01,\n",
       "        -2.83805698e-01, -3.79412591e-01, -4.77584034e-01,\n",
       "        -5.62326729e-01, -6.23078227e-01,  7.14902818e-01,\n",
       "         1.77544141e+00,  1.07847583e+00, -7.39799619e-01,\n",
       "        -7.74074256e-01, -7.61724949e-01, -7.22140551e-01,\n",
       "        -6.51364148e-01, -5.54406047e-01, -4.51524764e-01,\n",
       "        -3.54017019e-01, -2.68543184e-01, -1.91750199e-01,\n",
       "        -1.24660455e-01, -6.43352345e-02, -2.87100654e-02,\n",
       "        -8.99783615e-03],\n",
       "       [-3.29633080e-03, -1.03209605e-02, -2.63224952e-02,\n",
       "        -5.94727769e-02, -1.16537198e-01, -1.97390229e-01,\n",
       "        -2.83805698e-01, -3.79412591e-01, -4.77584034e-01,\n",
       "        -5.62326729e-01, -6.23078227e-01, -5.50505877e-01,\n",
       "         1.16215837e+00,  1.67692387e+00, -1.08386181e-01,\n",
       "        -7.74074256e-01, -7.61724949e-01, -7.22140551e-01,\n",
       "        -6.51364148e-01, -5.54406047e-01, -4.51524764e-01,\n",
       "        -3.54017019e-01, -2.68543184e-01, -1.91750199e-01,\n",
       "        -1.24660455e-01, -6.43352345e-02, -2.87100654e-02,\n",
       "        -8.99783615e-03],\n",
       "       [-3.29633080e-03, -1.03209605e-02, -2.63224952e-02,\n",
       "        -5.94727769e-02, -1.16537198e-01, -1.97390229e-01,\n",
       "        -2.83805698e-01, -3.79412591e-01, -4.77584034e-01,\n",
       "        -5.62326729e-01, -6.23078227e-01, -6.59251928e-01,\n",
       "        -3.46712589e-01,  1.56293368e+00,  1.33086503e+00,\n",
       "         7.09755301e-01,  2.48357683e-01, -7.12659001e-01,\n",
       "        -6.51364148e-01, -5.54406047e-01, -4.51524764e-01,\n",
       "        -3.54017019e-01, -2.68543184e-01, -1.91750199e-01,\n",
       "        -1.24660455e-01, -6.43352345e-02, -2.87100654e-02,\n",
       "        -8.99783615e-03],\n",
       "       [-3.29633080e-03, -1.03209605e-02, -2.63224952e-02,\n",
       "        -5.94727769e-02, -1.16537198e-01, -1.97390229e-01,\n",
       "        -2.83805698e-01, -3.79412591e-01, -4.77584034e-01,\n",
       "        -5.62326729e-01, -6.23078227e-01, -6.59251928e-01,\n",
       "        -6.87425375e-01,  4.30657491e-02,  1.47014737e+00,\n",
       "         1.57223129e+00,  1.60448718e+00,  4.06158775e-01,\n",
       "        -4.03179199e-01, -5.54406047e-01, -4.51524764e-01,\n",
       "        -3.54017019e-01, -2.68543184e-01, -1.91750199e-01,\n",
       "        -1.24660455e-01, -6.43352345e-02, -2.87100654e-02,\n",
       "        -8.99783615e-03],\n",
       "       [-3.29633080e-03, -1.03209605e-02, -2.63224952e-02,\n",
       "        -5.94727769e-02, -1.16537198e-01, -1.97390229e-01,\n",
       "        -2.83805698e-01, -3.79412591e-01, -4.77584034e-01,\n",
       "        -5.62326729e-01, -6.23078227e-01, -6.59251928e-01,\n",
       "        -6.87425375e-01, -7.26367414e-01, -3.40523452e-01,\n",
       "         9.50877607e-01,  1.60448718e+00,  1.67668068e+00,\n",
       "         8.37745726e-01, -2.62021512e-01, -4.51524764e-01,\n",
       "        -3.54017019e-01, -2.68543184e-01, -1.91750199e-01,\n",
       "        -1.24660455e-01, -6.43352345e-02, -2.87100654e-02,\n",
       "        -8.99783615e-03],\n",
       "       [-3.29633080e-03, -1.03209605e-02, -2.63224952e-02,\n",
       "        -5.94727769e-02, -1.16537198e-01, -1.97390229e-01,\n",
       "        -2.83805698e-01, -3.79412591e-01, -4.77584034e-01,\n",
       "        -5.62326729e-01, -6.23078227e-01, -6.59251928e-01,\n",
       "        -6.87425375e-01, -7.26367414e-01, -7.58370578e-01,\n",
       "        -6.25691295e-01,  1.08068421e-01,  1.66719925e+00,\n",
       "         1.86026800e+00,  1.47062743e+00, -4.51524764e-01,\n",
       "        -3.54017019e-01, -2.68543184e-01, -1.91750199e-01,\n",
       "        -1.24660455e-01, -6.43352345e-02, -2.87100654e-02,\n",
       "        -8.99783615e-03],\n",
       "       [-3.29633080e-03, -1.03209605e-02, -2.63224952e-02,\n",
       "        -5.94727769e-02, -1.16537198e-01, -1.97390229e-01,\n",
       "        -2.83805698e-01, -3.79412591e-01, -4.77584034e-01,\n",
       "        -5.62326729e-01, -6.23078227e-01, -6.59251928e-01,\n",
       "        -6.87425375e-01, -7.26367414e-01, -7.58370578e-01,\n",
       "        -7.74074256e-01, -7.61724949e-01,  1.63875473e+00,\n",
       "         1.86026800e+00,  2.14202881e+00,  3.42681259e-01,\n",
       "        -3.54017019e-01, -2.68543184e-01, -1.91750199e-01,\n",
       "        -1.24660455e-01, -6.43352345e-02, -2.87100654e-02,\n",
       "        -8.99783615e-03],\n",
       "       [-3.29633080e-03, -1.03209605e-02, -2.63224952e-02,\n",
       "        -5.94727769e-02, -1.16537198e-01, -1.97390229e-01,\n",
       "        -2.83805698e-01, -3.79412591e-01, -4.77584034e-01,\n",
       "        -5.62326729e-01, -6.23078227e-01, -6.59251928e-01,\n",
       "        -6.87425375e-01, -7.26367414e-01, -3.31237972e-01,\n",
       "         4.31537271e-01,  9.49803948e-01,  1.67668068e+00,\n",
       "         1.86026800e+00,  1.68720853e+00, -4.26705807e-01,\n",
       "        -3.54017019e-01, -2.68543184e-01, -1.91750199e-01,\n",
       "        -1.24660455e-01, -6.43352345e-02, -2.87100654e-02,\n",
       "        -8.99783615e-03],\n",
       "       [-3.29633080e-03, -1.03209605e-02, -2.63224952e-02,\n",
       "        -5.94727769e-02, -1.16537198e-01, -1.97390229e-01,\n",
       "        -2.83805698e-01, -3.79412591e-01, -4.77584034e-01,\n",
       "        -5.62326729e-01, -6.23078227e-01, -6.59251928e-01,\n",
       "        -3.07773978e-01,  6.79510474e-01,  1.36800694e+00,\n",
       "         1.57223129e+00,  1.60448718e+00,  1.67668068e+00,\n",
       "         1.83048570e+00,  1.41648221e+00, -4.51524764e-01,\n",
       "        -3.54017019e-01, -2.68543184e-01, -1.91750199e-01,\n",
       "        -1.24660455e-01, -6.43352345e-02, -2.87100654e-02,\n",
       "        -8.99783615e-03],\n",
       "       [-3.29633080e-03, -1.03209605e-02, -2.63224952e-02,\n",
       "        -5.94727769e-02, -1.16537198e-01, -1.97390229e-01,\n",
       "        -2.83805698e-01, -3.79412591e-01, -4.77584034e-01,\n",
       "        -5.62326729e-01, -3.80459100e-01,  4.67752665e-01,\n",
       "         1.46393263e+00,  1.67692387e+00,  1.59085870e+00,\n",
       "         1.57223129e+00,  1.60448718e+00,  1.18364239e+00,\n",
       "         1.22972980e-01, -5.54406047e-01, -4.51524764e-01,\n",
       "        -3.54017019e-01, -2.68543184e-01, -1.91750199e-01,\n",
       "        -1.24660455e-01, -6.43352345e-02, -2.87100654e-02,\n",
       "        -8.99783615e-03],\n",
       "       [-3.29633080e-03, -1.03209605e-02, -2.63224952e-02,\n",
       "        -5.94727769e-02, -1.16537198e-01, -1.97390229e-01,\n",
       "        -2.83805698e-01, -3.79412591e-01, -2.04794765e-01,\n",
       "         1.41737401e-01,  1.53016663e+00,  1.84190750e+00,\n",
       "         1.77544141e+00,  1.67692387e+00,  1.59085870e+00,\n",
       "         1.06216478e+00, -4.16298211e-03, -7.03177512e-01,\n",
       "        -6.51364148e-01, -5.54406047e-01, -4.51524764e-01,\n",
       "        -3.54017019e-01, -2.68543184e-01, -1.91750199e-01,\n",
       "        -1.24660455e-01, -6.43352345e-02, -2.87100654e-02,\n",
       "        -8.99783615e-03],\n",
       "       [-3.29633080e-03, -1.03209605e-02, -2.63224952e-02,\n",
       "        -5.94727769e-02, -1.16537198e-01, -1.97390229e-01,\n",
       "         4.43913825e-02,  2.03711987e+00,  2.11984396e+00,\n",
       "         2.13658571e+00,  1.93453193e+00,  1.84190750e+00,\n",
       "         1.77544141e+00,  1.12597167e+00, -1.55312652e-02,\n",
       "        -6.90608859e-01, -7.61724949e-01, -7.22140551e-01,\n",
       "        -6.51364148e-01, -5.54406047e-01, -4.51524764e-01,\n",
       "        -3.54017019e-01, -2.68543184e-01, -1.91750199e-01,\n",
       "        -1.24660455e-01, -6.43352345e-02, -2.87100654e-02,\n",
       "        -8.99783615e-03],\n",
       "       [-3.29633080e-03, -1.03209605e-02, -2.63224952e-02,\n",
       "        -5.94727769e-02,  2.36970687e+00,  4.28961515e+00,\n",
       "         3.83689117e+00,  3.19592476e+00,  2.52309775e+00,\n",
       "         2.13658571e+00,  1.93453193e+00,  1.75293338e+00,\n",
       "         6.07283235e-01, -6.21876478e-01, -7.58370578e-01,\n",
       "        -7.74074256e-01, -7.61724949e-01, -7.22140551e-01,\n",
       "        -6.51364148e-01, -5.54406047e-01, -4.51524764e-01,\n",
       "        -3.54017019e-01, -2.68543184e-01, -1.91750199e-01,\n",
       "        -1.24660455e-01, -6.43352345e-02, -2.87100654e-02,\n",
       "        -8.99783615e-03],\n",
       "       [-3.29633080e-03, -1.03209605e-02, -2.63224952e-02,\n",
       "        -5.94727769e-02,  6.03126621e+00,  6.40268135e+00,\n",
       "         4.32918692e+00,  3.19592476e+00,  2.03682137e+00,\n",
       "         8.77804399e-01,  7.11327076e-01, -5.01075864e-01,\n",
       "        -6.87425375e-01, -7.26367414e-01, -7.58370578e-01,\n",
       "        -7.74074256e-01, -7.61724949e-01, -7.22140551e-01,\n",
       "        -6.51364148e-01, -5.54406047e-01, -4.51524764e-01,\n",
       "        -3.54017019e-01, -2.68543184e-01, -1.91750199e-01,\n",
       "        -1.24660455e-01, -6.43352345e-02, -2.87100654e-02,\n",
       "        -8.99783615e-03],\n",
       "       [-3.29633080e-03, -1.03209605e-02, -2.63224952e-02,\n",
       "        -5.94727769e-02, -1.16537198e-01, -1.97390229e-01,\n",
       "        -2.83805698e-01, -3.79412591e-01, -4.77584034e-01,\n",
       "        -5.62326729e-01, -6.23078227e-01, -6.59251928e-01,\n",
       "        -6.87425375e-01, -7.26367414e-01, -7.58370578e-01,\n",
       "        -7.74074256e-01, -7.61724949e-01, -7.22140551e-01,\n",
       "        -6.51364148e-01, -5.54406047e-01, -4.51524764e-01,\n",
       "        -3.54017019e-01, -2.68543184e-01, -1.91750199e-01,\n",
       "        -1.24660455e-01, -6.43352345e-02, -2.87100654e-02,\n",
       "        -8.99783615e-03],\n",
       "       [-3.29633080e-03, -1.03209605e-02, -2.63224952e-02,\n",
       "        -5.94727769e-02, -1.16537198e-01, -1.97390229e-01,\n",
       "        -2.83805698e-01, -3.79412591e-01, -4.77584034e-01,\n",
       "        -5.62326729e-01, -6.23078227e-01, -6.59251928e-01,\n",
       "        -6.87425375e-01, -7.26367414e-01, -7.58370578e-01,\n",
       "        -7.74074256e-01, -7.61724949e-01, -7.22140551e-01,\n",
       "        -6.51364148e-01, -5.54406047e-01, -4.51524764e-01,\n",
       "        -3.54017019e-01, -2.68543184e-01, -1.91750199e-01,\n",
       "        -1.24660455e-01, -6.43352345e-02, -2.87100654e-02,\n",
       "        -8.99783615e-03],\n",
       "       [-3.29633080e-03, -1.03209605e-02, -2.63224952e-02,\n",
       "        -5.94727769e-02, -1.16537198e-01, -1.97390229e-01,\n",
       "        -2.83805698e-01, -3.79412591e-01, -4.77584034e-01,\n",
       "        -5.62326729e-01, -6.23078227e-01, -6.59251928e-01,\n",
       "        -6.87425375e-01, -7.26367414e-01, -7.58370578e-01,\n",
       "        -7.74074256e-01, -7.61724949e-01, -7.22140551e-01,\n",
       "        -6.51364148e-01, -5.54406047e-01, -4.51524764e-01,\n",
       "        -3.54017019e-01, -2.68543184e-01, -1.91750199e-01,\n",
       "        -1.24660455e-01, -6.43352345e-02, -2.87100654e-02,\n",
       "        -8.99783615e-03]], dtype=float32)>"
      ]
     },
     "execution_count": 20,
     "metadata": {},
     "output_type": "execute_result"
    }
   ],
   "source": [
    "X_train[0]"
   ]
  },
  {
   "cell_type": "code",
   "execution_count": 21,
   "metadata": {
    "colab": {
     "base_uri": "https://localhost:8080/",
     "height": 612
    },
    "executionInfo": {
     "elapsed": 67320,
     "status": "ok",
     "timestamp": 1675234475046,
     "user": {
      "displayName": "Adithya Vinod",
      "userId": "06561846904279351931"
     },
     "user_tz": -330
    },
    "id": "RMA57xrhv8he",
    "outputId": "4901bf7a-0313-42cf-9649-8c74cf81686d"
   },
   "outputs": [
    {
     "name": "stdout",
     "output_type": "stream",
     "text": [
      "Epoch 1/10\n",
      "1875/1875 [==============================] - 7s 3ms/step - loss: 0.2092 - accuracy: 0.9402\n",
      "Epoch 2/10\n",
      "1875/1875 [==============================] - 6s 3ms/step - loss: 0.0872 - accuracy: 0.9744\n",
      "Epoch 3/10\n",
      "1875/1875 [==============================] - 6s 3ms/step - loss: 0.0574 - accuracy: 0.9826\n",
      "Epoch 4/10\n",
      "1875/1875 [==============================] - 7s 4ms/step - loss: 0.0445 - accuracy: 0.9863\n",
      "Epoch 5/10\n",
      "1875/1875 [==============================] - 10s 5ms/step - loss: 0.0317 - accuracy: 0.9904\n",
      "Epoch 6/10\n",
      "1875/1875 [==============================] - 6s 3ms/step - loss: 0.0268 - accuracy: 0.9908\n",
      "Epoch 7/10\n",
      "1875/1875 [==============================] - 7s 4ms/step - loss: 0.0208 - accuracy: 0.9937\n",
      "Epoch 8/10\n",
      "1875/1875 [==============================] - 6s 3ms/step - loss: 0.0184 - accuracy: 0.9944\n",
      "Epoch 9/10\n",
      "1875/1875 [==============================] - 6s 3ms/step - loss: 0.0181 - accuracy: 0.9940\n",
      "Epoch 10/10\n",
      "1875/1875 [==============================] - 6s 3ms/step - loss: 0.0170 - accuracy: 0.9948\n"
     ]
    },
    {
     "data": {
      "image/png": "[encoded data removed]",
      "text/plain": [
       "<Figure size 432x288 with 1 Axes>"
      ]
     },
     "metadata": {
      "needs_background": "light"
     },
     "output_type": "display_data"
    }
   ],
   "source": [
    "model_2 = tf.keras.Sequential()\n",
    "model_2.add(tf.keras.layers.Flatten()) # Flatten - Making a single dimension from 28X28 into 784X1\n",
    "model_2.add(tf.keras.layers.Dense(300, activation='relu'))\n",
    "model_2.add(tf.keras.layers.Dense(10, activation='softmax'))\n",
    "\n",
    "# Compiling the Model\n",
    "\n",
    "model_2.compile(loss=tf.keras.losses.SparseCategoricalCrossentropy(),\n",
    "                optimizer=tf.keras.optimizers.Adam(),\n",
    "                metrics=['accuracy'])\n",
    "\n",
    "# Training \n",
    "\n",
    "tf.random.set_seed(100)\n",
    "hist_2 = model_2.fit(X_train,y_train,epochs=10)\n",
    "pd.DataFrame(hist_2.history).plot();"
   ]
  },
  {
   "cell_type": "code",
   "execution_count": 22,
   "metadata": {
    "colab": {
     "base_uri": "https://localhost:8080/"
    },
    "executionInfo": {
     "elapsed": 796,
     "status": "ok",
     "timestamp": 1675234478077,
     "user": {
      "displayName": "Adithya Vinod",
      "userId": "06561846904279351931"
     },
     "user_tz": -330
    },
    "id": "AIeVuCBvwGxV",
    "outputId": "bef31dd1-7551-4952-a100-285e4587c064"
   },
   "outputs": [
    {
     "name": "stdout",
     "output_type": "stream",
     "text": [
      "Evaluation Result 2\n",
      "313/313 [==============================] - 1s 2ms/step - loss: 0.1470 - accuracy: 0.9788\n"
     ]
    },
    {
     "data": {
      "text/plain": [
       "[0.14703814685344696, 0.9787999987602234]"
      ]
     },
     "execution_count": 22,
     "metadata": {},
     "output_type": "execute_result"
    }
   ],
   "source": [
    "print('Evaluation Result 2')\n",
    "\n",
    "model_2.evaluate(X_test, y_test)"
   ]
  },
  {
   "cell_type": "markdown",
   "metadata": {
    "id": "Sm-a_IErwcNY"
   },
   "source": [
    "## **Remark 2:**\n",
    "\n",
    "1. Basic Model: Training Loss = 0.1852, Test Loss = 0.3103 \n",
    "\n",
    "2. Normalised Model: Training Loss = 0.0170, Test Loss = 0.1470\n",
    "\n",
    "Model has improved, but still there is Overfitting "
   ]
  },
  {
   "cell_type": "markdown",
   "metadata": {
    "id": "EIxAwfgow6tg"
   },
   "source": [
    "## **3. Model with Validation**"
   ]
  },
  {
   "cell_type": "code",
   "execution_count": 27,
   "metadata": {
    "colab": {
     "base_uri": "https://localhost:8080/",
     "height": 716
    },
    "executionInfo": {
     "elapsed": 83034,
     "status": "ok",
     "timestamp": 1675235186586,
     "user": {
      "displayName": "Adithya Vinod",
      "userId": "06561846904279351931"
     },
     "user_tz": -330
    },
    "id": "iMVX1isLwPNC",
    "outputId": "5199fe3e-d248-4ddb-cdd9-bbce8d83d489"
   },
   "outputs": [
    {
     "name": "stdout",
     "output_type": "stream",
     "text": [
      "Epoch 1/10\n",
      "1500/1500 [==============================] - 7s 4ms/step - loss: 0.2303 - accuracy: 0.9348 - val_loss: 0.1338 - val_accuracy: 0.9614\n",
      "Epoch 2/10\n",
      "1500/1500 [==============================] - 5s 4ms/step - loss: 0.0917 - accuracy: 0.9732 - val_loss: 0.0987 - val_accuracy: 0.9742\n",
      "Epoch 3/10\n",
      "1500/1500 [==============================] - 5s 4ms/step - loss: 0.0593 - accuracy: 0.9829 - val_loss: 0.1035 - val_accuracy: 0.9706\n",
      "Epoch 4/10\n",
      "1500/1500 [==============================] - 6s 4ms/step - loss: 0.0412 - accuracy: 0.9871 - val_loss: 0.0972 - val_accuracy: 0.9753\n",
      "Epoch 5/10\n",
      "1500/1500 [==============================] - 6s 4ms/step - loss: 0.0308 - accuracy: 0.9899 - val_loss: 0.1186 - val_accuracy: 0.9741\n",
      "Epoch 6/10\n",
      "1500/1500 [==============================] - 5s 4ms/step - loss: 0.0237 - accuracy: 0.9928 - val_loss: 0.1221 - val_accuracy: 0.9731\n",
      "Epoch 7/10\n",
      "1500/1500 [==============================] - 5s 4ms/step - loss: 0.0195 - accuracy: 0.9936 - val_loss: 0.1124 - val_accuracy: 0.9766\n",
      "Epoch 8/10\n",
      "1500/1500 [==============================] - 6s 4ms/step - loss: 0.0202 - accuracy: 0.9937 - val_loss: 0.1238 - val_accuracy: 0.9751\n",
      "Epoch 9/10\n",
      "1500/1500 [==============================] - 6s 4ms/step - loss: 0.0169 - accuracy: 0.9945 - val_loss: 0.1285 - val_accuracy: 0.9747\n",
      "Epoch 10/10\n",
      "1500/1500 [==============================] - 5s 4ms/step - loss: 0.0187 - accuracy: 0.9943 - val_loss: 0.1481 - val_accuracy: 0.9758\n",
      "\n",
      "\n",
      "\n",
      "Evaluation Result 3\n",
      "313/313 [==============================] - 1s 2ms/step - loss: 0.1403 - accuracy: 0.9762\n"
     ]
    },
    {
     "data": {
      "text/plain": [
       "[0.14034612476825714, 0.9761999845504761]"
      ]
     },
     "execution_count": 27,
     "metadata": {},
     "output_type": "execute_result"
    },
    {
     "data": {
      "image/png": "[encoded data removed]",
      "text/plain": [
       "<Figure size 432x288 with 1 Axes>"
      ]
     },
     "metadata": {
      "needs_background": "light"
     },
     "output_type": "display_data"
    }
   ],
   "source": [
    "model_3 = tf.keras.Sequential()\n",
    "model_3.add(tf.keras.layers.Flatten()) # Flatten - Making a single dimension from 28X28 into 784X1\n",
    "model_3.add(tf.keras.layers.Dense(300, activation='relu'))\n",
    "model_3.add(tf.keras.layers.Dense(10, activation='softmax'))\n",
    "\n",
    "# Compiling the Model\n",
    "\n",
    "model_3.compile(loss=tf.keras.losses.SparseCategoricalCrossentropy(),\n",
    "                optimizer=tf.keras.optimizers.Adam(),\n",
    "                metrics=['accuracy'])\n",
    "\n",
    "# Training \n",
    "\n",
    "tf.random.set_seed(100)\n",
    "\n",
    "# Validation Split\n",
    "\n",
    "hist_3 = model_3.fit(X_train,y_train,epochs=10, validation_split=0.2)\n",
    "pd.DataFrame(hist_3.history).plot();\n",
    "\n",
    "# Evaluation\n",
    "\n",
    "print('\\n\\n')\n",
    "print('Evaluation Result 3')\n",
    "\n",
    "model_3.evaluate(X_test, y_test)"
   ]
  },
  {
   "cell_type": "markdown",
   "metadata": {
    "id": "Bk_hr93NxhTB"
   },
   "source": [
    "## **Remark 3:**\n",
    "\n",
    "1. Basic Model: Training Loss = 0.1852, Test Loss = 0.3103 (Overfitting)\n",
    "\n",
    "2. Normalised Model: Training Loss = 0.0170, Test Loss = 0.1470 (Model improved, Overfitting)\n",
    "\n",
    "3. Model with Validation: Training Loss = 0.1481 , Test Loss = 0.1403 (Model improved, Overfitting)\n",
    "\n",
    "Model has further improved"
   ]
  },
  {
   "cell_type": "markdown",
   "metadata": {
    "id": "AuPjjv5p0Dxj"
   },
   "source": [
    "## **4. Model with Dropout**"
   ]
  },
  {
   "cell_type": "code",
   "execution_count": 29,
   "metadata": {
    "colab": {
     "base_uri": "https://localhost:8080/",
     "height": 716
    },
    "executionInfo": {
     "elapsed": 84351,
     "status": "ok",
     "timestamp": 1675235850917,
     "user": {
      "displayName": "Adithya Vinod",
      "userId": "06561846904279351931"
     },
     "user_tz": -330
    },
    "id": "A4V8qadBxVK0",
    "outputId": "313e646e-c6be-43eb-9d78-2a0acbf0d75d"
   },
   "outputs": [
    {
     "name": "stdout",
     "output_type": "stream",
     "text": [
      "Epoch 1/10\n",
      "1500/1500 [==============================] - 6s 4ms/step - loss: 0.2436 - accuracy: 0.9305 - val_loss: 0.1401 - val_accuracy: 0.9601\n",
      "Epoch 2/10\n",
      "1500/1500 [==============================] - 10s 7ms/step - loss: 0.1066 - accuracy: 0.9690 - val_loss: 0.0954 - val_accuracy: 0.9719\n",
      "Epoch 3/10\n",
      "1500/1500 [==============================] - 9s 6ms/step - loss: 0.0730 - accuracy: 0.9788 - val_loss: 0.0934 - val_accuracy: 0.9734\n",
      "Epoch 4/10\n",
      "1500/1500 [==============================] - 8s 5ms/step - loss: 0.0532 - accuracy: 0.9831 - val_loss: 0.1050 - val_accuracy: 0.9737\n",
      "Epoch 5/10\n",
      "1500/1500 [==============================] - 8s 5ms/step - loss: 0.0430 - accuracy: 0.9865 - val_loss: 0.1014 - val_accuracy: 0.9757\n",
      "Epoch 6/10\n",
      "1500/1500 [==============================] - 6s 4ms/step - loss: 0.0371 - accuracy: 0.9887 - val_loss: 0.1140 - val_accuracy: 0.9746\n",
      "Epoch 7/10\n",
      "1500/1500 [==============================] - 6s 4ms/step - loss: 0.0315 - accuracy: 0.9902 - val_loss: 0.1100 - val_accuracy: 0.9759\n",
      "Epoch 8/10\n",
      "1500/1500 [==============================] - 6s 4ms/step - loss: 0.0260 - accuracy: 0.9913 - val_loss: 0.1178 - val_accuracy: 0.9753\n",
      "Epoch 9/10\n",
      "1500/1500 [==============================] - 6s 4ms/step - loss: 0.0282 - accuracy: 0.9912 - val_loss: 0.1248 - val_accuracy: 0.9753\n",
      "Epoch 10/10\n",
      "1500/1500 [==============================] - 7s 5ms/step - loss: 0.0246 - accuracy: 0.9922 - val_loss: 0.1367 - val_accuracy: 0.9774\n",
      "\n",
      "\n",
      "\n",
      "Evaluation Result 4\n",
      "313/313 [==============================] - 1s 3ms/step - loss: 0.1475 - accuracy: 0.9754\n"
     ]
    },
    {
     "data": {
      "text/plain": [
       "[0.14748935401439667, 0.9753999710083008]"
      ]
     },
     "execution_count": 29,
     "metadata": {},
     "output_type": "execute_result"
    },
    {
     "data": {
      "image/png": "[encoded data removed]",
      "text/plain": [
       "<Figure size 432x288 with 1 Axes>"
      ]
     },
     "metadata": {
      "needs_background": "light"
     },
     "output_type": "display_data"
    }
   ],
   "source": [
    "model_4 = tf.keras.Sequential()\n",
    "model_4.add(tf.keras.layers.Flatten()) # Flatten - Making a single dimension from 28X28 into 784X1\n",
    "model_4.add(tf.keras.layers.Dense(300, activation='relu'))\n",
    "\n",
    "# Dropout Layer\n",
    "model_4.add(tf.keras.layers.Dropout(0.1)) # 10% of the neurons will be dropped \n",
    " \n",
    "model_4.add(tf.keras.layers.Dense(10, activation='softmax'))\n",
    "\n",
    "# Compiling the Model\n",
    "\n",
    "model_4.compile(loss=tf.keras.losses.SparseCategoricalCrossentropy(),\n",
    "                optimizer=tf.keras.optimizers.Adam(),\n",
    "                metrics=['accuracy'])\n",
    "\n",
    "# Training \n",
    "\n",
    "tf.random.set_seed(100)\n",
    "\n",
    "# Validation Split\n",
    "\n",
    "hist_4 = model_4.fit(X_train,y_train,epochs=10, validation_split=0.2)\n",
    "pd.DataFrame(hist_4.history).plot();\n",
    "\n",
    "# Evaluation\n",
    "\n",
    "print('\\n\\n')\n",
    "print('Evaluation Result 4')\n",
    "\n",
    "model_4.evaluate(X_test, y_test)"
   ]
  },
  {
   "cell_type": "markdown",
   "metadata": {
    "id": "_kUijvfp1NT0"
   },
   "source": [
    "## **Remark 4:**\n",
    "\n",
    "1. Basic Model: Training Loss = 0.1852, Test Loss = 0.3103 (Overfitting)\n",
    "\n",
    "2. Normalised Model: Training Loss = 0.0170, Test Loss = 0.1470 (Model improved, Overfitting)\n",
    "\n",
    "3. Model with Validation: Training Loss = 0.1481 , Test Loss = 0.1403 (Model improved, Overfitting)\n",
    "\n",
    "4. Model with Dropout: Training Loss = 0.0246 , Test Loss =  0.1475 (Model Not improved, Retain the third Model model_3)\n"
   ]
  },
  {
   "cell_type": "markdown",
   "metadata": {
    "id": "bT8ATViu2AR5"
   },
   "source": [
    "## **5. Model with Early Stop**"
   ]
  },
  {
   "cell_type": "markdown",
   "metadata": {
    "id": "7Cja50U729cs"
   },
   "source": [
    "We will take the model number 3 as it is the best \n",
    "\n",
    "Taking Model 3 and renaming it 5 "
   ]
  },
  {
   "cell_type": "code",
   "execution_count": 31,
   "metadata": {
    "colab": {
     "base_uri": "https://localhost:8080/",
     "height": 577
    },
    "executionInfo": {
     "elapsed": 43448,
     "status": "ok",
     "timestamp": 1675236618982,
     "user": {
      "displayName": "Adithya Vinod",
      "userId": "06561846904279351931"
     },
     "user_tz": -330
    },
    "id": "0mVDiF_51JEL",
    "outputId": "58297342-a2ae-46bd-97e7-cd969e53c80a"
   },
   "outputs": [
    {
     "name": "stdout",
     "output_type": "stream",
     "text": [
      "Epoch 1/10\n",
      "1500/1500 [==============================] - 7s 4ms/step - loss: 0.2303 - accuracy: 0.9348 - val_loss: 0.1338 - val_accuracy: 0.9614\n",
      "Epoch 2/10\n",
      "1500/1500 [==============================] - 6s 4ms/step - loss: 0.0917 - accuracy: 0.9732 - val_loss: 0.0987 - val_accuracy: 0.9742\n",
      "Epoch 3/10\n",
      "1500/1500 [==============================] - 5s 3ms/step - loss: 0.0593 - accuracy: 0.9829 - val_loss: 0.1035 - val_accuracy: 0.9706\n",
      "Epoch 4/10\n",
      "1500/1500 [==============================] - 6s 4ms/step - loss: 0.0412 - accuracy: 0.9871 - val_loss: 0.0972 - val_accuracy: 0.9753\n",
      "Epoch 5/10\n",
      "1500/1500 [==============================] - 6s 4ms/step - loss: 0.0308 - accuracy: 0.9899 - val_loss: 0.1186 - val_accuracy: 0.9741\n",
      "Epoch 6/10\n",
      "1500/1500 [==============================] - 7s 4ms/step - loss: 0.0237 - accuracy: 0.9928 - val_loss: 0.1221 - val_accuracy: 0.9731\n",
      "\n",
      "\n",
      "\n",
      "Evaluation Result 5\n",
      "313/313 [==============================] - 1s 3ms/step - loss: 0.1281 - accuracy: 0.9729\n"
     ]
    },
    {
     "data": {
      "text/plain": [
       "[0.12814894318580627, 0.9728999733924866]"
      ]
     },
     "execution_count": 31,
     "metadata": {},
     "output_type": "execute_result"
    },
    {
     "data": {
      "image/png": "[encoded data removed]",
      "text/plain": [
       "<Figure size 432x288 with 1 Axes>"
      ]
     },
     "metadata": {
      "needs_background": "light"
     },
     "output_type": "display_data"
    }
   ],
   "source": [
    "model_5 = tf.keras.Sequential()\n",
    "model_5.add(tf.keras.layers.Flatten()) # Flatten - Making a single dimension from 28X28 into 784X1\n",
    "model_5.add(tf.keras.layers.Dense(300, activation='relu'))\n",
    "model_5.add(tf.keras.layers.Dense(10, activation='softmax'))\n",
    "\n",
    "# Compiling the Model\n",
    "\n",
    "model_5.compile(loss=tf.keras.losses.SparseCategoricalCrossentropy(),\n",
    "                optimizer=tf.keras.optimizers.Adam(),\n",
    "                metrics=['accuracy'])\n",
    "\n",
    "# Introducing Early Stop\n",
    "\n",
    "early_stop = tf.keras.callbacks.EarlyStopping(monitor='val_loss',patience=2)\n",
    "\n",
    "# Training \n",
    "\n",
    "tf.random.set_seed(100)\n",
    "\n",
    "# Validation Split , Callbacks \n",
    "\n",
    "hist_5 = model_5.fit(X_train,y_train,epochs=10, validation_split=0.2, callbacks=[early_stop])\n",
    "pd.DataFrame(hist_5.history).plot();\n",
    "\n",
    "# Evaluation\n",
    "\n",
    "print('\\n\\n')\n",
    "print('Evaluation Result 5')\n",
    "\n",
    "model_5.evaluate(X_test, y_test)"
   ]
  },
  {
   "cell_type": "markdown",
   "metadata": {
    "id": "1iVuO8C85HTR"
   },
   "source": [
    "## **Remark 5:**\n",
    "\n",
    "1. Basic Model: Training Loss = 0.1852, Test Loss = 0.3103 (Overfitting)\n",
    "\n",
    "2. Normalised Model: Training Loss = 0.0170, Test Loss = 0.1470 (Model improved, Overfitting)\n",
    "\n",
    "3. Model with Validation: Training Loss = 0.1481 , Test Loss = 0.1403 (Model improved, Overfitting)\n",
    "\n",
    "4. Model with Dropout: Training Loss = 0.0246 , Test Loss =  0.1475 (Model Not improved, Retain the third Model model_3)\n",
    "\n",
    "5. Model with Early Stop: Training Loss = 0.0237, Test Loss = 0.1281 (Model Improved, Retain the model)"
   ]
  },
  {
   "cell_type": "markdown",
   "metadata": {
    "id": "jEkaUb325a8H"
   },
   "source": [
    "## **6. Model with Batch Normalisation**"
   ]
  },
  {
   "cell_type": "markdown",
   "metadata": {
    "id": "q4o5jdge6aa7"
   },
   "source": [
    "Taking Model number 5 and renaming it as Model 6"
   ]
  },
  {
   "cell_type": "code",
   "execution_count": 32,
   "metadata": {
    "colab": {
     "base_uri": "https://localhost:8080/",
     "height": 577
    },
    "executionInfo": {
     "elapsed": 85553,
     "status": "ok",
     "timestamp": 1675237170938,
     "user": {
      "displayName": "Adithya Vinod",
      "userId": "06561846904279351931"
     },
     "user_tz": -330
    },
    "id": "PHwd1nZU4UMs",
    "outputId": "4bb7de6c-6c5d-459e-facf-f633034dc980"
   },
   "outputs": [
    {
     "name": "stdout",
     "output_type": "stream",
     "text": [
      "Epoch 1/10\n",
      "1500/1500 [==============================] - 9s 5ms/step - loss: 0.2505 - accuracy: 0.9266 - val_loss: 0.1500 - val_accuracy: 0.9624\n",
      "Epoch 2/10\n",
      "1500/1500 [==============================] - 6s 4ms/step - loss: 0.1163 - accuracy: 0.9654 - val_loss: 0.1802 - val_accuracy: 0.9683\n",
      "Epoch 3/10\n",
      "1500/1500 [==============================] - 6s 4ms/step - loss: 0.0871 - accuracy: 0.9736 - val_loss: 0.1132 - val_accuracy: 0.9724\n",
      "Epoch 4/10\n",
      "1500/1500 [==============================] - 7s 4ms/step - loss: 0.0662 - accuracy: 0.9789 - val_loss: 0.1028 - val_accuracy: 0.9751\n",
      "Epoch 5/10\n",
      "1500/1500 [==============================] - 8s 5ms/step - loss: 0.0526 - accuracy: 0.9829 - val_loss: 0.1570 - val_accuracy: 0.9712\n",
      "Epoch 6/10\n",
      "1500/1500 [==============================] - 9s 6ms/step - loss: 0.0458 - accuracy: 0.9852 - val_loss: 0.1737 - val_accuracy: 0.9728\n",
      "\n",
      "\n",
      "\n",
      "Evaluation Result 6\n",
      "313/313 [==============================] - 1s 3ms/step - loss: 0.1565 - accuracy: 0.9727\n"
     ]
    },
    {
     "data": {
      "text/plain": [
       "[0.15648391842842102, 0.9726999998092651]"
      ]
     },
     "execution_count": 32,
     "metadata": {},
     "output_type": "execute_result"
    },
    {
     "data": {
      "image/png": "[encoded data removed]",
      "text/plain": [
       "<Figure size 432x288 with 1 Axes>"
      ]
     },
     "metadata": {
      "needs_background": "light"
     },
     "output_type": "display_data"
    }
   ],
   "source": [
    "model_6 = tf.keras.Sequential()\n",
    "model_6.add(tf.keras.layers.Flatten()) # Flatten - Making a single dimension from 28X28 into 784X1\n",
    "model_6.add(tf.keras.layers.Dense(300, activation='relu'))\n",
    "\n",
    "# Batch Normalisation Layer\n",
    "\n",
    "model_6.add(tf.keras.layers.BatchNormalization())\n",
    "\n",
    "model_6.add(tf.keras.layers.Dense(10, activation='softmax'))\n",
    "\n",
    "# Compiling the Model\n",
    "\n",
    "model_6.compile(loss=tf.keras.losses.SparseCategoricalCrossentropy(),\n",
    "                optimizer=tf.keras.optimizers.Adam(),\n",
    "                metrics=['accuracy'])\n",
    "\n",
    "# Introducing Early Stop\n",
    "\n",
    "early_stop = tf.keras.callbacks.EarlyStopping(monitor='val_loss',patience=2)\n",
    "\n",
    "# Training \n",
    "\n",
    "tf.random.set_seed(100)\n",
    "\n",
    "# Validation Split , Callbacks \n",
    "\n",
    "hist_6 = model_6.fit(X_train,y_train,epochs=10, validation_split=0.2, callbacks=[early_stop])\n",
    "pd.DataFrame(hist_6.history).plot();\n",
    "\n",
    "# Evaluation\n",
    "\n",
    "print('\\n\\n')\n",
    "print('Evaluation Result 6')\n",
    "\n",
    "model_6.evaluate(X_test, y_test)"
   ]
  },
  {
   "cell_type": "markdown",
   "metadata": {
    "id": "4Gu04hFH6lj9"
   },
   "source": [
    "## **Remark 6:**\n",
    "\n",
    "1. Basic Model: Training Loss = 0.1852, Test Loss = 0.3103 (Overfitting)\n",
    "\n",
    "2. Normalised Model: Training Loss = 0.0170, Test Loss = 0.1470 (Model improved, Overfitting)\n",
    "\n",
    "3. Model with Validation: Training Loss = 0.1481 , Test Loss = 0.1403 (Model improved, Overfitting)\n",
    "\n",
    "4. Model with Dropout: Training Loss = 0.0246 , Test Loss =  0.1475 (Model Not improved, Retain the third Model model_3)\n",
    "\n",
    "5. Model with Early Stop: Training Loss = 0.0237, Test Loss = 0.1281 (Model Improved, Retain the model)\n",
    "\n",
    "6. Model with Batch Normalization: Training Loss = 0.0458, Test Loss = 0.1565 (Model Not improved, So Retain the Model 5, model_5)"
   ]
  },
  {
   "cell_type": "markdown",
   "metadata": {
    "id": "pNdFur9p7ehp"
   },
   "source": [
    "## **7. Model with 2 Hidden Layers**\n",
    "\n",
    "Taking model 5 and renaming it as model 7"
   ]
  },
  {
   "cell_type": "code",
   "execution_count": 34,
   "metadata": {
    "colab": {
     "base_uri": "https://localhost:8080/",
     "height": 577
    },
    "executionInfo": {
     "elapsed": 44342,
     "status": "ok",
     "timestamp": 1675237553570,
     "user": {
      "displayName": "Adithya Vinod",
      "userId": "06561846904279351931"
     },
     "user_tz": -330
    },
    "id": "pyDWLzoE6UqG",
    "outputId": "ff58327d-61b4-4a5b-9f94-1a619c5a06c2"
   },
   "outputs": [
    {
     "name": "stdout",
     "output_type": "stream",
     "text": [
      "Epoch 1/10\n",
      "1500/1500 [==============================] - 8s 5ms/step - loss: 0.2250 - accuracy: 0.9337 - val_loss: 0.1441 - val_accuracy: 0.9581\n",
      "Epoch 2/10\n",
      "1500/1500 [==============================] - 7s 5ms/step - loss: 0.0938 - accuracy: 0.9718 - val_loss: 0.1103 - val_accuracy: 0.9692\n",
      "Epoch 3/10\n",
      "1500/1500 [==============================] - 7s 5ms/step - loss: 0.0661 - accuracy: 0.9809 - val_loss: 0.1001 - val_accuracy: 0.9718\n",
      "Epoch 4/10\n",
      "1500/1500 [==============================] - 7s 5ms/step - loss: 0.0479 - accuracy: 0.9847 - val_loss: 0.0990 - val_accuracy: 0.9754\n",
      "Epoch 5/10\n",
      "1500/1500 [==============================] - 7s 4ms/step - loss: 0.0372 - accuracy: 0.9882 - val_loss: 0.1237 - val_accuracy: 0.9688\n",
      "Epoch 6/10\n",
      "1500/1500 [==============================] - 6s 4ms/step - loss: 0.0356 - accuracy: 0.9891 - val_loss: 0.1329 - val_accuracy: 0.9712\n",
      "\n",
      "\n",
      "\n",
      "Evaluation Result 7\n",
      "313/313 [==============================] - 1s 2ms/step - loss: 0.1289 - accuracy: 0.9710\n"
     ]
    },
    {
     "data": {
      "text/plain": [
       "[0.12887224555015564, 0.9710000157356262]"
      ]
     },
     "execution_count": 34,
     "metadata": {},
     "output_type": "execute_result"
    },
    {
     "data": {
      "image/png": "[encoded data removed]",
      "text/plain": [
       "<Figure size 432x288 with 1 Axes>"
      ]
     },
     "metadata": {
      "needs_background": "light"
     },
     "output_type": "display_data"
    }
   ],
   "source": [
    "model_7 = tf.keras.Sequential()\n",
    "model_7.add(tf.keras.layers.Flatten()) # Flatten - Making a single dimension from 28X28 into 784X1\n",
    "model_7.add(tf.keras.layers.Dense(300, activation='relu'))\n",
    "\n",
    "# Adding one more layer \n",
    "\n",
    "model_7.add(tf.keras.layers.Dense(100, activation='relu'))\n",
    "\n",
    "model_7.add(tf.keras.layers.Dense(10, activation='softmax'))\n",
    "\n",
    "# Compiling the Model\n",
    "\n",
    "model_7.compile(loss=tf.keras.losses.SparseCategoricalCrossentropy(),\n",
    "                optimizer=tf.keras.optimizers.Adam(),\n",
    "                metrics=['accuracy'])\n",
    "\n",
    "# Introducing Early Stop\n",
    "\n",
    "early_stop = tf.keras.callbacks.EarlyStopping(monitor='val_loss',patience=2)\n",
    "\n",
    "# Training \n",
    "\n",
    "tf.random.set_seed(100)\n",
    "\n",
    "# Validation Split , Callbacks \n",
    "\n",
    "hist_7 = model_7.fit(X_train,y_train,epochs=10, validation_split=0.2, callbacks=[early_stop])\n",
    "pd.DataFrame(hist_7.history).plot();\n",
    "\n",
    "# Evaluation\n",
    "\n",
    "print('\\n\\n')\n",
    "print('Evaluation Result 7')\n",
    "\n",
    "model_7.evaluate(X_test, y_test)"
   ]
  },
  {
   "cell_type": "markdown",
   "metadata": {
    "id": "V1nHWW7k8IX6"
   },
   "source": [
    "## **Remark 7:**\n",
    "\n",
    "1. Basic Model: Training Loss = 0.1852, Test Loss = 0.3103 (Overfitting)\n",
    "\n",
    "2. Normalised Model: Training Loss = 0.0170, Test Loss = 0.1470 (Model improved, Overfitting)\n",
    "\n",
    "3. Model with Validation: Training Loss = 0.1481 , Test Loss = 0.1403 (Model imporoved, Overfitting)\n",
    "\n",
    "4. Model with Dropout: Training Loss = 0.0246 , Test Loss =  0.1475 (Model Not imporoved, Retain the third Model model_3)\n",
    "\n",
    "5. Model with Early Stop: Training Loss = 0.0237, Test Loss = 0.1281 (Model Improved, Retain the model)\n",
    "\n",
    "6. Model with Batch Normalization: Training Loss = 0.0458, Test Loss = 0.1565 (Model Not improved, So Retain the Model 5, model_5)\n",
    "\n",
    "7. Model with 2 Hidden Layers: Training Loss = 0.0356 , Test Loss = 0.01289 (Model Not improved, Retain the Model 5, model_5)"
   ]
  },
  {
   "cell_type": "markdown",
   "metadata": {
    "id": "vfaaSZwA8_Eq"
   },
   "source": [
    "## **8. Trying Model 5 with 2 Hidden Layers and more units in the 2nd Layer**\n",
    "\n",
    "model 5 renamed as model 8, 2nd Hidden Layer units increased from 100 to 200"
   ]
  },
  {
   "cell_type": "code",
   "execution_count": 36,
   "metadata": {
    "colab": {
     "base_uri": "https://localhost:8080/",
     "height": 508
    },
    "executionInfo": {
     "elapsed": 43424,
     "status": "ok",
     "timestamp": 1675237813465,
     "user": {
      "displayName": "Adithya Vinod",
      "userId": "06561846904279351931"
     },
     "user_tz": -330
    },
    "id": "33xIkpYS75qc",
    "outputId": "11be0622-f6a9-4df6-9204-76b265b7724b"
   },
   "outputs": [
    {
     "name": "stdout",
     "output_type": "stream",
     "text": [
      "Epoch 1/10\n",
      "1500/1500 [==============================] - 8s 5ms/step - loss: 0.2238 - accuracy: 0.9339 - val_loss: 0.1479 - val_accuracy: 0.9568\n",
      "Epoch 2/10\n",
      "1500/1500 [==============================] - 10s 6ms/step - loss: 0.0930 - accuracy: 0.9725 - val_loss: 0.1058 - val_accuracy: 0.9691\n",
      "Epoch 3/10\n",
      "1500/1500 [==============================] - 11s 7ms/step - loss: 0.0628 - accuracy: 0.9804 - val_loss: 0.1107 - val_accuracy: 0.9688\n",
      "Epoch 4/10\n",
      "1500/1500 [==============================] - 10s 7ms/step - loss: 0.0512 - accuracy: 0.9840 - val_loss: 0.1123 - val_accuracy: 0.9721\n",
      "\n",
      "\n",
      "\n",
      "Evaluation Result 8\n",
      "313/313 [==============================] - 1s 3ms/step - loss: 0.1105 - accuracy: 0.9719\n"
     ]
    },
    {
     "data": {
      "text/plain": [
       "[0.11052156984806061, 0.9718999862670898]"
      ]
     },
     "execution_count": 36,
     "metadata": {},
     "output_type": "execute_result"
    },
    {
     "data": {
      "image/png": "[encoded data removed]",
      "text/plain": [
       "<Figure size 432x288 with 1 Axes>"
      ]
     },
     "metadata": {
      "needs_background": "light"
     },
     "output_type": "display_data"
    }
   ],
   "source": [
    "model_8 = tf.keras.Sequential()\n",
    "model_8.add(tf.keras.layers.Flatten()) # Flatten - Making a single dimension from 28X28 into 784X1\n",
    "model_8.add(tf.keras.layers.Dense(300, activation='relu'))\n",
    "\n",
    "# Adding one more layer \n",
    "\n",
    "model_8.add(tf.keras.layers.Dense(200, activation='relu'))\n",
    "\n",
    "model_8.add(tf.keras.layers.Dense(10, activation='softmax'))\n",
    "\n",
    "# Compiling the Model\n",
    "\n",
    "model_8.compile(loss=tf.keras.losses.SparseCategoricalCrossentropy(),\n",
    "                optimizer=tf.keras.optimizers.Adam(),\n",
    "                metrics=['accuracy'])\n",
    "\n",
    "# Introducing Early Stop\n",
    "\n",
    "early_stop = tf.keras.callbacks.EarlyStopping(monitor='val_loss',patience=2)\n",
    "\n",
    "# Training \n",
    "\n",
    "tf.random.set_seed(100)\n",
    "\n",
    "# Validation Split , Callbacks \n",
    "\n",
    "hist_8 = model_8.fit(X_train,y_train,epochs=10, validation_split=0.2, callbacks=[early_stop])\n",
    "pd.DataFrame(hist_8.history).plot();\n",
    "\n",
    "# Evaluation\n",
    "\n",
    "print('\\n\\n')\n",
    "print('Evaluation Result 8')\n",
    "\n",
    "model_8.evaluate(X_test, y_test)"
   ]
  },
  {
   "cell_type": "markdown",
   "metadata": {
    "id": "wl4fIe3f9UAf"
   },
   "source": [
    "## **Remark 8:**\n",
    "\n",
    "1. Basic Model: Training Loss = 0.1852, Test Loss = 0.3103 (Overfitting)\n",
    "\n",
    "2. Normalised Model: Training Loss = 0.0170, Test Loss = 0.1470 (Model improved, Overfitting)\n",
    "\n",
    "3. Model with Validation: Training Loss = 0.1481 , Test Loss = 0.1403 (Model imporoved, Overfitting)\n",
    "\n",
    "4. Model with Dropout: Training Loss = 0.0246 , Test Loss =  0.1475 (Model Not imporoved, Retain the third Model model_3)\n",
    "\n",
    "5. Model with Early Stop: Training Loss = 0.0237, Test Loss = 0.1281 (Model Improved, Retain the model)\n",
    "\n",
    "6. Model with Batch Normalization: Training Loss = 0.0458, Test Loss = 0.1565 (Model Not improved, So Retain the Model 5, model_5)\n",
    "\n",
    "7. Model with 2 Hidden Layers: Training Loss = 0.0356 , Test Loss = 0.1289 (Model Not improved, Retain the Model 5, model_5)\n",
    "\n",
    "8. Model 8 with 2 Hidden Layers and more units: Training Loss = 0.0512 , Test Loss = 0.1105 (Model improved)"
   ]
  },
  {
   "cell_type": "markdown",
   "metadata": {
    "id": "g-qX4ehB9jo3"
   },
   "source": [
    "## **9. Trying Model 5 with only 1 Hidden Layer but with less units in the  Hidden Layer**\n",
    "\n",
    "model 5 renamed as model 9, Hidden Layer units reduced from 300 to 50"
   ]
  },
  {
   "cell_type": "code",
   "execution_count": 37,
   "metadata": {
    "colab": {
     "base_uri": "https://localhost:8080/",
     "height": 577
    },
    "executionInfo": {
     "elapsed": 42539,
     "status": "ok",
     "timestamp": 1675238085970,
     "user": {
      "displayName": "Adithya Vinod",
      "userId": "06561846904279351931"
     },
     "user_tz": -330
    },
    "id": "-8LJDNhk8sAK",
    "outputId": "6e17fc49-d9bd-4ffb-e10b-c1d3f2ba5b3f"
   },
   "outputs": [
    {
     "name": "stdout",
     "output_type": "stream",
     "text": [
      "Epoch 1/10\n",
      "1500/1500 [==============================] - 4s 2ms/step - loss: 0.3032 - accuracy: 0.9107 - val_loss: 0.1931 - val_accuracy: 0.9446\n",
      "Epoch 2/10\n",
      "1500/1500 [==============================] - 4s 2ms/step - loss: 0.1429 - accuracy: 0.9583 - val_loss: 0.1376 - val_accuracy: 0.9595\n",
      "Epoch 3/10\n",
      "1500/1500 [==============================] - 3s 2ms/step - loss: 0.1015 - accuracy: 0.9700 - val_loss: 0.1305 - val_accuracy: 0.9607\n",
      "Epoch 4/10\n",
      "1500/1500 [==============================] - 3s 2ms/step - loss: 0.0816 - accuracy: 0.9754 - val_loss: 0.1230 - val_accuracy: 0.9641\n",
      "Epoch 5/10\n",
      "1500/1500 [==============================] - 4s 2ms/step - loss: 0.0637 - accuracy: 0.9805 - val_loss: 0.1248 - val_accuracy: 0.9664\n",
      "Epoch 6/10\n",
      "1500/1500 [==============================] - 4s 2ms/step - loss: 0.0548 - accuracy: 0.9828 - val_loss: 0.1286 - val_accuracy: 0.9643\n",
      "\n",
      "\n",
      "\n",
      "Evaluation Result 9\n",
      "313/313 [==============================] - 1s 1ms/step - loss: 0.1277 - accuracy: 0.9656\n"
     ]
    },
    {
     "data": {
      "text/plain": [
       "[0.12774796783924103, 0.9656000137329102]"
      ]
     },
     "execution_count": 37,
     "metadata": {},
     "output_type": "execute_result"
    },
    {
     "data": {
      "image/png": "[encoded data removed]",
      "text/plain": [
       "<Figure size 432x288 with 1 Axes>"
      ]
     },
     "metadata": {
      "needs_background": "light"
     },
     "output_type": "display_data"
    }
   ],
   "source": [
    "model_9 = tf.keras.Sequential()\n",
    "model_9.add(tf.keras.layers.Flatten()) # Flatten - Making a single dimension from 28X28 into 784X1\n",
    "\n",
    "# Reducing number of units from 300 to 50\n",
    "\n",
    "model_9.add(tf.keras.layers.Dense(50, activation='relu'))\n",
    "\n",
    "model_9.add(tf.keras.layers.Dense(10, activation='softmax'))\n",
    "\n",
    "# Compiling the Model\n",
    "\n",
    "model_9.compile(loss=tf.keras.losses.SparseCategoricalCrossentropy(),\n",
    "                optimizer=tf.keras.optimizers.Adam(),\n",
    "                metrics=['accuracy'])\n",
    "\n",
    "# Introducing Early Stop\n",
    "\n",
    "early_stop = tf.keras.callbacks.EarlyStopping(monitor='val_loss',patience=2)\n",
    "\n",
    "# Training \n",
    "\n",
    "tf.random.set_seed(100)\n",
    "\n",
    "# Validation Split , Callbacks \n",
    "\n",
    "hist_9 = model_9.fit(X_train,y_train,epochs=10, validation_split=0.2, callbacks=[early_stop])\n",
    "pd.DataFrame(hist_9.history).plot();\n",
    "\n",
    "# Evaluation\n",
    "\n",
    "print('\\n\\n')\n",
    "print('Evaluation Result 9')\n",
    "\n",
    "model_9.evaluate(X_test, y_test)"
   ]
  },
  {
   "cell_type": "markdown",
   "metadata": {
    "id": "b-HA5_Yz-ISJ"
   },
   "source": [
    "## **Remark 9:**\n",
    "\n",
    "1. Basic Model: Training Loss = 0.1852, Test Loss = 0.3103 (Overfitting)\n",
    "\n",
    "2. Normalised Model: Training Loss = 0.0170, Test Loss = 0.1470 (Model improved, Overfitting)\n",
    "\n",
    "3. Model with Validation: Training Loss = 0.1481 , Test Loss = 0.1403 (Model imporoved, Overfitting)\n",
    "\n",
    "4. Model with Dropout: Training Loss = 0.0246 , Test Loss =  0.1475 (Model Not imporoved, Retain the third Model model_3)\n",
    "\n",
    "5. Model with Early Stop: Training Loss = 0.0237, Test Loss = 0.1281 (Model Improved, Retain the model)\n",
    "\n",
    "6. Model with Batch Normalization: Training Loss = 0.0458, Test Loss = 0.1565 (Model Not improved, So Retain the Model 5, model_5)\n",
    "\n",
    "7. Model with 2 Hidden Layers: Training Loss = 0.0356 , Test Loss = 0.1289 (Model Not improved, Retain the Model 5, model_5)\n",
    "\n",
    "8. Model 8 with 2 Hidden Layers and more units: Training Loss = 0.0512 , Test Loss = 0.1105 (Model improved)\n",
    "\n",
    "9. Model 9 with 1 Hidden Layer but lesser units: Training Loss = 0.0548 , Test Loss = 0.1277 (Model Not improved, Retain model 8)\n"
   ]
  },
  {
   "cell_type": "markdown",
   "metadata": {
    "id": "dvcBaAt7-l0G"
   },
   "source": [
    "# **BEST Model - MODEL 8**"
   ]
  },
  {
   "cell_type": "markdown",
   "metadata": {
    "id": "3xixPwSN-qGT"
   },
   "source": [
    "## **Saving the Model**"
   ]
  },
  {
   "cell_type": "code",
   "execution_count": 38,
   "metadata": {
    "executionInfo": {
     "elapsed": 387,
     "status": "ok",
     "timestamp": 1675238260202,
     "user": {
      "displayName": "Adithya Vinod",
      "userId": "06561846904279351931"
     },
     "user_tz": -330
    },
    "id": "stV0I6iA9-g9"
   },
   "outputs": [],
   "source": [
    "model_8.save('best_mnist_model.h5')"
   ]
  },
  {
   "cell_type": "markdown",
   "metadata": {
    "id": "rsvM2xet_Bhd"
   },
   "source": [
    "## **Loading the Model**"
   ]
  },
  {
   "cell_type": "code",
   "execution_count": 39,
   "metadata": {
    "executionInfo": {
     "elapsed": 524,
     "status": "ok",
     "timestamp": 1675238392933,
     "user": {
      "displayName": "Adithya Vinod",
      "userId": "06561846904279351931"
     },
     "user_tz": -330
    },
    "id": "9na7R_m2-zcZ"
   },
   "outputs": [],
   "source": [
    "my_mnist = tf.keras.models.load_model('best_mnist_model.h5')"
   ]
  },
  {
   "cell_type": "code",
   "execution_count": 40,
   "metadata": {
    "colab": {
     "base_uri": "https://localhost:8080/"
    },
    "executionInfo": {
     "elapsed": 2415,
     "status": "ok",
     "timestamp": 1675238430508,
     "user": {
      "displayName": "Adithya Vinod",
      "userId": "06561846904279351931"
     },
     "user_tz": -330
    },
    "id": "ztr4o-cP_Tt1",
    "outputId": "4f3eb4c7-08ef-413d-c1cc-072a9e5c0ec6"
   },
   "outputs": [
    {
     "name": "stdout",
     "output_type": "stream",
     "text": [
      "313/313 [==============================] - 2s 4ms/step - loss: 0.1105 - accuracy: 0.9719\n"
     ]
    },
    {
     "data": {
      "text/plain": [
       "[0.11052156984806061, 0.9718999862670898]"
      ]
     },
     "execution_count": 40,
     "metadata": {},
     "output_type": "execute_result"
    }
   ],
   "source": [
    "my_mnist.evaluate(X_test,y_test)"
   ]
  },
  {
   "cell_type": "code",
   "execution_count": null,
   "metadata": {
    "id": "1mCHf-Rb_clX"
   },
   "outputs": [],
   "source": []
  }
 ],
 "metadata": {
  "colab": {
   "authorship_tag": "ABX9TyP1+1MVCUe/1n2gjAtDj7Zv",
   "provenance": []
  },
  "kernelspec": {
   "display_name": "Python 3 (ipykernel)",
   "language": "python",
   "name": "python3"
  },
  "language_info": {
   "codemirror_mode": {
    "name": "ipython",
    "version": 3
   },
   "file_extension": ".py",
   "mimetype": "text/x-python",
   "name": "python",
   "nbconvert_exporter": "python",
   "pygments_lexer": "ipython3",
   "version": "3.9.13"
  }
 },
 "nbformat": 4,
 "nbformat_minor": 1
}
