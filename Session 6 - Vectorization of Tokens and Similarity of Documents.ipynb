{
 "cells": [
  {
   "cell_type": "markdown",
   "id": "553a489c",
   "metadata": {},
   "source": [
    "# Vectorization of tokens and similarity of documents "
   ]
  },
  {
   "cell_type": "markdown",
   "id": "1dab9fb9",
   "metadata": {},
   "source": [
    "Vextorization is representation of tokens in the vector format \n",
    "\n",
    "Formats used for the same is\n",
    "\n",
    "     1. Bag of Words \n",
    "     \n",
    "     2. TFIDF - Time Frequency Inverse Document Frequency"
   ]
  },
  {
   "cell_type": "code",
   "execution_count": 1,
   "id": "72c2a615",
   "metadata": {},
   "outputs": [
    {
     "name": "stdout",
     "output_type": "stream",
     "text": [
      "Requirement already satisfied: gensim in c:\\users\\adithya\\anaconda3\\lib\\site-packages (4.1.2)\n",
      "Requirement already satisfied: numpy>=1.17.0 in c:\\users\\adithya\\anaconda3\\lib\\site-packages (from gensim) (1.21.5)\n",
      "Requirement already satisfied: scipy>=0.18.1 in c:\\users\\adithya\\anaconda3\\lib\\site-packages (from gensim) (1.7.3)\n",
      "Requirement already satisfied: smart-open>=1.8.1 in c:\\users\\adithya\\anaconda3\\lib\\site-packages (from gensim) (6.3.0)\n"
     ]
    },
    {
     "name": "stderr",
     "output_type": "stream",
     "text": [
      "\n",
      "[notice] A new release of pip available: 22.3.1 -> 23.0\n",
      "[notice] To update, run: python.exe -m pip install --upgrade pip\n"
     ]
    }
   ],
   "source": [
    "! pip install gensim"
   ]
  },
  {
   "cell_type": "code",
   "execution_count": 2,
   "id": "e2574e2b",
   "metadata": {},
   "outputs": [],
   "source": [
    "import gensim \n",
    "import spacy \n",
    "\n",
    "nlp = spacy.load('en_core_web_sm')"
   ]
  },
  {
   "cell_type": "markdown",
   "id": "326d15f4",
   "metadata": {},
   "source": [
    "## Create Documents "
   ]
  },
  {
   "cell_type": "code",
   "execution_count": 4,
   "id": "3be53b23",
   "metadata": {},
   "outputs": [],
   "source": [
    "doc_1 = nlp('''Chat GPT is a highly popular AI-based program that people use for generating dialogues. The chatbot has a language-based model that the developer fine-tunes for human interaction in a conversational manner. \n",
    "\n",
    "It’s a simulated chatbot primarily designed for customer service; people use it for various other purposes. But what is it? If you are new to this Chat GPT, this guide is for you, so continue reading. \n",
    "\n",
    "What’s Chat GPT?\n",
    "Chat GPT is an AI chatbot auto-generative system created by Open AI for online customer care. It is a pre-trained generative chat, which makes use of (NLP) Natural Language Processing. The source of its data is textbooks, websites, and various articles, which it uses to model its own language for responding to human interaction.''')"
   ]
  },
  {
   "cell_type": "code",
   "execution_count": 5,
   "id": "ac2dc10c",
   "metadata": {},
   "outputs": [
    {
     "data": {
      "text/plain": [
       "Chat GPT is a highly popular AI-based program that people use for generating dialogues. The chatbot has a language-based model that the developer fine-tunes for human interaction in a conversational manner. \n",
       "\n",
       "It’s a simulated chatbot primarily designed for customer service; people use it for various other purposes. But what is it? If you are new to this Chat GPT, this guide is for you, so continue reading. \n",
       "\n",
       "What’s Chat GPT?\n",
       "Chat GPT is an AI chatbot auto-generative system created by Open AI for online customer care. It is a pre-trained generative chat, which makes use of (NLP) Natural Language Processing. The source of its data is textbooks, websites, and various articles, which it uses to model its own language for responding to human interaction."
      ]
     },
     "execution_count": 5,
     "metadata": {},
     "output_type": "execute_result"
    }
   ],
   "source": [
    "doc_1"
   ]
  },
  {
   "cell_type": "code",
   "execution_count": 6,
   "id": "56fa4c3f",
   "metadata": {},
   "outputs": [],
   "source": [
    "doc_2 = nlp('''Everyone has an opinion about Chat-GPT and AI. Engineers and entrepreneurs see it as a new frontier: a bold new world to invent products, services, and solutions. Social scientists and journalists are worried, with one prominent NYT author Ezra Klein calling it an “information warfare machine.” What has god wrought?\n",
    "\n",
    "Let me just say up front, I see enormous possibilities here. And as with all new technologies, we cannot fully predict the impact quite yet. There will be problems and failures, but the ultimate story is “hooray.”\n",
    "\n",
    "What Is Chat-GPT?\n",
    "\n",
    "To put it quite simply, this technology (and there are many others like it) is what is often called a “language machine” that uses statistics, reinforcement learning, and supervised learning to index words, phrases, and sentences. While it has no real “intelligence” (it doesn’t know what a word “means” but it knows how it is used), it can very effectively answer questions, write articles, summarize information, and more.''')"
   ]
  },
  {
   "cell_type": "code",
   "execution_count": 7,
   "id": "7048a446",
   "metadata": {},
   "outputs": [
    {
     "data": {
      "text/plain": [
       "Everyone has an opinion about Chat-GPT and AI. Engineers and entrepreneurs see it as a new frontier: a bold new world to invent products, services, and solutions. Social scientists and journalists are worried, with one prominent NYT author Ezra Klein calling it an “information warfare machine.” What has god wrought?\n",
       "\n",
       "Let me just say up front, I see enormous possibilities here. And as with all new technologies, we cannot fully predict the impact quite yet. There will be problems and failures, but the ultimate story is “hooray.”\n",
       "\n",
       "What Is Chat-GPT?\n",
       "\n",
       "To put it quite simply, this technology (and there are many others like it) is what is often called a “language machine” that uses statistics, reinforcement learning, and supervised learning to index words, phrases, and sentences. While it has no real “intelligence” (it doesn’t know what a word “means” but it knows how it is used), it can very effectively answer questions, write articles, summarize information, and more."
      ]
     },
     "execution_count": 7,
     "metadata": {},
     "output_type": "execute_result"
    }
   ],
   "source": [
    "doc_2"
   ]
  },
  {
   "cell_type": "code",
   "execution_count": 8,
   "id": "eaae1487",
   "metadata": {},
   "outputs": [],
   "source": [
    "doc_3 = nlp('''1 – ChatGPT can help you with copying, pasting or summarizing articles for blogs, magazines and even students homework.\n",
    "\n",
    "2 – ChatGPT can write scripts or code for you. It can even answer more qualitative questions such as, “what is the best way to loop in a program?”\n",
    "\n",
    "3 – ChatGTP can help you with your planning. It can create a schedule for you ahead of time by keeping all pros & cons in consideration and suggest the best way forward.\n",
    "\n",
    "Not to forget that one of OpenAI founders was the world’s richest man, Elon Musk. His recent tweet about ChatGPT is a proof that this development is going to change the world soon.''')"
   ]
  },
  {
   "cell_type": "code",
   "execution_count": 9,
   "id": "d405bba2",
   "metadata": {},
   "outputs": [
    {
     "data": {
      "text/plain": [
       "1 – ChatGPT can help you with copying, pasting or summarizing articles for blogs, magazines and even students homework.\n",
       "\n",
       "2 – ChatGPT can write scripts or code for you. It can even answer more qualitative questions such as, “what is the best way to loop in a program?”\n",
       "\n",
       "3 – ChatGTP can help you with your planning. It can create a schedule for you ahead of time by keeping all pros & cons in consideration and suggest the best way forward.\n",
       "\n",
       "Not to forget that one of OpenAI founders was the world’s richest man, Elon Musk. His recent tweet about ChatGPT is a proof that this development is going to change the world soon."
      ]
     },
     "execution_count": 9,
     "metadata": {},
     "output_type": "execute_result"
    }
   ],
   "source": [
    "doc_3"
   ]
  },
  {
   "cell_type": "code",
   "execution_count": 10,
   "id": "42ca1807",
   "metadata": {},
   "outputs": [],
   "source": [
    "doc_4 = ('''In a world where we can get almost anything with a push or a click, it is no surprise that we have shifted a lot of our social activity to digital space, like chat rooms. People craving social contact can log onto a variety of chat rooms to chat with others who want the same thing. As with every online option, there are advantages and disadvantages to choosing virtual socializing, like chat rooms, over in person. What are chat rooms pros and cons?\n",
    "\n",
    "Not having someone to chat with can be extremely difficult. Sometimes it feels like your friends and family don't understand what you are going through or don't have enough time to chat. Or you might value their perspective but worry about being a burden. Perhaps you have something personal you want to share but don't feel like you can do so with the people you're close to. Or maybe you are someone who doesn't have a ton of friends. At these times and others, online chat rooms can be appealing. However, not everyone has the same experience - or gets the same benefits - when they visit chat rooms.\n",
    "\n",
    "Some Of The Pros And Cons Of Online Chat Rooms\n",
    "\n",
    "Most chat rooms offer anonymity, which can give us the confidence to chat about things we wouldn't normally share with people we know \"in real life\" (IRL). It can be easier to open up to people that we meet online in settings like chat rooms, but should we? Let's take a look at some pros and cons.''')"
   ]
  },
  {
   "cell_type": "code",
   "execution_count": 11,
   "id": "5992a33b",
   "metadata": {},
   "outputs": [
    {
     "data": {
      "text/plain": [
       "'In a world where we can get almost anything with a push or a click, it is no surprise that we have shifted a lot of our social activity to digital space, like chat rooms. People craving social contact can log onto a variety of chat rooms to chat with others who want the same thing. As with every online option, there are advantages and disadvantages to choosing virtual socializing, like chat rooms, over in person. What are chat rooms pros and cons?\\n\\nNot having someone to chat with can be extremely difficult. Sometimes it feels like your friends and family don\\'t understand what you are going through or don\\'t have enough time to chat. Or you might value their perspective but worry about being a burden. Perhaps you have something personal you want to share but don\\'t feel like you can do so with the people you\\'re close to. Or maybe you are someone who doesn\\'t have a ton of friends. At these times and others, online chat rooms can be appealing. However, not everyone has the same experience - or gets the same benefits - when they visit chat rooms.\\n\\nSome Of The Pros And Cons Of Online Chat Rooms\\n\\nMost chat rooms offer anonymity, which can give us the confidence to chat about things we wouldn\\'t normally share with people we know \"in real life\" (IRL). It can be easier to open up to people that we meet online in settings like chat rooms, but should we? Let\\'s take a look at some pros and cons.'"
      ]
     },
     "execution_count": 11,
     "metadata": {},
     "output_type": "execute_result"
    }
   ],
   "source": [
    "doc_4"
   ]
  },
  {
   "cell_type": "markdown",
   "id": "644ba167",
   "metadata": {},
   "source": [
    "## Creating a list of documents "
   ]
  },
  {
   "cell_type": "code",
   "execution_count": 12,
   "id": "1dd142fe",
   "metadata": {},
   "outputs": [],
   "source": [
    "docs = [doc_1,doc_2,doc_3,doc_4]"
   ]
  },
  {
   "cell_type": "code",
   "execution_count": 13,
   "id": "a259558d",
   "metadata": {},
   "outputs": [
    {
     "data": {
      "text/plain": [
       "[Chat GPT is a highly popular AI-based program that people use for generating dialogues. The chatbot has a language-based model that the developer fine-tunes for human interaction in a conversational manner. \n",
       " \n",
       " It’s a simulated chatbot primarily designed for customer service; people use it for various other purposes. But what is it? If you are new to this Chat GPT, this guide is for you, so continue reading. \n",
       " \n",
       " What’s Chat GPT?\n",
       " Chat GPT is an AI chatbot auto-generative system created by Open AI for online customer care. It is a pre-trained generative chat, which makes use of (NLP) Natural Language Processing. The source of its data is textbooks, websites, and various articles, which it uses to model its own language for responding to human interaction.,\n",
       " Everyone has an opinion about Chat-GPT and AI. Engineers and entrepreneurs see it as a new frontier: a bold new world to invent products, services, and solutions. Social scientists and journalists are worried, with one prominent NYT author Ezra Klein calling it an “information warfare machine.” What has god wrought?\n",
       " \n",
       " Let me just say up front, I see enormous possibilities here. And as with all new technologies, we cannot fully predict the impact quite yet. There will be problems and failures, but the ultimate story is “hooray.”\n",
       " \n",
       " What Is Chat-GPT?\n",
       " \n",
       " To put it quite simply, this technology (and there are many others like it) is what is often called a “language machine” that uses statistics, reinforcement learning, and supervised learning to index words, phrases, and sentences. While it has no real “intelligence” (it doesn’t know what a word “means” but it knows how it is used), it can very effectively answer questions, write articles, summarize information, and more.,\n",
       " 1 – ChatGPT can help you with copying, pasting or summarizing articles for blogs, magazines and even students homework.\n",
       " \n",
       " 2 – ChatGPT can write scripts or code for you. It can even answer more qualitative questions such as, “what is the best way to loop in a program?”\n",
       " \n",
       " 3 – ChatGTP can help you with your planning. It can create a schedule for you ahead of time by keeping all pros & cons in consideration and suggest the best way forward.\n",
       " \n",
       " Not to forget that one of OpenAI founders was the world’s richest man, Elon Musk. His recent tweet about ChatGPT is a proof that this development is going to change the world soon.,\n",
       " 'In a world where we can get almost anything with a push or a click, it is no surprise that we have shifted a lot of our social activity to digital space, like chat rooms. People craving social contact can log onto a variety of chat rooms to chat with others who want the same thing. As with every online option, there are advantages and disadvantages to choosing virtual socializing, like chat rooms, over in person. What are chat rooms pros and cons?\\n\\nNot having someone to chat with can be extremely difficult. Sometimes it feels like your friends and family don\\'t understand what you are going through or don\\'t have enough time to chat. Or you might value their perspective but worry about being a burden. Perhaps you have something personal you want to share but don\\'t feel like you can do so with the people you\\'re close to. Or maybe you are someone who doesn\\'t have a ton of friends. At these times and others, online chat rooms can be appealing. However, not everyone has the same experience - or gets the same benefits - when they visit chat rooms.\\n\\nSome Of The Pros And Cons Of Online Chat Rooms\\n\\nMost chat rooms offer anonymity, which can give us the confidence to chat about things we wouldn\\'t normally share with people we know \"in real life\" (IRL). It can be easier to open up to people that we meet online in settings like chat rooms, but should we? Let\\'s take a look at some pros and cons.']"
      ]
     },
     "execution_count": 13,
     "metadata": {},
     "output_type": "execute_result"
    }
   ],
   "source": [
    "docs"
   ]
  },
  {
   "cell_type": "markdown",
   "id": "6663eaeb",
   "metadata": {},
   "source": [
    "## Choosing Tokens "
   ]
  },
  {
   "cell_type": "code",
   "execution_count": 14,
   "id": "aaee4a8e",
   "metadata": {},
   "outputs": [],
   "source": [
    "texts = []\n",
    "\n",
    "for document in docs:\n",
    "    doc = nlp(document)\n",
    "    text=[]\n",
    "    for token in doc:\n",
    "        if not token.is_stop and not token.is_punct and not token.like_num:\n",
    "            text.append(token.lemma_) # root form\n",
    "            \n",
    "    texts.append(text)"
   ]
  },
  {
   "cell_type": "code",
   "execution_count": 15,
   "id": "c5560fc0",
   "metadata": {},
   "outputs": [
    {
     "name": "stdout",
     "output_type": "stream",
     "text": [
      "[['Chat', 'GPT', 'highly', 'popular', 'AI', 'base', 'program', 'people', 'use', 'generating', 'dialogue', 'chatbot', 'language', 'base', 'model', 'developer', 'fine', 'tune', 'human', 'interaction', 'conversational', 'manner', '\\n\\n', 'simulated', 'chatbot', 'primarily', 'design', 'customer', 'service', 'people', 'use', 'purpose', 'new', 'Chat', 'GPT', 'guide', 'continue', 'read', '\\n\\n', 'Chat', 'GPT', '\\n', 'Chat', 'GPT', 'AI', 'chatbot', 'auto', 'generative', 'system', 'create', 'Open', 'AI', 'online', 'customer', 'care', 'pre', 'train', 'generative', 'chat', 'make', 'use', 'NLP', 'Natural', 'Language', 'Processing', 'source', 'data', 'textbook', 'website', 'article', 'use', 'model', 'language', 'respond', 'human', 'interaction'], ['opinion', 'Chat', 'GPT', 'AI', 'engineer', 'entrepreneur', 'new', 'frontier', 'bold', 'new', 'world', 'invent', 'product', 'service', 'solution', 'social', 'scientist', 'journalist', 'worried', 'prominent', 'nyt', 'author', 'Ezra', 'Klein', 'call', 'information', 'warfare', 'machine', 'god', 'work', '\\n\\n', 'let', 'enormous', 'possibility', 'new', 'technology', 'fully', 'predict', 'impact', 'problem', 'failure', 'ultimate', 'story', 'hooray', '\\n\\n', 'Chat', 'GPT', '\\n\\n', 'simply', 'technology', 'like', 'call', 'language', 'machine', 'use', 'statistic', 'reinforcement', 'learning', 'supervise', 'learning', 'index', 'word', 'phrase', 'sentence', 'real', 'intelligence', 'know', 'word', 'mean', 'know', 'effectively', 'answer', 'question', 'write', 'article', 'summarize', 'information'], ['chatgpt', 'help', 'copying', 'pasting', 'summarize', 'article', 'blog', 'magazine', 'student', 'homework', '\\n\\n', 'chatgpt', 'write', 'script', 'code', 'answer', 'qualitative', 'question', 'good', 'way', 'loop', 'program', '\\n\\n', 'chatgtp', 'help', 'planning', 'create', 'schedule', 'ahead', 'time', 'keep', 'pro', 'con', 'consideration', 'suggest', 'good', 'way', 'forward', '\\n\\n', 'forget', 'openai', 'founder', 'world', 'rich', 'man', 'Elon', 'Musk', 'recent', 'tweet', 'chatgpt', 'proof', 'development', 'go', 'change', 'world', 'soon'], ['world', 'push', 'click', 'surprise', 'shift', 'lot', 'social', 'activity', 'digital', 'space', 'like', 'chat', 'room', 'People', 'crave', 'social', 'contact', 'log', 'variety', 'chat', 'room', 'chat', 'want', 'thing', 'online', 'option', 'advantage', 'disadvantage', 'choose', 'virtual', 'socializing', 'like', 'chat', 'room', 'person', 'chat', 'room', 'pro', 'con', '\\n\\n', 'have', 'chat', 'extremely', 'difficult', 'feel', 'like', 'friend', 'family', 'understand', 'go', 'time', 'chat', 'value', 'perspective', 'worry', 'burden', 'personal', 'want', 'share', 'feel', 'like', 'people', 'close', 'maybe', 'ton', 'friend', 'time', 'online', 'chat', 'room', 'appeal', 'experience', 'get', 'benefit', 'visit', 'chat', 'room', '\\n\\n', 'Pros', 'Cons', 'Online', 'Chat', 'Rooms', '\\n\\n', 'chat', 'room', 'offer', 'anonymity', 'confidence', 'chat', 'thing', 'normally', 'share', 'people', 'know', 'real', 'life', 'IRL', 'easy', 'open', 'people', 'meet', 'online', 'setting', 'like', 'chat', 'room', 'let', 'look', 'pro', 'con']]\n"
     ]
    }
   ],
   "source": [
    "print(texts)"
   ]
  },
  {
   "cell_type": "code",
   "execution_count": 18,
   "id": "eb68ef8f",
   "metadata": {},
   "outputs": [
    {
     "name": "stdout",
     "output_type": "stream",
     "text": [
      "4\n"
     ]
    }
   ],
   "source": [
    "print(len(texts)) # 4 elements (docs) in the list - texts, so 4 "
   ]
  },
  {
   "cell_type": "code",
   "execution_count": 20,
   "id": "74caaa0a",
   "metadata": {},
   "outputs": [
    {
     "name": "stdout",
     "output_type": "stream",
     "text": [
      "76 77 56 111\n"
     ]
    }
   ],
   "source": [
    "print(len(texts[0]), len(texts[1]), len(texts[2]), len(texts[3])) \n",
    "\n",
    "# This will give the length of each doc in the list - 4 docs so 4 values showing length of each doc"
   ]
  },
  {
   "cell_type": "markdown",
   "id": "e8897265",
   "metadata": {},
   "source": [
    "## Creation of Corpus \n",
    "\n",
    "A corpus is a collection of document in a dictionary"
   ]
  },
  {
   "cell_type": "code",
   "execution_count": 22,
   "id": "ec85b4cf",
   "metadata": {},
   "outputs": [],
   "source": [
    "from gensim.corpora import Dictionary "
   ]
  },
  {
   "cell_type": "code",
   "execution_count": 23,
   "id": "10899427",
   "metadata": {},
   "outputs": [],
   "source": [
    "dict_1 = Dictionary(texts)"
   ]
  },
  {
   "cell_type": "code",
   "execution_count": 24,
   "id": "7ed60ff5",
   "metadata": {},
   "outputs": [
    {
     "data": {
      "text/plain": [
       "<gensim.corpora.dictionary.Dictionary at 0x1ee63413460>"
      ]
     },
     "execution_count": 24,
     "metadata": {},
     "output_type": "execute_result"
    }
   ],
   "source": [
    "dict_1"
   ]
  },
  {
   "cell_type": "code",
   "execution_count": 25,
   "id": "fca5de43",
   "metadata": {},
   "outputs": [],
   "source": [
    "# Respective object is created "
   ]
  },
  {
   "cell_type": "markdown",
   "id": "8562c10e",
   "metadata": {},
   "source": [
    "## Giving an ID to each Token"
   ]
  },
  {
   "cell_type": "code",
   "execution_count": 26,
   "id": "c6c7c411",
   "metadata": {},
   "outputs": [
    {
     "name": "stdout",
     "output_type": "stream",
     "text": [
      "{'\\n': 0, '\\n\\n': 1, 'AI': 2, 'Chat': 3, 'GPT': 4, 'Language': 5, 'NLP': 6, 'Natural': 7, 'Open': 8, 'Processing': 9, 'article': 10, 'auto': 11, 'base': 12, 'care': 13, 'chat': 14, 'chatbot': 15, 'continue': 16, 'conversational': 17, 'create': 18, 'customer': 19, 'data': 20, 'design': 21, 'developer': 22, 'dialogue': 23, 'fine': 24, 'generating': 25, 'generative': 26, 'guide': 27, 'highly': 28, 'human': 29, 'interaction': 30, 'language': 31, 'make': 32, 'manner': 33, 'model': 34, 'new': 35, 'online': 36, 'people': 37, 'popular': 38, 'pre': 39, 'primarily': 40, 'program': 41, 'purpose': 42, 'read': 43, 'respond': 44, 'service': 45, 'simulated': 46, 'source': 47, 'system': 48, 'textbook': 49, 'train': 50, 'tune': 51, 'use': 52, 'website': 53, 'Ezra': 54, 'Klein': 55, 'answer': 56, 'author': 57, 'bold': 58, 'call': 59, 'effectively': 60, 'engineer': 61, 'enormous': 62, 'entrepreneur': 63, 'failure': 64, 'frontier': 65, 'fully': 66, 'god': 67, 'hooray': 68, 'impact': 69, 'index': 70, 'information': 71, 'intelligence': 72, 'invent': 73, 'journalist': 74, 'know': 75, 'learning': 76, 'let': 77, 'like': 78, 'machine': 79, 'mean': 80, 'nyt': 81, 'opinion': 82, 'phrase': 83, 'possibility': 84, 'predict': 85, 'problem': 86, 'product': 87, 'prominent': 88, 'question': 89, 'real': 90, 'reinforcement': 91, 'scientist': 92, 'sentence': 93, 'simply': 94, 'social': 95, 'solution': 96, 'statistic': 97, 'story': 98, 'summarize': 99, 'supervise': 100, 'technology': 101, 'ultimate': 102, 'warfare': 103, 'word': 104, 'work': 105, 'world': 106, 'worried': 107, 'write': 108, 'Elon': 109, 'Musk': 110, 'ahead': 111, 'blog': 112, 'change': 113, 'chatgpt': 114, 'chatgtp': 115, 'code': 116, 'con': 117, 'consideration': 118, 'copying': 119, 'development': 120, 'forget': 121, 'forward': 122, 'founder': 123, 'go': 124, 'good': 125, 'help': 126, 'homework': 127, 'keep': 128, 'loop': 129, 'magazine': 130, 'man': 131, 'openai': 132, 'pasting': 133, 'planning': 134, 'pro': 135, 'proof': 136, 'qualitative': 137, 'recent': 138, 'rich': 139, 'schedule': 140, 'script': 141, 'soon': 142, 'student': 143, 'suggest': 144, 'time': 145, 'tweet': 146, 'way': 147, 'Cons': 148, 'IRL': 149, 'Online': 150, 'People': 151, 'Pros': 152, 'Rooms': 153, 'activity': 154, 'advantage': 155, 'anonymity': 156, 'appeal': 157, 'benefit': 158, 'burden': 159, 'choose': 160, 'click': 161, 'close': 162, 'confidence': 163, 'contact': 164, 'crave': 165, 'difficult': 166, 'digital': 167, 'disadvantage': 168, 'easy': 169, 'experience': 170, 'extremely': 171, 'family': 172, 'feel': 173, 'friend': 174, 'get': 175, 'have': 176, 'life': 177, 'log': 178, 'look': 179, 'lot': 180, 'maybe': 181, 'meet': 182, 'normally': 183, 'offer': 184, 'open': 185, 'option': 186, 'person': 187, 'personal': 188, 'perspective': 189, 'push': 190, 'room': 191, 'setting': 192, 'share': 193, 'shift': 194, 'socializing': 195, 'space': 196, 'surprise': 197, 'thing': 198, 'ton': 199, 'understand': 200, 'value': 201, 'variety': 202, 'virtual': 203, 'visit': 204, 'want': 205, 'worry': 206}\n"
     ]
    }
   ],
   "source": [
    "print(dict_1.token2id) # token2id - giving an ID to each token "
   ]
  },
  {
   "cell_type": "code",
   "execution_count": 27,
   "id": "8e83db98",
   "metadata": {},
   "outputs": [
    {
     "name": "stdout",
     "output_type": "stream",
     "text": [
      "207\n"
     ]
    }
   ],
   "source": [
    "print(len(dict_1))"
   ]
  },
  {
   "cell_type": "markdown",
   "id": "84bae9d8",
   "metadata": {},
   "source": [
    "## Bag of Words "
   ]
  },
  {
   "cell_type": "code",
   "execution_count": 28,
   "id": "57c07094",
   "metadata": {},
   "outputs": [],
   "source": [
    "bow_vec = [] # bow_vec - bag of words vector\n",
    "for token in texts:\n",
    "    bow_vec.append(dict_1.doc2bow(token))"
   ]
  },
  {
   "cell_type": "code",
   "execution_count": 29,
   "id": "4dced2d2",
   "metadata": {},
   "outputs": [
    {
     "name": "stdout",
     "output_type": "stream",
     "text": [
      "[[(0, 1), (1, 2), (2, 3), (3, 4), (4, 4), (5, 1), (6, 1), (7, 1), (8, 1), (9, 1), (10, 1), (11, 1), (12, 2), (13, 1), (14, 1), (15, 3), (16, 1), (17, 1), (18, 1), (19, 2), (20, 1), (21, 1), (22, 1), (23, 1), (24, 1), (25, 1), (26, 2), (27, 1), (28, 1), (29, 2), (30, 2), (31, 2), (32, 1), (33, 1), (34, 2), (35, 1), (36, 1), (37, 2), (38, 1), (39, 1), (40, 1), (41, 1), (42, 1), (43, 1), (44, 1), (45, 1), (46, 1), (47, 1), (48, 1), (49, 1), (50, 1), (51, 1), (52, 4), (53, 1)], [(1, 3), (2, 1), (3, 2), (4, 2), (10, 1), (31, 1), (35, 3), (45, 1), (52, 1), (54, 1), (55, 1), (56, 1), (57, 1), (58, 1), (59, 2), (60, 1), (61, 1), (62, 1), (63, 1), (64, 1), (65, 1), (66, 1), (67, 1), (68, 1), (69, 1), (70, 1), (71, 2), (72, 1), (73, 1), (74, 1), (75, 2), (76, 2), (77, 1), (78, 1), (79, 2), (80, 1), (81, 1), (82, 1), (83, 1), (84, 1), (85, 1), (86, 1), (87, 1), (88, 1), (89, 1), (90, 1), (91, 1), (92, 1), (93, 1), (94, 1), (95, 1), (96, 1), (97, 1), (98, 1), (99, 1), (100, 1), (101, 2), (102, 1), (103, 1), (104, 2), (105, 1), (106, 1), (107, 1), (108, 1)], [(1, 3), (10, 1), (18, 1), (41, 1), (56, 1), (89, 1), (99, 1), (106, 2), (108, 1), (109, 1), (110, 1), (111, 1), (112, 1), (113, 1), (114, 3), (115, 1), (116, 1), (117, 1), (118, 1), (119, 1), (120, 1), (121, 1), (122, 1), (123, 1), (124, 1), (125, 2), (126, 2), (127, 1), (128, 1), (129, 1), (130, 1), (131, 1), (132, 1), (133, 1), (134, 1), (135, 1), (136, 1), (137, 1), (138, 1), (139, 1), (140, 1), (141, 1), (142, 1), (143, 1), (144, 1), (145, 1), (146, 1), (147, 2)], [(1, 3), (3, 1), (14, 12), (36, 3), (37, 3), (75, 1), (77, 1), (78, 5), (90, 1), (95, 2), (106, 1), (117, 2), (124, 1), (135, 2), (145, 2), (148, 1), (149, 1), (150, 1), (151, 1), (152, 1), (153, 1), (154, 1), (155, 1), (156, 1), (157, 1), (158, 1), (159, 1), (160, 1), (161, 1), (162, 1), (163, 1), (164, 1), (165, 1), (166, 1), (167, 1), (168, 1), (169, 1), (170, 1), (171, 1), (172, 1), (173, 2), (174, 2), (175, 1), (176, 1), (177, 1), (178, 1), (179, 1), (180, 1), (181, 1), (182, 1), (183, 1), (184, 1), (185, 1), (186, 1), (187, 1), (188, 1), (189, 1), (190, 1), (191, 8), (192, 1), (193, 2), (194, 1), (195, 1), (196, 1), (197, 1), (198, 2), (199, 1), (200, 1), (201, 1), (202, 1), (203, 1), (204, 1), (205, 2), (206, 1)]]\n"
     ]
    }
   ],
   "source": [
    "print(bow_vec)"
   ]
  },
  {
   "cell_type": "code",
   "execution_count": 30,
   "id": "45adabbd",
   "metadata": {},
   "outputs": [
    {
     "name": "stdout",
     "output_type": "stream",
     "text": [
      "4\n"
     ]
    }
   ],
   "source": [
    "print(len(bow_vec))"
   ]
  },
  {
   "cell_type": "code",
   "execution_count": 31,
   "id": "001971fc",
   "metadata": {},
   "outputs": [
    {
     "name": "stdout",
     "output_type": "stream",
     "text": [
      "54 64 48 74\n"
     ]
    }
   ],
   "source": [
    "print(len(bow_vec[0]), len(bow_vec[1]), len(bow_vec[2]), len(bow_vec[3]))"
   ]
  },
  {
   "cell_type": "markdown",
   "id": "6ef6ce19",
   "metadata": {},
   "source": [
    "## Matrix Representation of the bow_vec"
   ]
  },
  {
   "cell_type": "code",
   "execution_count": 39,
   "id": "8f0136e2",
   "metadata": {},
   "outputs": [
    {
     "name": "stdout",
     "output_type": "stream",
     "text": [
      "[[ 1.  0.  0.  0.]\n",
      " [ 2.  3.  3.  3.]\n",
      " [ 3.  1.  0.  0.]\n",
      " [ 4.  2.  0.  1.]\n",
      " [ 4.  2.  0.  0.]\n",
      " [ 1.  0.  0.  0.]\n",
      " [ 1.  0.  0.  0.]\n",
      " [ 1.  0.  0.  0.]\n",
      " [ 1.  0.  0.  0.]\n",
      " [ 1.  0.  0.  0.]\n",
      " [ 1.  1.  1.  0.]\n",
      " [ 1.  0.  0.  0.]\n",
      " [ 2.  0.  0.  0.]\n",
      " [ 1.  0.  0.  0.]\n",
      " [ 1.  0.  0. 12.]\n",
      " [ 3.  0.  0.  0.]\n",
      " [ 1.  0.  0.  0.]\n",
      " [ 1.  0.  0.  0.]\n",
      " [ 1.  0.  1.  0.]\n",
      " [ 2.  0.  0.  0.]\n",
      " [ 1.  0.  0.  0.]\n",
      " [ 1.  0.  0.  0.]\n",
      " [ 1.  0.  0.  0.]\n",
      " [ 1.  0.  0.  0.]\n",
      " [ 1.  0.  0.  0.]\n",
      " [ 1.  0.  0.  0.]\n",
      " [ 2.  0.  0.  0.]\n",
      " [ 1.  0.  0.  0.]\n",
      " [ 1.  0.  0.  0.]\n",
      " [ 2.  0.  0.  0.]\n",
      " [ 2.  0.  0.  0.]\n",
      " [ 2.  1.  0.  0.]\n",
      " [ 1.  0.  0.  0.]\n",
      " [ 1.  0.  0.  0.]\n",
      " [ 2.  0.  0.  0.]\n",
      " [ 1.  3.  0.  0.]\n",
      " [ 1.  0.  0.  3.]\n",
      " [ 2.  0.  0.  3.]\n",
      " [ 1.  0.  0.  0.]\n",
      " [ 1.  0.  0.  0.]\n",
      " [ 1.  0.  0.  0.]\n",
      " [ 1.  0.  1.  0.]\n",
      " [ 1.  0.  0.  0.]\n",
      " [ 1.  0.  0.  0.]\n",
      " [ 1.  0.  0.  0.]\n",
      " [ 1.  1.  0.  0.]\n",
      " [ 1.  0.  0.  0.]\n",
      " [ 1.  0.  0.  0.]\n",
      " [ 1.  0.  0.  0.]\n",
      " [ 1.  0.  0.  0.]\n",
      " [ 1.  0.  0.  0.]\n",
      " [ 1.  0.  0.  0.]\n",
      " [ 4.  1.  0.  0.]\n",
      " [ 1.  0.  0.  0.]\n",
      " [ 0.  1.  0.  0.]\n",
      " [ 0.  1.  0.  0.]\n",
      " [ 0.  1.  1.  0.]\n",
      " [ 0.  1.  0.  0.]\n",
      " [ 0.  1.  0.  0.]\n",
      " [ 0.  2.  0.  0.]\n",
      " [ 0.  1.  0.  0.]\n",
      " [ 0.  1.  0.  0.]\n",
      " [ 0.  1.  0.  0.]\n",
      " [ 0.  1.  0.  0.]\n",
      " [ 0.  1.  0.  0.]\n",
      " [ 0.  1.  0.  0.]\n",
      " [ 0.  1.  0.  0.]\n",
      " [ 0.  1.  0.  0.]\n",
      " [ 0.  1.  0.  0.]\n",
      " [ 0.  1.  0.  0.]\n",
      " [ 0.  1.  0.  0.]\n",
      " [ 0.  2.  0.  0.]\n",
      " [ 0.  1.  0.  0.]\n",
      " [ 0.  1.  0.  0.]\n",
      " [ 0.  1.  0.  0.]\n",
      " [ 0.  2.  0.  1.]\n",
      " [ 0.  2.  0.  0.]\n",
      " [ 0.  1.  0.  1.]\n",
      " [ 0.  1.  0.  5.]\n",
      " [ 0.  2.  0.  0.]\n",
      " [ 0.  1.  0.  0.]\n",
      " [ 0.  1.  0.  0.]\n",
      " [ 0.  1.  0.  0.]\n",
      " [ 0.  1.  0.  0.]\n",
      " [ 0.  1.  0.  0.]\n",
      " [ 0.  1.  0.  0.]\n",
      " [ 0.  1.  0.  0.]\n",
      " [ 0.  1.  0.  0.]\n",
      " [ 0.  1.  0.  0.]\n",
      " [ 0.  1.  1.  0.]\n",
      " [ 0.  1.  0.  1.]\n",
      " [ 0.  1.  0.  0.]\n",
      " [ 0.  1.  0.  0.]\n",
      " [ 0.  1.  0.  0.]\n",
      " [ 0.  1.  0.  0.]\n",
      " [ 0.  1.  0.  2.]\n",
      " [ 0.  1.  0.  0.]\n",
      " [ 0.  1.  0.  0.]\n",
      " [ 0.  1.  0.  0.]\n",
      " [ 0.  1.  1.  0.]\n",
      " [ 0.  1.  0.  0.]\n",
      " [ 0.  2.  0.  0.]\n",
      " [ 0.  1.  0.  0.]\n",
      " [ 0.  1.  0.  0.]\n",
      " [ 0.  2.  0.  0.]\n",
      " [ 0.  1.  0.  0.]\n",
      " [ 0.  1.  2.  1.]\n",
      " [ 0.  1.  0.  0.]\n",
      " [ 0.  1.  1.  0.]\n",
      " [ 0.  0.  1.  0.]\n",
      " [ 0.  0.  1.  0.]\n",
      " [ 0.  0.  1.  0.]\n",
      " [ 0.  0.  1.  0.]\n",
      " [ 0.  0.  1.  0.]\n",
      " [ 0.  0.  3.  0.]\n",
      " [ 0.  0.  1.  0.]\n",
      " [ 0.  0.  1.  0.]\n",
      " [ 0.  0.  1.  2.]\n",
      " [ 0.  0.  1.  0.]\n",
      " [ 0.  0.  1.  0.]\n",
      " [ 0.  0.  1.  0.]\n",
      " [ 0.  0.  1.  0.]\n",
      " [ 0.  0.  1.  0.]\n",
      " [ 0.  0.  1.  0.]\n",
      " [ 0.  0.  1.  1.]\n",
      " [ 0.  0.  2.  0.]\n",
      " [ 0.  0.  2.  0.]\n",
      " [ 0.  0.  1.  0.]\n",
      " [ 0.  0.  1.  0.]\n",
      " [ 0.  0.  1.  0.]\n",
      " [ 0.  0.  1.  0.]\n",
      " [ 0.  0.  1.  0.]\n",
      " [ 0.  0.  1.  0.]\n",
      " [ 0.  0.  1.  0.]\n",
      " [ 0.  0.  1.  0.]\n",
      " [ 0.  0.  1.  2.]\n",
      " [ 0.  0.  1.  0.]\n",
      " [ 0.  0.  1.  0.]\n",
      " [ 0.  0.  1.  0.]\n",
      " [ 0.  0.  1.  0.]\n",
      " [ 0.  0.  1.  0.]\n",
      " [ 0.  0.  1.  0.]\n",
      " [ 0.  0.  1.  0.]\n",
      " [ 0.  0.  1.  0.]\n",
      " [ 0.  0.  1.  0.]\n",
      " [ 0.  0.  1.  2.]\n",
      " [ 0.  0.  1.  0.]\n",
      " [ 0.  0.  2.  0.]\n",
      " [ 0.  0.  0.  1.]\n",
      " [ 0.  0.  0.  1.]\n",
      " [ 0.  0.  0.  1.]\n",
      " [ 0.  0.  0.  1.]\n",
      " [ 0.  0.  0.  1.]\n",
      " [ 0.  0.  0.  1.]\n",
      " [ 0.  0.  0.  1.]\n",
      " [ 0.  0.  0.  1.]\n",
      " [ 0.  0.  0.  1.]\n",
      " [ 0.  0.  0.  1.]\n",
      " [ 0.  0.  0.  1.]\n",
      " [ 0.  0.  0.  1.]\n",
      " [ 0.  0.  0.  1.]\n",
      " [ 0.  0.  0.  1.]\n",
      " [ 0.  0.  0.  1.]\n",
      " [ 0.  0.  0.  1.]\n",
      " [ 0.  0.  0.  1.]\n",
      " [ 0.  0.  0.  1.]\n",
      " [ 0.  0.  0.  1.]\n",
      " [ 0.  0.  0.  1.]\n",
      " [ 0.  0.  0.  1.]\n",
      " [ 0.  0.  0.  1.]\n",
      " [ 0.  0.  0.  1.]\n",
      " [ 0.  0.  0.  1.]\n",
      " [ 0.  0.  0.  1.]\n",
      " [ 0.  0.  0.  2.]\n",
      " [ 0.  0.  0.  2.]\n",
      " [ 0.  0.  0.  1.]\n",
      " [ 0.  0.  0.  1.]\n",
      " [ 0.  0.  0.  1.]\n",
      " [ 0.  0.  0.  1.]\n",
      " [ 0.  0.  0.  1.]\n",
      " [ 0.  0.  0.  1.]\n",
      " [ 0.  0.  0.  1.]\n",
      " [ 0.  0.  0.  1.]\n",
      " [ 0.  0.  0.  1.]\n",
      " [ 0.  0.  0.  1.]\n",
      " [ 0.  0.  0.  1.]\n",
      " [ 0.  0.  0.  1.]\n",
      " [ 0.  0.  0.  1.]\n",
      " [ 0.  0.  0.  1.]\n",
      " [ 0.  0.  0.  1.]\n",
      " [ 0.  0.  0.  1.]\n",
      " [ 0.  0.  0.  8.]\n",
      " [ 0.  0.  0.  1.]\n",
      " [ 0.  0.  0.  2.]\n",
      " [ 0.  0.  0.  1.]\n",
      " [ 0.  0.  0.  1.]\n",
      " [ 0.  0.  0.  1.]\n",
      " [ 0.  0.  0.  1.]\n",
      " [ 0.  0.  0.  2.]\n",
      " [ 0.  0.  0.  1.]\n",
      " [ 0.  0.  0.  1.]\n",
      " [ 0.  0.  0.  1.]\n",
      " [ 0.  0.  0.  1.]\n",
      " [ 0.  0.  0.  1.]\n",
      " [ 0.  0.  0.  1.]\n",
      " [ 0.  0.  0.  2.]\n",
      " [ 0.  0.  0.  1.]]\n"
     ]
    }
   ],
   "source": [
    "from gensim import matutils\n",
    "bow_matrix = matutils.corpus2dense(bow_vec, num_terms=len(dict_1))\n",
    "print(bow_matrix)"
   ]
  },
  {
   "cell_type": "code",
   "execution_count": 40,
   "id": "ab687514",
   "metadata": {},
   "outputs": [
    {
     "data": {
      "text/plain": [
       "(207, 4)"
      ]
     },
     "execution_count": 40,
     "metadata": {},
     "output_type": "execute_result"
    }
   ],
   "source": [
    "bow_matrix.shape"
   ]
  },
  {
   "cell_type": "markdown",
   "id": "9280e4ed",
   "metadata": {},
   "source": [
    "## TFIDF - Time Frequency Inverse Document Frequency"
   ]
  },
  {
   "cell_type": "markdown",
   "id": "bcb79ec1",
   "metadata": {},
   "source": [
    "Term Frequency (TF) - Gives the frequency of the particular word in the entire document (in that single document) \n",
    "\n",
    "Inverse Document Frequency (IDF) - Gives the frequency of the particulat word in all the documents together "
   ]
  },
  {
   "cell_type": "code",
   "execution_count": 32,
   "id": "540c34b9",
   "metadata": {},
   "outputs": [],
   "source": [
    "from gensim.models import TfidfModel \n",
    "\n",
    "tfidf = TfidfModel(bow_vec)"
   ]
  },
  {
   "cell_type": "code",
   "execution_count": 33,
   "id": "13ce309e",
   "metadata": {},
   "outputs": [
    {
     "data": {
      "text/plain": [
       "<gensim.models.tfidfmodel.TfidfModel at 0x1ee63413850>"
      ]
     },
     "execution_count": 33,
     "metadata": {},
     "output_type": "execute_result"
    }
   ],
   "source": [
    "tfidf"
   ]
  },
  {
   "cell_type": "code",
   "execution_count": 34,
   "id": "9e575f76",
   "metadata": {},
   "outputs": [],
   "source": [
    "tfidf_vec = []\n",
    "for vec in bow_vec:\n",
    "    tfidf_vec.append(tfidf[vec])"
   ]
  },
  {
   "cell_type": "code",
   "execution_count": 36,
   "id": "ff2e425b",
   "metadata": {},
   "outputs": [
    {
     "name": "stdout",
     "output_type": "stream",
     "text": [
      "[[(0, 0.11146804417394855), (2, 0.16720206626092282), (3, 0.09252683660691857), (4, 0.2229360883478971), (5, 0.11146804417394855), (6, 0.11146804417394855), (7, 0.11146804417394855), (8, 0.11146804417394855), (9, 0.11146804417394855), (10, 0.023131709151729643), (11, 0.11146804417394855), (12, 0.2229360883478971), (13, 0.11146804417394855), (14, 0.055734022086974276), (15, 0.33440413252184564), (16, 0.11146804417394855), (17, 0.11146804417394855), (18, 0.055734022086974276), (19, 0.2229360883478971), (20, 0.11146804417394855), (21, 0.11146804417394855), (22, 0.11146804417394855), (23, 0.11146804417394855), (24, 0.11146804417394855), (25, 0.11146804417394855), (26, 0.2229360883478971), (27, 0.11146804417394855), (28, 0.11146804417394855), (29, 0.2229360883478971), (30, 0.2229360883478971), (31, 0.11146804417394855), (32, 0.11146804417394855), (33, 0.11146804417394855), (34, 0.2229360883478971), (35, 0.055734022086974276), (36, 0.055734022086974276), (37, 0.11146804417394855), (38, 0.11146804417394855), (39, 0.11146804417394855), (40, 0.11146804417394855), (41, 0.055734022086974276), (42, 0.11146804417394855), (43, 0.11146804417394855), (44, 0.11146804417394855), (45, 0.055734022086974276), (46, 0.11146804417394855), (47, 0.11146804417394855), (48, 0.11146804417394855), (49, 0.11146804417394855), (50, 0.11146804417394855), (51, 0.11146804417394855), (52, 0.2229360883478971), (53, 0.11146804417394855)], [(2, 0.059545592803038914), (3, 0.04942730786009916), (4, 0.11909118560607783), (10, 0.02471365393004958), (31, 0.059545592803038914), (35, 0.17863677840911674), (45, 0.059545592803038914), (52, 0.059545592803038914), (54, 0.11909118560607783), (55, 0.11909118560607783), (56, 0.059545592803038914), (57, 0.11909118560607783), (58, 0.11909118560607783), (59, 0.23818237121215566), (60, 0.11909118560607783), (61, 0.11909118560607783), (62, 0.11909118560607783), (63, 0.11909118560607783), (64, 0.11909118560607783), (65, 0.11909118560607783), (66, 0.11909118560607783), (67, 0.11909118560607783), (68, 0.11909118560607783), (69, 0.11909118560607783), (70, 0.11909118560607783), (71, 0.23818237121215566), (72, 0.11909118560607783), (73, 0.11909118560607783), (74, 0.11909118560607783), (75, 0.11909118560607783), (76, 0.23818237121215566), (77, 0.059545592803038914), (78, 0.059545592803038914), (79, 0.23818237121215566), (80, 0.11909118560607783), (81, 0.11909118560607783), (82, 0.11909118560607783), (83, 0.11909118560607783), (84, 0.11909118560607783), (85, 0.11909118560607783), (86, 0.11909118560607783), (87, 0.11909118560607783), (88, 0.11909118560607783), (89, 0.059545592803038914), (90, 0.059545592803038914), (91, 0.11909118560607783), (92, 0.11909118560607783), (93, 0.11909118560607783), (94, 0.11909118560607783), (95, 0.059545592803038914), (96, 0.11909118560607783), (97, 0.11909118560607783), (98, 0.11909118560607783), (99, 0.059545592803038914), (100, 0.11909118560607783), (101, 0.23818237121215566), (102, 0.11909118560607783), (103, 0.11909118560607783), (104, 0.23818237121215566), (105, 0.11909118560607783), (106, 0.02471365393004958), (107, 0.11909118560607783), (108, 0.059545592803038914)], [(10, 0.028054521750102843), (18, 0.06759514935120202), (41, 0.06759514935120202), (56, 0.06759514935120202), (89, 0.06759514935120202), (99, 0.06759514935120202), (106, 0.05610904350020569), (108, 0.06759514935120202), (109, 0.13519029870240404), (110, 0.13519029870240404), (111, 0.13519029870240404), (112, 0.13519029870240404), (113, 0.13519029870240404), (114, 0.40557089610721214), (115, 0.13519029870240404), (116, 0.13519029870240404), (117, 0.06759514935120202), (118, 0.13519029870240404), (119, 0.13519029870240404), (120, 0.13519029870240404), (121, 0.13519029870240404), (122, 0.13519029870240404), (123, 0.13519029870240404), (124, 0.06759514935120202), (125, 0.2703805974048081), (126, 0.2703805974048081), (127, 0.13519029870240404), (128, 0.13519029870240404), (129, 0.13519029870240404), (130, 0.13519029870240404), (131, 0.13519029870240404), (132, 0.13519029870240404), (133, 0.13519029870240404), (134, 0.13519029870240404), (135, 0.06759514935120202), (136, 0.13519029870240404), (137, 0.13519029870240404), (138, 0.13519029870240404), (139, 0.13519029870240404), (140, 0.13519029870240404), (141, 0.13519029870240404), (142, 0.13519029870240404), (143, 0.13519029870240404), (144, 0.13519029870240404), (145, 0.06759514935120202), (146, 0.13519029870240404), (147, 0.2703805974048081)], [(3, 0.015101316107523605), (14, 0.43662510882789674), (36, 0.10915627720697418), (37, 0.10915627720697418), (75, 0.03638542573565806), (77, 0.03638542573565806), (78, 0.1819271286782903), (90, 0.03638542573565806), (95, 0.07277085147131612), (106, 0.015101316107523605), (117, 0.07277085147131612), (124, 0.03638542573565806), (135, 0.07277085147131612), (145, 0.07277085147131612), (148, 0.07277085147131612), (149, 0.07277085147131612), (150, 0.07277085147131612), (151, 0.07277085147131612), (152, 0.07277085147131612), (153, 0.07277085147131612), (154, 0.07277085147131612), (155, 0.07277085147131612), (156, 0.07277085147131612), (157, 0.07277085147131612), (158, 0.07277085147131612), (159, 0.07277085147131612), (160, 0.07277085147131612), (161, 0.07277085147131612), (162, 0.07277085147131612), (163, 0.07277085147131612), (164, 0.07277085147131612), (165, 0.07277085147131612), (166, 0.07277085147131612), (167, 0.07277085147131612), (168, 0.07277085147131612), (169, 0.07277085147131612), (170, 0.07277085147131612), (171, 0.07277085147131612), (172, 0.07277085147131612), (173, 0.14554170294263225), (174, 0.14554170294263225), (175, 0.07277085147131612), (176, 0.07277085147131612), (177, 0.07277085147131612), (178, 0.07277085147131612), (179, 0.07277085147131612), (180, 0.07277085147131612), (181, 0.07277085147131612), (182, 0.07277085147131612), (183, 0.07277085147131612), (184, 0.07277085147131612), (185, 0.07277085147131612), (186, 0.07277085147131612), (187, 0.07277085147131612), (188, 0.07277085147131612), (189, 0.07277085147131612), (190, 0.07277085147131612), (191, 0.582166811770529), (192, 0.07277085147131612), (193, 0.14554170294263225), (194, 0.07277085147131612), (195, 0.07277085147131612), (196, 0.07277085147131612), (197, 0.07277085147131612), (198, 0.14554170294263225), (199, 0.07277085147131612), (200, 0.07277085147131612), (201, 0.07277085147131612), (202, 0.07277085147131612), (203, 0.07277085147131612), (204, 0.07277085147131612), (205, 0.14554170294263225), (206, 0.07277085147131612)]]\n"
     ]
    }
   ],
   "source": [
    "print(tfidf_vec)"
   ]
  },
  {
   "cell_type": "markdown",
   "id": "114c4972",
   "metadata": {},
   "source": [
    "## Similarity of Documents "
   ]
  },
  {
   "cell_type": "code",
   "execution_count": 45,
   "id": "e85fc681",
   "metadata": {},
   "outputs": [],
   "source": [
    "from gensim.similarities import MatrixSimilarity\n",
    "\n",
    "sim = MatrixSimilarity(tfidf_vec, num_features=len(dict_1))"
   ]
  },
  {
   "cell_type": "code",
   "execution_count": 51,
   "id": "62b4ecae",
   "metadata": {},
   "outputs": [
    {
     "name": "stdout",
     "output_type": "stream",
     "text": [
      "[1.0000001  0.07483805 0.00818365 0.04398331]\n"
     ]
    }
   ],
   "source": [
    "print(sim[tfidf_vec[0]]) # Similarity of first document with itself and others \n",
    "\n",
    "# Similarity of a document with itself is always 1 "
   ]
  },
  {
   "cell_type": "code",
   "execution_count": 48,
   "id": "51406120",
   "metadata": {},
   "outputs": [
    {
     "name": "stdout",
     "output_type": "stream",
     "text": [
      "[0.07483805 0.99999994 0.01817996 0.02495214]\n"
     ]
    }
   ],
   "source": [
    "print(sim[tfidf_vec[1]]) # Similarity of second document with itself and others "
   ]
  },
  {
   "cell_type": "code",
   "execution_count": 49,
   "id": "5309c336",
   "metadata": {},
   "outputs": [
    {
     "name": "stdout",
     "output_type": "stream",
     "text": [
      "[0.00818365 0.01817996 0.9999999  0.01806367]\n"
     ]
    }
   ],
   "source": [
    "print(sim[tfidf_vec[2]]) # Similarity of third document with itself and others "
   ]
  },
  {
   "cell_type": "code",
   "execution_count": 52,
   "id": "af17af88",
   "metadata": {},
   "outputs": [
    {
     "name": "stdout",
     "output_type": "stream",
     "text": [
      "[0.04398331 0.02495214 0.01806367 0.9999999 ]\n"
     ]
    }
   ],
   "source": [
    "print(sim[tfidf_vec[3]]) # Similarity of fourth document with itself and others "
   ]
  },
  {
   "cell_type": "code",
   "execution_count": null,
   "id": "9a12fab8",
   "metadata": {},
   "outputs": [],
   "source": []
  }
 ],
 "metadata": {
  "kernelspec": {
   "display_name": "Python 3 (ipykernel)",
   "language": "python",
   "name": "python3"
  },
  "language_info": {
   "codemirror_mode": {
    "name": "ipython",
    "version": 3
   },
   "file_extension": ".py",
   "mimetype": "text/x-python",
   "name": "python",
   "nbconvert_exporter": "python",
   "pygments_lexer": "ipython3",
   "version": "3.9.12"
  }
 },
 "nbformat": 4,
 "nbformat_minor": 5
}
